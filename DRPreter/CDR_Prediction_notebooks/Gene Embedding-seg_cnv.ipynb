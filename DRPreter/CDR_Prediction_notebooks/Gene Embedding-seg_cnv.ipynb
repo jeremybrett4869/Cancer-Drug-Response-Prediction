{
 "cells": [
  {
   "cell_type": "code",
   "execution_count": 1,
   "id": "e865b18f",
   "metadata": {},
   "outputs": [
    {
     "name": "stderr",
     "output_type": "stream",
     "text": [
      "/home/yingfei/miniconda3/lib/python3.9/site-packages/tqdm/auto.py:22: TqdmWarning: IProgress not found. Please update jupyter and ipywidgets. See https://ipywidgets.readthedocs.io/en/stable/user_install.html\n",
      "  from .autonotebook import tqdm as notebook_tqdm\n"
     ]
    }
   ],
   "source": [
    "import os\n",
    "import sys\n",
    "import argparse\n",
    "# os.environ[\"CUDA_DEVICE_ORDER\"] = \"PCI_BUS_ID\"\n",
    "import torch\n",
    "import torch.nn as nn\n",
    "import numpy as np\n",
    "import pandas as pd\n",
    "from utils import *\n",
    "from Model.DRPreter import DRPreter\n",
    "from Model.Similarity import Similarity\n",
    "from torch_scatter import scatter_add"
   ]
  },
  {
   "cell_type": "code",
   "execution_count": 2,
   "id": "344bf5dd",
   "metadata": {},
   "outputs": [
    {
     "data": {
      "text/plain": [
       "Namespace(f='/home/yingfei/.local/share/jupyter/runtime/kernel-e533e146-4fb6-48f1-ae99-6fbff83c0776.json', seed=42, device=0, batch_size=128, lr=0.0001, layer=3, hidden_dim=8, layer_drug=3, dim_drug=128, dim_drug_cell=256, dropout_ratio=0.1, epochs=300, patience=100, mode='train', edge='STRING', string_edge=990, dataset='2369disjoint', trans=True, sim=False)"
      ]
     },
     "execution_count": 2,
     "metadata": {},
     "output_type": "execute_result"
    }
   ],
   "source": [
    "parser = argparse.ArgumentParser()\n",
    "parser.add_argument('-f')\n",
    "parser.add_argument('--seed', type=int, default=42, help='seed')\n",
    "parser.add_argument('--device', type=int, default=0, help='device')\n",
    "parser.add_argument('--batch_size', type=int, default=128, help='batch size (default: 128)')\n",
    "parser.add_argument('--lr', type=float, default=0.0001, help='learning rate (default: 0.0001)')\n",
    "parser.add_argument('--layer', type=int, default=3, help='Number of cell layers')\n",
    "parser.add_argument('--hidden_dim', type=int, default=8, help='hidden dim for cell')\n",
    "parser.add_argument('--layer_drug', type=int, default=3, help='Number of drug layers')\n",
    "parser.add_argument('--dim_drug', type=int, default=128, help='hidden dim for drug (default: 128)')\n",
    "parser.add_argument('--dim_drug_cell', type=int, default=256, help='hidden dim for drug and cell (default: 256)')\n",
    "parser.add_argument('--dropout_ratio', type=float, default=0.1, help='Dropout ratio (default: 0.1)')\n",
    "parser.add_argument('--epochs', type=int, default=300, help='Maximum number of epochs (default: 300)')\n",
    "parser.add_argument('--patience', type=int, default=100, help='patience for early stopping (default: 10)')\n",
    "parser.add_argument('--mode', type=str, default='train', help='train, test')\n",
    "parser.add_argument('--edge', type=str, default='STRING', help='STRING, BIOGRID') # BIOGRID: removed\n",
    "# parser.add_argument('--string_edge', type=float, default=0.99, help='Threshold for edges of cell line graph')\n",
    "parser.add_argument('--string_edge', type=int, default=990, help='Threshold for edges of cell line graph')\n",
    "parser.add_argument('--dataset', type=str, default='2369disjoint', help='2369joint, 2369disjoint, COSMIC')\n",
    "parser.add_argument('--trans', type=bool, default=True, help='Use Transformer or not')\n",
    "parser.add_argument('--sim', type=bool, default=False, help='Construct homogeneous similarity networks or not')\n",
    "args = parser.parse_args()\n",
    "args"
   ]
  },
  {
   "cell_type": "code",
   "execution_count": 3,
   "id": "71f36352",
   "metadata": {},
   "outputs": [],
   "source": [
    "args.dataset = \"disjoint\""
   ]
  },
  {
   "cell_type": "code",
   "execution_count": 4,
   "id": "1e49d1cd",
   "metadata": {},
   "outputs": [
    {
     "name": "stdout",
     "output_type": "stream",
     "text": [
      "seed: 42\n"
     ]
    }
   ],
   "source": [
    "args.device = 'cuda:{}'.format(args.device)\n",
    "rpath = '../'\n",
    "result_path = rpath + 'Result_0308/Result_4/' ### Adjust folder name\n",
    "\n",
    "print(f'seed: {args.seed}')\n",
    "set_random_seed(args.seed)\n",
    "\n",
    "edge_type = 'PPI_'+str(args.string_edge) if args.edge=='STRING' else args.edge\n",
    "edge_index = np.load(rpath+f'/DRPreter/Data/Cell/edge_index_{edge_type}_{args.dataset}_seg_cnv.npy') ### Adjust file name\n",
    "\n",
    "# data = pd.read_csv(rpath+'Data/sorted_IC50_82833_580_170.csv')\n",
    "data = pd.read_csv(rpath+'/DRPreter/Data/sorted_AUC.csv')\n",
    "\n",
    "### Adjust file name\n",
    "drug_dict = np.load(rpath+'/DRPreter/Data/Drug/drug_feature_graph.npy', allow_pickle=True).item() # pyg format of drug graph\n",
    "cell_dict = np.load(rpath+f'/DRPreter/Data/Cell/cell_feature_std_{args.dataset}_seg_cnv.npy', allow_pickle=True).item() \n",
    "# pyg data format of cell graph\n",
    "\n",
    "example = cell_dict['ACH-000001']\n",
    "args.num_feature = example.x.shape[1] # 1\n",
    "args.num_genes = example.x.shape[0] # 4646"
   ]
  },
  {
   "cell_type": "code",
   "execution_count": 5,
   "id": "b4972baa",
   "metadata": {},
   "outputs": [
    {
     "name": "stdout",
     "output_type": "stream",
     "text": [
      "num_genes:4787, num_edges:12244\n",
      "gene distribution: tensor([142,  94, 137, 294,  74, 155, 218,  79, 146, 190, 136, 293, 167,  73,\n",
      "        232,  59, 239, 109, 104,  85, 126, 101, 221,  59,  56,  71,  44, 351,\n",
      "        162,  96, 102,  41,  88, 102, 141], dtype=torch.int32)\n",
      "mean degree:2.557760601629413\n"
     ]
    }
   ],
   "source": [
    "### Added\n",
    "# gene_list = scatter_add(torch.ones_like(example.x.squeeze()), example.x_mask.to(torch.int64).reshape(-1,2)).to(torch.int)\n",
    "gene_list = scatter_add(torch.ones_like(example.x.squeeze()), example.x_mask.to(torch.int64)).to(torch.int)\n",
    "args.max_gene = gene_list.max().item()\n",
    "# gene_list = torch.div(torch.sum(gene_list,0),2) ### Added\n",
    "# print(gene_list.shape)\n",
    "args.cum_num_nodes = torch.cat([gene_list.new_zeros(1), gene_list.cumsum(dim=0)], dim=0)\n",
    "args.n_pathways = gene_list.size(0)\n",
    "print('num_genes:{}, num_edges:{}'.format(args.num_genes, len(edge_index[0])))\n",
    "print('gene distribution: {}'.format(gene_list))\n",
    "print('mean degree:{}'.format(len(edge_index[0]) / args.num_genes))"
   ]
  },
  {
   "cell_type": "code",
   "execution_count": 6,
   "id": "874d8e33",
   "metadata": {},
   "outputs": [],
   "source": [
    "args.device = \"cuda:0\" # 'cuda:{}'.format(args.device)"
   ]
  },
  {
   "cell_type": "code",
   "execution_count": 7,
   "id": "9e6130c5",
   "metadata": {},
   "outputs": [
    {
     "name": "stdout",
     "output_type": "stream",
     "text": [
      "total: 227436, train: 184020, val: 20472, test: 22944\n"
     ]
    }
   ],
   "source": [
    "train_loader, val_loader, test_loader = load_data(data, drug_dict, cell_dict, torch.tensor(edge_index, dtype=torch.long), args)\n",
    "print('total: {}, train: {}, val: {}, test: {}'.format(len(data), len(train_loader.dataset), len(val_loader.dataset), len(test_loader.dataset)))\n",
    "model = DRPreter(args).to(\"cuda:0\")"
   ]
  },
  {
   "cell_type": "code",
   "execution_count": 8,
   "id": "6d43345c",
   "metadata": {},
   "outputs": [
    {
     "data": {
      "text/plain": [
       "'weights_0308/weights_4/weight_seed42.pth'"
      ]
     },
     "execution_count": 8,
     "metadata": {},
     "output_type": "execute_result"
    }
   ],
   "source": [
    "state_dict_name = f'weights_0308/weights_4/weight_sim_seed{args.seed}.pth' if args.sim==True else f'weights_0308/weights_4/weight_seed{args.seed}.pth'\n",
    "state_dict_name"
   ]
  },
  {
   "cell_type": "code",
   "execution_count": 9,
   "id": "299b8f2e",
   "metadata": {},
   "outputs": [
    {
     "data": {
      "text/plain": [
       "<All keys matched successfully>"
      ]
     },
     "execution_count": 9,
     "metadata": {},
     "output_type": "execute_result"
    }
   ],
   "source": [
    "model.load_state_dict(torch.load(state_dict_name, map_location=\"cuda:0\")['model_state_dict'])"
   ]
  },
  {
   "cell_type": "code",
   "execution_count": 10,
   "id": "b864e5e7",
   "metadata": {},
   "outputs": [
    {
     "data": {
      "text/plain": [
       "(tensor([[0.0000e+00, 1.8140e+00, 2.0742e+00, 0.0000e+00, 0.0000e+00, 0.0000e+00,\n",
       "          0.0000e+00, 0.0000e+00, 5.5125e-01, 7.2253e-01, 0.0000e+00, 0.0000e+00,\n",
       "          0.0000e+00, 0.0000e+00, 0.0000e+00, 0.0000e+00, 0.0000e+00, 0.0000e+00,\n",
       "          0.0000e+00, 6.2656e-01, 2.2766e+00, 0.0000e+00, 2.7307e+00, 5.0410e-01,\n",
       "          0.0000e+00, 0.0000e+00, 0.0000e+00, 2.6944e+00, 0.0000e+00, 1.5380e+00,\n",
       "          0.0000e+00, 0.0000e+00, 0.0000e+00, 0.0000e+00, 0.0000e+00, 1.3025e+00,\n",
       "          0.0000e+00, 0.0000e+00, 0.0000e+00, 0.0000e+00, 0.0000e+00, 0.0000e+00,\n",
       "          0.0000e+00, 0.0000e+00, 0.0000e+00, 0.0000e+00, 4.0905e+00, 1.0375e+00,\n",
       "          1.6871e+00, 0.0000e+00, 0.0000e+00, 0.0000e+00, 0.0000e+00, 5.1949e-01,\n",
       "          0.0000e+00, 0.0000e+00, 7.3568e-01, 0.0000e+00, 5.3732e-02, 0.0000e+00,\n",
       "          0.0000e+00, 0.0000e+00, 0.0000e+00, 0.0000e+00, 0.0000e+00, 1.1285e-01,\n",
       "          1.8296e+00, 0.0000e+00, 0.0000e+00, 0.0000e+00, 0.0000e+00, 0.0000e+00,\n",
       "          4.2197e+00, 1.8371e+00, 0.0000e+00, 0.0000e+00, 0.0000e+00, 0.0000e+00,\n",
       "          0.0000e+00, 0.0000e+00, 4.7621e+00, 0.0000e+00, 0.0000e+00, 0.0000e+00,\n",
       "          3.4658e-01, 0.0000e+00, 0.0000e+00, 0.0000e+00, 0.0000e+00, 1.4227e+00,\n",
       "          0.0000e+00, 0.0000e+00, 0.0000e+00, 0.0000e+00, 0.0000e+00, 0.0000e+00,\n",
       "          4.2709e-01, 0.0000e+00, 0.0000e+00, 2.0842e+00, 1.2949e+00, 0.0000e+00,\n",
       "          7.5375e-02, 0.0000e+00, 0.0000e+00, 0.0000e+00, 0.0000e+00, 0.0000e+00,\n",
       "          0.0000e+00, 0.0000e+00, 0.0000e+00, 0.0000e+00, 0.0000e+00, 0.0000e+00,\n",
       "          0.0000e+00, 5.2189e+00, 0.0000e+00, 0.0000e+00, 0.0000e+00, 0.0000e+00,\n",
       "          0.0000e+00, 3.2198e-01, 1.4844e-01, 1.2307e-01, 0.0000e+00, 0.0000e+00,\n",
       "          0.0000e+00, 0.0000e+00, 0.0000e+00, 0.0000e+00, 0.0000e+00, 0.0000e+00,\n",
       "          2.4811e+00, 0.0000e+00, 0.0000e+00, 0.0000e+00, 0.0000e+00, 8.2004e-01,\n",
       "          0.0000e+00, 0.0000e+00, 0.0000e+00, 0.0000e+00, 0.0000e+00, 0.0000e+00,\n",
       "          0.0000e+00, 0.0000e+00, 0.0000e+00, 0.0000e+00, 0.0000e+00, 0.0000e+00,\n",
       "          0.0000e+00, 2.5392e-01, 0.0000e+00, 0.0000e+00, 0.0000e+00, 0.0000e+00,\n",
       "          0.0000e+00, 0.0000e+00, 0.0000e+00, 2.8547e+00, 0.0000e+00, 0.0000e+00,\n",
       "          0.0000e+00, 1.6735e-01, 0.0000e+00, 0.0000e+00, 0.0000e+00, 0.0000e+00,\n",
       "          0.0000e+00, 0.0000e+00, 0.0000e+00, 0.0000e+00, 0.0000e+00, 0.0000e+00,\n",
       "          0.0000e+00, 0.0000e+00, 2.0947e+00, 0.0000e+00, 0.0000e+00, 2.4838e-01,\n",
       "          0.0000e+00, 0.0000e+00, 2.3225e+00, 9.5069e-01, 0.0000e+00, 0.0000e+00,\n",
       "          1.3402e+00, 0.0000e+00, 0.0000e+00, 0.0000e+00, 2.1226e-01, 0.0000e+00,\n",
       "          0.0000e+00, 0.0000e+00, 0.0000e+00, 0.0000e+00, 0.0000e+00, 0.0000e+00,\n",
       "          0.0000e+00, 0.0000e+00, 1.7649e+00, 0.0000e+00, 2.6021e-03, 0.0000e+00,\n",
       "          0.0000e+00, 0.0000e+00, 0.0000e+00, 1.8832e-01, 0.0000e+00, 3.2760e-01,\n",
       "          0.0000e+00, 0.0000e+00, 0.0000e+00, 0.0000e+00, 2.3159e+00, 0.0000e+00,\n",
       "          0.0000e+00, 0.0000e+00, 1.8536e+00, 0.0000e+00, 0.0000e+00, 0.0000e+00,\n",
       "          0.0000e+00, 0.0000e+00, 0.0000e+00, 0.0000e+00, 0.0000e+00, 0.0000e+00,\n",
       "          0.0000e+00, 7.4893e-02, 0.0000e+00, 2.3674e+00, 9.9043e-02, 0.0000e+00,\n",
       "          0.0000e+00, 0.0000e+00, 9.7550e-01, 1.9792e+00, 0.0000e+00, 0.0000e+00,\n",
       "          0.0000e+00, 0.0000e+00, 0.0000e+00, 0.0000e+00, 0.0000e+00, 0.0000e+00,\n",
       "          0.0000e+00, 0.0000e+00, 0.0000e+00, 0.0000e+00, 0.0000e+00, 0.0000e+00,\n",
       "          1.6356e+00, 0.0000e+00, 0.0000e+00, 0.0000e+00]], device='cuda:0',\n",
       "        grad_fn=<ReluBackward0>),\n",
       " tensor([[[0.0000, 0.0000, 0.0225,  ..., 0.0000, 0.0000, 0.0000],\n",
       "          [0.0000, 0.0000, 0.0120,  ..., 0.0000, 0.0000, 0.0000],\n",
       "          [0.0000, 0.0000, 0.0000,  ..., 0.0000, 0.0000, 0.0000],\n",
       "          ...,\n",
       "          [0.0000, 0.0000, 0.0000,  ..., 0.0000, 0.0000, 0.0000],\n",
       "          [0.0000, 0.0000, 0.0000,  ..., 0.0000, 0.0000, 0.0000],\n",
       "          [0.0000, 0.0000, 0.0000,  ..., 0.0000, 0.0000, 0.0000]]],\n",
       "        device='cuda:0', grad_fn=<ReluBackward0>))"
      ]
     },
     "execution_count": 10,
     "metadata": {},
     "output_type": "execute_result"
    }
   ],
   "source": [
    "embedding(model, \"JW-7-24-1\", \"ACH-000001\", drug_dict, cell_dict, edge_index, args) # drug embedding and cell line embedding"
   ]
  },
  {
   "cell_type": "code",
   "execution_count": 11,
   "id": "e176f28e",
   "metadata": {},
   "outputs": [
    {
     "data": {
      "text/plain": [
       "torch.Size([1, 35, 256])"
      ]
     },
     "execution_count": 11,
     "metadata": {},
     "output_type": "execute_result"
    }
   ],
   "source": [
    "cell_line_embedding = embedding(model, \"JW-7-24-1\", \"ACH-000001\", drug_dict, cell_dict, edge_index, args)[1]\n",
    "cell_line_embedding.shape"
   ]
  },
  {
   "cell_type": "code",
   "execution_count": 12,
   "id": "f997620c",
   "metadata": {},
   "outputs": [
    {
     "data": {
      "text/plain": [
       "tensor([0.0000, 0.0000, 0.0225, 0.0000, 0.0000, 0.0000, 0.0688, 0.0240, 0.0000,\n",
       "        0.0000, 0.0121, 0.0101, 0.0324, 0.0000, 0.0000, 0.0000, 0.0000, 0.1403,\n",
       "        0.0014, 0.0000, 0.0000, 0.0000, 0.0000, 0.0000, 0.0000, 0.0000, 0.0000,\n",
       "        0.0776, 0.0000, 0.0000, 0.0000, 0.0308, 0.0000, 0.0000, 0.0000, 0.0000,\n",
       "        0.0000, 0.0000, 0.0000, 0.0000, 0.0000, 0.0000, 0.0255, 0.0325, 0.0000,\n",
       "        0.0000, 0.0000, 0.0000, 0.0057, 0.0000, 0.0000, 0.0000, 0.0000, 0.0000,\n",
       "        0.0000, 0.0000, 0.0000, 0.0000, 0.0000, 0.0000, 0.0000, 0.0000, 0.0000,\n",
       "        0.0000, 0.0000, 0.0000, 0.0000, 0.0505, 0.0000, 0.0157, 0.0000, 0.0000,\n",
       "        0.0000, 0.0000, 0.0104, 0.0000, 0.0000, 0.0053, 0.0000, 0.0000, 0.0000,\n",
       "        0.0000, 0.0000, 0.0000, 0.0039, 0.0000, 0.0000, 0.2740, 0.0000, 0.0000,\n",
       "        0.0000, 0.0146, 0.0000, 0.0000, 0.0000, 0.0000, 0.0000, 0.0700, 0.0000,\n",
       "        0.0000, 0.0157, 0.0000, 0.0000, 0.0000, 0.0000, 0.0000, 0.0000, 0.0053,\n",
       "        0.0000, 0.0000, 0.0000, 0.0000, 0.0179, 0.0000, 0.0000, 0.0000, 0.0000,\n",
       "        0.0000, 0.0484, 0.0000, 0.0000, 0.0107, 0.0000, 0.0000, 0.0000, 0.0000,\n",
       "        0.0129, 0.0000, 0.0290, 0.1186, 0.0000, 0.0000, 0.0000, 0.0000, 0.0000,\n",
       "        0.0000, 0.0000, 0.0774, 0.0000, 0.1437, 0.0000, 0.0000, 0.0000, 0.0047,\n",
       "        0.0000, 0.0027, 0.0000, 0.0000, 0.0000, 0.0000, 0.0000, 0.0000, 0.0000,\n",
       "        0.0000, 0.0000, 0.0000, 0.0000, 0.0000, 0.0000, 0.0000, 0.0000, 0.0000,\n",
       "        0.0407, 0.0000, 0.0000, 0.0000, 0.0000, 0.0045, 0.0000, 0.0000, 0.0000,\n",
       "        0.0164, 0.0000, 0.0000, 0.0118, 0.0000, 0.0000, 0.0135, 0.0000, 0.0645,\n",
       "        0.0000, 0.0000, 0.0000, 0.0000, 0.0000, 0.0214, 0.0994, 0.0000, 0.0062,\n",
       "        0.0000, 0.0018, 0.0113, 0.0113, 0.0000, 0.0000, 0.0000, 0.0627, 0.0281,\n",
       "        0.0000, 0.0000, 0.0509, 0.0000, 0.0736, 0.0110, 0.0000, 0.1194, 0.0000,\n",
       "        0.0000, 0.0000, 0.0000, 0.0559, 0.0000, 0.0000, 0.0000, 0.0000, 0.0000,\n",
       "        0.0000, 0.0295, 0.0000, 0.0000, 0.0100, 0.0000, 0.0000, 0.0000, 0.0000,\n",
       "        0.0000, 0.0000, 0.0000, 0.0000, 0.0000, 0.0000, 0.0151, 0.0000, 0.0000,\n",
       "        0.0000, 0.0000, 0.0161, 0.0000, 0.0000, 0.0000, 0.0000, 0.0000, 0.0000,\n",
       "        0.0000, 0.0000, 0.0000, 0.0000, 0.0000, 0.0557, 0.0000, 0.0259, 0.0000,\n",
       "        0.0000, 0.0000, 0.0000, 0.0000], device='cuda:0',\n",
       "       grad_fn=<SelectBackward0>)"
      ]
     },
     "execution_count": 12,
     "metadata": {},
     "output_type": "execute_result"
    }
   ],
   "source": [
    "cell_line_embedding[0][0] # pathway embedding"
   ]
  },
  {
   "cell_type": "code",
   "execution_count": 13,
   "id": "58044bc5",
   "metadata": {},
   "outputs": [
    {
     "data": {
      "text/plain": [
       "tensor([[0.0000e+00, 1.8140e+00, 2.0742e+00, 0.0000e+00, 0.0000e+00, 0.0000e+00,\n",
       "         0.0000e+00, 0.0000e+00, 5.5125e-01, 7.2253e-01, 0.0000e+00, 0.0000e+00,\n",
       "         0.0000e+00, 0.0000e+00, 0.0000e+00, 0.0000e+00, 0.0000e+00, 0.0000e+00,\n",
       "         0.0000e+00, 6.2656e-01, 2.2766e+00, 0.0000e+00, 2.7307e+00, 5.0410e-01,\n",
       "         0.0000e+00, 0.0000e+00, 0.0000e+00, 2.6944e+00, 0.0000e+00, 1.5380e+00,\n",
       "         0.0000e+00, 0.0000e+00, 0.0000e+00, 0.0000e+00, 0.0000e+00, 1.3025e+00,\n",
       "         0.0000e+00, 0.0000e+00, 0.0000e+00, 0.0000e+00, 0.0000e+00, 0.0000e+00,\n",
       "         0.0000e+00, 0.0000e+00, 0.0000e+00, 0.0000e+00, 4.0905e+00, 1.0375e+00,\n",
       "         1.6871e+00, 0.0000e+00, 0.0000e+00, 0.0000e+00, 0.0000e+00, 5.1949e-01,\n",
       "         0.0000e+00, 0.0000e+00, 7.3568e-01, 0.0000e+00, 5.3732e-02, 0.0000e+00,\n",
       "         0.0000e+00, 0.0000e+00, 0.0000e+00, 0.0000e+00, 0.0000e+00, 1.1285e-01,\n",
       "         1.8296e+00, 0.0000e+00, 0.0000e+00, 0.0000e+00, 0.0000e+00, 0.0000e+00,\n",
       "         4.2197e+00, 1.8371e+00, 0.0000e+00, 0.0000e+00, 0.0000e+00, 0.0000e+00,\n",
       "         0.0000e+00, 0.0000e+00, 4.7621e+00, 0.0000e+00, 0.0000e+00, 0.0000e+00,\n",
       "         3.4658e-01, 0.0000e+00, 0.0000e+00, 0.0000e+00, 0.0000e+00, 1.4227e+00,\n",
       "         0.0000e+00, 0.0000e+00, 0.0000e+00, 0.0000e+00, 0.0000e+00, 0.0000e+00,\n",
       "         4.2709e-01, 0.0000e+00, 0.0000e+00, 2.0842e+00, 1.2949e+00, 0.0000e+00,\n",
       "         7.5375e-02, 0.0000e+00, 0.0000e+00, 0.0000e+00, 0.0000e+00, 0.0000e+00,\n",
       "         0.0000e+00, 0.0000e+00, 0.0000e+00, 0.0000e+00, 0.0000e+00, 0.0000e+00,\n",
       "         0.0000e+00, 5.2189e+00, 0.0000e+00, 0.0000e+00, 0.0000e+00, 0.0000e+00,\n",
       "         0.0000e+00, 3.2198e-01, 1.4844e-01, 1.2307e-01, 0.0000e+00, 0.0000e+00,\n",
       "         0.0000e+00, 0.0000e+00, 0.0000e+00, 0.0000e+00, 0.0000e+00, 0.0000e+00,\n",
       "         2.4811e+00, 0.0000e+00, 0.0000e+00, 0.0000e+00, 0.0000e+00, 8.2004e-01,\n",
       "         0.0000e+00, 0.0000e+00, 0.0000e+00, 0.0000e+00, 0.0000e+00, 0.0000e+00,\n",
       "         0.0000e+00, 0.0000e+00, 0.0000e+00, 0.0000e+00, 0.0000e+00, 0.0000e+00,\n",
       "         0.0000e+00, 2.5392e-01, 0.0000e+00, 0.0000e+00, 0.0000e+00, 0.0000e+00,\n",
       "         0.0000e+00, 0.0000e+00, 0.0000e+00, 2.8547e+00, 0.0000e+00, 0.0000e+00,\n",
       "         0.0000e+00, 1.6735e-01, 0.0000e+00, 0.0000e+00, 0.0000e+00, 0.0000e+00,\n",
       "         0.0000e+00, 0.0000e+00, 0.0000e+00, 0.0000e+00, 0.0000e+00, 0.0000e+00,\n",
       "         0.0000e+00, 0.0000e+00, 2.0947e+00, 0.0000e+00, 0.0000e+00, 2.4838e-01,\n",
       "         0.0000e+00, 0.0000e+00, 2.3225e+00, 9.5069e-01, 0.0000e+00, 0.0000e+00,\n",
       "         1.3402e+00, 0.0000e+00, 0.0000e+00, 0.0000e+00, 2.1226e-01, 0.0000e+00,\n",
       "         0.0000e+00, 0.0000e+00, 0.0000e+00, 0.0000e+00, 0.0000e+00, 0.0000e+00,\n",
       "         0.0000e+00, 0.0000e+00, 1.7649e+00, 0.0000e+00, 2.6021e-03, 0.0000e+00,\n",
       "         0.0000e+00, 0.0000e+00, 0.0000e+00, 1.8832e-01, 0.0000e+00, 3.2760e-01,\n",
       "         0.0000e+00, 0.0000e+00, 0.0000e+00, 0.0000e+00, 2.3159e+00, 0.0000e+00,\n",
       "         0.0000e+00, 0.0000e+00, 1.8536e+00, 0.0000e+00, 0.0000e+00, 0.0000e+00,\n",
       "         0.0000e+00, 0.0000e+00, 0.0000e+00, 0.0000e+00, 0.0000e+00, 0.0000e+00,\n",
       "         0.0000e+00, 7.4893e-02, 0.0000e+00, 2.3674e+00, 9.9043e-02, 0.0000e+00,\n",
       "         0.0000e+00, 0.0000e+00, 9.7550e-01, 1.9792e+00, 0.0000e+00, 0.0000e+00,\n",
       "         0.0000e+00, 0.0000e+00, 0.0000e+00, 0.0000e+00, 0.0000e+00, 0.0000e+00,\n",
       "         0.0000e+00, 0.0000e+00, 0.0000e+00, 0.0000e+00, 0.0000e+00, 0.0000e+00,\n",
       "         1.6356e+00, 0.0000e+00, 0.0000e+00, 0.0000e+00]], device='cuda:0',\n",
       "       grad_fn=<ReluBackward0>)"
      ]
     },
     "execution_count": 13,
     "metadata": {},
     "output_type": "execute_result"
    }
   ],
   "source": [
    "embedding(model, \"JW-7-24-1\", \"ACH-000001\", drug_dict, cell_dict, edge_index, args)[0] # drug embedding"
   ]
  },
  {
   "cell_type": "code",
   "execution_count": 14,
   "id": "2b57762a",
   "metadata": {},
   "outputs": [
    {
     "data": {
      "text/plain": [
       "tensor([[0.0000e+00, 1.8140e+00, 2.0742e+00, 0.0000e+00, 0.0000e+00, 0.0000e+00,\n",
       "         0.0000e+00, 0.0000e+00, 5.5125e-01, 7.2253e-01, 0.0000e+00, 0.0000e+00,\n",
       "         0.0000e+00, 0.0000e+00, 0.0000e+00, 0.0000e+00, 0.0000e+00, 0.0000e+00,\n",
       "         0.0000e+00, 6.2656e-01, 2.2766e+00, 0.0000e+00, 2.7307e+00, 5.0410e-01,\n",
       "         0.0000e+00, 0.0000e+00, 0.0000e+00, 2.6944e+00, 0.0000e+00, 1.5380e+00,\n",
       "         0.0000e+00, 0.0000e+00, 0.0000e+00, 0.0000e+00, 0.0000e+00, 1.3025e+00,\n",
       "         0.0000e+00, 0.0000e+00, 0.0000e+00, 0.0000e+00, 0.0000e+00, 0.0000e+00,\n",
       "         0.0000e+00, 0.0000e+00, 0.0000e+00, 0.0000e+00, 4.0905e+00, 1.0375e+00,\n",
       "         1.6871e+00, 0.0000e+00, 0.0000e+00, 0.0000e+00, 0.0000e+00, 5.1949e-01,\n",
       "         0.0000e+00, 0.0000e+00, 7.3568e-01, 0.0000e+00, 5.3732e-02, 0.0000e+00,\n",
       "         0.0000e+00, 0.0000e+00, 0.0000e+00, 0.0000e+00, 0.0000e+00, 1.1285e-01,\n",
       "         1.8296e+00, 0.0000e+00, 0.0000e+00, 0.0000e+00, 0.0000e+00, 0.0000e+00,\n",
       "         4.2197e+00, 1.8371e+00, 0.0000e+00, 0.0000e+00, 0.0000e+00, 0.0000e+00,\n",
       "         0.0000e+00, 0.0000e+00, 4.7621e+00, 0.0000e+00, 0.0000e+00, 0.0000e+00,\n",
       "         3.4658e-01, 0.0000e+00, 0.0000e+00, 0.0000e+00, 0.0000e+00, 1.4227e+00,\n",
       "         0.0000e+00, 0.0000e+00, 0.0000e+00, 0.0000e+00, 0.0000e+00, 0.0000e+00,\n",
       "         4.2709e-01, 0.0000e+00, 0.0000e+00, 2.0842e+00, 1.2949e+00, 0.0000e+00,\n",
       "         7.5375e-02, 0.0000e+00, 0.0000e+00, 0.0000e+00, 0.0000e+00, 0.0000e+00,\n",
       "         0.0000e+00, 0.0000e+00, 0.0000e+00, 0.0000e+00, 0.0000e+00, 0.0000e+00,\n",
       "         0.0000e+00, 5.2189e+00, 0.0000e+00, 0.0000e+00, 0.0000e+00, 0.0000e+00,\n",
       "         0.0000e+00, 3.2198e-01, 1.4844e-01, 1.2307e-01, 0.0000e+00, 0.0000e+00,\n",
       "         0.0000e+00, 0.0000e+00, 0.0000e+00, 0.0000e+00, 0.0000e+00, 0.0000e+00,\n",
       "         2.4811e+00, 0.0000e+00, 0.0000e+00, 0.0000e+00, 0.0000e+00, 8.2004e-01,\n",
       "         0.0000e+00, 0.0000e+00, 0.0000e+00, 0.0000e+00, 0.0000e+00, 0.0000e+00,\n",
       "         0.0000e+00, 0.0000e+00, 0.0000e+00, 0.0000e+00, 0.0000e+00, 0.0000e+00,\n",
       "         0.0000e+00, 2.5392e-01, 0.0000e+00, 0.0000e+00, 0.0000e+00, 0.0000e+00,\n",
       "         0.0000e+00, 0.0000e+00, 0.0000e+00, 2.8547e+00, 0.0000e+00, 0.0000e+00,\n",
       "         0.0000e+00, 1.6735e-01, 0.0000e+00, 0.0000e+00, 0.0000e+00, 0.0000e+00,\n",
       "         0.0000e+00, 0.0000e+00, 0.0000e+00, 0.0000e+00, 0.0000e+00, 0.0000e+00,\n",
       "         0.0000e+00, 0.0000e+00, 2.0947e+00, 0.0000e+00, 0.0000e+00, 2.4838e-01,\n",
       "         0.0000e+00, 0.0000e+00, 2.3225e+00, 9.5069e-01, 0.0000e+00, 0.0000e+00,\n",
       "         1.3402e+00, 0.0000e+00, 0.0000e+00, 0.0000e+00, 2.1226e-01, 0.0000e+00,\n",
       "         0.0000e+00, 0.0000e+00, 0.0000e+00, 0.0000e+00, 0.0000e+00, 0.0000e+00,\n",
       "         0.0000e+00, 0.0000e+00, 1.7649e+00, 0.0000e+00, 2.6021e-03, 0.0000e+00,\n",
       "         0.0000e+00, 0.0000e+00, 0.0000e+00, 1.8832e-01, 0.0000e+00, 3.2760e-01,\n",
       "         0.0000e+00, 0.0000e+00, 0.0000e+00, 0.0000e+00, 2.3159e+00, 0.0000e+00,\n",
       "         0.0000e+00, 0.0000e+00, 1.8536e+00, 0.0000e+00, 0.0000e+00, 0.0000e+00,\n",
       "         0.0000e+00, 0.0000e+00, 0.0000e+00, 0.0000e+00, 0.0000e+00, 0.0000e+00,\n",
       "         0.0000e+00, 7.4893e-02, 0.0000e+00, 2.3674e+00, 9.9043e-02, 0.0000e+00,\n",
       "         0.0000e+00, 0.0000e+00, 9.7550e-01, 1.9792e+00, 0.0000e+00, 0.0000e+00,\n",
       "         0.0000e+00, 0.0000e+00, 0.0000e+00, 0.0000e+00, 0.0000e+00, 0.0000e+00,\n",
       "         0.0000e+00, 0.0000e+00, 0.0000e+00, 0.0000e+00, 0.0000e+00, 0.0000e+00,\n",
       "         1.6356e+00, 0.0000e+00, 0.0000e+00, 0.0000e+00]], device='cuda:0',\n",
       "       grad_fn=<ReluBackward0>)"
      ]
     },
     "execution_count": 14,
     "metadata": {},
     "output_type": "execute_result"
    }
   ],
   "source": [
    "embedding(model, \"JW-7-24-1\", \"ACH-000002\", drug_dict, cell_dict, edge_index, args)[0] # drug embedding"
   ]
  },
  {
   "cell_type": "code",
   "execution_count": 15,
   "id": "abca0264",
   "metadata": {},
   "outputs": [
    {
     "data": {
      "text/plain": [
       "{'training': False,\n",
       " '_parameters': OrderedDict(),\n",
       " '_buffers': OrderedDict(),\n",
       " '_non_persistent_buffers_set': set(),\n",
       " '_backward_hooks': OrderedDict(),\n",
       " '_is_full_backward_hook': None,\n",
       " '_forward_hooks': OrderedDict(),\n",
       " '_forward_pre_hooks': OrderedDict(),\n",
       " '_state_dict_hooks': OrderedDict(),\n",
       " '_load_state_dict_pre_hooks': OrderedDict(),\n",
       " '_load_state_dict_post_hooks': OrderedDict(),\n",
       " '_modules': OrderedDict([('convs_cell',\n",
       "               ModuleList(\n",
       "                 (0): GATConv(1, 8, heads=1)\n",
       "                 (1): GATConv(8, 8, heads=1)\n",
       "                 (2): GATConv(8, 8, heads=1)\n",
       "               ))]),\n",
       " 'num_feature': 1,\n",
       " 'layer_cell': 3,\n",
       " 'dim_cell': 8,\n",
       " 'final_node': 4787}"
      ]
     },
     "execution_count": 15,
     "metadata": {},
     "output_type": "execute_result"
    }
   ],
   "source": [
    "model.CellEncoder.__dict__"
   ]
  },
  {
   "cell_type": "code",
   "execution_count": 16,
   "id": "9e68c8ce",
   "metadata": {},
   "outputs": [
    {
     "data": {
      "text/plain": [
       "tensor([[ 1.6609],\n",
       "        [-0.0702],\n",
       "        [-1.4185],\n",
       "        ...,\n",
       "        [-1.5888],\n",
       "        [ 1.8395],\n",
       "        [ 1.2880]])"
      ]
     },
     "execution_count": 16,
     "metadata": {},
     "output_type": "execute_result"
    }
   ],
   "source": [
    "example.x"
   ]
  },
  {
   "cell_type": "code",
   "execution_count": 17,
   "id": "aadb8900",
   "metadata": {},
   "outputs": [],
   "source": [
    "cell = Batch.from_data_list([cell_dict[\"ACH-000001\"]]).to(args.device)"
   ]
  },
  {
   "cell_type": "code",
   "execution_count": 18,
   "id": "32eaab21",
   "metadata": {},
   "outputs": [
    {
     "data": {
      "text/plain": [
       "DataBatch(x=[4787, 1], x_mask=[4787], edge_index=[2, 12244], batch=[4787], ptr=[2])"
      ]
     },
     "execution_count": 18,
     "metadata": {},
     "output_type": "execute_result"
    }
   ],
   "source": [
    "cell"
   ]
  },
  {
   "cell_type": "code",
   "execution_count": 19,
   "id": "156ae8cf",
   "metadata": {},
   "outputs": [
    {
     "data": {
      "text/plain": [
       "torch.Size([1, 38296])"
      ]
     },
     "execution_count": 19,
     "metadata": {},
     "output_type": "execute_result"
    }
   ],
   "source": [
    "model.CellEncoder(cell).shape"
   ]
  },
  {
   "cell_type": "code",
   "execution_count": 20,
   "id": "8052dd29",
   "metadata": {},
   "outputs": [
    {
     "data": {
      "text/plain": [
       "tensor([[0.0000, 0.0000, 0.0000,  ..., 0.0000, 0.4808, 0.4501]],\n",
       "       device='cuda:0', grad_fn=<ReshapeAliasBackward0>)"
      ]
     },
     "execution_count": 20,
     "metadata": {},
     "output_type": "execute_result"
    }
   ],
   "source": [
    "cell = Batch.from_data_list([cell_dict[\"ACH-000001\"]]).to(args.device)\n",
    "model.CellEncoder(cell)"
   ]
  },
  {
   "cell_type": "code",
   "execution_count": 21,
   "id": "5d6c9a49",
   "metadata": {},
   "outputs": [
    {
     "data": {
      "text/plain": [
       "tensor([0.0000, 0.0000, 0.0000, 0.0000, 0.0439, 0.0000, 0.0091, 0.0000],\n",
       "       device='cuda:0', grad_fn=<SliceBackward0>)"
      ]
     },
     "execution_count": 21,
     "metadata": {},
     "output_type": "execute_result"
    }
   ],
   "source": [
    "cell = Batch.from_data_list([cell_dict[\"ACH-000001\"]]).to(args.device)\n",
    "model.CellEncoder(cell)[0][:8]"
   ]
  },
  {
   "cell_type": "code",
   "execution_count": 22,
   "id": "15427a09",
   "metadata": {},
   "outputs": [
    {
     "data": {
      "text/plain": [
       "tensor([0.0000, 0.0000, 0.0000, 0.0000, 0.0000, 0.0013, 0.0000, 0.0000],\n",
       "       device='cuda:0', grad_fn=<SliceBackward0>)"
      ]
     },
     "execution_count": 22,
     "metadata": {},
     "output_type": "execute_result"
    }
   ],
   "source": [
    "cell = Batch.from_data_list([cell_dict[\"ACH-000002\"]]).to(args.device)\n",
    "model.CellEncoder(cell)[0][:8]"
   ]
  },
  {
   "cell_type": "code",
   "execution_count": 23,
   "id": "fea61bd2",
   "metadata": {},
   "outputs": [
    {
     "data": {
      "text/plain": [
       "tensor(4787)"
      ]
     },
     "execution_count": 23,
     "metadata": {},
     "output_type": "execute_result"
    }
   ],
   "source": [
    "gene_list.sum()"
   ]
  },
  {
   "cell_type": "code",
   "execution_count": 24,
   "id": "c12b5e55",
   "metadata": {},
   "outputs": [],
   "source": [
    "import pickle\n",
    "with open('Data/Cell/34pathway_score990_isolated.pkl', 'rb') as file:\n",
    "    kegg = pickle.load(file)"
   ]
  },
  {
   "cell_type": "code",
   "execution_count": 25,
   "id": "07f0350f",
   "metadata": {},
   "outputs": [
    {
     "data": {
      "text/plain": [
       "4787"
      ]
     },
     "execution_count": 25,
     "metadata": {},
     "output_type": "execute_result"
    }
   ],
   "source": [
    "sum(list(map(lambda x: len(x),kegg.values())))"
   ]
  },
  {
   "cell_type": "code",
   "execution_count": 26,
   "id": "abc5da2a",
   "metadata": {},
   "outputs": [
    {
     "data": {
      "text/plain": [
       "tensor([0.0000, 0.0000, 0.0225, 0.0000, 0.0000, 0.0000, 0.0688, 0.0240, 0.0000,\n",
       "        0.0000, 0.0121, 0.0101, 0.0324, 0.0000, 0.0000, 0.0000, 0.0000, 0.1403,\n",
       "        0.0014, 0.0000, 0.0000, 0.0000, 0.0000, 0.0000, 0.0000, 0.0000, 0.0000,\n",
       "        0.0776, 0.0000, 0.0000, 0.0000, 0.0308, 0.0000, 0.0000, 0.0000, 0.0000,\n",
       "        0.0000, 0.0000, 0.0000, 0.0000, 0.0000, 0.0000, 0.0255, 0.0325, 0.0000,\n",
       "        0.0000, 0.0000, 0.0000, 0.0057, 0.0000, 0.0000, 0.0000, 0.0000, 0.0000,\n",
       "        0.0000, 0.0000, 0.0000, 0.0000, 0.0000, 0.0000, 0.0000, 0.0000, 0.0000,\n",
       "        0.0000, 0.0000, 0.0000, 0.0000, 0.0505, 0.0000, 0.0157, 0.0000, 0.0000,\n",
       "        0.0000, 0.0000, 0.0104, 0.0000, 0.0000, 0.0053, 0.0000, 0.0000, 0.0000,\n",
       "        0.0000, 0.0000, 0.0000, 0.0039, 0.0000, 0.0000, 0.2740, 0.0000, 0.0000,\n",
       "        0.0000, 0.0146, 0.0000, 0.0000, 0.0000, 0.0000, 0.0000, 0.0700, 0.0000,\n",
       "        0.0000, 0.0157, 0.0000, 0.0000, 0.0000, 0.0000, 0.0000, 0.0000, 0.0053,\n",
       "        0.0000, 0.0000, 0.0000, 0.0000, 0.0179, 0.0000, 0.0000, 0.0000, 0.0000,\n",
       "        0.0000, 0.0484, 0.0000, 0.0000, 0.0107, 0.0000, 0.0000, 0.0000, 0.0000,\n",
       "        0.0129, 0.0000, 0.0290, 0.1186, 0.0000, 0.0000, 0.0000, 0.0000, 0.0000,\n",
       "        0.0000, 0.0000, 0.0774, 0.0000, 0.1437, 0.0000, 0.0000, 0.0000, 0.0047,\n",
       "        0.0000, 0.0027, 0.0000, 0.0000, 0.0000, 0.0000, 0.0000, 0.0000, 0.0000,\n",
       "        0.0000, 0.0000, 0.0000, 0.0000, 0.0000, 0.0000, 0.0000, 0.0000, 0.0000,\n",
       "        0.0407, 0.0000, 0.0000, 0.0000, 0.0000, 0.0045, 0.0000, 0.0000, 0.0000,\n",
       "        0.0164, 0.0000, 0.0000, 0.0118, 0.0000, 0.0000, 0.0135, 0.0000, 0.0645,\n",
       "        0.0000, 0.0000, 0.0000, 0.0000, 0.0000, 0.0214, 0.0994, 0.0000, 0.0062,\n",
       "        0.0000, 0.0018, 0.0113, 0.0113, 0.0000, 0.0000, 0.0000, 0.0627, 0.0281,\n",
       "        0.0000, 0.0000, 0.0509, 0.0000, 0.0736, 0.0110, 0.0000, 0.1194, 0.0000,\n",
       "        0.0000, 0.0000, 0.0000, 0.0559, 0.0000, 0.0000, 0.0000, 0.0000, 0.0000,\n",
       "        0.0000, 0.0295, 0.0000, 0.0000, 0.0100, 0.0000, 0.0000, 0.0000, 0.0000,\n",
       "        0.0000, 0.0000, 0.0000, 0.0000, 0.0000, 0.0000, 0.0151, 0.0000, 0.0000,\n",
       "        0.0000, 0.0000, 0.0161, 0.0000, 0.0000, 0.0000, 0.0000, 0.0000, 0.0000,\n",
       "        0.0000, 0.0000, 0.0000, 0.0000, 0.0000, 0.0557, 0.0000, 0.0259, 0.0000,\n",
       "        0.0000, 0.0000, 0.0000, 0.0000], device='cuda:0',\n",
       "       grad_fn=<SelectBackward0>)"
      ]
     },
     "execution_count": 26,
     "metadata": {},
     "output_type": "execute_result"
    }
   ],
   "source": [
    "embedding(model, \"JW-7-24-1\", \"ACH-000001\", drug_dict, cell_dict, edge_index, args)[1][0][0] # pathway embedding"
   ]
  },
  {
   "cell_type": "code",
   "execution_count": 27,
   "id": "03fada51",
   "metadata": {},
   "outputs": [
    {
     "data": {
      "text/plain": [
       "tensor([0.0000, 0.0000, 0.0225, 0.0000, 0.0000, 0.0000, 0.0688, 0.0240, 0.0000,\n",
       "        0.0000, 0.0121, 0.0101, 0.0324, 0.0000, 0.0000, 0.0000, 0.0000, 0.1403,\n",
       "        0.0014, 0.0000, 0.0000, 0.0000, 0.0000, 0.0000, 0.0000, 0.0000, 0.0000,\n",
       "        0.0776, 0.0000, 0.0000, 0.0000, 0.0308, 0.0000, 0.0000, 0.0000, 0.0000,\n",
       "        0.0000, 0.0000, 0.0000, 0.0000, 0.0000, 0.0000, 0.0255, 0.0325, 0.0000,\n",
       "        0.0000, 0.0000, 0.0000, 0.0057, 0.0000, 0.0000, 0.0000, 0.0000, 0.0000,\n",
       "        0.0000, 0.0000, 0.0000, 0.0000, 0.0000, 0.0000, 0.0000, 0.0000, 0.0000,\n",
       "        0.0000, 0.0000, 0.0000, 0.0000, 0.0505, 0.0000, 0.0157, 0.0000, 0.0000,\n",
       "        0.0000, 0.0000, 0.0104, 0.0000, 0.0000, 0.0053, 0.0000, 0.0000, 0.0000,\n",
       "        0.0000, 0.0000, 0.0000, 0.0039, 0.0000, 0.0000, 0.2740, 0.0000, 0.0000,\n",
       "        0.0000, 0.0146, 0.0000, 0.0000, 0.0000, 0.0000, 0.0000, 0.0700, 0.0000,\n",
       "        0.0000, 0.0157, 0.0000, 0.0000, 0.0000, 0.0000, 0.0000, 0.0000, 0.0053,\n",
       "        0.0000, 0.0000, 0.0000, 0.0000, 0.0179, 0.0000, 0.0000, 0.0000, 0.0000,\n",
       "        0.0000, 0.0484, 0.0000, 0.0000, 0.0107, 0.0000, 0.0000, 0.0000, 0.0000,\n",
       "        0.0129, 0.0000, 0.0290, 0.1186, 0.0000, 0.0000, 0.0000, 0.0000, 0.0000,\n",
       "        0.0000, 0.0000, 0.0774, 0.0000, 0.1437, 0.0000, 0.0000, 0.0000, 0.0047,\n",
       "        0.0000, 0.0027, 0.0000, 0.0000, 0.0000, 0.0000, 0.0000, 0.0000, 0.0000,\n",
       "        0.0000, 0.0000, 0.0000, 0.0000, 0.0000, 0.0000, 0.0000, 0.0000, 0.0000,\n",
       "        0.0407, 0.0000, 0.0000, 0.0000, 0.0000, 0.0045, 0.0000, 0.0000, 0.0000,\n",
       "        0.0164, 0.0000, 0.0000, 0.0118, 0.0000, 0.0000, 0.0135, 0.0000, 0.0645,\n",
       "        0.0000, 0.0000, 0.0000, 0.0000, 0.0000, 0.0214, 0.0994, 0.0000, 0.0062,\n",
       "        0.0000, 0.0018, 0.0113, 0.0113, 0.0000, 0.0000, 0.0000, 0.0627, 0.0281,\n",
       "        0.0000, 0.0000, 0.0509, 0.0000, 0.0736, 0.0110, 0.0000, 0.1194, 0.0000,\n",
       "        0.0000, 0.0000, 0.0000, 0.0559, 0.0000, 0.0000, 0.0000, 0.0000, 0.0000,\n",
       "        0.0000, 0.0295, 0.0000, 0.0000, 0.0100, 0.0000, 0.0000, 0.0000, 0.0000,\n",
       "        0.0000, 0.0000, 0.0000, 0.0000, 0.0000, 0.0000, 0.0151, 0.0000, 0.0000,\n",
       "        0.0000, 0.0000, 0.0161, 0.0000, 0.0000, 0.0000, 0.0000, 0.0000, 0.0000,\n",
       "        0.0000, 0.0000, 0.0000, 0.0000, 0.0000, 0.0557, 0.0000, 0.0259, 0.0000,\n",
       "        0.0000, 0.0000, 0.0000, 0.0000], device='cuda:0',\n",
       "       grad_fn=<SelectBackward0>)"
      ]
     },
     "execution_count": 27,
     "metadata": {},
     "output_type": "execute_result"
    }
   ],
   "source": [
    "embedding(model, \"KIN001-260\", \"ACH-000001\", drug_dict, cell_dict, edge_index, args)[1][0][0]"
   ]
  },
  {
   "cell_type": "code",
   "execution_count": 28,
   "id": "f6cf0a6f",
   "metadata": {},
   "outputs": [
    {
     "data": {
      "text/plain": [
       "tensor([0.0000, 0.0000, 0.0253, 0.0000, 0.0000, 0.0000, 0.0710, 0.0195, 0.0000,\n",
       "        0.0000, 0.0230, 0.0177, 0.0339, 0.0000, 0.0000, 0.0000, 0.0000, 0.1240,\n",
       "        0.0000, 0.0000, 0.0000, 0.0000, 0.0000, 0.0000, 0.0000, 0.0000, 0.0000,\n",
       "        0.0792, 0.0008, 0.0000, 0.0000, 0.0340, 0.0000, 0.0000, 0.0000, 0.0000,\n",
       "        0.0000, 0.0000, 0.0000, 0.0000, 0.0000, 0.0000, 0.0387, 0.0252, 0.0000,\n",
       "        0.0000, 0.0000, 0.0000, 0.0000, 0.0000, 0.0000, 0.0000, 0.0000, 0.0000,\n",
       "        0.0000, 0.0000, 0.0000, 0.0000, 0.0000, 0.0000, 0.0000, 0.0000, 0.0000,\n",
       "        0.0000, 0.0000, 0.0000, 0.0000, 0.0567, 0.0000, 0.0094, 0.0000, 0.0000,\n",
       "        0.0000, 0.0000, 0.0162, 0.0000, 0.0000, 0.0142, 0.0000, 0.0000, 0.0000,\n",
       "        0.0000, 0.0000, 0.0000, 0.0121, 0.0000, 0.0000, 0.2872, 0.0000, 0.0064,\n",
       "        0.0007, 0.0136, 0.0000, 0.0000, 0.0000, 0.0000, 0.0000, 0.0713, 0.0000,\n",
       "        0.0000, 0.0216, 0.0000, 0.0000, 0.0000, 0.0000, 0.0000, 0.0000, 0.0086,\n",
       "        0.0016, 0.0000, 0.0000, 0.0000, 0.0159, 0.0000, 0.0000, 0.0000, 0.0012,\n",
       "        0.0000, 0.0505, 0.0000, 0.0023, 0.0058, 0.0000, 0.0000, 0.0000, 0.0000,\n",
       "        0.0134, 0.0000, 0.0325, 0.1190, 0.0000, 0.0000, 0.0000, 0.0000, 0.0000,\n",
       "        0.0000, 0.0000, 0.0734, 0.0000, 0.1452, 0.0000, 0.0000, 0.0000, 0.0177,\n",
       "        0.0000, 0.0000, 0.0000, 0.0000, 0.0000, 0.0000, 0.0000, 0.0000, 0.0000,\n",
       "        0.0000, 0.0000, 0.0000, 0.0000, 0.0000, 0.0000, 0.0000, 0.0000, 0.0000,\n",
       "        0.0426, 0.0000, 0.0000, 0.0000, 0.0000, 0.0062, 0.0000, 0.0000, 0.0000,\n",
       "        0.0301, 0.0000, 0.0000, 0.0206, 0.0000, 0.0000, 0.0177, 0.0117, 0.0587,\n",
       "        0.0000, 0.0000, 0.0000, 0.0000, 0.0000, 0.0355, 0.1019, 0.0000, 0.0089,\n",
       "        0.0000, 0.0079, 0.0055, 0.0139, 0.0000, 0.0000, 0.0000, 0.0535, 0.0328,\n",
       "        0.0000, 0.0000, 0.0605, 0.0000, 0.0629, 0.0223, 0.0000, 0.1187, 0.0000,\n",
       "        0.0000, 0.0000, 0.0000, 0.0558, 0.0000, 0.0000, 0.0000, 0.0000, 0.0000,\n",
       "        0.0000, 0.0353, 0.0000, 0.0000, 0.0056, 0.0000, 0.0000, 0.0000, 0.0000,\n",
       "        0.0000, 0.0000, 0.0000, 0.0000, 0.0000, 0.0000, 0.0102, 0.0000, 0.0000,\n",
       "        0.0058, 0.0000, 0.0197, 0.0000, 0.0050, 0.0000, 0.0000, 0.0000, 0.0000,\n",
       "        0.0000, 0.0000, 0.0000, 0.0000, 0.0000, 0.0485, 0.0000, 0.0322, 0.0000,\n",
       "        0.0000, 0.0000, 0.0000, 0.0000], device='cuda:0',\n",
       "       grad_fn=<SelectBackward0>)"
      ]
     },
     "execution_count": 28,
     "metadata": {},
     "output_type": "execute_result"
    }
   ],
   "source": [
    "embedding(model, \"JW-7-24-1\", \"ACH-000002\", drug_dict, cell_dict, edge_index, args)[1][0][0]"
   ]
  },
  {
   "cell_type": "code",
   "execution_count": 29,
   "id": "111c0761",
   "metadata": {},
   "outputs": [
    {
     "data": {
      "text/plain": [
       "692"
      ]
     },
     "execution_count": 29,
     "metadata": {},
     "output_type": "execute_result"
    }
   ],
   "source": [
    "len(data.DepMap_ID.unique())"
   ]
  },
  {
   "cell_type": "code",
   "execution_count": 30,
   "id": "251de8fb",
   "metadata": {},
   "outputs": [
    {
     "data": {
      "text/plain": [
       "torch.Size([1, 35, 256])"
      ]
     },
     "execution_count": 30,
     "metadata": {},
     "output_type": "execute_result"
    }
   ],
   "source": [
    "embedding(model, \"JW-7-24-1\", \"ACH-000002\", drug_dict, cell_dict, edge_index, args)[1].shape"
   ]
  },
  {
   "cell_type": "code",
   "execution_count": 31,
   "id": "0492a8df",
   "metadata": {},
   "outputs": [],
   "source": [
    "cell_line_embedding_dict = {}\n",
    "for cell_line in list(data.DepMap_ID.unique()):\n",
    "    cell_line_embedding_dict[cell_line] = embedding(model, \"KIN001-260\", cell_line, \n",
    "                                                    drug_dict, cell_dict, edge_index, args)[1]"
   ]
  },
  {
   "cell_type": "code",
   "execution_count": 32,
   "id": "b4d7869a",
   "metadata": {},
   "outputs": [],
   "source": [
    "with open('cell_line_embedding_dict_seg_cnv.pickle', 'wb') as file:\n",
    "    pickle.dump(cell_line_embedding_dict, file)"
   ]
  },
  {
   "cell_type": "code",
   "execution_count": 33,
   "id": "22ff4fd0",
   "metadata": {},
   "outputs": [],
   "source": [
    "with open('cell_line_embedding_dict_seg_cnv.pickle', 'rb') as file:\n",
    "    cell_line_embedding_dict = pickle.load(file)"
   ]
  },
  {
   "cell_type": "code",
   "execution_count": 34,
   "id": "0c15f13c",
   "metadata": {},
   "outputs": [
    {
     "data": {
      "text/plain": [
       "torch.Size([1, 35, 256])"
      ]
     },
     "execution_count": 34,
     "metadata": {},
     "output_type": "execute_result"
    }
   ],
   "source": [
    "cell_line_embedding_dict['ACH-000001'].shape"
   ]
  },
  {
   "cell_type": "code",
   "execution_count": 35,
   "id": "7c082eb9",
   "metadata": {},
   "outputs": [
    {
     "data": {
      "text/plain": [
       "385"
      ]
     },
     "execution_count": 35,
     "metadata": {},
     "output_type": "execute_result"
    }
   ],
   "source": [
    "len(data[\"Drug name\"].unique())"
   ]
  },
  {
   "cell_type": "code",
   "execution_count": 36,
   "id": "7bf6760d",
   "metadata": {},
   "outputs": [],
   "source": [
    "drug_embedding_dict = {}\n",
    "for drug in list(data[\"Drug name\"].unique()):\n",
    "    drug_embedding_dict[drug] = embedding(model, drug, 'ACH-000001', \n",
    "                                                    drug_dict, cell_dict, edge_index, args)[0]"
   ]
  },
  {
   "cell_type": "code",
   "execution_count": 37,
   "id": "9f418ce2",
   "metadata": {},
   "outputs": [],
   "source": [
    "with open('drug_embedding_dict_seg_cnv.pickle', 'wb') as file:\n",
    "    pickle.dump(drug_embedding_dict, file)"
   ]
  },
  {
   "cell_type": "code",
   "execution_count": 38,
   "id": "ca2a47a1",
   "metadata": {},
   "outputs": [],
   "source": [
    "with open('drug_embedding_dict_seg_cnv.pickle', 'rb') as file:\n",
    "    drug_embedding_dict = pickle.load(file)"
   ]
  },
  {
   "cell_type": "code",
   "execution_count": 39,
   "id": "0b75415b",
   "metadata": {},
   "outputs": [
    {
     "data": {
      "text/plain": [
       "torch.Size([1, 256])"
      ]
     },
     "execution_count": 39,
     "metadata": {},
     "output_type": "execute_result"
    }
   ],
   "source": [
    "drug_embedding_dict['JW-7-24-1'].shape"
   ]
  },
  {
   "cell_type": "code",
   "execution_count": null,
   "id": "2e9eeaee",
   "metadata": {},
   "outputs": [],
   "source": []
  }
 ],
 "metadata": {
  "kernelspec": {
   "display_name": "drpreter_venv",
   "language": "python",
   "name": "drpreter_venv"
  },
  "language_info": {
   "codemirror_mode": {
    "name": "ipython",
    "version": 3
   },
   "file_extension": ".py",
   "mimetype": "text/x-python",
   "name": "python",
   "nbconvert_exporter": "python",
   "pygments_lexer": "ipython3",
   "version": "3.9.12"
  }
 },
 "nbformat": 4,
 "nbformat_minor": 5
}
