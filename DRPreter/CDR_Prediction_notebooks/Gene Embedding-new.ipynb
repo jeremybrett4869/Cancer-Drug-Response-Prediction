{
 "cells": [
  {
   "cell_type": "code",
   "execution_count": 1,
   "id": "e865b18f",
   "metadata": {},
   "outputs": [
    {
     "name": "stderr",
     "output_type": "stream",
     "text": [
      "/home/yingfei/miniconda3/lib/python3.9/site-packages/tqdm/auto.py:22: TqdmWarning: IProgress not found. Please update jupyter and ipywidgets. See https://ipywidgets.readthedocs.io/en/stable/user_install.html\n",
      "  from .autonotebook import tqdm as notebook_tqdm\n"
     ]
    }
   ],
   "source": [
    "import os\n",
    "import sys\n",
    "import argparse\n",
    "# os.environ[\"CUDA_DEVICE_ORDER\"] = \"PCI_BUS_ID\"\n",
    "import torch\n",
    "import torch.nn as nn\n",
    "import numpy as np\n",
    "import pandas as pd\n",
    "from utils import *\n",
    "from Model.DRPreter import DRPreter\n",
    "from Model.Similarity import Similarity\n",
    "from torch_scatter import scatter_add"
   ]
  },
  {
   "cell_type": "code",
   "execution_count": 2,
   "id": "344bf5dd",
   "metadata": {},
   "outputs": [
    {
     "data": {
      "text/plain": [
       "Namespace(f='/home/yingfei/.local/share/jupyter/runtime/kernel-b9324725-e018-4094-9184-b2e6eacf0b92.json', seed=42, device=0, batch_size=128, lr=0.0001, layer=3, hidden_dim=8, layer_drug=3, dim_drug=128, dim_drug_cell=256, dropout_ratio=0.1, epochs=300, patience=100, mode='train', edge='STRING', string_edge=990, dataset='2369disjoint', trans=True, sim=False)"
      ]
     },
     "execution_count": 2,
     "metadata": {},
     "output_type": "execute_result"
    }
   ],
   "source": [
    "parser = argparse.ArgumentParser()\n",
    "parser.add_argument('-f')\n",
    "parser.add_argument('--seed', type=int, default=42, help='seed')\n",
    "parser.add_argument('--device', type=int, default=0, help='device')\n",
    "parser.add_argument('--batch_size', type=int, default=128, help='batch size (default: 128)')\n",
    "parser.add_argument('--lr', type=float, default=0.0001, help='learning rate (default: 0.0001)')\n",
    "parser.add_argument('--layer', type=int, default=3, help='Number of cell layers')\n",
    "parser.add_argument('--hidden_dim', type=int, default=8, help='hidden dim for cell')\n",
    "parser.add_argument('--layer_drug', type=int, default=3, help='Number of drug layers')\n",
    "parser.add_argument('--dim_drug', type=int, default=128, help='hidden dim for drug (default: 128)')\n",
    "parser.add_argument('--dim_drug_cell', type=int, default=256, help='hidden dim for drug and cell (default: 256)')\n",
    "parser.add_argument('--dropout_ratio', type=float, default=0.1, help='Dropout ratio (default: 0.1)')\n",
    "parser.add_argument('--epochs', type=int, default=300, help='Maximum number of epochs (default: 300)')\n",
    "parser.add_argument('--patience', type=int, default=100, help='patience for early stopping (default: 10)')\n",
    "parser.add_argument('--mode', type=str, default='train', help='train, test')\n",
    "parser.add_argument('--edge', type=str, default='STRING', help='STRING, BIOGRID') # BIOGRID: removed\n",
    "# parser.add_argument('--string_edge', type=float, default=0.99, help='Threshold for edges of cell line graph')\n",
    "parser.add_argument('--string_edge', type=int, default=990, help='Threshold for edges of cell line graph')\n",
    "parser.add_argument('--dataset', type=str, default='2369disjoint', help='2369joint, 2369disjoint, COSMIC')\n",
    "parser.add_argument('--trans', type=bool, default=True, help='Use Transformer or not')\n",
    "parser.add_argument('--sim', type=bool, default=False, help='Construct homogeneous similarity networks or not')\n",
    "args = parser.parse_args()\n",
    "args"
   ]
  },
  {
   "cell_type": "code",
   "execution_count": 3,
   "id": "71f36352",
   "metadata": {},
   "outputs": [],
   "source": [
    "args.dataset = \"disjoint\""
   ]
  },
  {
   "cell_type": "code",
   "execution_count": 4,
   "id": "1e49d1cd",
   "metadata": {},
   "outputs": [
    {
     "name": "stdout",
     "output_type": "stream",
     "text": [
      "seed: 42\n"
     ]
    }
   ],
   "source": [
    "args.device = 'cuda:{}'.format(args.device)\n",
    "rpath = '../'\n",
    "result_path = rpath + 'Result_0308/Result_2/' ### Adjust folder name\n",
    "\n",
    "print(f'seed: {args.seed}')\n",
    "set_random_seed(args.seed)\n",
    "\n",
    "edge_type = 'PPI_'+str(args.string_edge) if args.edge=='STRING' else args.edge\n",
    "edge_index = np.load(rpath+f'/DRPreter/Data/Cell/edge_index_{edge_type}_{args.dataset}_cnv.npy') ### Adjust file name\n",
    "\n",
    "# data = pd.read_csv(rpath+'Data/sorted_IC50_82833_580_170.csv')\n",
    "data = pd.read_csv(rpath+'/DRPreter/Data/sorted_AUC.csv')\n",
    "\n",
    "### Adjust file name\n",
    "drug_dict = np.load(rpath+'/DRPreter/Data/Drug/drug_feature_graph.npy', allow_pickle=True).item() # pyg format of drug graph\n",
    "cell_dict = np.load(rpath+f'/DRPreter/Data/Cell/cell_feature_std_{args.dataset}_cnv.npy', allow_pickle=True).item() \n",
    "# pyg data format of cell graph\n",
    "\n",
    "example = cell_dict['ACH-000001']\n",
    "args.num_feature = example.x.shape[1] # 1\n",
    "args.num_genes = example.x.shape[0] # 4646"
   ]
  },
  {
   "cell_type": "code",
   "execution_count": 5,
   "id": "b4972baa",
   "metadata": {},
   "outputs": [
    {
     "name": "stdout",
     "output_type": "stream",
     "text": [
      "num_genes:4787, num_edges:12244\n",
      "gene distribution: tensor([142,  94, 137, 294,  74, 155, 218,  79, 146, 190, 136, 293, 167,  73,\n",
      "        232,  59, 239, 109, 104,  85, 126, 101, 221,  59,  56,  71,  44, 351,\n",
      "        162,  96, 102,  41,  88, 102, 141], dtype=torch.int32)\n",
      "mean degree:2.557760601629413\n"
     ]
    }
   ],
   "source": [
    "### Added\n",
    "# gene_list = scatter_add(torch.ones_like(example.x.squeeze()), example.x_mask.to(torch.int64).reshape(-1,2)).to(torch.int)\n",
    "gene_list = scatter_add(torch.ones_like(example.x.squeeze()), example.x_mask.to(torch.int64)).to(torch.int)\n",
    "args.max_gene = gene_list.max().item()\n",
    "# gene_list = torch.div(torch.sum(gene_list,0),2) ### Added\n",
    "# print(gene_list.shape)\n",
    "args.cum_num_nodes = torch.cat([gene_list.new_zeros(1), gene_list.cumsum(dim=0)], dim=0)\n",
    "args.n_pathways = gene_list.size(0)\n",
    "print('num_genes:{}, num_edges:{}'.format(args.num_genes, len(edge_index[0])))\n",
    "print('gene distribution: {}'.format(gene_list))\n",
    "print('mean degree:{}'.format(len(edge_index[0]) / args.num_genes))"
   ]
  },
  {
   "cell_type": "code",
   "execution_count": 14,
   "id": "874d8e33",
   "metadata": {},
   "outputs": [],
   "source": [
    "args.device = \"cuda:0\" # 'cuda:{}'.format(args.device)"
   ]
  },
  {
   "cell_type": "code",
   "execution_count": 15,
   "id": "9e6130c5",
   "metadata": {},
   "outputs": [
    {
     "name": "stdout",
     "output_type": "stream",
     "text": [
      "total: 227436, train: 184020, val: 20472, test: 22944\n"
     ]
    }
   ],
   "source": [
    "train_loader, val_loader, test_loader = load_data(data, drug_dict, cell_dict, torch.tensor(edge_index, dtype=torch.long), args)\n",
    "print('total: {}, train: {}, val: {}, test: {}'.format(len(data), len(train_loader.dataset), len(val_loader.dataset), len(test_loader.dataset)))\n",
    "model = DRPreter(args).to(\"cuda:0\")"
   ]
  },
  {
   "cell_type": "code",
   "execution_count": 16,
   "id": "6d43345c",
   "metadata": {},
   "outputs": [
    {
     "data": {
      "text/plain": [
       "'weights_0308/weights_2/weight_seed42.pth'"
      ]
     },
     "execution_count": 16,
     "metadata": {},
     "output_type": "execute_result"
    }
   ],
   "source": [
    "state_dict_name = f'weights_0308/weights_2/weight_sim_seed{args.seed}.pth' if args.sim==True else f'weights_0308/weights_2/weight_seed{args.seed}.pth'\n",
    "state_dict_name"
   ]
  },
  {
   "cell_type": "code",
   "execution_count": 17,
   "id": "299b8f2e",
   "metadata": {},
   "outputs": [
    {
     "data": {
      "text/plain": [
       "<All keys matched successfully>"
      ]
     },
     "execution_count": 17,
     "metadata": {},
     "output_type": "execute_result"
    }
   ],
   "source": [
    "model.load_state_dict(torch.load(state_dict_name, map_location=\"cuda:0\")['model_state_dict'])"
   ]
  },
  {
   "cell_type": "code",
   "execution_count": 18,
   "id": "b864e5e7",
   "metadata": {},
   "outputs": [
    {
     "data": {
      "text/plain": [
       "(tensor([[0.0000, 0.0000, 0.0000, 0.0000, 0.0000, 0.0000, 0.0000, 0.0000, 0.0000,\n",
       "          0.0000, 0.0000, 0.0000, 0.4574, 0.0000, 0.0000, 0.0000, 0.0000, 0.0000,\n",
       "          0.0000, 0.0000, 0.0000, 0.0000, 0.0000, 0.0000, 2.1913, 0.0000, 0.6364,\n",
       "          0.0000, 0.0000, 0.4625, 0.0000, 0.0000, 0.0000, 0.0000, 0.0000, 0.9763,\n",
       "          1.9686, 0.0000, 0.0000, 0.0000, 0.0000, 0.0000, 2.8609, 0.0000, 0.0000,\n",
       "          0.0000, 0.0000, 0.0000, 0.0000, 0.0000, 0.0000, 0.0000, 0.0000, 0.0000,\n",
       "          0.0000, 0.0000, 2.1265, 0.0000, 0.0000, 0.0000, 0.0000, 2.5022, 0.0000,\n",
       "          0.0000, 0.0000, 0.0000, 0.0000, 0.4160, 0.0000, 0.0000, 0.0000, 0.0000,\n",
       "          0.0000, 0.0000, 0.0000, 0.3042, 0.0000, 0.0000, 0.0000, 0.0000, 0.0000,\n",
       "          0.0000, 0.0000, 0.0000, 0.0000, 0.0000, 0.0000, 0.0000, 0.0000, 1.7395,\n",
       "          0.0000, 0.0000, 0.4691, 0.0000, 0.0000, 0.0000, 0.0000, 0.0000, 0.0000,\n",
       "          0.0000, 0.0000, 0.0000, 0.0000, 0.0000, 0.3186, 0.0000, 0.0000, 0.0000,\n",
       "          0.0000, 0.4200, 0.0000, 0.0000, 0.0000, 0.0000, 0.0000, 0.0000, 0.0000,\n",
       "          0.0000, 0.0000, 0.0000, 0.0000, 2.9378, 0.0000, 0.0000, 0.0000, 0.0000,\n",
       "          0.0000, 0.0000, 0.0000, 0.0000, 0.0000, 0.0000, 0.0000, 0.0000, 0.0000,\n",
       "          0.0000, 0.0000, 0.8157, 0.0000, 0.0000, 0.0000, 0.0000, 0.0000, 0.0000,\n",
       "          0.0000, 0.0000, 0.0000, 1.9312, 0.5722, 0.0000, 0.4767, 0.9772, 0.0000,\n",
       "          0.0000, 0.0000, 0.5741, 0.0000, 0.0000, 0.0000, 0.0000, 0.0000, 0.0636,\n",
       "          0.0000, 0.0000, 0.0000, 3.8771, 0.0000, 2.0217, 0.0000, 0.0000, 0.0000,\n",
       "          0.0000, 0.0000, 0.0000, 2.1104, 0.0000, 0.0000, 0.0000, 0.0000, 0.1378,\n",
       "          0.0000, 1.1511, 0.0000, 0.0000, 0.0000, 0.0000, 0.0000, 0.0000, 0.7187,\n",
       "          0.0000, 0.0000, 0.0000, 0.0000, 0.0000, 0.0000, 0.0000, 0.0000, 0.0829,\n",
       "          0.0000, 0.0000, 0.0000, 0.0000, 0.0000, 0.0000, 0.0000, 0.0000, 0.0000,\n",
       "          0.0000, 0.0000, 0.0000, 0.0000, 0.0000, 0.0000, 0.0000, 0.0000, 0.0000,\n",
       "          0.0000, 0.0000, 0.0000, 0.0000, 0.0000, 0.0000, 0.0000, 0.0000, 0.0000,\n",
       "          2.6304, 0.0000, 0.0000, 1.5350, 1.5897, 0.0000, 0.0000, 0.0000, 0.0000,\n",
       "          0.0000, 0.0000, 0.0000, 0.0000, 0.0000, 1.1283, 0.0000, 0.0000, 0.0000,\n",
       "          0.0000, 0.0000, 0.0000, 0.1177, 0.0000, 0.0000, 0.0000, 0.0000, 0.0000,\n",
       "          2.4914, 0.0000, 0.0000, 0.0000]], device='cuda:0',\n",
       "        grad_fn=<ReluBackward0>),\n",
       " tensor([[[0.0000, 0.0000, 0.0000,  ..., 0.1016, 0.0000, 0.0000],\n",
       "          [0.0000, 0.0000, 0.0000,  ..., 0.1440, 0.0000, 0.0000],\n",
       "          [0.0000, 0.0000, 0.0000,  ..., 0.0000, 0.0000, 0.0000],\n",
       "          ...,\n",
       "          [0.0000, 0.0000, 0.0000,  ..., 0.3176, 0.0000, 0.0000],\n",
       "          [0.0000, 0.0000, 0.0000,  ..., 0.2064, 0.0000, 0.0000],\n",
       "          [0.0000, 0.0000, 0.0000,  ..., 0.4771, 0.0000, 0.0000]]],\n",
       "        device='cuda:0', grad_fn=<ReluBackward0>))"
      ]
     },
     "execution_count": 18,
     "metadata": {},
     "output_type": "execute_result"
    }
   ],
   "source": [
    "embedding(model, \"JW-7-24-1\", \"ACH-000001\", drug_dict, cell_dict, edge_index, args) # drug embedding and cell line embedding"
   ]
  },
  {
   "cell_type": "code",
   "execution_count": 19,
   "id": "e176f28e",
   "metadata": {},
   "outputs": [
    {
     "data": {
      "text/plain": [
       "torch.Size([1, 35, 256])"
      ]
     },
     "execution_count": 19,
     "metadata": {},
     "output_type": "execute_result"
    }
   ],
   "source": [
    "cell_line_embedding = embedding(model, \"JW-7-24-1\", \"ACH-000001\", drug_dict, cell_dict, edge_index, args)[1]\n",
    "cell_line_embedding.shape"
   ]
  },
  {
   "cell_type": "code",
   "execution_count": 20,
   "id": "f997620c",
   "metadata": {},
   "outputs": [
    {
     "data": {
      "text/plain": [
       "tensor([0.0000, 0.0000, 0.0000, 0.0000, 0.0000, 0.0000, 0.4904, 0.0110, 0.0000,\n",
       "        0.0000, 0.0000, 0.0000, 0.0000, 0.0000, 0.0000, 0.0000, 0.0000, 0.2863,\n",
       "        0.0000, 0.0000, 0.0000, 0.0000, 0.0000, 0.0000, 0.0000, 0.0000, 0.0000,\n",
       "        0.1068, 0.0000, 0.0000, 0.0000, 0.0000, 0.0000, 0.0000, 0.0000, 0.0000,\n",
       "        0.0000, 0.0000, 0.0000, 0.0000, 0.0000, 0.0000, 0.1471, 0.0966, 0.0000,\n",
       "        0.0000, 0.0000, 0.0000, 0.0000, 0.0000, 0.0000, 0.0000, 0.0000, 0.0000,\n",
       "        0.0000, 0.0000, 0.0000, 0.0000, 0.0000, 0.0000, 0.0000, 0.0000, 0.0000,\n",
       "        0.0000, 0.0000, 0.0000, 0.0000, 0.0000, 0.0000, 0.0000, 0.0000, 0.0000,\n",
       "        0.0000, 0.0000, 0.0000, 0.0000, 0.0000, 0.0000, 0.0000, 0.0000, 0.0000,\n",
       "        0.0000, 0.0000, 0.0000, 0.0000, 0.0000, 0.0000, 1.1114, 0.0000, 0.0000,\n",
       "        0.0000, 0.0000, 0.0000, 0.0000, 0.0000, 0.0000, 0.0000, 0.6240, 0.0000,\n",
       "        0.0000, 0.0000, 0.0000, 0.0000, 0.0000, 0.0000, 0.0000, 0.0000, 0.0000,\n",
       "        0.0000, 0.0000, 0.0000, 0.0000, 0.0000, 0.0000, 0.0000, 0.0000, 0.0000,\n",
       "        0.0000, 0.2207, 0.0000, 0.0000, 0.0000, 0.0000, 0.0000, 0.0000, 0.0000,\n",
       "        0.0000, 0.0000, 0.0000, 0.2375, 0.0000, 0.0000, 0.0000, 0.0000, 0.0000,\n",
       "        0.0000, 0.0000, 0.0652, 0.0000, 0.3338, 0.0000, 0.0000, 0.0000, 0.0000,\n",
       "        0.0000, 0.0000, 0.0000, 0.0000, 0.0000, 0.0000, 0.0000, 0.0000, 0.0000,\n",
       "        0.0000, 0.0000, 0.0000, 0.0000, 0.0000, 0.0000, 0.0000, 0.0000, 0.0000,\n",
       "        0.0857, 0.0000, 0.0000, 0.0000, 0.0000, 0.0000, 0.0000, 0.0000, 0.0000,\n",
       "        0.0000, 0.0000, 0.0000, 0.0000, 0.0000, 0.0000, 0.0000, 0.0202, 0.3486,\n",
       "        0.0000, 0.0000, 0.0000, 0.0000, 0.0000, 0.0000, 0.3234, 0.0000, 0.0000,\n",
       "        0.0000, 0.0000, 0.0000, 0.0000, 0.0000, 0.0000, 0.0000, 0.3504, 0.0543,\n",
       "        0.0000, 0.0000, 0.0000, 0.0000, 0.0000, 0.0000, 0.0000, 0.1910, 0.0000,\n",
       "        0.0000, 0.0000, 0.0000, 0.1352, 0.0071, 0.0000, 0.0000, 0.0000, 0.0000,\n",
       "        0.0000, 0.0000, 0.0000, 0.0000, 0.0000, 0.0000, 0.0000, 0.0000, 0.0000,\n",
       "        0.0000, 0.0000, 0.0000, 0.0000, 0.0000, 0.0000, 0.0000, 0.0000, 0.0000,\n",
       "        0.0000, 0.0000, 0.0889, 0.0000, 0.0000, 0.0000, 0.0000, 0.0000, 0.0000,\n",
       "        0.0000, 0.0000, 0.0000, 0.0000, 0.0000, 0.1253, 0.0000, 0.0000, 0.0000,\n",
       "        0.0000, 0.1016, 0.0000, 0.0000], device='cuda:0',\n",
       "       grad_fn=<SelectBackward0>)"
      ]
     },
     "execution_count": 20,
     "metadata": {},
     "output_type": "execute_result"
    }
   ],
   "source": [
    "cell_line_embedding[0][0] # pathway embedding"
   ]
  },
  {
   "cell_type": "code",
   "execution_count": 21,
   "id": "58044bc5",
   "metadata": {},
   "outputs": [
    {
     "data": {
      "text/plain": [
       "tensor([[0.0000, 0.0000, 0.0000, 0.0000, 0.0000, 0.0000, 0.0000, 0.0000, 0.0000,\n",
       "         0.0000, 0.0000, 0.0000, 0.4574, 0.0000, 0.0000, 0.0000, 0.0000, 0.0000,\n",
       "         0.0000, 0.0000, 0.0000, 0.0000, 0.0000, 0.0000, 2.1913, 0.0000, 0.6364,\n",
       "         0.0000, 0.0000, 0.4625, 0.0000, 0.0000, 0.0000, 0.0000, 0.0000, 0.9763,\n",
       "         1.9686, 0.0000, 0.0000, 0.0000, 0.0000, 0.0000, 2.8609, 0.0000, 0.0000,\n",
       "         0.0000, 0.0000, 0.0000, 0.0000, 0.0000, 0.0000, 0.0000, 0.0000, 0.0000,\n",
       "         0.0000, 0.0000, 2.1265, 0.0000, 0.0000, 0.0000, 0.0000, 2.5022, 0.0000,\n",
       "         0.0000, 0.0000, 0.0000, 0.0000, 0.4160, 0.0000, 0.0000, 0.0000, 0.0000,\n",
       "         0.0000, 0.0000, 0.0000, 0.3042, 0.0000, 0.0000, 0.0000, 0.0000, 0.0000,\n",
       "         0.0000, 0.0000, 0.0000, 0.0000, 0.0000, 0.0000, 0.0000, 0.0000, 1.7395,\n",
       "         0.0000, 0.0000, 0.4691, 0.0000, 0.0000, 0.0000, 0.0000, 0.0000, 0.0000,\n",
       "         0.0000, 0.0000, 0.0000, 0.0000, 0.0000, 0.3186, 0.0000, 0.0000, 0.0000,\n",
       "         0.0000, 0.4200, 0.0000, 0.0000, 0.0000, 0.0000, 0.0000, 0.0000, 0.0000,\n",
       "         0.0000, 0.0000, 0.0000, 0.0000, 2.9378, 0.0000, 0.0000, 0.0000, 0.0000,\n",
       "         0.0000, 0.0000, 0.0000, 0.0000, 0.0000, 0.0000, 0.0000, 0.0000, 0.0000,\n",
       "         0.0000, 0.0000, 0.8157, 0.0000, 0.0000, 0.0000, 0.0000, 0.0000, 0.0000,\n",
       "         0.0000, 0.0000, 0.0000, 1.9312, 0.5722, 0.0000, 0.4767, 0.9772, 0.0000,\n",
       "         0.0000, 0.0000, 0.5741, 0.0000, 0.0000, 0.0000, 0.0000, 0.0000, 0.0636,\n",
       "         0.0000, 0.0000, 0.0000, 3.8771, 0.0000, 2.0217, 0.0000, 0.0000, 0.0000,\n",
       "         0.0000, 0.0000, 0.0000, 2.1104, 0.0000, 0.0000, 0.0000, 0.0000, 0.1378,\n",
       "         0.0000, 1.1511, 0.0000, 0.0000, 0.0000, 0.0000, 0.0000, 0.0000, 0.7187,\n",
       "         0.0000, 0.0000, 0.0000, 0.0000, 0.0000, 0.0000, 0.0000, 0.0000, 0.0829,\n",
       "         0.0000, 0.0000, 0.0000, 0.0000, 0.0000, 0.0000, 0.0000, 0.0000, 0.0000,\n",
       "         0.0000, 0.0000, 0.0000, 0.0000, 0.0000, 0.0000, 0.0000, 0.0000, 0.0000,\n",
       "         0.0000, 0.0000, 0.0000, 0.0000, 0.0000, 0.0000, 0.0000, 0.0000, 0.0000,\n",
       "         2.6304, 0.0000, 0.0000, 1.5350, 1.5897, 0.0000, 0.0000, 0.0000, 0.0000,\n",
       "         0.0000, 0.0000, 0.0000, 0.0000, 0.0000, 1.1283, 0.0000, 0.0000, 0.0000,\n",
       "         0.0000, 0.0000, 0.0000, 0.1177, 0.0000, 0.0000, 0.0000, 0.0000, 0.0000,\n",
       "         2.4914, 0.0000, 0.0000, 0.0000]], device='cuda:0',\n",
       "       grad_fn=<ReluBackward0>)"
      ]
     },
     "execution_count": 21,
     "metadata": {},
     "output_type": "execute_result"
    }
   ],
   "source": [
    "embedding(model, \"JW-7-24-1\", \"ACH-000001\", drug_dict, cell_dict, edge_index, args)[0] # drug embedding"
   ]
  },
  {
   "cell_type": "code",
   "execution_count": 22,
   "id": "2b57762a",
   "metadata": {},
   "outputs": [
    {
     "data": {
      "text/plain": [
       "tensor([[0.0000, 0.0000, 0.0000, 0.0000, 0.0000, 0.0000, 0.0000, 0.0000, 0.0000,\n",
       "         0.0000, 0.0000, 0.0000, 0.4574, 0.0000, 0.0000, 0.0000, 0.0000, 0.0000,\n",
       "         0.0000, 0.0000, 0.0000, 0.0000, 0.0000, 0.0000, 2.1913, 0.0000, 0.6364,\n",
       "         0.0000, 0.0000, 0.4625, 0.0000, 0.0000, 0.0000, 0.0000, 0.0000, 0.9763,\n",
       "         1.9686, 0.0000, 0.0000, 0.0000, 0.0000, 0.0000, 2.8609, 0.0000, 0.0000,\n",
       "         0.0000, 0.0000, 0.0000, 0.0000, 0.0000, 0.0000, 0.0000, 0.0000, 0.0000,\n",
       "         0.0000, 0.0000, 2.1265, 0.0000, 0.0000, 0.0000, 0.0000, 2.5022, 0.0000,\n",
       "         0.0000, 0.0000, 0.0000, 0.0000, 0.4160, 0.0000, 0.0000, 0.0000, 0.0000,\n",
       "         0.0000, 0.0000, 0.0000, 0.3042, 0.0000, 0.0000, 0.0000, 0.0000, 0.0000,\n",
       "         0.0000, 0.0000, 0.0000, 0.0000, 0.0000, 0.0000, 0.0000, 0.0000, 1.7395,\n",
       "         0.0000, 0.0000, 0.4691, 0.0000, 0.0000, 0.0000, 0.0000, 0.0000, 0.0000,\n",
       "         0.0000, 0.0000, 0.0000, 0.0000, 0.0000, 0.3186, 0.0000, 0.0000, 0.0000,\n",
       "         0.0000, 0.4200, 0.0000, 0.0000, 0.0000, 0.0000, 0.0000, 0.0000, 0.0000,\n",
       "         0.0000, 0.0000, 0.0000, 0.0000, 2.9378, 0.0000, 0.0000, 0.0000, 0.0000,\n",
       "         0.0000, 0.0000, 0.0000, 0.0000, 0.0000, 0.0000, 0.0000, 0.0000, 0.0000,\n",
       "         0.0000, 0.0000, 0.8157, 0.0000, 0.0000, 0.0000, 0.0000, 0.0000, 0.0000,\n",
       "         0.0000, 0.0000, 0.0000, 1.9312, 0.5722, 0.0000, 0.4767, 0.9772, 0.0000,\n",
       "         0.0000, 0.0000, 0.5741, 0.0000, 0.0000, 0.0000, 0.0000, 0.0000, 0.0636,\n",
       "         0.0000, 0.0000, 0.0000, 3.8771, 0.0000, 2.0217, 0.0000, 0.0000, 0.0000,\n",
       "         0.0000, 0.0000, 0.0000, 2.1104, 0.0000, 0.0000, 0.0000, 0.0000, 0.1378,\n",
       "         0.0000, 1.1511, 0.0000, 0.0000, 0.0000, 0.0000, 0.0000, 0.0000, 0.7187,\n",
       "         0.0000, 0.0000, 0.0000, 0.0000, 0.0000, 0.0000, 0.0000, 0.0000, 0.0829,\n",
       "         0.0000, 0.0000, 0.0000, 0.0000, 0.0000, 0.0000, 0.0000, 0.0000, 0.0000,\n",
       "         0.0000, 0.0000, 0.0000, 0.0000, 0.0000, 0.0000, 0.0000, 0.0000, 0.0000,\n",
       "         0.0000, 0.0000, 0.0000, 0.0000, 0.0000, 0.0000, 0.0000, 0.0000, 0.0000,\n",
       "         2.6304, 0.0000, 0.0000, 1.5350, 1.5897, 0.0000, 0.0000, 0.0000, 0.0000,\n",
       "         0.0000, 0.0000, 0.0000, 0.0000, 0.0000, 1.1283, 0.0000, 0.0000, 0.0000,\n",
       "         0.0000, 0.0000, 0.0000, 0.1177, 0.0000, 0.0000, 0.0000, 0.0000, 0.0000,\n",
       "         2.4914, 0.0000, 0.0000, 0.0000]], device='cuda:0',\n",
       "       grad_fn=<ReluBackward0>)"
      ]
     },
     "execution_count": 22,
     "metadata": {},
     "output_type": "execute_result"
    }
   ],
   "source": [
    "embedding(model, \"JW-7-24-1\", \"ACH-000002\", drug_dict, cell_dict, edge_index, args)[0] # drug embedding"
   ]
  },
  {
   "cell_type": "code",
   "execution_count": 23,
   "id": "abca0264",
   "metadata": {},
   "outputs": [
    {
     "data": {
      "text/plain": [
       "{'training': False,\n",
       " '_parameters': OrderedDict(),\n",
       " '_buffers': OrderedDict(),\n",
       " '_non_persistent_buffers_set': set(),\n",
       " '_backward_hooks': OrderedDict(),\n",
       " '_is_full_backward_hook': None,\n",
       " '_forward_hooks': OrderedDict(),\n",
       " '_forward_pre_hooks': OrderedDict(),\n",
       " '_state_dict_hooks': OrderedDict(),\n",
       " '_load_state_dict_pre_hooks': OrderedDict(),\n",
       " '_load_state_dict_post_hooks': OrderedDict(),\n",
       " '_modules': OrderedDict([('convs_cell',\n",
       "               ModuleList(\n",
       "                 (0): GATConv(1, 8, heads=1)\n",
       "                 (1): GATConv(8, 8, heads=1)\n",
       "                 (2): GATConv(8, 8, heads=1)\n",
       "               ))]),\n",
       " 'num_feature': 1,\n",
       " 'layer_cell': 3,\n",
       " 'dim_cell': 8,\n",
       " 'final_node': 4787}"
      ]
     },
     "execution_count": 23,
     "metadata": {},
     "output_type": "execute_result"
    }
   ],
   "source": [
    "model.CellEncoder.__dict__"
   ]
  },
  {
   "cell_type": "code",
   "execution_count": 24,
   "id": "9e68c8ce",
   "metadata": {},
   "outputs": [
    {
     "data": {
      "text/plain": [
       "tensor([[ 0.6484],\n",
       "        [-0.2951],\n",
       "        [-2.0614],\n",
       "        ...,\n",
       "        [-0.3492],\n",
       "        [ 0.9511],\n",
       "        [ 0.5783]])"
      ]
     },
     "execution_count": 24,
     "metadata": {},
     "output_type": "execute_result"
    }
   ],
   "source": [
    "example.x"
   ]
  },
  {
   "cell_type": "code",
   "execution_count": 25,
   "id": "aadb8900",
   "metadata": {},
   "outputs": [],
   "source": [
    "cell = Batch.from_data_list([cell_dict[\"ACH-000001\"]]).to(args.device)"
   ]
  },
  {
   "cell_type": "code",
   "execution_count": 26,
   "id": "32eaab21",
   "metadata": {},
   "outputs": [
    {
     "data": {
      "text/plain": [
       "DataBatch(x=[4787, 1], x_mask=[4787], edge_index=[2, 12244], batch=[4787], ptr=[2])"
      ]
     },
     "execution_count": 26,
     "metadata": {},
     "output_type": "execute_result"
    }
   ],
   "source": [
    "cell"
   ]
  },
  {
   "cell_type": "code",
   "execution_count": 27,
   "id": "156ae8cf",
   "metadata": {},
   "outputs": [
    {
     "data": {
      "text/plain": [
       "torch.Size([1, 38296])"
      ]
     },
     "execution_count": 27,
     "metadata": {},
     "output_type": "execute_result"
    }
   ],
   "source": [
    "model.CellEncoder(cell).shape"
   ]
  },
  {
   "cell_type": "code",
   "execution_count": 28,
   "id": "8052dd29",
   "metadata": {},
   "outputs": [
    {
     "data": {
      "text/plain": [
       "tensor([[0.0309, 0.0000, 0.2006,  ..., 0.0000, 0.1764, 0.1584]],\n",
       "       device='cuda:0', grad_fn=<ReshapeAliasBackward0>)"
      ]
     },
     "execution_count": 28,
     "metadata": {},
     "output_type": "execute_result"
    }
   ],
   "source": [
    "cell = Batch.from_data_list([cell_dict[\"ACH-000001\"]]).to(args.device)\n",
    "model.CellEncoder(cell)"
   ]
  },
  {
   "cell_type": "code",
   "execution_count": 29,
   "id": "5d6c9a49",
   "metadata": {},
   "outputs": [
    {
     "data": {
      "text/plain": [
       "tensor([0.0309, 0.0000, 0.2006, 0.0734, 0.1617, 0.0000, 0.0804, 0.0808],\n",
       "       device='cuda:0', grad_fn=<SliceBackward0>)"
      ]
     },
     "execution_count": 29,
     "metadata": {},
     "output_type": "execute_result"
    }
   ],
   "source": [
    "cell = Batch.from_data_list([cell_dict[\"ACH-000001\"]]).to(args.device)\n",
    "model.CellEncoder(cell)[0][:8]"
   ]
  },
  {
   "cell_type": "code",
   "execution_count": 30,
   "id": "15427a09",
   "metadata": {},
   "outputs": [
    {
     "data": {
      "text/plain": [
       "tensor([0.0000, 0.0000, 0.0000, 0.0000, 0.0000, 0.0123, 0.0000, 0.0000],\n",
       "       device='cuda:0', grad_fn=<SliceBackward0>)"
      ]
     },
     "execution_count": 30,
     "metadata": {},
     "output_type": "execute_result"
    }
   ],
   "source": [
    "cell = Batch.from_data_list([cell_dict[\"ACH-000002\"]]).to(args.device)\n",
    "model.CellEncoder(cell)[0][:8]"
   ]
  },
  {
   "cell_type": "code",
   "execution_count": 31,
   "id": "fea61bd2",
   "metadata": {},
   "outputs": [
    {
     "data": {
      "text/plain": [
       "tensor(4787)"
      ]
     },
     "execution_count": 31,
     "metadata": {},
     "output_type": "execute_result"
    }
   ],
   "source": [
    "gene_list.sum()"
   ]
  },
  {
   "cell_type": "code",
   "execution_count": 34,
   "id": "c12b5e55",
   "metadata": {},
   "outputs": [],
   "source": [
    "import pickle\n",
    "with open('Data/Cell/34pathway_score990_isolated.pkl', 'rb') as file:\n",
    "    kegg = pickle.load(file)"
   ]
  },
  {
   "cell_type": "code",
   "execution_count": 37,
   "id": "07f0350f",
   "metadata": {},
   "outputs": [
    {
     "data": {
      "text/plain": [
       "4787"
      ]
     },
     "execution_count": 37,
     "metadata": {},
     "output_type": "execute_result"
    }
   ],
   "source": [
    "sum(list(map(lambda x: len(x),kegg.values())))"
   ]
  },
  {
   "cell_type": "code",
   "execution_count": 62,
   "id": "abc5da2a",
   "metadata": {},
   "outputs": [
    {
     "data": {
      "text/plain": [
       "tensor([0.0000, 0.0000, 0.0000, 0.0000, 0.0000, 0.0000, 0.4904, 0.0110, 0.0000,\n",
       "        0.0000, 0.0000, 0.0000, 0.0000, 0.0000, 0.0000, 0.0000, 0.0000, 0.2863,\n",
       "        0.0000, 0.0000, 0.0000, 0.0000, 0.0000, 0.0000, 0.0000, 0.0000, 0.0000,\n",
       "        0.1068, 0.0000, 0.0000, 0.0000, 0.0000, 0.0000, 0.0000, 0.0000, 0.0000,\n",
       "        0.0000, 0.0000, 0.0000, 0.0000, 0.0000, 0.0000, 0.1471, 0.0966, 0.0000,\n",
       "        0.0000, 0.0000, 0.0000, 0.0000, 0.0000, 0.0000, 0.0000, 0.0000, 0.0000,\n",
       "        0.0000, 0.0000, 0.0000, 0.0000, 0.0000, 0.0000, 0.0000, 0.0000, 0.0000,\n",
       "        0.0000, 0.0000, 0.0000, 0.0000, 0.0000, 0.0000, 0.0000, 0.0000, 0.0000,\n",
       "        0.0000, 0.0000, 0.0000, 0.0000, 0.0000, 0.0000, 0.0000, 0.0000, 0.0000,\n",
       "        0.0000, 0.0000, 0.0000, 0.0000, 0.0000, 0.0000, 1.1114, 0.0000, 0.0000,\n",
       "        0.0000, 0.0000, 0.0000, 0.0000, 0.0000, 0.0000, 0.0000, 0.6240, 0.0000,\n",
       "        0.0000, 0.0000, 0.0000, 0.0000, 0.0000, 0.0000, 0.0000, 0.0000, 0.0000,\n",
       "        0.0000, 0.0000, 0.0000, 0.0000, 0.0000, 0.0000, 0.0000, 0.0000, 0.0000,\n",
       "        0.0000, 0.2207, 0.0000, 0.0000, 0.0000, 0.0000, 0.0000, 0.0000, 0.0000,\n",
       "        0.0000, 0.0000, 0.0000, 0.2375, 0.0000, 0.0000, 0.0000, 0.0000, 0.0000,\n",
       "        0.0000, 0.0000, 0.0652, 0.0000, 0.3338, 0.0000, 0.0000, 0.0000, 0.0000,\n",
       "        0.0000, 0.0000, 0.0000, 0.0000, 0.0000, 0.0000, 0.0000, 0.0000, 0.0000,\n",
       "        0.0000, 0.0000, 0.0000, 0.0000, 0.0000, 0.0000, 0.0000, 0.0000, 0.0000,\n",
       "        0.0857, 0.0000, 0.0000, 0.0000, 0.0000, 0.0000, 0.0000, 0.0000, 0.0000,\n",
       "        0.0000, 0.0000, 0.0000, 0.0000, 0.0000, 0.0000, 0.0000, 0.0202, 0.3486,\n",
       "        0.0000, 0.0000, 0.0000, 0.0000, 0.0000, 0.0000, 0.3234, 0.0000, 0.0000,\n",
       "        0.0000, 0.0000, 0.0000, 0.0000, 0.0000, 0.0000, 0.0000, 0.3504, 0.0543,\n",
       "        0.0000, 0.0000, 0.0000, 0.0000, 0.0000, 0.0000, 0.0000, 0.1910, 0.0000,\n",
       "        0.0000, 0.0000, 0.0000, 0.1352, 0.0071, 0.0000, 0.0000, 0.0000, 0.0000,\n",
       "        0.0000, 0.0000, 0.0000, 0.0000, 0.0000, 0.0000, 0.0000, 0.0000, 0.0000,\n",
       "        0.0000, 0.0000, 0.0000, 0.0000, 0.0000, 0.0000, 0.0000, 0.0000, 0.0000,\n",
       "        0.0000, 0.0000, 0.0889, 0.0000, 0.0000, 0.0000, 0.0000, 0.0000, 0.0000,\n",
       "        0.0000, 0.0000, 0.0000, 0.0000, 0.0000, 0.1253, 0.0000, 0.0000, 0.0000,\n",
       "        0.0000, 0.1016, 0.0000, 0.0000], device='cuda:0',\n",
       "       grad_fn=<SelectBackward0>)"
      ]
     },
     "execution_count": 62,
     "metadata": {},
     "output_type": "execute_result"
    }
   ],
   "source": [
    "embedding(model, \"JW-7-24-1\", \"ACH-000001\", drug_dict, cell_dict, edge_index, args)[1][0][0] # pathway embedding"
   ]
  },
  {
   "cell_type": "code",
   "execution_count": 63,
   "id": "03fada51",
   "metadata": {},
   "outputs": [
    {
     "data": {
      "text/plain": [
       "tensor([0.0000, 0.0000, 0.0000, 0.0000, 0.0000, 0.0000, 0.4904, 0.0110, 0.0000,\n",
       "        0.0000, 0.0000, 0.0000, 0.0000, 0.0000, 0.0000, 0.0000, 0.0000, 0.2863,\n",
       "        0.0000, 0.0000, 0.0000, 0.0000, 0.0000, 0.0000, 0.0000, 0.0000, 0.0000,\n",
       "        0.1068, 0.0000, 0.0000, 0.0000, 0.0000, 0.0000, 0.0000, 0.0000, 0.0000,\n",
       "        0.0000, 0.0000, 0.0000, 0.0000, 0.0000, 0.0000, 0.1471, 0.0966, 0.0000,\n",
       "        0.0000, 0.0000, 0.0000, 0.0000, 0.0000, 0.0000, 0.0000, 0.0000, 0.0000,\n",
       "        0.0000, 0.0000, 0.0000, 0.0000, 0.0000, 0.0000, 0.0000, 0.0000, 0.0000,\n",
       "        0.0000, 0.0000, 0.0000, 0.0000, 0.0000, 0.0000, 0.0000, 0.0000, 0.0000,\n",
       "        0.0000, 0.0000, 0.0000, 0.0000, 0.0000, 0.0000, 0.0000, 0.0000, 0.0000,\n",
       "        0.0000, 0.0000, 0.0000, 0.0000, 0.0000, 0.0000, 1.1114, 0.0000, 0.0000,\n",
       "        0.0000, 0.0000, 0.0000, 0.0000, 0.0000, 0.0000, 0.0000, 0.6240, 0.0000,\n",
       "        0.0000, 0.0000, 0.0000, 0.0000, 0.0000, 0.0000, 0.0000, 0.0000, 0.0000,\n",
       "        0.0000, 0.0000, 0.0000, 0.0000, 0.0000, 0.0000, 0.0000, 0.0000, 0.0000,\n",
       "        0.0000, 0.2207, 0.0000, 0.0000, 0.0000, 0.0000, 0.0000, 0.0000, 0.0000,\n",
       "        0.0000, 0.0000, 0.0000, 0.2375, 0.0000, 0.0000, 0.0000, 0.0000, 0.0000,\n",
       "        0.0000, 0.0000, 0.0652, 0.0000, 0.3338, 0.0000, 0.0000, 0.0000, 0.0000,\n",
       "        0.0000, 0.0000, 0.0000, 0.0000, 0.0000, 0.0000, 0.0000, 0.0000, 0.0000,\n",
       "        0.0000, 0.0000, 0.0000, 0.0000, 0.0000, 0.0000, 0.0000, 0.0000, 0.0000,\n",
       "        0.0857, 0.0000, 0.0000, 0.0000, 0.0000, 0.0000, 0.0000, 0.0000, 0.0000,\n",
       "        0.0000, 0.0000, 0.0000, 0.0000, 0.0000, 0.0000, 0.0000, 0.0202, 0.3486,\n",
       "        0.0000, 0.0000, 0.0000, 0.0000, 0.0000, 0.0000, 0.3234, 0.0000, 0.0000,\n",
       "        0.0000, 0.0000, 0.0000, 0.0000, 0.0000, 0.0000, 0.0000, 0.3504, 0.0543,\n",
       "        0.0000, 0.0000, 0.0000, 0.0000, 0.0000, 0.0000, 0.0000, 0.1910, 0.0000,\n",
       "        0.0000, 0.0000, 0.0000, 0.1352, 0.0071, 0.0000, 0.0000, 0.0000, 0.0000,\n",
       "        0.0000, 0.0000, 0.0000, 0.0000, 0.0000, 0.0000, 0.0000, 0.0000, 0.0000,\n",
       "        0.0000, 0.0000, 0.0000, 0.0000, 0.0000, 0.0000, 0.0000, 0.0000, 0.0000,\n",
       "        0.0000, 0.0000, 0.0889, 0.0000, 0.0000, 0.0000, 0.0000, 0.0000, 0.0000,\n",
       "        0.0000, 0.0000, 0.0000, 0.0000, 0.0000, 0.1253, 0.0000, 0.0000, 0.0000,\n",
       "        0.0000, 0.1016, 0.0000, 0.0000], device='cuda:0',\n",
       "       grad_fn=<SelectBackward0>)"
      ]
     },
     "execution_count": 63,
     "metadata": {},
     "output_type": "execute_result"
    }
   ],
   "source": [
    "embedding(model, \"KIN001-260\", \"ACH-000001\", drug_dict, cell_dict, edge_index, args)[1][0][0]"
   ]
  },
  {
   "cell_type": "code",
   "execution_count": 44,
   "id": "f6cf0a6f",
   "metadata": {
    "collapsed": true
   },
   "outputs": [
    {
     "data": {
      "text/plain": [
       "tensor([0.0000e+00, 0.0000e+00, 1.3980e-02, 0.0000e+00, 0.0000e+00, 0.0000e+00,\n",
       "        1.4408e-01, 0.0000e+00, 0.0000e+00, 0.0000e+00, 2.1533e-02, 3.8876e-03,\n",
       "        2.7836e-03, 0.0000e+00, 0.0000e+00, 0.0000e+00, 0.0000e+00, 3.9001e-02,\n",
       "        9.4033e-03, 0.0000e+00, 0.0000e+00, 0.0000e+00, 0.0000e+00, 0.0000e+00,\n",
       "        0.0000e+00, 0.0000e+00, 0.0000e+00, 2.4949e-02, 1.7200e-02, 0.0000e+00,\n",
       "        0.0000e+00, 2.9670e-02, 0.0000e+00, 0.0000e+00, 0.0000e+00, 0.0000e+00,\n",
       "        5.4809e-03, 0.0000e+00, 0.0000e+00, 0.0000e+00, 0.0000e+00, 2.7424e-02,\n",
       "        2.7755e-02, 0.0000e+00, 0.0000e+00, 0.0000e+00, 0.0000e+00, 1.6844e-02,\n",
       "        0.0000e+00, 0.0000e+00, 0.0000e+00, 0.0000e+00, 2.3852e-04, 0.0000e+00,\n",
       "        0.0000e+00, 5.7737e-03, 0.0000e+00, 0.0000e+00, 0.0000e+00, 0.0000e+00,\n",
       "        0.0000e+00, 4.5195e-03, 0.0000e+00, 0.0000e+00, 0.0000e+00, 0.0000e+00,\n",
       "        8.2854e-03, 3.2079e-02, 0.0000e+00, 9.1569e-03, 0.0000e+00, 0.0000e+00,\n",
       "        0.0000e+00, 0.0000e+00, 1.0920e-02, 0.0000e+00, 0.0000e+00, 0.0000e+00,\n",
       "        0.0000e+00, 0.0000e+00, 0.0000e+00, 0.0000e+00, 0.0000e+00, 0.0000e+00,\n",
       "        0.0000e+00, 0.0000e+00, 0.0000e+00, 2.5479e-01, 0.0000e+00, 2.5224e-03,\n",
       "        0.0000e+00, 3.8906e-02, 0.0000e+00, 0.0000e+00, 0.0000e+00, 0.0000e+00,\n",
       "        0.0000e+00, 1.1482e-01, 0.0000e+00, 0.0000e+00, 1.3501e-02, 2.3183e-02,\n",
       "        1.4004e-02, 0.0000e+00, 0.0000e+00, 0.0000e+00, 0.0000e+00, 0.0000e+00,\n",
       "        0.0000e+00, 5.7764e-02, 0.0000e+00, 0.0000e+00, 0.0000e+00, 2.2112e-03,\n",
       "        0.0000e+00, 1.6876e-02, 2.5867e-02, 0.0000e+00, 5.2173e-02, 0.0000e+00,\n",
       "        2.4136e-02, 3.6663e-02, 0.0000e+00, 0.0000e+00, 0.0000e+00, 0.0000e+00,\n",
       "        3.8083e-02, 0.0000e+00, 8.4212e-03, 2.5558e-02, 0.0000e+00, 0.0000e+00,\n",
       "        0.0000e+00, 3.3923e-02, 0.0000e+00, 0.0000e+00, 0.0000e+00, 5.8236e-02,\n",
       "        1.1185e-02, 8.3784e-02, 3.5227e-02, 1.2918e-02, 0.0000e+00, 0.0000e+00,\n",
       "        0.0000e+00, 3.5561e-02, 0.0000e+00, 0.0000e+00, 0.0000e+00, 0.0000e+00,\n",
       "        0.0000e+00, 6.6943e-04, 0.0000e+00, 0.0000e+00, 0.0000e+00, 0.0000e+00,\n",
       "        0.0000e+00, 0.0000e+00, 0.0000e+00, 0.0000e+00, 0.0000e+00, 0.0000e+00,\n",
       "        3.6042e-02, 3.2154e-03, 0.0000e+00, 0.0000e+00, 0.0000e+00, 0.0000e+00,\n",
       "        0.0000e+00, 5.0125e-04, 8.1265e-03, 1.6719e-02, 0.0000e+00, 0.0000e+00,\n",
       "        0.0000e+00, 0.0000e+00, 0.0000e+00, 2.0895e-02, 0.0000e+00, 9.1946e-02,\n",
       "        0.0000e+00, 0.0000e+00, 0.0000e+00, 0.0000e+00, 0.0000e+00, 6.5227e-03,\n",
       "        6.6089e-02, 0.0000e+00, 6.6416e-03, 0.0000e+00, 0.0000e+00, 2.4945e-02,\n",
       "        5.1729e-02, 3.8820e-03, 0.0000e+00, 0.0000e+00, 1.0240e-01, 2.0791e-02,\n",
       "        0.0000e+00, 0.0000e+00, 0.0000e+00, 0.0000e+00, 0.0000e+00, 1.5210e-03,\n",
       "        0.0000e+00, 5.6062e-02, 0.0000e+00, 0.0000e+00, 0.0000e+00, 0.0000e+00,\n",
       "        4.5009e-02, 0.0000e+00, 0.0000e+00, 0.0000e+00, 0.0000e+00, 0.0000e+00,\n",
       "        0.0000e+00, 2.6122e-02, 1.5594e-02, 0.0000e+00, 0.0000e+00, 0.0000e+00,\n",
       "        0.0000e+00, 0.0000e+00, 0.0000e+00, 0.0000e+00, 0.0000e+00, 0.0000e+00,\n",
       "        1.1502e-03, 0.0000e+00, 1.0304e-02, 0.0000e+00, 0.0000e+00, 6.5178e-03,\n",
       "        0.0000e+00, 1.2931e-02, 2.8774e-02, 0.0000e+00, 2.4850e-02, 0.0000e+00,\n",
       "        0.0000e+00, 0.0000e+00, 0.0000e+00, 0.0000e+00, 0.0000e+00, 0.0000e+00,\n",
       "        0.0000e+00, 0.0000e+00, 5.9130e-02, 0.0000e+00, 0.0000e+00, 0.0000e+00,\n",
       "        0.0000e+00, 0.0000e+00, 0.0000e+00, 0.0000e+00], device='cuda:0',\n",
       "       grad_fn=<SelectBackward0>)"
      ]
     },
     "execution_count": 44,
     "metadata": {},
     "output_type": "execute_result"
    }
   ],
   "source": [
    "embedding(model, \"JW-7-24-1\", \"ACH-000002\", drug_dict, cell_dict, edge_index, args)[1][0][0]"
   ]
  },
  {
   "cell_type": "code",
   "execution_count": 49,
   "id": "111c0761",
   "metadata": {},
   "outputs": [
    {
     "data": {
      "text/plain": [
       "692"
      ]
     },
     "execution_count": 49,
     "metadata": {},
     "output_type": "execute_result"
    }
   ],
   "source": [
    "len(data.DepMap_ID.unique())"
   ]
  },
  {
   "cell_type": "code",
   "execution_count": 50,
   "id": "251de8fb",
   "metadata": {},
   "outputs": [
    {
     "data": {
      "text/plain": [
       "torch.Size([1, 35, 256])"
      ]
     },
     "execution_count": 50,
     "metadata": {},
     "output_type": "execute_result"
    }
   ],
   "source": [
    "embedding(model, \"JW-7-24-1\", \"ACH-000002\", drug_dict, cell_dict, edge_index, args)[1].shape"
   ]
  },
  {
   "cell_type": "code",
   "execution_count": 51,
   "id": "0492a8df",
   "metadata": {},
   "outputs": [],
   "source": [
    "cell_line_embedding_dict = {}\n",
    "for cell_line in list(data.DepMap_ID.unique()):\n",
    "    cell_line_embedding_dict[cell_line] = embedding(model, \"KIN001-260\", cell_line, \n",
    "                                                    drug_dict, cell_dict, edge_index, args)[1]"
   ]
  },
  {
   "cell_type": "code",
   "execution_count": 52,
   "id": "b4d7869a",
   "metadata": {},
   "outputs": [],
   "source": [
    "with open('cell_line_embedding_dict.pickle', 'wb') as file:\n",
    "    pickle.dump(cell_line_embedding_dict, file)"
   ]
  },
  {
   "cell_type": "code",
   "execution_count": 53,
   "id": "22ff4fd0",
   "metadata": {},
   "outputs": [],
   "source": [
    "with open('cell_line_embedding_dict.pickle', 'rb') as file:\n",
    "    cell_line_embedding_dict = pickle.load(file)"
   ]
  },
  {
   "cell_type": "code",
   "execution_count": 55,
   "id": "0c15f13c",
   "metadata": {},
   "outputs": [
    {
     "data": {
      "text/plain": [
       "torch.Size([1, 35, 256])"
      ]
     },
     "execution_count": 55,
     "metadata": {},
     "output_type": "execute_result"
    }
   ],
   "source": [
    "cell_line_embedding_dict['ACH-000001'].shape"
   ]
  },
  {
   "cell_type": "code",
   "execution_count": 58,
   "id": "7c082eb9",
   "metadata": {},
   "outputs": [
    {
     "data": {
      "text/plain": [
       "385"
      ]
     },
     "execution_count": 58,
     "metadata": {},
     "output_type": "execute_result"
    }
   ],
   "source": [
    "len(data[\"Drug name\"].unique())"
   ]
  },
  {
   "cell_type": "code",
   "execution_count": 68,
   "id": "7bf6760d",
   "metadata": {},
   "outputs": [],
   "source": [
    "drug_embedding_dict = {}\n",
    "for drug in list(data[\"Drug name\"].unique()):\n",
    "    drug_embedding_dict[drug] = embedding(model, drug, 'ACH-000001', \n",
    "                                                    drug_dict, cell_dict, edge_index, args)[0]"
   ]
  },
  {
   "cell_type": "code",
   "execution_count": 69,
   "id": "9f418ce2",
   "metadata": {},
   "outputs": [],
   "source": [
    "with open('drug_embedding_dict.pickle', 'wb') as file:\n",
    "    pickle.dump(drug_embedding_dict, file)"
   ]
  },
  {
   "cell_type": "code",
   "execution_count": 70,
   "id": "ca2a47a1",
   "metadata": {},
   "outputs": [],
   "source": [
    "with open('drug_embedding_dict.pickle', 'rb') as file:\n",
    "    drug_embedding_dict = pickle.load(file)"
   ]
  },
  {
   "cell_type": "code",
   "execution_count": 72,
   "id": "0b75415b",
   "metadata": {},
   "outputs": [
    {
     "data": {
      "text/plain": [
       "torch.Size([1, 256])"
      ]
     },
     "execution_count": 72,
     "metadata": {},
     "output_type": "execute_result"
    }
   ],
   "source": [
    "drug_embedding_dict['JW-7-24-1'].shape"
   ]
  }
 ],
 "metadata": {
  "kernelspec": {
   "display_name": "drpreter_venv",
   "language": "python",
   "name": "drpreter_venv"
  },
  "language_info": {
   "codemirror_mode": {
    "name": "ipython",
    "version": 3
   },
   "file_extension": ".py",
   "mimetype": "text/x-python",
   "name": "python",
   "nbconvert_exporter": "python",
   "pygments_lexer": "ipython3",
   "version": "3.9.12"
  }
 },
 "nbformat": 4,
 "nbformat_minor": 5
}
