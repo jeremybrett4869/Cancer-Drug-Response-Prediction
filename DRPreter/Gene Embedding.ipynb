{
 "cells": [
  {
   "cell_type": "code",
   "execution_count": 1,
   "id": "e865b18f",
   "metadata": {},
   "outputs": [
    {
     "name": "stderr",
     "output_type": "stream",
     "text": [
      "/home/yingfei/miniconda3/lib/python3.9/site-packages/tqdm/auto.py:22: TqdmWarning: IProgress not found. Please update jupyter and ipywidgets. See https://ipywidgets.readthedocs.io/en/stable/user_install.html\n",
      "  from .autonotebook import tqdm as notebook_tqdm\n"
     ]
    }
   ],
   "source": [
    "import os\n",
    "import sys\n",
    "import argparse\n",
    "# os.environ[\"CUDA_DEVICE_ORDER\"] = \"PCI_BUS_ID\"\n",
    "import torch\n",
    "import torch.nn as nn\n",
    "import numpy as np\n",
    "import pandas as pd\n",
    "from utils import *\n",
    "from Model.DRPreter import DRPreter\n",
    "from Model.Similarity import Similarity\n",
    "from torch_scatter import scatter_add"
   ]
  },
  {
   "cell_type": "code",
   "execution_count": 2,
   "id": "344bf5dd",
   "metadata": {},
   "outputs": [
    {
     "data": {
      "text/plain": [
       "Namespace(f='/home/yingfei/.local/share/jupyter/runtime/kernel-0d24bc1c-7b1f-4309-ab1f-a3e9cf468b9b.json', seed=42, device=0, batch_size=128, lr=0.0001, layer=3, hidden_dim=8, layer_drug=3, dim_drug=128, dim_drug_cell=256, dropout_ratio=0.1, epochs=300, patience=100, mode='train', edge='STRING', string_edge=990, dataset='2369disjoint', trans=True, sim=False)"
      ]
     },
     "execution_count": 2,
     "metadata": {},
     "output_type": "execute_result"
    }
   ],
   "source": [
    "parser = argparse.ArgumentParser()\n",
    "parser.add_argument('-f')\n",
    "parser.add_argument('--seed', type=int, default=42, help='seed')\n",
    "parser.add_argument('--device', type=int, default=0, help='device')\n",
    "parser.add_argument('--batch_size', type=int, default=128, help='batch size (default: 128)')\n",
    "parser.add_argument('--lr', type=float, default=0.0001, help='learning rate (default: 0.0001)')\n",
    "parser.add_argument('--layer', type=int, default=3, help='Number of cell layers')\n",
    "parser.add_argument('--hidden_dim', type=int, default=8, help='hidden dim for cell')\n",
    "parser.add_argument('--layer_drug', type=int, default=3, help='Number of drug layers')\n",
    "parser.add_argument('--dim_drug', type=int, default=128, help='hidden dim for drug (default: 128)')\n",
    "parser.add_argument('--dim_drug_cell', type=int, default=256, help='hidden dim for drug and cell (default: 256)')\n",
    "parser.add_argument('--dropout_ratio', type=float, default=0.1, help='Dropout ratio (default: 0.1)')\n",
    "parser.add_argument('--epochs', type=int, default=300, help='Maximum number of epochs (default: 300)')\n",
    "parser.add_argument('--patience', type=int, default=100, help='patience for early stopping (default: 10)')\n",
    "parser.add_argument('--mode', type=str, default='train', help='train, test')\n",
    "parser.add_argument('--edge', type=str, default='STRING', help='STRING, BIOGRID') # BIOGRID: removed\n",
    "# parser.add_argument('--string_edge', type=float, default=0.99, help='Threshold for edges of cell line graph')\n",
    "parser.add_argument('--string_edge', type=int, default=990, help='Threshold for edges of cell line graph')\n",
    "parser.add_argument('--dataset', type=str, default='2369disjoint', help='2369joint, 2369disjoint, COSMIC')\n",
    "parser.add_argument('--trans', type=bool, default=True, help='Use Transformer or not')\n",
    "parser.add_argument('--sim', type=bool, default=False, help='Construct homogeneous similarity networks or not')\n",
    "args = parser.parse_args()\n",
    "args"
   ]
  },
  {
   "cell_type": "code",
   "execution_count": 3,
   "id": "71f36352",
   "metadata": {},
   "outputs": [],
   "source": [
    "args.dataset = \"disjoint\""
   ]
  },
  {
   "cell_type": "code",
   "execution_count": 6,
   "id": "1e49d1cd",
   "metadata": {},
   "outputs": [
    {
     "name": "stdout",
     "output_type": "stream",
     "text": [
      "seed: 42\n"
     ]
    }
   ],
   "source": [
    "args.device = 'cuda:{}'.format(args.device)\n",
    "rpath = '../'\n",
    "result_path = rpath + 'Result_new/Result_5/' ### Adjust folder name\n",
    "\n",
    "print(f'seed: {args.seed}')\n",
    "set_random_seed(args.seed)\n",
    "\n",
    "edge_type = 'PPI_'+str(args.string_edge) if args.edge=='STRING' else args.edge\n",
    "edge_index = np.load(rpath+f'/DRPreter/Data/Cell/edge_index_{edge_type}_{args.dataset}_cnv.npy') ### Adjust file name\n",
    "\n",
    "# data = pd.read_csv(rpath+'Data/sorted_IC50_82833_580_170.csv')\n",
    "data = pd.read_csv(rpath+'/DRPreter/Data/sorted_AUC.csv')\n",
    "\n",
    "### Adjust file name\n",
    "drug_dict = np.load(rpath+'/DRPreter/Data/Drug/drug_feature_graph.npy', allow_pickle=True).item() # pyg format of drug graph\n",
    "cell_dict = np.load(rpath+f'/DRPreter/Data/Cell/cell_feature_std_{args.dataset}_cnv.npy', allow_pickle=True).item() \n",
    "# pyg data format of cell graph\n",
    "\n",
    "example = cell_dict['ACH-000001']\n",
    "args.num_feature = example.x.shape[1] # 1\n",
    "args.num_genes = example.x.shape[0] # 4646"
   ]
  },
  {
   "cell_type": "code",
   "execution_count": 7,
   "id": "b4972baa",
   "metadata": {},
   "outputs": [
    {
     "name": "stdout",
     "output_type": "stream",
     "text": [
      "num_genes:4645, num_edges:12128\n",
      "gene distribution: tensor([141,  94, 137, 294,  74, 155, 218,  79, 146, 190, 136, 293, 167,  73,\n",
      "        232,  59, 239, 109, 104,  85, 126, 101, 221,  59,  56,  71,  44, 351,\n",
      "        162,  96, 102,  41,  88, 102], dtype=torch.int32)\n",
      "mean degree:2.610979547900969\n"
     ]
    }
   ],
   "source": [
    "### Added\n",
    "# gene_list = scatter_add(torch.ones_like(example.x.squeeze()), example.x_mask.to(torch.int64).reshape(-1,2)).to(torch.int)\n",
    "gene_list = scatter_add(torch.ones_like(example.x.squeeze()), example.x_mask.to(torch.int64)).to(torch.int)\n",
    "args.max_gene = gene_list.max().item()\n",
    "# gene_list = torch.div(torch.sum(gene_list,0),2) ### Added\n",
    "# print(gene_list.shape)\n",
    "args.cum_num_nodes = torch.cat([gene_list.new_zeros(1), gene_list.cumsum(dim=0)], dim=0)\n",
    "args.n_pathways = gene_list.size(0)\n",
    "print('num_genes:{}, num_edges:{}'.format(args.num_genes, len(edge_index[0])))\n",
    "print('gene distribution: {}'.format(gene_list))\n",
    "print('mean degree:{}'.format(len(edge_index[0]) / args.num_genes))"
   ]
  },
  {
   "cell_type": "code",
   "execution_count": 11,
   "id": "874d8e33",
   "metadata": {},
   "outputs": [],
   "source": [
    "args.device = 'cuda:{}'.format(args.device)"
   ]
  },
  {
   "cell_type": "code",
   "execution_count": 12,
   "id": "9e6130c5",
   "metadata": {},
   "outputs": [
    {
     "name": "stdout",
     "output_type": "stream",
     "text": [
      "total: 227436, train: 184020, val: 20472, test: 22944\n"
     ]
    }
   ],
   "source": [
    "train_loader, val_loader, test_loader = load_data(data, drug_dict, cell_dict, torch.tensor(edge_index, dtype=torch.long), args)\n",
    "print('total: {}, train: {}, val: {}, test: {}'.format(len(data), len(train_loader.dataset), len(val_loader.dataset), len(test_loader.dataset)))\n",
    "model = DRPreter(args).to(args.device)"
   ]
  },
  {
   "cell_type": "code",
   "execution_count": 22,
   "id": "6d43345c",
   "metadata": {},
   "outputs": [
    {
     "data": {
      "text/plain": [
       "'weights_new/weights_3/weight_seed42.pth'"
      ]
     },
     "execution_count": 22,
     "metadata": {},
     "output_type": "execute_result"
    }
   ],
   "source": [
    "state_dict_name = f'weights_new/weights_3/weight_sim_seed{args.seed}.pth' if args.sim==True else f'weights_new/weights_3/weight_seed{args.seed}.pth'\n",
    "state_dict_name"
   ]
  },
  {
   "cell_type": "code",
   "execution_count": 24,
   "id": "299b8f2e",
   "metadata": {},
   "outputs": [
    {
     "data": {
      "text/plain": [
       "<All keys matched successfully>"
      ]
     },
     "execution_count": 24,
     "metadata": {},
     "output_type": "execute_result"
    }
   ],
   "source": [
    "model.load_state_dict(torch.load(state_dict_name, map_location=args.device)['model_state_dict'])"
   ]
  },
  {
   "cell_type": "code",
   "execution_count": 28,
   "id": "b864e5e7",
   "metadata": {},
   "outputs": [
    {
     "data": {
      "text/plain": [
       "(tensor([[0.0000, 0.0000, 0.0000, 0.0000, 0.0000, 0.0000, 0.0000, 0.0000, 0.0000,\n",
       "          0.0000, 0.0000, 0.0000, 2.1086, 0.0000, 0.0000, 0.0000, 0.0000, 0.0000,\n",
       "          1.5615, 0.0000, 0.0000, 0.0000, 0.2116, 0.0000, 0.0000, 0.2023, 0.0000,\n",
       "          3.1867, 0.0000, 0.0000, 1.0397, 0.0000, 0.0000, 0.0000, 0.0000, 0.0000,\n",
       "          0.0000, 0.0000, 0.0000, 0.0000, 0.0000, 0.0000, 0.4473, 0.0000, 0.0000,\n",
       "          0.0000, 4.9132, 2.4176, 0.0000, 0.0000, 0.0000, 0.1065, 0.0000, 0.0821,\n",
       "          0.0000, 0.0000, 0.0000, 0.0000, 0.0000, 0.0000, 0.0000, 0.0000, 0.0000,\n",
       "          0.0000, 0.0000, 0.0000, 0.0000, 1.1596, 0.0000, 0.0000, 0.0000, 0.0000,\n",
       "          0.0000, 0.0000, 0.0000, 0.1694, 0.2488, 0.0000, 0.0000, 0.2249, 2.5764,\n",
       "          0.0000, 0.0000, 0.0000, 0.0000, 1.3447, 0.0000, 0.0000, 0.0000, 0.0000,\n",
       "          0.0607, 0.0000, 0.1639, 0.0000, 0.0000, 0.0000, 0.0000, 0.0000, 0.0000,\n",
       "          0.0000, 0.0000, 2.7443, 0.0000, 0.0000, 0.0000, 0.0000, 0.0000, 0.0000,\n",
       "          0.0000, 0.0000, 0.0000, 0.0000, 0.0000, 0.0000, 0.0000, 0.0000, 0.0000,\n",
       "          0.3575, 0.0000, 3.1640, 0.0000, 0.0000, 0.0000, 0.0000, 1.3149, 0.0000,\n",
       "          0.0000, 0.0000, 0.0000, 0.0000, 0.0000, 0.2459, 0.0000, 0.0000, 0.9539,\n",
       "          0.0000, 0.7262, 0.0000, 0.0000, 0.0000, 0.0000, 0.0000, 0.0000, 0.0000,\n",
       "          0.7905, 0.0000, 0.0000, 0.0000, 1.6989, 0.0000, 0.0000, 0.0000, 0.0000,\n",
       "          0.0000, 0.0000, 0.4401, 0.0000, 0.0000, 0.0000, 0.0000, 0.0000, 0.1523,\n",
       "          0.0000, 0.0000, 0.0000, 0.0000, 0.0000, 1.2160, 0.0000, 0.0000, 0.0000,\n",
       "          0.0000, 0.0000, 0.0000, 0.0000, 0.0000, 0.0000, 0.0000, 0.0000, 0.0000,\n",
       "          0.0000, 0.0000, 0.0000, 0.0000, 0.0000, 0.0000, 0.0000, 0.0000, 0.0000,\n",
       "          0.0000, 0.2290, 0.0000, 0.0000, 0.0000, 0.0000, 0.0000, 0.0000, 0.0000,\n",
       "          0.0000, 0.0000, 0.0000, 0.0000, 0.0000, 0.0000, 0.0000, 0.0000, 0.0000,\n",
       "          0.1919, 0.0000, 0.0000, 0.0000, 1.2144, 0.0000, 0.0000, 2.4370, 0.0000,\n",
       "          0.0000, 0.0000, 0.0000, 0.0000, 0.0000, 0.0000, 0.0000, 0.0000, 0.0000,\n",
       "          0.0000, 0.0000, 0.0000, 0.0000, 0.4580, 0.0000, 0.2422, 0.9836, 0.0000,\n",
       "          0.0000, 0.0000, 0.0000, 0.0000, 0.0000, 0.0000, 0.0000, 0.0000, 0.0000,\n",
       "          0.0000, 0.0000, 2.0422, 0.0000, 0.0000, 0.0000, 0.0000, 0.0000, 0.0000,\n",
       "          0.0000, 0.0000, 0.0000, 0.0000]], device='cuda:0',\n",
       "        grad_fn=<ReluBackward0>),\n",
       " tensor([[[0.0000, 0.0000, 0.0057,  ..., 0.0000, 0.0000, 0.0000],\n",
       "          [0.0000, 0.0000, 0.0000,  ..., 0.0000, 0.0000, 0.0000],\n",
       "          [0.0000, 0.0000, 0.0000,  ..., 0.0000, 0.0000, 0.0000],\n",
       "          ...,\n",
       "          [0.0000, 0.0000, 0.0000,  ..., 0.0000, 0.0000, 0.0000],\n",
       "          [0.0000, 0.0000, 0.0000,  ..., 0.0000, 0.0000, 0.0000],\n",
       "          [0.0000, 0.0000, 0.0000,  ..., 0.0000, 0.0000, 0.0000]]],\n",
       "        device='cuda:0', grad_fn=<ReluBackward0>))"
      ]
     },
     "execution_count": 28,
     "metadata": {},
     "output_type": "execute_result"
    }
   ],
   "source": [
    "embedding(model, \"JW-7-24-1\", \"ACH-000001\", drug_dict, cell_dict, edge_index, args) # drug embedding and cell line embedding"
   ]
  },
  {
   "cell_type": "code",
   "execution_count": 39,
   "id": "e176f28e",
   "metadata": {},
   "outputs": [
    {
     "data": {
      "text/plain": [
       "torch.Size([1, 34, 256])"
      ]
     },
     "execution_count": 39,
     "metadata": {},
     "output_type": "execute_result"
    }
   ],
   "source": [
    "cell_line_embedding = embedding(model, \"JW-7-24-1\", \"ACH-000001\", drug_dict, cell_dict, edge_index, args)[1]\n",
    "cell_line_embedding.shape"
   ]
  },
  {
   "cell_type": "code",
   "execution_count": 43,
   "id": "f997620c",
   "metadata": {},
   "outputs": [
    {
     "data": {
      "text/plain": [
       "tensor([0.0000e+00, 0.0000e+00, 5.6932e-03, 0.0000e+00, 1.6928e-02, 0.0000e+00,\n",
       "        6.4673e-02, 1.9251e-03, 0.0000e+00, 0.0000e+00, 0.0000e+00, 1.6711e-02,\n",
       "        0.0000e+00, 0.0000e+00, 0.0000e+00, 0.0000e+00, 0.0000e+00, 4.2571e-02,\n",
       "        2.4963e-02, 0.0000e+00, 0.0000e+00, 0.0000e+00, 0.0000e+00, 0.0000e+00,\n",
       "        0.0000e+00, 0.0000e+00, 0.0000e+00, 2.5433e-02, 3.8864e-03, 0.0000e+00,\n",
       "        0.0000e+00, 0.0000e+00, 0.0000e+00, 1.6343e-03, 0.0000e+00, 0.0000e+00,\n",
       "        0.0000e+00, 0.0000e+00, 0.0000e+00, 0.0000e+00, 0.0000e+00, 0.0000e+00,\n",
       "        3.0692e-02, 5.2445e-02, 0.0000e+00, 0.0000e+00, 0.0000e+00, 0.0000e+00,\n",
       "        0.0000e+00, 0.0000e+00, 0.0000e+00, 0.0000e+00, 0.0000e+00, 0.0000e+00,\n",
       "        0.0000e+00, 5.6996e-03, 0.0000e+00, 0.0000e+00, 0.0000e+00, 0.0000e+00,\n",
       "        0.0000e+00, 0.0000e+00, 0.0000e+00, 0.0000e+00, 0.0000e+00, 0.0000e+00,\n",
       "        0.0000e+00, 2.6161e-02, 0.0000e+00, 2.4850e-02, 0.0000e+00, 0.0000e+00,\n",
       "        0.0000e+00, 0.0000e+00, 2.0478e-02, 0.0000e+00, 0.0000e+00, 6.6506e-03,\n",
       "        0.0000e+00, 0.0000e+00, 0.0000e+00, 0.0000e+00, 0.0000e+00, 0.0000e+00,\n",
       "        0.0000e+00, 0.0000e+00, 0.0000e+00, 1.9753e-01, 0.0000e+00, 0.0000e+00,\n",
       "        0.0000e+00, 7.7747e-03, 0.0000e+00, 0.0000e+00, 0.0000e+00, 0.0000e+00,\n",
       "        0.0000e+00, 6.3680e-02, 0.0000e+00, 0.0000e+00, 1.3216e-02, 0.0000e+00,\n",
       "        0.0000e+00, 0.0000e+00, 0.0000e+00, 0.0000e+00, 0.0000e+00, 0.0000e+00,\n",
       "        3.3833e-03, 0.0000e+00, 0.0000e+00, 0.0000e+00, 0.0000e+00, 0.0000e+00,\n",
       "        0.0000e+00, 7.9458e-03, 0.0000e+00, 0.0000e+00, 0.0000e+00, 0.0000e+00,\n",
       "        3.9548e-03, 7.2228e-03, 0.0000e+00, 0.0000e+00, 0.0000e+00, 0.0000e+00,\n",
       "        1.2432e-02, 0.0000e+00, 9.8105e-03, 3.0302e-02, 0.0000e+00, 0.0000e+00,\n",
       "        0.0000e+00, 0.0000e+00, 0.0000e+00, 0.0000e+00, 0.0000e+00, 3.5704e-02,\n",
       "        0.0000e+00, 8.1070e-02, 0.0000e+00, 0.0000e+00, 0.0000e+00, 1.6685e-03,\n",
       "        0.0000e+00, 1.5754e-04, 0.0000e+00, 0.0000e+00, 0.0000e+00, 0.0000e+00,\n",
       "        0.0000e+00, 8.7508e-03, 0.0000e+00, 0.0000e+00, 0.0000e+00, 0.0000e+00,\n",
       "        0.0000e+00, 0.0000e+00, 0.0000e+00, 0.0000e+00, 0.0000e+00, 0.0000e+00,\n",
       "        3.0225e-02, 8.4848e-04, 0.0000e+00, 0.0000e+00, 0.0000e+00, 4.4310e-03,\n",
       "        0.0000e+00, 0.0000e+00, 1.4992e-02, 0.0000e+00, 0.0000e+00, 0.0000e+00,\n",
       "        0.0000e+00, 0.0000e+00, 0.0000e+00, 2.0559e-03, 0.0000e+00, 5.8896e-02,\n",
       "        0.0000e+00, 0.0000e+00, 0.0000e+00, 0.0000e+00, 0.0000e+00, 0.0000e+00,\n",
       "        6.0908e-02, 0.0000e+00, 5.8920e-03, 0.0000e+00, 0.0000e+00, 8.1868e-03,\n",
       "        2.5796e-02, 0.0000e+00, 0.0000e+00, 0.0000e+00, 7.1794e-02, 8.1380e-03,\n",
       "        0.0000e+00, 0.0000e+00, 0.0000e+00, 0.0000e+00, 9.4637e-03, 2.5995e-03,\n",
       "        0.0000e+00, 5.1267e-02, 0.0000e+00, 0.0000e+00, 0.0000e+00, 0.0000e+00,\n",
       "        4.4318e-02, 0.0000e+00, 0.0000e+00, 0.0000e+00, 0.0000e+00, 0.0000e+00,\n",
       "        0.0000e+00, 1.6134e-02, 0.0000e+00, 0.0000e+00, 0.0000e+00, 0.0000e+00,\n",
       "        0.0000e+00, 0.0000e+00, 0.0000e+00, 0.0000e+00, 0.0000e+00, 0.0000e+00,\n",
       "        0.0000e+00, 0.0000e+00, 8.9136e-03, 6.3224e-03, 0.0000e+00, 0.0000e+00,\n",
       "        0.0000e+00, 0.0000e+00, 1.9360e-02, 0.0000e+00, 0.0000e+00, 0.0000e+00,\n",
       "        0.0000e+00, 0.0000e+00, 0.0000e+00, 0.0000e+00, 0.0000e+00, 0.0000e+00,\n",
       "        2.0705e-02, 0.0000e+00, 7.1978e-02, 0.0000e+00, 0.0000e+00, 0.0000e+00,\n",
       "        0.0000e+00, 0.0000e+00, 0.0000e+00, 0.0000e+00], device='cuda:0',\n",
       "       grad_fn=<SelectBackward0>)"
      ]
     },
     "execution_count": 43,
     "metadata": {},
     "output_type": "execute_result"
    }
   ],
   "source": [
    "cell_line_embedding[0][0] # pathway embedding"
   ]
  },
  {
   "cell_type": "code",
   "execution_count": 70,
   "id": "58044bc5",
   "metadata": {},
   "outputs": [
    {
     "data": {
      "text/plain": [
       "tensor([[0.0000, 0.0000, 0.0000, 0.0000, 0.0000, 0.0000, 0.0000, 0.0000, 0.0000,\n",
       "         0.0000, 0.0000, 0.0000, 2.1086, 0.0000, 0.0000, 0.0000, 0.0000, 0.0000,\n",
       "         1.5615, 0.0000, 0.0000, 0.0000, 0.2116, 0.0000, 0.0000, 0.2023, 0.0000,\n",
       "         3.1867, 0.0000, 0.0000, 1.0397, 0.0000, 0.0000, 0.0000, 0.0000, 0.0000,\n",
       "         0.0000, 0.0000, 0.0000, 0.0000, 0.0000, 0.0000, 0.4473, 0.0000, 0.0000,\n",
       "         0.0000, 4.9132, 2.4176, 0.0000, 0.0000, 0.0000, 0.1065, 0.0000, 0.0821,\n",
       "         0.0000, 0.0000, 0.0000, 0.0000, 0.0000, 0.0000, 0.0000, 0.0000, 0.0000,\n",
       "         0.0000, 0.0000, 0.0000, 0.0000, 1.1596, 0.0000, 0.0000, 0.0000, 0.0000,\n",
       "         0.0000, 0.0000, 0.0000, 0.1694, 0.2488, 0.0000, 0.0000, 0.2249, 2.5764,\n",
       "         0.0000, 0.0000, 0.0000, 0.0000, 1.3447, 0.0000, 0.0000, 0.0000, 0.0000,\n",
       "         0.0607, 0.0000, 0.1639, 0.0000, 0.0000, 0.0000, 0.0000, 0.0000, 0.0000,\n",
       "         0.0000, 0.0000, 2.7443, 0.0000, 0.0000, 0.0000, 0.0000, 0.0000, 0.0000,\n",
       "         0.0000, 0.0000, 0.0000, 0.0000, 0.0000, 0.0000, 0.0000, 0.0000, 0.0000,\n",
       "         0.3575, 0.0000, 3.1640, 0.0000, 0.0000, 0.0000, 0.0000, 1.3149, 0.0000,\n",
       "         0.0000, 0.0000, 0.0000, 0.0000, 0.0000, 0.2459, 0.0000, 0.0000, 0.9539,\n",
       "         0.0000, 0.7262, 0.0000, 0.0000, 0.0000, 0.0000, 0.0000, 0.0000, 0.0000,\n",
       "         0.7905, 0.0000, 0.0000, 0.0000, 1.6989, 0.0000, 0.0000, 0.0000, 0.0000,\n",
       "         0.0000, 0.0000, 0.4401, 0.0000, 0.0000, 0.0000, 0.0000, 0.0000, 0.1523,\n",
       "         0.0000, 0.0000, 0.0000, 0.0000, 0.0000, 1.2160, 0.0000, 0.0000, 0.0000,\n",
       "         0.0000, 0.0000, 0.0000, 0.0000, 0.0000, 0.0000, 0.0000, 0.0000, 0.0000,\n",
       "         0.0000, 0.0000, 0.0000, 0.0000, 0.0000, 0.0000, 0.0000, 0.0000, 0.0000,\n",
       "         0.0000, 0.2290, 0.0000, 0.0000, 0.0000, 0.0000, 0.0000, 0.0000, 0.0000,\n",
       "         0.0000, 0.0000, 0.0000, 0.0000, 0.0000, 0.0000, 0.0000, 0.0000, 0.0000,\n",
       "         0.1919, 0.0000, 0.0000, 0.0000, 1.2144, 0.0000, 0.0000, 2.4370, 0.0000,\n",
       "         0.0000, 0.0000, 0.0000, 0.0000, 0.0000, 0.0000, 0.0000, 0.0000, 0.0000,\n",
       "         0.0000, 0.0000, 0.0000, 0.0000, 0.4580, 0.0000, 0.2422, 0.9836, 0.0000,\n",
       "         0.0000, 0.0000, 0.0000, 0.0000, 0.0000, 0.0000, 0.0000, 0.0000, 0.0000,\n",
       "         0.0000, 0.0000, 2.0422, 0.0000, 0.0000, 0.0000, 0.0000, 0.0000, 0.0000,\n",
       "         0.0000, 0.0000, 0.0000, 0.0000]], device='cuda:0',\n",
       "       grad_fn=<ReluBackward0>)"
      ]
     },
     "execution_count": 70,
     "metadata": {},
     "output_type": "execute_result"
    }
   ],
   "source": [
    "embedding(model, \"JW-7-24-1\", \"ACH-000001\", drug_dict, cell_dict, edge_index, args)[0]"
   ]
  },
  {
   "cell_type": "code",
   "execution_count": 81,
   "id": "2b57762a",
   "metadata": {},
   "outputs": [
    {
     "data": {
      "text/plain": [
       "tensor([[0.0000, 0.0000, 0.0000, 0.0000, 0.0000, 0.0000, 0.0000, 0.0000, 0.0000,\n",
       "         0.0000, 0.0000, 0.0000, 2.1086, 0.0000, 0.0000, 0.0000, 0.0000, 0.0000,\n",
       "         1.5615, 0.0000, 0.0000, 0.0000, 0.2116, 0.0000, 0.0000, 0.2023, 0.0000,\n",
       "         3.1867, 0.0000, 0.0000, 1.0397, 0.0000, 0.0000, 0.0000, 0.0000, 0.0000,\n",
       "         0.0000, 0.0000, 0.0000, 0.0000, 0.0000, 0.0000, 0.4473, 0.0000, 0.0000,\n",
       "         0.0000, 4.9132, 2.4176, 0.0000, 0.0000, 0.0000, 0.1065, 0.0000, 0.0821,\n",
       "         0.0000, 0.0000, 0.0000, 0.0000, 0.0000, 0.0000, 0.0000, 0.0000, 0.0000,\n",
       "         0.0000, 0.0000, 0.0000, 0.0000, 1.1596, 0.0000, 0.0000, 0.0000, 0.0000,\n",
       "         0.0000, 0.0000, 0.0000, 0.1694, 0.2488, 0.0000, 0.0000, 0.2249, 2.5764,\n",
       "         0.0000, 0.0000, 0.0000, 0.0000, 1.3447, 0.0000, 0.0000, 0.0000, 0.0000,\n",
       "         0.0607, 0.0000, 0.1639, 0.0000, 0.0000, 0.0000, 0.0000, 0.0000, 0.0000,\n",
       "         0.0000, 0.0000, 2.7443, 0.0000, 0.0000, 0.0000, 0.0000, 0.0000, 0.0000,\n",
       "         0.0000, 0.0000, 0.0000, 0.0000, 0.0000, 0.0000, 0.0000, 0.0000, 0.0000,\n",
       "         0.3575, 0.0000, 3.1640, 0.0000, 0.0000, 0.0000, 0.0000, 1.3149, 0.0000,\n",
       "         0.0000, 0.0000, 0.0000, 0.0000, 0.0000, 0.2459, 0.0000, 0.0000, 0.9539,\n",
       "         0.0000, 0.7262, 0.0000, 0.0000, 0.0000, 0.0000, 0.0000, 0.0000, 0.0000,\n",
       "         0.7905, 0.0000, 0.0000, 0.0000, 1.6989, 0.0000, 0.0000, 0.0000, 0.0000,\n",
       "         0.0000, 0.0000, 0.4401, 0.0000, 0.0000, 0.0000, 0.0000, 0.0000, 0.1523,\n",
       "         0.0000, 0.0000, 0.0000, 0.0000, 0.0000, 1.2160, 0.0000, 0.0000, 0.0000,\n",
       "         0.0000, 0.0000, 0.0000, 0.0000, 0.0000, 0.0000, 0.0000, 0.0000, 0.0000,\n",
       "         0.0000, 0.0000, 0.0000, 0.0000, 0.0000, 0.0000, 0.0000, 0.0000, 0.0000,\n",
       "         0.0000, 0.2290, 0.0000, 0.0000, 0.0000, 0.0000, 0.0000, 0.0000, 0.0000,\n",
       "         0.0000, 0.0000, 0.0000, 0.0000, 0.0000, 0.0000, 0.0000, 0.0000, 0.0000,\n",
       "         0.1919, 0.0000, 0.0000, 0.0000, 1.2144, 0.0000, 0.0000, 2.4370, 0.0000,\n",
       "         0.0000, 0.0000, 0.0000, 0.0000, 0.0000, 0.0000, 0.0000, 0.0000, 0.0000,\n",
       "         0.0000, 0.0000, 0.0000, 0.0000, 0.4580, 0.0000, 0.2422, 0.9836, 0.0000,\n",
       "         0.0000, 0.0000, 0.0000, 0.0000, 0.0000, 0.0000, 0.0000, 0.0000, 0.0000,\n",
       "         0.0000, 0.0000, 2.0422, 0.0000, 0.0000, 0.0000, 0.0000, 0.0000, 0.0000,\n",
       "         0.0000, 0.0000, 0.0000, 0.0000]], device='cuda:0',\n",
       "       grad_fn=<ReluBackward0>)"
      ]
     },
     "execution_count": 81,
     "metadata": {},
     "output_type": "execute_result"
    }
   ],
   "source": [
    "embedding(model, \"JW-7-24-1\", \"ACH-000002\", drug_dict, cell_dict, edge_index, args)[0]"
   ]
  },
  {
   "cell_type": "code",
   "execution_count": 46,
   "id": "abca0264",
   "metadata": {},
   "outputs": [
    {
     "data": {
      "text/plain": [
       "{'training': False,\n",
       " '_parameters': OrderedDict(),\n",
       " '_buffers': OrderedDict(),\n",
       " '_non_persistent_buffers_set': set(),\n",
       " '_backward_hooks': OrderedDict(),\n",
       " '_is_full_backward_hook': None,\n",
       " '_forward_hooks': OrderedDict(),\n",
       " '_forward_pre_hooks': OrderedDict(),\n",
       " '_state_dict_hooks': OrderedDict(),\n",
       " '_load_state_dict_pre_hooks': OrderedDict(),\n",
       " '_load_state_dict_post_hooks': OrderedDict(),\n",
       " '_modules': OrderedDict([('convs_cell',\n",
       "               ModuleList(\n",
       "                 (0): GATConv(1, 8, heads=1)\n",
       "                 (1): GATConv(8, 8, heads=1)\n",
       "                 (2): GATConv(8, 8, heads=1)\n",
       "               ))]),\n",
       " 'num_feature': 1,\n",
       " 'layer_cell': 3,\n",
       " 'dim_cell': 8,\n",
       " 'final_node': 4645}"
      ]
     },
     "execution_count": 46,
     "metadata": {},
     "output_type": "execute_result"
    }
   ],
   "source": [
    "model.CellEncoder.__dict__"
   ]
  },
  {
   "cell_type": "code",
   "execution_count": 50,
   "id": "9e68c8ce",
   "metadata": {},
   "outputs": [
    {
     "data": {
      "text/plain": [
       "tensor([[ 0.6484],\n",
       "        [-0.2951],\n",
       "        [-2.0614],\n",
       "        ...,\n",
       "        [ 0.8302],\n",
       "        [ 1.0838],\n",
       "        [-0.2596]])"
      ]
     },
     "execution_count": 50,
     "metadata": {},
     "output_type": "execute_result"
    }
   ],
   "source": [
    "example.x"
   ]
  },
  {
   "cell_type": "code",
   "execution_count": 61,
   "id": "aadb8900",
   "metadata": {},
   "outputs": [],
   "source": [
    "cell = Batch.from_data_list([cell_dict[\"ACH-000001\"]]).to(args.device)"
   ]
  },
  {
   "cell_type": "code",
   "execution_count": 62,
   "id": "32eaab21",
   "metadata": {},
   "outputs": [
    {
     "data": {
      "text/plain": [
       "DataBatch(x=[4645, 1], x_mask=[4645], edge_index=[2, 12128], batch=[4645], ptr=[2])"
      ]
     },
     "execution_count": 62,
     "metadata": {},
     "output_type": "execute_result"
    }
   ],
   "source": [
    "cell"
   ]
  },
  {
   "cell_type": "code",
   "execution_count": 63,
   "id": "156ae8cf",
   "metadata": {},
   "outputs": [
    {
     "data": {
      "text/plain": [
       "torch.Size([1, 37160])"
      ]
     },
     "execution_count": 63,
     "metadata": {},
     "output_type": "execute_result"
    }
   ],
   "source": [
    "model.CellEncoder(cell).shape"
   ]
  },
  {
   "cell_type": "code",
   "execution_count": 66,
   "id": "8052dd29",
   "metadata": {},
   "outputs": [
    {
     "data": {
      "text/plain": [
       "tensor([[0.0000, 0.0000, 0.0602,  ..., 0.0000, 0.0000, 0.0000]],\n",
       "       device='cuda:0', grad_fn=<ReshapeAliasBackward0>)"
      ]
     },
     "execution_count": 66,
     "metadata": {},
     "output_type": "execute_result"
    }
   ],
   "source": [
    "cell = Batch.from_data_list([cell_dict[\"ACH-000001\"]]).to(args.device)\n",
    "model.CellEncoder(cell)"
   ]
  },
  {
   "cell_type": "code",
   "execution_count": 73,
   "id": "5d6c9a49",
   "metadata": {},
   "outputs": [
    {
     "data": {
      "text/plain": [
       "tensor([0.0000, 0.0000, 0.0602, 0.0141, 0.0614, 0.0000, 0.0085, 0.0210],\n",
       "       device='cuda:0', grad_fn=<SliceBackward0>)"
      ]
     },
     "execution_count": 73,
     "metadata": {},
     "output_type": "execute_result"
    }
   ],
   "source": [
    "cell = Batch.from_data_list([cell_dict[\"ACH-000001\"]]).to(args.device)\n",
    "model.CellEncoder(cell)[0][:8]"
   ]
  },
  {
   "cell_type": "code",
   "execution_count": 84,
   "id": "15427a09",
   "metadata": {},
   "outputs": [
    {
     "data": {
      "text/plain": [
       "tensor([0., 0., 0., 0., 0., 0., 0., 0.], device='cuda:0',\n",
       "       grad_fn=<SliceBackward0>)"
      ]
     },
     "execution_count": 84,
     "metadata": {},
     "output_type": "execute_result"
    }
   ],
   "source": [
    "cell = Batch.from_data_list([cell_dict[\"ACH-000002\"]]).to(args.device)\n",
    "model.CellEncoder(cell)[0][:8]"
   ]
  },
  {
   "cell_type": "code",
   "execution_count": 87,
   "id": "fea61bd2",
   "metadata": {},
   "outputs": [
    {
     "data": {
      "text/plain": [
       "tensor(4645)"
      ]
     },
     "execution_count": 87,
     "metadata": {},
     "output_type": "execute_result"
    }
   ],
   "source": [
    "gene_list.sum()"
   ]
  },
  {
   "cell_type": "code",
   "execution_count": 94,
   "id": "c12b5e55",
   "metadata": {},
   "outputs": [],
   "source": [
    "import pickle\n",
    "with open('Data/Cell/34pathway_score990.pkl', 'rb') as file:\n",
    "    kegg = pickle.load(file)"
   ]
  },
  {
   "cell_type": "code",
   "execution_count": 99,
   "id": "07f0350f",
   "metadata": {},
   "outputs": [
    {
     "data": {
      "text/plain": [
       "4646"
      ]
     },
     "execution_count": 99,
     "metadata": {},
     "output_type": "execute_result"
    }
   ],
   "source": [
    "sum(list(map(lambda x: len(x),kegg.values())))"
   ]
  }
 ],
 "metadata": {
  "kernelspec": {
   "display_name": "drpreter_venv",
   "language": "python",
   "name": "drpreter_venv"
  },
  "language_info": {
   "codemirror_mode": {
    "name": "ipython",
    "version": 3
   },
   "file_extension": ".py",
   "mimetype": "text/x-python",
   "name": "python",
   "nbconvert_exporter": "python",
   "pygments_lexer": "ipython3",
   "version": "3.9.12"
  }
 },
 "nbformat": 4,
 "nbformat_minor": 5
}
