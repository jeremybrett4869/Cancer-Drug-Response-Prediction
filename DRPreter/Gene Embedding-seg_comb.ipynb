{
 "cells": [
  {
   "cell_type": "code",
   "execution_count": 1,
   "id": "e865b18f",
   "metadata": {},
   "outputs": [
    {
     "name": "stderr",
     "output_type": "stream",
     "text": [
      "/home/yingfei/miniconda3/lib/python3.9/site-packages/tqdm/auto.py:22: TqdmWarning: IProgress not found. Please update jupyter and ipywidgets. See https://ipywidgets.readthedocs.io/en/stable/user_install.html\n",
      "  from .autonotebook import tqdm as notebook_tqdm\n"
     ]
    }
   ],
   "source": [
    "import os\n",
    "import sys\n",
    "import argparse\n",
    "# os.environ[\"CUDA_DEVICE_ORDER\"] = \"PCI_BUS_ID\"\n",
    "import torch\n",
    "import torch.nn as nn\n",
    "import numpy as np\n",
    "import pandas as pd\n",
    "from utils import *\n",
    "from Model.DRPreter_Comb import DRPreter\n",
    "from Model.Similarity import Similarity\n",
    "from torch_scatter import scatter_add"
   ]
  },
  {
   "cell_type": "code",
   "execution_count": 2,
   "id": "344bf5dd",
   "metadata": {},
   "outputs": [
    {
     "data": {
      "text/plain": [
       "Namespace(f='/home/yingfei/.local/share/jupyter/runtime/kernel-09d62549-f703-40ae-bacf-1368c2f4330a.json', seed=42, device=0, batch_size=128, lr=0.0001, layer=3, hidden_dim=8, layer_drug=3, dim_drug=128, dim_drug_cell=256, dropout_ratio=0.1, epochs=300, patience=100, mode='train', edge='STRING', string_edge=990, dataset='2369disjoint', trans=True, sim=False)"
      ]
     },
     "execution_count": 2,
     "metadata": {},
     "output_type": "execute_result"
    }
   ],
   "source": [
    "parser = argparse.ArgumentParser()\n",
    "parser.add_argument('-f')\n",
    "parser.add_argument('--seed', type=int, default=42, help='seed')\n",
    "parser.add_argument('--device', type=int, default=0, help='device')\n",
    "parser.add_argument('--batch_size', type=int, default=128, help='batch size (default: 128)')\n",
    "parser.add_argument('--lr', type=float, default=0.0001, help='learning rate (default: 0.0001)')\n",
    "parser.add_argument('--layer', type=int, default=3, help='Number of cell layers')\n",
    "parser.add_argument('--hidden_dim', type=int, default=8, help='hidden dim for cell')\n",
    "parser.add_argument('--layer_drug', type=int, default=3, help='Number of drug layers')\n",
    "parser.add_argument('--dim_drug', type=int, default=128, help='hidden dim for drug (default: 128)')\n",
    "parser.add_argument('--dim_drug_cell', type=int, default=256, help='hidden dim for drug and cell (default: 256)')\n",
    "parser.add_argument('--dropout_ratio', type=float, default=0.1, help='Dropout ratio (default: 0.1)')\n",
    "parser.add_argument('--epochs', type=int, default=300, help='Maximum number of epochs (default: 300)')\n",
    "parser.add_argument('--patience', type=int, default=100, help='patience for early stopping (default: 10)')\n",
    "parser.add_argument('--mode', type=str, default='train', help='train, test')\n",
    "parser.add_argument('--edge', type=str, default='STRING', help='STRING, BIOGRID') # BIOGRID: removed\n",
    "# parser.add_argument('--string_edge', type=float, default=0.99, help='Threshold for edges of cell line graph')\n",
    "parser.add_argument('--string_edge', type=int, default=990, help='Threshold for edges of cell line graph')\n",
    "parser.add_argument('--dataset', type=str, default='2369disjoint', help='2369joint, 2369disjoint, COSMIC')\n",
    "parser.add_argument('--trans', type=bool, default=True, help='Use Transformer or not')\n",
    "parser.add_argument('--sim', type=bool, default=False, help='Construct homogeneous similarity networks or not')\n",
    "args = parser.parse_args()\n",
    "args"
   ]
  },
  {
   "cell_type": "code",
   "execution_count": 3,
   "id": "71f36352",
   "metadata": {},
   "outputs": [],
   "source": [
    "args.dataset = \"disjoint\""
   ]
  },
  {
   "cell_type": "code",
   "execution_count": 4,
   "id": "1e49d1cd",
   "metadata": {},
   "outputs": [
    {
     "name": "stdout",
     "output_type": "stream",
     "text": [
      "seed: 42\n"
     ]
    }
   ],
   "source": [
    "args.device = 'cuda:{}'.format(args.device)\n",
    "rpath = '../'\n",
    "result_path = rpath + 'Result_0308/Result_5/' ### Adjust folder name\n",
    "\n",
    "print(f'seed: {args.seed}')\n",
    "set_random_seed(args.seed)\n",
    "\n",
    "edge_type = 'PPI_'+str(args.string_edge) if args.edge=='STRING' else args.edge\n",
    "edge_index = np.load(rpath+f'/DRPreter/Data/Cell/edge_index_{edge_type}_{args.dataset}_seg_comb.npy') ### Adjust file name\n",
    "\n",
    "# data = pd.read_csv(rpath+'Data/sorted_IC50_82833_580_170.csv')\n",
    "data = pd.read_csv(rpath+'/DRPreter/Data/sorted_AUC.csv')\n",
    "\n",
    "### Adjust file name\n",
    "drug_dict = np.load(rpath+'/DRPreter/Data/Drug/drug_feature_graph.npy', allow_pickle=True).item() # pyg format of drug graph\n",
    "cell_dict = np.load(rpath+f'/DRPreter/Data/Cell/cell_feature_std_{args.dataset}_seg_comb.npy', allow_pickle=True).item() \n",
    "# pyg data format of cell graph\n",
    "\n",
    "example = cell_dict['ACH-000001']\n",
    "args.num_feature = example.x.shape[1] # 1\n",
    "args.num_genes = example.x.shape[0] # 4646"
   ]
  },
  {
   "cell_type": "code",
   "execution_count": 5,
   "id": "b4972baa",
   "metadata": {},
   "outputs": [
    {
     "name": "stdout",
     "output_type": "stream",
     "text": [
      "num_genes:4787, num_edges:12244\n",
      "gene distribution: tensor([[142,  94, 137, 294,  74, 155, 218,  79, 146, 190, 136, 293, 167,  73,\n",
      "         232,  59, 239, 109, 104,  85, 126, 101, 221,  59,  56,  71,  44, 351,\n",
      "         162,  96, 102,  41,  88, 102, 141],\n",
      "        [142,  94, 137, 294,  74, 155, 218,  79, 146, 190, 136, 293, 167,  73,\n",
      "         232,  59, 239, 109, 104,  85, 126, 101, 221,  59,  56,  71,  44, 351,\n",
      "         162,  96, 102,  41,  88, 102, 141]], dtype=torch.int32)\n",
      "mean degree:2.557760601629413\n"
     ]
    }
   ],
   "source": [
    "### Added\n",
    "gene_list = scatter_add(torch.ones_like(example.x.squeeze()).reshape(2,-1), example.x_mask.to(torch.int64)).to(torch.int)\n",
    "# gene_list = scatter_add(torch.ones_like(example.x.squeeze()), example.x_mask.to(torch.int64)).to(torch.int)\n",
    "args.max_gene = gene_list.max().item()\n",
    "# print(gene_list.shape)\n",
    "args.cum_num_nodes = torch.cat([gene_list.new_zeros(1), gene_list[0].cumsum(dim=0)], dim=0)\n",
    "args.cum_num_nodes = torch.stack([args.cum_num_nodes,args.cum_num_nodes])\n",
    "args.n_pathways = gene_list.size(0)\n",
    "print('num_genes:{}, num_edges:{}'.format(args.num_genes, len(edge_index[0])))\n",
    "print('gene distribution: {}'.format(gene_list))\n",
    "print('mean degree:{}'.format(len(edge_index[0]) / args.num_genes))"
   ]
  },
  {
   "cell_type": "code",
   "execution_count": 6,
   "id": "874d8e33",
   "metadata": {},
   "outputs": [],
   "source": [
    "args.device = \"cuda:0\" # 'cuda:{}'.format(args.device)"
   ]
  },
  {
   "cell_type": "code",
   "execution_count": 7,
   "id": "9e6130c5",
   "metadata": {},
   "outputs": [
    {
     "name": "stdout",
     "output_type": "stream",
     "text": [
      "total: 227436, train: 184020, val: 20472, test: 22944\n"
     ]
    }
   ],
   "source": [
    "train_loader, val_loader, test_loader = load_data(data, drug_dict, cell_dict, torch.tensor(edge_index, dtype=torch.long), args)\n",
    "print('total: {}, train: {}, val: {}, test: {}'.format(len(data), len(train_loader.dataset), len(val_loader.dataset), len(test_loader.dataset)))\n",
    "model = DRPreter(args).to(\"cuda:0\")"
   ]
  },
  {
   "cell_type": "code",
   "execution_count": 8,
   "id": "6d43345c",
   "metadata": {},
   "outputs": [
    {
     "data": {
      "text/plain": [
       "'weights_0308/weights_5/weight_seed42.pth'"
      ]
     },
     "execution_count": 8,
     "metadata": {},
     "output_type": "execute_result"
    }
   ],
   "source": [
    "state_dict_name = f'weights_0308/weights_5/weight_sim_seed{args.seed}.pth' if args.sim==True else f'weights_0308/weights_5/weight_seed{args.seed}.pth'\n",
    "state_dict_name"
   ]
  },
  {
   "cell_type": "code",
   "execution_count": 9,
   "id": "299b8f2e",
   "metadata": {},
   "outputs": [
    {
     "data": {
      "text/plain": [
       "<All keys matched successfully>"
      ]
     },
     "execution_count": 9,
     "metadata": {},
     "output_type": "execute_result"
    }
   ],
   "source": [
    "model.load_state_dict(torch.load(state_dict_name, map_location=\"cuda:0\")['model_state_dict'])"
   ]
  },
  {
   "cell_type": "code",
   "execution_count": 10,
   "id": "b864e5e7",
   "metadata": {},
   "outputs": [
    {
     "data": {
      "text/plain": [
       "(tensor([[1.5616, 3.6273, 0.0000, 1.3513, 0.0000, 0.0000, 0.0000, 0.6752, 0.0000,\n",
       "          0.0000, 0.0000, 0.0000, 0.0000, 0.4309, 0.0000, 0.0000, 1.1052, 0.0000,\n",
       "          0.0000, 0.0000, 0.0000, 0.0000, 1.9010, 0.2118, 0.0000, 0.0000, 0.0000,\n",
       "          0.0000, 0.0000, 0.0000, 0.0412, 0.0000, 0.0000, 0.0000, 0.0000, 0.0000,\n",
       "          0.0000, 0.0000, 0.0000, 0.9331, 0.0000, 0.0000, 0.0000, 0.0000, 0.0000,\n",
       "          0.0000, 0.1521, 0.0000, 0.0000, 0.0000, 0.0000, 2.5415, 0.0000, 0.0000,\n",
       "          0.0000, 0.0000, 0.0999, 0.3229, 0.0000, 0.0000, 1.9148, 0.0000, 0.0000,\n",
       "          0.0000, 0.0000, 0.0000, 0.0000, 0.0000, 0.0000, 0.0000, 0.0000, 0.0000,\n",
       "          0.0000, 0.0000, 2.1435, 0.0000, 0.8447, 0.0000, 0.0000, 0.0000, 2.5891,\n",
       "          0.0000, 0.0000, 0.0000, 0.0000, 0.0000, 1.5204, 3.1954, 0.0000, 0.0000,\n",
       "          0.0000, 0.0000, 0.0000, 0.0000, 0.0000, 0.6793, 0.0000, 2.0086, 0.0000,\n",
       "          3.1758, 0.0000, 0.0000, 0.0000, 0.0000, 0.0000, 0.0000, 0.2297, 0.0000,\n",
       "          2.3737, 0.0000, 0.0000, 0.0599, 0.0000, 0.0000, 0.0000, 0.0000, 0.0000,\n",
       "          0.0000, 0.6670, 0.0000, 0.0000, 0.2545, 0.0000, 2.9105, 0.0000, 0.0000,\n",
       "          0.0000, 0.0000, 0.0000, 0.0000, 0.0718, 0.7658, 0.0000, 0.0000, 0.4744,\n",
       "          0.0000, 0.0000, 0.0000, 0.0000, 0.0000, 0.0000, 0.0000, 0.0000, 0.0000,\n",
       "          0.0000, 0.0000, 0.6922, 0.0000, 1.4242, 0.0000, 0.0000, 0.8703, 0.0000,\n",
       "          0.0000, 0.0000, 0.7118, 0.0000, 0.0000, 0.0000, 0.0000, 0.7621, 0.0000,\n",
       "          0.0000, 0.0000, 0.0000, 0.0000, 0.0000, 0.2258, 0.0000, 1.3156, 0.4473,\n",
       "          0.0000, 0.0000, 0.0000, 0.0000, 0.2882, 0.6703, 0.0000, 0.0000, 0.0000,\n",
       "          0.0000, 0.0000, 2.3584, 0.0000, 0.0000, 0.0000, 0.0000, 0.0000, 0.0000,\n",
       "          0.0000, 0.0000, 0.0000, 0.0000, 0.0000, 0.0000, 0.0000, 0.0000, 0.0000,\n",
       "          0.0000, 0.0000, 0.9919, 0.0000, 0.0000, 0.0000, 0.0000, 0.0000, 0.0000,\n",
       "          0.0000, 0.0000, 0.0000, 0.0000, 0.0000, 0.0000, 0.0000, 0.0000, 0.0419,\n",
       "          0.0000, 0.0000, 0.8842, 0.0000, 0.0000, 0.0000, 0.0000, 0.0000, 0.0000,\n",
       "          0.0000, 0.0000, 0.0000, 0.0000, 0.0000, 0.0000, 0.0000, 0.0000, 0.0000,\n",
       "          0.1953, 0.0000, 0.0000, 0.0664, 0.0000, 0.0000, 0.0000, 0.0000, 0.0000,\n",
       "          0.0000, 0.8094, 0.0000, 0.7690, 0.0000, 0.0000, 2.1576, 0.0000, 0.0000,\n",
       "          0.0000, 0.0000, 0.0000, 0.0000]], device='cuda:0',\n",
       "        grad_fn=<ReluBackward0>),\n",
       " tensor([[[[0.0000, 0.0000, 0.0000,  ..., 0.0262, 0.0000, 0.0000],\n",
       "           [0.0000, 0.0000, 0.0000,  ..., 0.0665, 0.0000, 0.0000],\n",
       "           [0.0000, 0.0000, 0.0000,  ..., 0.0814, 0.0000, 0.0000],\n",
       "           ...,\n",
       "           [0.0000, 0.0000, 0.0000,  ..., 0.0233, 0.0000, 0.0000],\n",
       "           [0.0162, 0.0000, 0.0000,  ..., 0.0520, 0.0037, 0.0000],\n",
       "           [0.0000, 0.1710, 0.0000,  ..., 0.2637, 0.0000, 0.0000]]],\n",
       " \n",
       " \n",
       "         [[[0.0000, 0.0000, 0.0000,  ..., 0.0262, 0.0000, 0.0000],\n",
       "           [0.0000, 0.0000, 0.0000,  ..., 0.0749, 0.0000, 0.0000],\n",
       "           [0.0000, 0.0000, 0.0000,  ..., 0.0791, 0.0000, 0.0000],\n",
       "           ...,\n",
       "           [0.0000, 0.0000, 0.0000,  ..., 0.0291, 0.0000, 0.0000],\n",
       "           [0.0133, 0.0000, 0.0000,  ..., 0.0509, 0.0056, 0.0000],\n",
       "           [0.0000, 0.1730, 0.0000,  ..., 0.2674, 0.0000, 0.0000]]]],\n",
       "        device='cuda:0', grad_fn=<ReluBackward0>))"
      ]
     },
     "execution_count": 10,
     "metadata": {},
     "output_type": "execute_result"
    }
   ],
   "source": [
    "embedding(model, \"JW-7-24-1\", \"ACH-000001\", drug_dict, cell_dict, edge_index, args) # drug embedding and cell line embedding"
   ]
  },
  {
   "cell_type": "code",
   "execution_count": 11,
   "id": "e176f28e",
   "metadata": {},
   "outputs": [
    {
     "data": {
      "text/plain": [
       "torch.Size([2, 1, 35, 256])"
      ]
     },
     "execution_count": 11,
     "metadata": {},
     "output_type": "execute_result"
    }
   ],
   "source": [
    "cell_line_embedding = embedding(model, \"JW-7-24-1\", \"ACH-000001\", drug_dict, cell_dict, edge_index, args)[1]\n",
    "cell_line_embedding.shape"
   ]
  },
  {
   "cell_type": "code",
   "execution_count": 12,
   "id": "f997620c",
   "metadata": {},
   "outputs": [
    {
     "data": {
      "text/plain": [
       "tensor([[0.0000, 0.0000, 0.0000,  ..., 0.0262, 0.0000, 0.0000],\n",
       "        [0.0000, 0.0000, 0.0000,  ..., 0.0665, 0.0000, 0.0000],\n",
       "        [0.0000, 0.0000, 0.0000,  ..., 0.0814, 0.0000, 0.0000],\n",
       "        ...,\n",
       "        [0.0000, 0.0000, 0.0000,  ..., 0.0233, 0.0000, 0.0000],\n",
       "        [0.0162, 0.0000, 0.0000,  ..., 0.0520, 0.0037, 0.0000],\n",
       "        [0.0000, 0.1710, 0.0000,  ..., 0.2637, 0.0000, 0.0000]],\n",
       "       device='cuda:0', grad_fn=<SelectBackward0>)"
      ]
     },
     "execution_count": 12,
     "metadata": {},
     "output_type": "execute_result"
    }
   ],
   "source": [
    "cell_line_embedding[0][0] # pathway embedding"
   ]
  },
  {
   "cell_type": "code",
   "execution_count": 32,
   "id": "58044bc5",
   "metadata": {},
   "outputs": [
    {
     "data": {
      "text/plain": [
       "tensor([[1.5616, 3.6273, 0.0000, 1.3513, 0.0000, 0.0000, 0.0000, 0.6752, 0.0000,\n",
       "         0.0000, 0.0000, 0.0000, 0.0000, 0.4309, 0.0000, 0.0000, 1.1052, 0.0000,\n",
       "         0.0000, 0.0000, 0.0000, 0.0000, 1.9010, 0.2118, 0.0000, 0.0000, 0.0000,\n",
       "         0.0000, 0.0000, 0.0000, 0.0412, 0.0000, 0.0000, 0.0000, 0.0000, 0.0000,\n",
       "         0.0000, 0.0000, 0.0000, 0.9331, 0.0000, 0.0000, 0.0000, 0.0000, 0.0000,\n",
       "         0.0000, 0.1521, 0.0000, 0.0000, 0.0000, 0.0000, 2.5415, 0.0000, 0.0000,\n",
       "         0.0000, 0.0000, 0.0999, 0.3229, 0.0000, 0.0000, 1.9148, 0.0000, 0.0000,\n",
       "         0.0000, 0.0000, 0.0000, 0.0000, 0.0000, 0.0000, 0.0000, 0.0000, 0.0000,\n",
       "         0.0000, 0.0000, 2.1435, 0.0000, 0.8447, 0.0000, 0.0000, 0.0000, 2.5891,\n",
       "         0.0000, 0.0000, 0.0000, 0.0000, 0.0000, 1.5204, 3.1954, 0.0000, 0.0000,\n",
       "         0.0000, 0.0000, 0.0000, 0.0000, 0.0000, 0.6793, 0.0000, 2.0086, 0.0000,\n",
       "         3.1758, 0.0000, 0.0000, 0.0000, 0.0000, 0.0000, 0.0000, 0.2297, 0.0000,\n",
       "         2.3737, 0.0000, 0.0000, 0.0599, 0.0000, 0.0000, 0.0000, 0.0000, 0.0000,\n",
       "         0.0000, 0.6670, 0.0000, 0.0000, 0.2545, 0.0000, 2.9105, 0.0000, 0.0000,\n",
       "         0.0000, 0.0000, 0.0000, 0.0000, 0.0718, 0.7658, 0.0000, 0.0000, 0.4744,\n",
       "         0.0000, 0.0000, 0.0000, 0.0000, 0.0000, 0.0000, 0.0000, 0.0000, 0.0000,\n",
       "         0.0000, 0.0000, 0.6922, 0.0000, 1.4242, 0.0000, 0.0000, 0.8703, 0.0000,\n",
       "         0.0000, 0.0000, 0.7118, 0.0000, 0.0000, 0.0000, 0.0000, 0.7621, 0.0000,\n",
       "         0.0000, 0.0000, 0.0000, 0.0000, 0.0000, 0.2258, 0.0000, 1.3156, 0.4473,\n",
       "         0.0000, 0.0000, 0.0000, 0.0000, 0.2882, 0.6703, 0.0000, 0.0000, 0.0000,\n",
       "         0.0000, 0.0000, 2.3584, 0.0000, 0.0000, 0.0000, 0.0000, 0.0000, 0.0000,\n",
       "         0.0000, 0.0000, 0.0000, 0.0000, 0.0000, 0.0000, 0.0000, 0.0000, 0.0000,\n",
       "         0.0000, 0.0000, 0.9919, 0.0000, 0.0000, 0.0000, 0.0000, 0.0000, 0.0000,\n",
       "         0.0000, 0.0000, 0.0000, 0.0000, 0.0000, 0.0000, 0.0000, 0.0000, 0.0419,\n",
       "         0.0000, 0.0000, 0.8842, 0.0000, 0.0000, 0.0000, 0.0000, 0.0000, 0.0000,\n",
       "         0.0000, 0.0000, 0.0000, 0.0000, 0.0000, 0.0000, 0.0000, 0.0000, 0.0000,\n",
       "         0.1953, 0.0000, 0.0000, 0.0664, 0.0000, 0.0000, 0.0000, 0.0000, 0.0000,\n",
       "         0.0000, 0.8094, 0.0000, 0.7690, 0.0000, 0.0000, 2.1576, 0.0000, 0.0000,\n",
       "         0.0000, 0.0000, 0.0000, 0.0000]], device='cuda:0',\n",
       "       grad_fn=<ReluBackward0>)"
      ]
     },
     "execution_count": 32,
     "metadata": {},
     "output_type": "execute_result"
    }
   ],
   "source": [
    "embedding(model, \"JW-7-24-1\", \"ACH-000001\", drug_dict, cell_dict, edge_index, args)[0] # drug embedding"
   ]
  },
  {
   "cell_type": "code",
   "execution_count": 14,
   "id": "2b57762a",
   "metadata": {},
   "outputs": [
    {
     "data": {
      "text/plain": [
       "tensor([[1.5616, 3.6273, 0.0000, 1.3513, 0.0000, 0.0000, 0.0000, 0.6752, 0.0000,\n",
       "         0.0000, 0.0000, 0.0000, 0.0000, 0.4309, 0.0000, 0.0000, 1.1052, 0.0000,\n",
       "         0.0000, 0.0000, 0.0000, 0.0000, 1.9010, 0.2118, 0.0000, 0.0000, 0.0000,\n",
       "         0.0000, 0.0000, 0.0000, 0.0412, 0.0000, 0.0000, 0.0000, 0.0000, 0.0000,\n",
       "         0.0000, 0.0000, 0.0000, 0.9331, 0.0000, 0.0000, 0.0000, 0.0000, 0.0000,\n",
       "         0.0000, 0.1521, 0.0000, 0.0000, 0.0000, 0.0000, 2.5415, 0.0000, 0.0000,\n",
       "         0.0000, 0.0000, 0.0999, 0.3229, 0.0000, 0.0000, 1.9148, 0.0000, 0.0000,\n",
       "         0.0000, 0.0000, 0.0000, 0.0000, 0.0000, 0.0000, 0.0000, 0.0000, 0.0000,\n",
       "         0.0000, 0.0000, 2.1435, 0.0000, 0.8447, 0.0000, 0.0000, 0.0000, 2.5891,\n",
       "         0.0000, 0.0000, 0.0000, 0.0000, 0.0000, 1.5204, 3.1954, 0.0000, 0.0000,\n",
       "         0.0000, 0.0000, 0.0000, 0.0000, 0.0000, 0.6793, 0.0000, 2.0086, 0.0000,\n",
       "         3.1758, 0.0000, 0.0000, 0.0000, 0.0000, 0.0000, 0.0000, 0.2297, 0.0000,\n",
       "         2.3737, 0.0000, 0.0000, 0.0599, 0.0000, 0.0000, 0.0000, 0.0000, 0.0000,\n",
       "         0.0000, 0.6670, 0.0000, 0.0000, 0.2545, 0.0000, 2.9105, 0.0000, 0.0000,\n",
       "         0.0000, 0.0000, 0.0000, 0.0000, 0.0718, 0.7658, 0.0000, 0.0000, 0.4744,\n",
       "         0.0000, 0.0000, 0.0000, 0.0000, 0.0000, 0.0000, 0.0000, 0.0000, 0.0000,\n",
       "         0.0000, 0.0000, 0.6922, 0.0000, 1.4242, 0.0000, 0.0000, 0.8703, 0.0000,\n",
       "         0.0000, 0.0000, 0.7118, 0.0000, 0.0000, 0.0000, 0.0000, 0.7621, 0.0000,\n",
       "         0.0000, 0.0000, 0.0000, 0.0000, 0.0000, 0.2258, 0.0000, 1.3156, 0.4473,\n",
       "         0.0000, 0.0000, 0.0000, 0.0000, 0.2882, 0.6703, 0.0000, 0.0000, 0.0000,\n",
       "         0.0000, 0.0000, 2.3584, 0.0000, 0.0000, 0.0000, 0.0000, 0.0000, 0.0000,\n",
       "         0.0000, 0.0000, 0.0000, 0.0000, 0.0000, 0.0000, 0.0000, 0.0000, 0.0000,\n",
       "         0.0000, 0.0000, 0.9919, 0.0000, 0.0000, 0.0000, 0.0000, 0.0000, 0.0000,\n",
       "         0.0000, 0.0000, 0.0000, 0.0000, 0.0000, 0.0000, 0.0000, 0.0000, 0.0419,\n",
       "         0.0000, 0.0000, 0.8842, 0.0000, 0.0000, 0.0000, 0.0000, 0.0000, 0.0000,\n",
       "         0.0000, 0.0000, 0.0000, 0.0000, 0.0000, 0.0000, 0.0000, 0.0000, 0.0000,\n",
       "         0.1953, 0.0000, 0.0000, 0.0664, 0.0000, 0.0000, 0.0000, 0.0000, 0.0000,\n",
       "         0.0000, 0.8094, 0.0000, 0.7690, 0.0000, 0.0000, 2.1576, 0.0000, 0.0000,\n",
       "         0.0000, 0.0000, 0.0000, 0.0000]], device='cuda:0',\n",
       "       grad_fn=<ReluBackward0>)"
      ]
     },
     "execution_count": 14,
     "metadata": {},
     "output_type": "execute_result"
    }
   ],
   "source": [
    "embedding(model, \"JW-7-24-1\", \"ACH-000002\", drug_dict, cell_dict, edge_index, args)[0] # drug embedding"
   ]
  },
  {
   "cell_type": "code",
   "execution_count": 15,
   "id": "abca0264",
   "metadata": {},
   "outputs": [
    {
     "data": {
      "text/plain": [
       "{'training': False,\n",
       " '_parameters': OrderedDict(),\n",
       " '_buffers': OrderedDict(),\n",
       " '_non_persistent_buffers_set': set(),\n",
       " '_backward_hooks': OrderedDict(),\n",
       " '_is_full_backward_hook': None,\n",
       " '_forward_hooks': OrderedDict(),\n",
       " '_forward_pre_hooks': OrderedDict(),\n",
       " '_state_dict_hooks': OrderedDict(),\n",
       " '_load_state_dict_pre_hooks': OrderedDict(),\n",
       " '_load_state_dict_post_hooks': OrderedDict(),\n",
       " '_modules': OrderedDict([('convs_cell',\n",
       "               ModuleList(\n",
       "                 (0): GATConv(2, 8, heads=1)\n",
       "                 (1): GATConv(8, 8, heads=1)\n",
       "                 (2): GATConv(8, 8, heads=1)\n",
       "               ))]),\n",
       " 'num_feature': 2,\n",
       " 'layer_cell': 3,\n",
       " 'dim_cell': 8,\n",
       " 'final_node': 4787}"
      ]
     },
     "execution_count": 15,
     "metadata": {},
     "output_type": "execute_result"
    }
   ],
   "source": [
    "model.CellEncoder.__dict__"
   ]
  },
  {
   "cell_type": "code",
   "execution_count": 16,
   "id": "9e68c8ce",
   "metadata": {},
   "outputs": [
    {
     "data": {
      "text/plain": [
       "tensor([[-0.1148,  1.6609],\n",
       "        [-0.2015, -0.0702],\n",
       "        [-0.0762, -1.4185],\n",
       "        ...,\n",
       "        [-0.1587, -1.5888],\n",
       "        [-0.2880,  1.8395],\n",
       "        [ 3.2455,  1.2880]])"
      ]
     },
     "execution_count": 16,
     "metadata": {},
     "output_type": "execute_result"
    }
   ],
   "source": [
    "example.x"
   ]
  },
  {
   "cell_type": "code",
   "execution_count": 17,
   "id": "aadb8900",
   "metadata": {},
   "outputs": [],
   "source": [
    "cell = Batch.from_data_list([cell_dict[\"ACH-000001\"]]).to(args.device)"
   ]
  },
  {
   "cell_type": "code",
   "execution_count": 18,
   "id": "32eaab21",
   "metadata": {},
   "outputs": [
    {
     "data": {
      "text/plain": [
       "DataBatch(x=[4787, 2], x_mask=[2, 4787], edge_index=[2, 12244], batch=[4787], ptr=[2])"
      ]
     },
     "execution_count": 18,
     "metadata": {},
     "output_type": "execute_result"
    }
   ],
   "source": [
    "cell"
   ]
  },
  {
   "cell_type": "code",
   "execution_count": 19,
   "id": "156ae8cf",
   "metadata": {},
   "outputs": [
    {
     "data": {
      "text/plain": [
       "torch.Size([1, 38296])"
      ]
     },
     "execution_count": 19,
     "metadata": {},
     "output_type": "execute_result"
    }
   ],
   "source": [
    "model.CellEncoder(cell).shape"
   ]
  },
  {
   "cell_type": "code",
   "execution_count": 20,
   "id": "8052dd29",
   "metadata": {},
   "outputs": [
    {
     "data": {
      "text/plain": [
       "tensor([[0.0000, 0.0534, 0.0070,  ..., 1.9601, 0.0000, 0.4613]],\n",
       "       device='cuda:0', grad_fn=<ReshapeAliasBackward0>)"
      ]
     },
     "execution_count": 20,
     "metadata": {},
     "output_type": "execute_result"
    }
   ],
   "source": [
    "cell = Batch.from_data_list([cell_dict[\"ACH-000001\"]]).to(args.device)\n",
    "model.CellEncoder(cell)"
   ]
  },
  {
   "cell_type": "code",
   "execution_count": 21,
   "id": "5d6c9a49",
   "metadata": {},
   "outputs": [
    {
     "data": {
      "text/plain": [
       "tensor([0.0000, 0.0534, 0.0070, 0.0000, 0.0454, 0.0612, 0.0000, 0.0000],\n",
       "       device='cuda:0', grad_fn=<SliceBackward0>)"
      ]
     },
     "execution_count": 21,
     "metadata": {},
     "output_type": "execute_result"
    }
   ],
   "source": [
    "cell = Batch.from_data_list([cell_dict[\"ACH-000001\"]]).to(args.device)\n",
    "model.CellEncoder(cell)[0][:8]"
   ]
  },
  {
   "cell_type": "code",
   "execution_count": 22,
   "id": "15427a09",
   "metadata": {},
   "outputs": [
    {
     "data": {
      "text/plain": [
       "tensor([0.0292, 0.1049, 0.0000, 0.0000, 0.0542, 0.0929, 0.0000, 0.0000],\n",
       "       device='cuda:0', grad_fn=<SliceBackward0>)"
      ]
     },
     "execution_count": 22,
     "metadata": {},
     "output_type": "execute_result"
    }
   ],
   "source": [
    "cell = Batch.from_data_list([cell_dict[\"ACH-000002\"]]).to(args.device)\n",
    "model.CellEncoder(cell)[0][:8]"
   ]
  },
  {
   "cell_type": "code",
   "execution_count": 23,
   "id": "fea61bd2",
   "metadata": {},
   "outputs": [
    {
     "data": {
      "text/plain": [
       "tensor(9574)"
      ]
     },
     "execution_count": 23,
     "metadata": {},
     "output_type": "execute_result"
    }
   ],
   "source": [
    "gene_list.sum()"
   ]
  },
  {
   "cell_type": "code",
   "execution_count": 24,
   "id": "c12b5e55",
   "metadata": {},
   "outputs": [],
   "source": [
    "import pickle\n",
    "with open('Data/Cell/34pathway_score990_isolated.pkl', 'rb') as file:\n",
    "    kegg = pickle.load(file)"
   ]
  },
  {
   "cell_type": "code",
   "execution_count": 25,
   "id": "07f0350f",
   "metadata": {},
   "outputs": [
    {
     "data": {
      "text/plain": [
       "4787"
      ]
     },
     "execution_count": 25,
     "metadata": {},
     "output_type": "execute_result"
    }
   ],
   "source": [
    "sum(list(map(lambda x: len(x),kegg.values())))"
   ]
  },
  {
   "cell_type": "code",
   "execution_count": 26,
   "id": "abc5da2a",
   "metadata": {},
   "outputs": [
    {
     "data": {
      "text/plain": [
       "tensor([[0.0000, 0.0000, 0.0000,  ..., 0.0262, 0.0000, 0.0000],\n",
       "        [0.0000, 0.0000, 0.0000,  ..., 0.0665, 0.0000, 0.0000],\n",
       "        [0.0000, 0.0000, 0.0000,  ..., 0.0814, 0.0000, 0.0000],\n",
       "        ...,\n",
       "        [0.0000, 0.0000, 0.0000,  ..., 0.0233, 0.0000, 0.0000],\n",
       "        [0.0162, 0.0000, 0.0000,  ..., 0.0520, 0.0037, 0.0000],\n",
       "        [0.0000, 0.1710, 0.0000,  ..., 0.2637, 0.0000, 0.0000]],\n",
       "       device='cuda:0', grad_fn=<SelectBackward0>)"
      ]
     },
     "execution_count": 26,
     "metadata": {},
     "output_type": "execute_result"
    }
   ],
   "source": [
    "embedding(model, \"JW-7-24-1\", \"ACH-000001\", drug_dict, cell_dict, edge_index, args)[1][0][0] # pathway embedding"
   ]
  },
  {
   "cell_type": "code",
   "execution_count": 27,
   "id": "03fada51",
   "metadata": {},
   "outputs": [
    {
     "data": {
      "text/plain": [
       "tensor([[0.0000, 0.0000, 0.0000,  ..., 0.0262, 0.0000, 0.0000],\n",
       "        [0.0000, 0.0000, 0.0000,  ..., 0.0665, 0.0000, 0.0000],\n",
       "        [0.0000, 0.0000, 0.0000,  ..., 0.0814, 0.0000, 0.0000],\n",
       "        ...,\n",
       "        [0.0000, 0.0000, 0.0000,  ..., 0.0233, 0.0000, 0.0000],\n",
       "        [0.0162, 0.0000, 0.0000,  ..., 0.0520, 0.0037, 0.0000],\n",
       "        [0.0000, 0.1710, 0.0000,  ..., 0.2637, 0.0000, 0.0000]],\n",
       "       device='cuda:0', grad_fn=<SelectBackward0>)"
      ]
     },
     "execution_count": 27,
     "metadata": {},
     "output_type": "execute_result"
    }
   ],
   "source": [
    "embedding(model, \"KIN001-260\", \"ACH-000001\", drug_dict, cell_dict, edge_index, args)[1][0][0]"
   ]
  },
  {
   "cell_type": "code",
   "execution_count": 28,
   "id": "f6cf0a6f",
   "metadata": {},
   "outputs": [
    {
     "data": {
      "text/plain": [
       "tensor([[0.0000, 0.0000, 0.0023,  ..., 0.0021, 0.0000, 0.0000],\n",
       "        [0.0000, 0.0000, 0.0000,  ..., 0.1040, 0.0000, 0.0000],\n",
       "        [0.0000, 0.0000, 0.0000,  ..., 0.0507, 0.0000, 0.0000],\n",
       "        ...,\n",
       "        [0.0000, 0.0000, 0.0000,  ..., 0.0650, 0.0000, 0.0000],\n",
       "        [0.0000, 0.0000, 0.0000,  ..., 0.1395, 0.0000, 0.0000],\n",
       "        [0.0000, 0.0000, 0.0000,  ..., 0.0000, 0.0515, 0.0097]],\n",
       "       device='cuda:0', grad_fn=<SelectBackward0>)"
      ]
     },
     "execution_count": 28,
     "metadata": {},
     "output_type": "execute_result"
    }
   ],
   "source": [
    "embedding(model, \"JW-7-24-1\", \"ACH-000002\", drug_dict, cell_dict, edge_index, args)[1][0][0]"
   ]
  },
  {
   "cell_type": "code",
   "execution_count": 29,
   "id": "111c0761",
   "metadata": {},
   "outputs": [
    {
     "data": {
      "text/plain": [
       "692"
      ]
     },
     "execution_count": 29,
     "metadata": {},
     "output_type": "execute_result"
    }
   ],
   "source": [
    "len(data.DepMap_ID.unique())"
   ]
  },
  {
   "cell_type": "code",
   "execution_count": 30,
   "id": "251de8fb",
   "metadata": {},
   "outputs": [
    {
     "data": {
      "text/plain": [
       "torch.Size([2, 1, 35, 256])"
      ]
     },
     "execution_count": 30,
     "metadata": {},
     "output_type": "execute_result"
    }
   ],
   "source": [
    "embedding(model, \"JW-7-24-1\", \"ACH-000002\", drug_dict, cell_dict, edge_index, args)[1].shape"
   ]
  },
  {
   "cell_type": "code",
   "execution_count": 31,
   "id": "0492a8df",
   "metadata": {},
   "outputs": [],
   "source": [
    "cell_line_embedding_dict = {}\n",
    "for cell_line in list(data.DepMap_ID.unique()):\n",
    "    cell_line_embedding_dict[cell_line] = embedding(model, \"KIN001-260\", cell_line, \n",
    "                                                    drug_dict, cell_dict, edge_index, args)[1]"
   ]
  },
  {
   "cell_type": "code",
   "execution_count": 33,
   "id": "b4d7869a",
   "metadata": {},
   "outputs": [],
   "source": [
    "with open('cell_line_embedding_dict_seg_comb.pickle', 'wb') as file:\n",
    "    pickle.dump(cell_line_embedding_dict, file)"
   ]
  },
  {
   "cell_type": "code",
   "execution_count": 34,
   "id": "22ff4fd0",
   "metadata": {},
   "outputs": [],
   "source": [
    "with open('cell_line_embedding_dict_seg_comb.pickle', 'rb') as file:\n",
    "    cell_line_embedding_dict = pickle.load(file)"
   ]
  },
  {
   "cell_type": "code",
   "execution_count": 35,
   "id": "0c15f13c",
   "metadata": {},
   "outputs": [
    {
     "data": {
      "text/plain": [
       "torch.Size([2, 1, 35, 256])"
      ]
     },
     "execution_count": 35,
     "metadata": {},
     "output_type": "execute_result"
    }
   ],
   "source": [
    "cell_line_embedding_dict['ACH-000001'].shape"
   ]
  },
  {
   "cell_type": "code",
   "execution_count": 36,
   "id": "7c082eb9",
   "metadata": {},
   "outputs": [
    {
     "data": {
      "text/plain": [
       "385"
      ]
     },
     "execution_count": 36,
     "metadata": {},
     "output_type": "execute_result"
    }
   ],
   "source": [
    "len(data[\"Drug name\"].unique())"
   ]
  },
  {
   "cell_type": "code",
   "execution_count": 37,
   "id": "7bf6760d",
   "metadata": {},
   "outputs": [],
   "source": [
    "drug_embedding_dict = {}\n",
    "for drug in list(data[\"Drug name\"].unique()):\n",
    "    drug_embedding_dict[drug] = embedding(model, drug, 'ACH-000001', \n",
    "                                                    drug_dict, cell_dict, edge_index, args)[0]"
   ]
  },
  {
   "cell_type": "code",
   "execution_count": 38,
   "id": "9f418ce2",
   "metadata": {},
   "outputs": [],
   "source": [
    "with open('drug_embedding_dict_seg_comb.pickle', 'wb') as file:\n",
    "    pickle.dump(drug_embedding_dict, file)"
   ]
  },
  {
   "cell_type": "code",
   "execution_count": 39,
   "id": "ca2a47a1",
   "metadata": {},
   "outputs": [],
   "source": [
    "with open('drug_embedding_dict_seg_comb.pickle', 'rb') as file:\n",
    "    drug_embedding_dict = pickle.load(file)"
   ]
  },
  {
   "cell_type": "code",
   "execution_count": 40,
   "id": "0b75415b",
   "metadata": {},
   "outputs": [
    {
     "data": {
      "text/plain": [
       "torch.Size([1, 256])"
      ]
     },
     "execution_count": 40,
     "metadata": {},
     "output_type": "execute_result"
    }
   ],
   "source": [
    "drug_embedding_dict['JW-7-24-1'].shape"
   ]
  },
  {
   "cell_type": "code",
   "execution_count": null,
   "id": "2e9eeaee",
   "metadata": {},
   "outputs": [],
   "source": []
  }
 ],
 "metadata": {
  "kernelspec": {
   "display_name": "drpreter_venv",
   "language": "python",
   "name": "drpreter_venv"
  },
  "language_info": {
   "codemirror_mode": {
    "name": "ipython",
    "version": 3
   },
   "file_extension": ".py",
   "mimetype": "text/x-python",
   "name": "python",
   "nbconvert_exporter": "python",
   "pygments_lexer": "ipython3",
   "version": "3.9.12"
  }
 },
 "nbformat": 4,
 "nbformat_minor": 5
}
