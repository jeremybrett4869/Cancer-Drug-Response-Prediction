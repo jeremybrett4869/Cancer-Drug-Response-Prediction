{
 "cells": [
  {
   "cell_type": "code",
   "execution_count": 1,
   "id": "134f4c28",
   "metadata": {},
   "outputs": [],
   "source": [
    "import pandas as pd\n",
    "\n",
    "import matplotlib\n",
    "from matplotlib import pyplot as plt\n",
    "\n",
    "import numpy as np\n",
    "\n",
    "import math\n",
    "from sklearn.metrics import r2_score, mean_squared_error"
   ]
  },
  {
   "cell_type": "code",
   "execution_count": 2,
   "id": "b2e16fb6",
   "metadata": {},
   "outputs": [
    {
     "name": "stdout",
     "output_type": "stream",
     "text": [
      "mut data results:\n",
      "r2_score: 0.5148625240808284\n",
      "rmse: 0.12773411671049478\n",
      "-------------------------------------------------\n",
      "cnv data results:\n",
      "r2_score: 0.5748206424004773\n",
      "rmse: 0.11958055994913877\n",
      "-------------------------------------------------\n",
      "comb data results:\n",
      "r2_score: 0.5429632376150739\n",
      "rmse: 0.12397955245366513\n",
      "-------------------------------------------------\n",
      "seg_cnv data results:\n",
      "r2_score: 0.5697519452183927\n",
      "rmse: 0.12029122698235188\n",
      "-------------------------------------------------\n",
      "seg_comb data results:\n",
      "r2_score: 0.5689761148244341\n",
      "rmse: 0.12039963369716564\n",
      "-------------------------------------------------\n"
     ]
    }
   ],
   "source": [
    "mapping_dict = {1:\"mut\",2:\"cnv\",3:\"comb\",4:\"seg_cnv\",5:\"seg_comb\"}\n",
    "for i in range(1, 6):\n",
    "    \n",
    "    print(mapping_dict[i]+\" data results:\")\n",
    "    # without sim\n",
    "    results = pd.read_csv(f\"Results_0308/Result_{i}/results_df_20_epochs_seed42.csv\", delimiter='\\t')\n",
    "    results = results.drop_duplicates().reset_index(drop = True)\n",
    "    results = results.iloc[results[[\"y_true\",\"y_cell\",\"y_drug\"]].drop_duplicates().index].reset_index(drop = True)\n",
    "    \n",
    "    print(\"r2_score:\", r2_score(results.y_true,results.y_pred))\n",
    "    print(\"rmse:\", math.sqrt(mean_squared_error(results.y_true,results.y_pred)))\n",
    "    \n",
    "    print(\"-------------------------------------------------\")"
   ]
  },
  {
   "cell_type": "code",
   "execution_count": 3,
   "id": "0a2829d0",
   "metadata": {},
   "outputs": [
    {
     "name": "stdout",
     "output_type": "stream",
     "text": [
      "mut data results:\n",
      "r2_score: 0.4817085648612399\n",
      "rmse: 0.13202662242089244\n",
      "-------------------------------------------------\n",
      "cnv data results:\n",
      "r2_score: 0.5632846050140308\n",
      "rmse: 0.12119194288989545\n",
      "-------------------------------------------------\n",
      "comb data results:\n",
      "r2_score: 0.4991741037639167\n",
      "rmse: 0.12978302288173904\n",
      "-------------------------------------------------\n",
      "seg_cnv data results:\n",
      "r2_score: 0.5532651651522346\n",
      "rmse: 0.12257429564041766\n",
      "-------------------------------------------------\n",
      "seg_comb data results:\n",
      "r2_score: 0.5092152614411855\n",
      "rmse: 0.12847541278648816\n",
      "-------------------------------------------------\n"
     ]
    }
   ],
   "source": [
    "mapping_dict = {1:\"mut\",2:\"cnv\",3:\"comb\",4:\"seg_cnv\",5:\"seg_comb\"}\n",
    "for i in range(1, 6):\n",
    "    \n",
    "    print(mapping_dict[i]+\" data results:\")\n",
    "    # with sim\n",
    "    results = pd.read_csv(f\"Results_0308/Result_{i}/results_sim_df_20_epochs_seed42.csv\", delimiter='\\t')\n",
    "    results = results.drop_duplicates().reset_index(drop = True)\n",
    "    results = results.iloc[results[[\"y_true\",\"y_cell\",\"y_drug\"]].drop_duplicates().index].reset_index(drop = True)\n",
    "    \n",
    "    print(\"r2_score:\", r2_score(results.y_true,results.y_pred))\n",
    "    print(\"rmse:\", math.sqrt(mean_squared_error(results.y_true,results.y_pred)))\n",
    "    \n",
    "    print(\"-------------------------------------------------\")"
   ]
  },
  {
   "cell_type": "code",
   "execution_count": null,
   "id": "a41b7923",
   "metadata": {},
   "outputs": [],
   "source": []
  }
 ],
 "metadata": {
  "kernelspec": {
   "display_name": "Python 3 (ipykernel)",
   "language": "python",
   "name": "python3"
  },
  "language_info": {
   "codemirror_mode": {
    "name": "ipython",
    "version": 3
   },
   "file_extension": ".py",
   "mimetype": "text/x-python",
   "name": "python",
   "nbconvert_exporter": "python",
   "pygments_lexer": "ipython3",
   "version": "3.10.2"
  }
 },
 "nbformat": 4,
 "nbformat_minor": 5
}
