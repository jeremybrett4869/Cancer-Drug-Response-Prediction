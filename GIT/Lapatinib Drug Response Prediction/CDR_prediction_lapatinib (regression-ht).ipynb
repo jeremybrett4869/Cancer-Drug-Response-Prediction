{
 "cells": [
  {
   "cell_type": "code",
   "execution_count": 1,
   "id": "85918a1a",
   "metadata": {},
   "outputs": [],
   "source": [
    "import numpy as np\n",
    "import pandas as pd\n",
    "\n",
    "# gene embeddings except TERC\n",
    "gene_embeddings_324 = np.load('gene_emb_pretrain_324_ht.npy')"
   ]
  },
  {
   "cell_type": "code",
   "execution_count": 2,
   "id": "d4d8ef64",
   "metadata": {},
   "outputs": [],
   "source": [
    "import json\n",
    "\n",
    "f = open('new_idx2sga.txt')\n",
    "\n",
    "new_idx2sga = json.load(f)\n",
    "new_sga2idx = {new_idx2sga[i]:i for i in new_idx2sga.keys()}"
   ]
  },
  {
   "cell_type": "code",
   "execution_count": 3,
   "id": "3afa6ed8",
   "metadata": {},
   "outputs": [
    {
     "data": {
      "text/html": [
       "<div>\n",
       "<style scoped>\n",
       "    .dataframe tbody tr th:only-of-type {\n",
       "        vertical-align: middle;\n",
       "    }\n",
       "\n",
       "    .dataframe tbody tr th {\n",
       "        vertical-align: top;\n",
       "    }\n",
       "\n",
       "    .dataframe thead th {\n",
       "        text-align: right;\n",
       "    }\n",
       "</style>\n",
       "<table border=\"1\" class=\"dataframe\">\n",
       "  <thead>\n",
       "    <tr style=\"text-align: right;\">\n",
       "      <th></th>\n",
       "      <th>DepMap_ID</th>\n",
       "      <th>ABL1</th>\n",
       "      <th>ACVR1B</th>\n",
       "      <th>AKT1</th>\n",
       "      <th>AKT2</th>\n",
       "      <th>AKT3</th>\n",
       "      <th>ALK</th>\n",
       "      <th>ALOX12B</th>\n",
       "      <th>FAM123B</th>\n",
       "      <th>APC</th>\n",
       "      <th>...</th>\n",
       "      <th>VHL</th>\n",
       "      <th>WHSC1</th>\n",
       "      <th>WHSC1L1</th>\n",
       "      <th>WT1</th>\n",
       "      <th>XPO1</th>\n",
       "      <th>XRCC2</th>\n",
       "      <th>ZNF217</th>\n",
       "      <th>ZNF703</th>\n",
       "      <th>TERC</th>\n",
       "      <th>AUC</th>\n",
       "    </tr>\n",
       "  </thead>\n",
       "  <tbody>\n",
       "    <tr>\n",
       "      <th>0</th>\n",
       "      <td>ACH-000001</td>\n",
       "      <td>0.0</td>\n",
       "      <td>0.0</td>\n",
       "      <td>0.0</td>\n",
       "      <td>0.0</td>\n",
       "      <td>0.0</td>\n",
       "      <td>0.0</td>\n",
       "      <td>0.0</td>\n",
       "      <td>0.0</td>\n",
       "      <td>0.0</td>\n",
       "      <td>...</td>\n",
       "      <td>0.0</td>\n",
       "      <td>0.0</td>\n",
       "      <td>1.0</td>\n",
       "      <td>0.0</td>\n",
       "      <td>0.0</td>\n",
       "      <td>0.0</td>\n",
       "      <td>0.0</td>\n",
       "      <td>0.0</td>\n",
       "      <td>0</td>\n",
       "      <td>0.984736</td>\n",
       "    </tr>\n",
       "    <tr>\n",
       "      <th>1</th>\n",
       "      <td>ACH-000002</td>\n",
       "      <td>0.0</td>\n",
       "      <td>0.0</td>\n",
       "      <td>0.0</td>\n",
       "      <td>0.0</td>\n",
       "      <td>0.0</td>\n",
       "      <td>0.0</td>\n",
       "      <td>0.0</td>\n",
       "      <td>0.0</td>\n",
       "      <td>0.0</td>\n",
       "      <td>...</td>\n",
       "      <td>0.0</td>\n",
       "      <td>0.0</td>\n",
       "      <td>0.0</td>\n",
       "      <td>0.0</td>\n",
       "      <td>0.0</td>\n",
       "      <td>0.0</td>\n",
       "      <td>0.0</td>\n",
       "      <td>0.0</td>\n",
       "      <td>0</td>\n",
       "      <td>0.987108</td>\n",
       "    </tr>\n",
       "    <tr>\n",
       "      <th>2</th>\n",
       "      <td>ACH-000004</td>\n",
       "      <td>0.0</td>\n",
       "      <td>0.0</td>\n",
       "      <td>0.0</td>\n",
       "      <td>0.0</td>\n",
       "      <td>0.0</td>\n",
       "      <td>0.0</td>\n",
       "      <td>0.0</td>\n",
       "      <td>0.0</td>\n",
       "      <td>0.0</td>\n",
       "      <td>...</td>\n",
       "      <td>0.0</td>\n",
       "      <td>0.0</td>\n",
       "      <td>0.0</td>\n",
       "      <td>0.0</td>\n",
       "      <td>0.0</td>\n",
       "      <td>0.0</td>\n",
       "      <td>0.0</td>\n",
       "      <td>1.0</td>\n",
       "      <td>0</td>\n",
       "      <td>0.991218</td>\n",
       "    </tr>\n",
       "    <tr>\n",
       "      <th>3</th>\n",
       "      <td>ACH-000006</td>\n",
       "      <td>0.0</td>\n",
       "      <td>0.0</td>\n",
       "      <td>0.0</td>\n",
       "      <td>0.0</td>\n",
       "      <td>0.0</td>\n",
       "      <td>0.0</td>\n",
       "      <td>0.0</td>\n",
       "      <td>0.0</td>\n",
       "      <td>0.0</td>\n",
       "      <td>...</td>\n",
       "      <td>0.0</td>\n",
       "      <td>0.0</td>\n",
       "      <td>0.0</td>\n",
       "      <td>0.0</td>\n",
       "      <td>0.0</td>\n",
       "      <td>0.0</td>\n",
       "      <td>0.0</td>\n",
       "      <td>0.0</td>\n",
       "      <td>0</td>\n",
       "      <td>0.971035</td>\n",
       "    </tr>\n",
       "    <tr>\n",
       "      <th>4</th>\n",
       "      <td>ACH-000007</td>\n",
       "      <td>0.0</td>\n",
       "      <td>0.0</td>\n",
       "      <td>0.0</td>\n",
       "      <td>0.0</td>\n",
       "      <td>0.0</td>\n",
       "      <td>1.0</td>\n",
       "      <td>0.0</td>\n",
       "      <td>0.0</td>\n",
       "      <td>0.0</td>\n",
       "      <td>...</td>\n",
       "      <td>0.0</td>\n",
       "      <td>0.0</td>\n",
       "      <td>0.0</td>\n",
       "      <td>0.0</td>\n",
       "      <td>0.0</td>\n",
       "      <td>0.0</td>\n",
       "      <td>0.0</td>\n",
       "      <td>0.0</td>\n",
       "      <td>0</td>\n",
       "      <td>0.982274</td>\n",
       "    </tr>\n",
       "  </tbody>\n",
       "</table>\n",
       "<p>5 rows × 326 columns</p>\n",
       "</div>"
      ],
      "text/plain": [
       "    DepMap_ID  ABL1  ACVR1B  AKT1  AKT2  AKT3  ALK  ALOX12B  FAM123B  APC  \\\n",
       "0  ACH-000001   0.0     0.0   0.0   0.0   0.0  0.0      0.0      0.0  0.0   \n",
       "1  ACH-000002   0.0     0.0   0.0   0.0   0.0  0.0      0.0      0.0  0.0   \n",
       "2  ACH-000004   0.0     0.0   0.0   0.0   0.0  0.0      0.0      0.0  0.0   \n",
       "3  ACH-000006   0.0     0.0   0.0   0.0   0.0  0.0      0.0      0.0  0.0   \n",
       "4  ACH-000007   0.0     0.0   0.0   0.0   0.0  1.0      0.0      0.0  0.0   \n",
       "\n",
       "   ...  VHL  WHSC1  WHSC1L1  WT1  XPO1  XRCC2  ZNF217  ZNF703  TERC       AUC  \n",
       "0  ...  0.0    0.0      1.0  0.0   0.0    0.0     0.0     0.0     0  0.984736  \n",
       "1  ...  0.0    0.0      0.0  0.0   0.0    0.0     0.0     0.0     0  0.987108  \n",
       "2  ...  0.0    0.0      0.0  0.0   0.0    0.0     0.0     1.0     0  0.991218  \n",
       "3  ...  0.0    0.0      0.0  0.0   0.0    0.0     0.0     0.0     0  0.971035  \n",
       "4  ...  0.0    0.0      0.0  0.0   0.0    0.0     0.0     0.0     0  0.982274  \n",
       "\n",
       "[5 rows x 326 columns]"
      ]
     },
     "execution_count": 3,
     "metadata": {},
     "output_type": "execute_result"
    }
   ],
   "source": [
    "mutation_df = pd.read_csv('../../data sets/mutations_raw_324_final.csv')\n",
    "cell_drug_df = pd.read_csv('../../data sets/cell_drug_auc_final_1111.csv')\n",
    "# LAPATINIB\n",
    "lapatinib_data_new = mutation_df.copy()\n",
    "lapatinib_data_new['AUC'] = cell_drug_df['LAPATINIB']\n",
    "lapatinib_data_new = lapatinib_data_new.loc[lapatinib_data_new.AUC > 0]\n",
    "lapatinib_data_new = lapatinib_data_new.reset_index(drop = True)\n",
    "lapatinib_data_new.head()"
   ]
  },
  {
   "cell_type": "code",
   "execution_count": 4,
   "id": "b0d01a79",
   "metadata": {},
   "outputs": [],
   "source": [
    "f = open(\"../../data sets/train_celllines_v1_1111.txt\", \"r\")\n",
    "train_barcode = list(map(lambda x: x[:-1], f.readlines()))\n",
    "\n",
    "f = open(\"../../data sets/test_celllines_v1_1111.txt\", \"r\")\n",
    "test_barcode = list(map(lambda x: x[:-1], f.readlines()))"
   ]
  },
  {
   "cell_type": "code",
   "execution_count": 5,
   "id": "12ff56ed",
   "metadata": {},
   "outputs": [],
   "source": [
    "train_index = lapatinib_data_new.loc[lapatinib_data_new.DepMap_ID.isin(train_barcode)].index.values\n",
    "test_index = lapatinib_data_new.loc[lapatinib_data_new.DepMap_ID.isin(test_barcode)].index.values"
   ]
  },
  {
   "cell_type": "code",
   "execution_count": 6,
   "id": "5a1af5e0",
   "metadata": {},
   "outputs": [
    {
     "data": {
      "text/plain": [
       "(650, 512)"
      ]
     },
     "execution_count": 6,
     "metadata": {},
     "output_type": "execute_result"
    }
   ],
   "source": [
    "sga_embeddings = []\n",
    "for i in range(len(lapatinib_data_new)):\n",
    "    mutation = []\n",
    "    for j in lapatinib_data_new.columns[1:-2]:\n",
    "        if lapatinib_data_new.loc[i, j] == 1:\n",
    "            mutation.append(int(new_sga2idx[j])+1)\n",
    "    sga_embeddings.append(np.array(np.sum(gene_embeddings_324[mutation], axis = 0)))\n",
    "sga_embeddings = np.array(sga_embeddings)\n",
    "sga_embeddings.shape"
   ]
  },
  {
   "cell_type": "code",
   "execution_count": 7,
   "id": "03cd529f",
   "metadata": {},
   "outputs": [
    {
     "data": {
      "text/html": [
       "<div>\n",
       "<style scoped>\n",
       "    .dataframe tbody tr th:only-of-type {\n",
       "        vertical-align: middle;\n",
       "    }\n",
       "\n",
       "    .dataframe tbody tr th {\n",
       "        vertical-align: top;\n",
       "    }\n",
       "\n",
       "    .dataframe thead th {\n",
       "        text-align: right;\n",
       "    }\n",
       "</style>\n",
       "<table border=\"1\" class=\"dataframe\">\n",
       "  <thead>\n",
       "    <tr style=\"text-align: right;\">\n",
       "      <th></th>\n",
       "      <th>0</th>\n",
       "      <th>1</th>\n",
       "      <th>2</th>\n",
       "      <th>3</th>\n",
       "      <th>4</th>\n",
       "      <th>5</th>\n",
       "      <th>6</th>\n",
       "      <th>7</th>\n",
       "      <th>8</th>\n",
       "      <th>9</th>\n",
       "      <th>...</th>\n",
       "      <th>503</th>\n",
       "      <th>504</th>\n",
       "      <th>505</th>\n",
       "      <th>506</th>\n",
       "      <th>507</th>\n",
       "      <th>508</th>\n",
       "      <th>509</th>\n",
       "      <th>510</th>\n",
       "      <th>511</th>\n",
       "      <th>AUC</th>\n",
       "    </tr>\n",
       "  </thead>\n",
       "  <tbody>\n",
       "    <tr>\n",
       "      <th>0</th>\n",
       "      <td>-0.416468</td>\n",
       "      <td>1.609976</td>\n",
       "      <td>-2.136673</td>\n",
       "      <td>0.431811</td>\n",
       "      <td>-0.903720</td>\n",
       "      <td>-0.080695</td>\n",
       "      <td>-2.481559</td>\n",
       "      <td>-0.631666</td>\n",
       "      <td>-0.844695</td>\n",
       "      <td>-1.361583</td>\n",
       "      <td>...</td>\n",
       "      <td>1.714644</td>\n",
       "      <td>-0.244924</td>\n",
       "      <td>2.067044</td>\n",
       "      <td>-0.819621</td>\n",
       "      <td>-0.395066</td>\n",
       "      <td>0.977033</td>\n",
       "      <td>1.332741</td>\n",
       "      <td>0.497226</td>\n",
       "      <td>-0.452736</td>\n",
       "      <td>0.984736</td>\n",
       "    </tr>\n",
       "    <tr>\n",
       "      <th>1</th>\n",
       "      <td>0.336405</td>\n",
       "      <td>1.482067</td>\n",
       "      <td>-0.229434</td>\n",
       "      <td>2.024394</td>\n",
       "      <td>0.794163</td>\n",
       "      <td>-0.002057</td>\n",
       "      <td>-0.286745</td>\n",
       "      <td>-0.546506</td>\n",
       "      <td>0.740201</td>\n",
       "      <td>-0.766789</td>\n",
       "      <td>...</td>\n",
       "      <td>1.324594</td>\n",
       "      <td>-1.303668</td>\n",
       "      <td>0.283176</td>\n",
       "      <td>-0.116461</td>\n",
       "      <td>-0.282119</td>\n",
       "      <td>-0.921863</td>\n",
       "      <td>-0.378839</td>\n",
       "      <td>0.569786</td>\n",
       "      <td>-1.249650</td>\n",
       "      <td>0.987108</td>\n",
       "    </tr>\n",
       "    <tr>\n",
       "      <th>2</th>\n",
       "      <td>1.558485</td>\n",
       "      <td>2.078349</td>\n",
       "      <td>-0.758606</td>\n",
       "      <td>-1.214817</td>\n",
       "      <td>0.666616</td>\n",
       "      <td>0.144464</td>\n",
       "      <td>-1.177057</td>\n",
       "      <td>0.606726</td>\n",
       "      <td>0.619151</td>\n",
       "      <td>-0.366571</td>\n",
       "      <td>...</td>\n",
       "      <td>1.512376</td>\n",
       "      <td>0.689376</td>\n",
       "      <td>-0.512899</td>\n",
       "      <td>-1.893188</td>\n",
       "      <td>-0.472608</td>\n",
       "      <td>1.435452</td>\n",
       "      <td>-0.547447</td>\n",
       "      <td>-0.377913</td>\n",
       "      <td>-1.415139</td>\n",
       "      <td>0.991218</td>\n",
       "    </tr>\n",
       "    <tr>\n",
       "      <th>3</th>\n",
       "      <td>-0.063309</td>\n",
       "      <td>-0.369380</td>\n",
       "      <td>0.545211</td>\n",
       "      <td>-0.894942</td>\n",
       "      <td>-0.124881</td>\n",
       "      <td>2.535035</td>\n",
       "      <td>-1.747852</td>\n",
       "      <td>-0.248305</td>\n",
       "      <td>0.308209</td>\n",
       "      <td>-0.876904</td>\n",
       "      <td>...</td>\n",
       "      <td>2.399000</td>\n",
       "      <td>0.420979</td>\n",
       "      <td>-0.327897</td>\n",
       "      <td>-0.265959</td>\n",
       "      <td>0.270470</td>\n",
       "      <td>2.640533</td>\n",
       "      <td>1.107515</td>\n",
       "      <td>-0.268399</td>\n",
       "      <td>0.320735</td>\n",
       "      <td>0.971035</td>\n",
       "    </tr>\n",
       "    <tr>\n",
       "      <th>4</th>\n",
       "      <td>-2.418199</td>\n",
       "      <td>1.907875</td>\n",
       "      <td>-2.069945</td>\n",
       "      <td>-1.403879</td>\n",
       "      <td>-0.761415</td>\n",
       "      <td>-0.270484</td>\n",
       "      <td>1.313799</td>\n",
       "      <td>0.077638</td>\n",
       "      <td>-1.134016</td>\n",
       "      <td>-1.280287</td>\n",
       "      <td>...</td>\n",
       "      <td>0.785548</td>\n",
       "      <td>-2.726915</td>\n",
       "      <td>-0.497010</td>\n",
       "      <td>1.897613</td>\n",
       "      <td>-1.131100</td>\n",
       "      <td>-0.681048</td>\n",
       "      <td>2.801827</td>\n",
       "      <td>-0.060734</td>\n",
       "      <td>1.584425</td>\n",
       "      <td>0.982274</td>\n",
       "    </tr>\n",
       "    <tr>\n",
       "      <th>...</th>\n",
       "      <td>...</td>\n",
       "      <td>...</td>\n",
       "      <td>...</td>\n",
       "      <td>...</td>\n",
       "      <td>...</td>\n",
       "      <td>...</td>\n",
       "      <td>...</td>\n",
       "      <td>...</td>\n",
       "      <td>...</td>\n",
       "      <td>...</td>\n",
       "      <td>...</td>\n",
       "      <td>...</td>\n",
       "      <td>...</td>\n",
       "      <td>...</td>\n",
       "      <td>...</td>\n",
       "      <td>...</td>\n",
       "      <td>...</td>\n",
       "      <td>...</td>\n",
       "      <td>...</td>\n",
       "      <td>...</td>\n",
       "      <td>...</td>\n",
       "    </tr>\n",
       "    <tr>\n",
       "      <th>645</th>\n",
       "      <td>-0.281619</td>\n",
       "      <td>-1.457946</td>\n",
       "      <td>0.369041</td>\n",
       "      <td>0.159422</td>\n",
       "      <td>-0.437067</td>\n",
       "      <td>0.021916</td>\n",
       "      <td>-0.907197</td>\n",
       "      <td>-0.411183</td>\n",
       "      <td>0.983676</td>\n",
       "      <td>0.853418</td>\n",
       "      <td>...</td>\n",
       "      <td>-1.467813</td>\n",
       "      <td>0.343385</td>\n",
       "      <td>-0.395625</td>\n",
       "      <td>1.014190</td>\n",
       "      <td>-0.291096</td>\n",
       "      <td>-0.589987</td>\n",
       "      <td>0.803814</td>\n",
       "      <td>-0.195150</td>\n",
       "      <td>-0.613084</td>\n",
       "      <td>0.985085</td>\n",
       "    </tr>\n",
       "    <tr>\n",
       "      <th>646</th>\n",
       "      <td>-1.383418</td>\n",
       "      <td>3.891608</td>\n",
       "      <td>1.207749</td>\n",
       "      <td>-3.565162</td>\n",
       "      <td>-0.191123</td>\n",
       "      <td>-0.057547</td>\n",
       "      <td>1.163719</td>\n",
       "      <td>2.088080</td>\n",
       "      <td>-0.285434</td>\n",
       "      <td>1.720273</td>\n",
       "      <td>...</td>\n",
       "      <td>-0.201829</td>\n",
       "      <td>-1.746228</td>\n",
       "      <td>-1.432961</td>\n",
       "      <td>-0.398487</td>\n",
       "      <td>0.947382</td>\n",
       "      <td>-1.334881</td>\n",
       "      <td>-1.745982</td>\n",
       "      <td>-0.401373</td>\n",
       "      <td>-0.651260</td>\n",
       "      <td>0.970532</td>\n",
       "    </tr>\n",
       "    <tr>\n",
       "      <th>647</th>\n",
       "      <td>0.406263</td>\n",
       "      <td>3.645568</td>\n",
       "      <td>1.523828</td>\n",
       "      <td>-0.688164</td>\n",
       "      <td>0.307904</td>\n",
       "      <td>-0.669041</td>\n",
       "      <td>-0.751360</td>\n",
       "      <td>-1.554179</td>\n",
       "      <td>0.763656</td>\n",
       "      <td>1.779633</td>\n",
       "      <td>...</td>\n",
       "      <td>1.441088</td>\n",
       "      <td>-0.921475</td>\n",
       "      <td>0.252298</td>\n",
       "      <td>-0.644621</td>\n",
       "      <td>1.521864</td>\n",
       "      <td>1.877739</td>\n",
       "      <td>0.552933</td>\n",
       "      <td>-1.058217</td>\n",
       "      <td>-0.025256</td>\n",
       "      <td>0.985580</td>\n",
       "    </tr>\n",
       "    <tr>\n",
       "      <th>648</th>\n",
       "      <td>3.032125</td>\n",
       "      <td>3.987071</td>\n",
       "      <td>0.988018</td>\n",
       "      <td>-0.166381</td>\n",
       "      <td>0.026873</td>\n",
       "      <td>-2.756047</td>\n",
       "      <td>0.977036</td>\n",
       "      <td>1.066496</td>\n",
       "      <td>0.388569</td>\n",
       "      <td>0.402670</td>\n",
       "      <td>...</td>\n",
       "      <td>0.274530</td>\n",
       "      <td>1.407055</td>\n",
       "      <td>0.041571</td>\n",
       "      <td>-0.997300</td>\n",
       "      <td>-0.683061</td>\n",
       "      <td>-0.621458</td>\n",
       "      <td>-0.047847</td>\n",
       "      <td>-0.769108</td>\n",
       "      <td>-0.444951</td>\n",
       "      <td>0.977712</td>\n",
       "    </tr>\n",
       "    <tr>\n",
       "      <th>649</th>\n",
       "      <td>2.020137</td>\n",
       "      <td>3.811641</td>\n",
       "      <td>-3.702158</td>\n",
       "      <td>2.693775</td>\n",
       "      <td>-0.484599</td>\n",
       "      <td>1.288294</td>\n",
       "      <td>-0.917623</td>\n",
       "      <td>0.387684</td>\n",
       "      <td>1.768715</td>\n",
       "      <td>0.977896</td>\n",
       "      <td>...</td>\n",
       "      <td>0.095152</td>\n",
       "      <td>-0.440522</td>\n",
       "      <td>0.059010</td>\n",
       "      <td>1.841789</td>\n",
       "      <td>-1.279967</td>\n",
       "      <td>0.787106</td>\n",
       "      <td>0.919251</td>\n",
       "      <td>0.387719</td>\n",
       "      <td>-1.732268</td>\n",
       "      <td>0.982671</td>\n",
       "    </tr>\n",
       "  </tbody>\n",
       "</table>\n",
       "<p>650 rows × 513 columns</p>\n",
       "</div>"
      ],
      "text/plain": [
       "            0         1         2         3         4         5         6  \\\n",
       "0   -0.416468  1.609976 -2.136673  0.431811 -0.903720 -0.080695 -2.481559   \n",
       "1    0.336405  1.482067 -0.229434  2.024394  0.794163 -0.002057 -0.286745   \n",
       "2    1.558485  2.078349 -0.758606 -1.214817  0.666616  0.144464 -1.177057   \n",
       "3   -0.063309 -0.369380  0.545211 -0.894942 -0.124881  2.535035 -1.747852   \n",
       "4   -2.418199  1.907875 -2.069945 -1.403879 -0.761415 -0.270484  1.313799   \n",
       "..        ...       ...       ...       ...       ...       ...       ...   \n",
       "645 -0.281619 -1.457946  0.369041  0.159422 -0.437067  0.021916 -0.907197   \n",
       "646 -1.383418  3.891608  1.207749 -3.565162 -0.191123 -0.057547  1.163719   \n",
       "647  0.406263  3.645568  1.523828 -0.688164  0.307904 -0.669041 -0.751360   \n",
       "648  3.032125  3.987071  0.988018 -0.166381  0.026873 -2.756047  0.977036   \n",
       "649  2.020137  3.811641 -3.702158  2.693775 -0.484599  1.288294 -0.917623   \n",
       "\n",
       "            7         8         9  ...       503       504       505  \\\n",
       "0   -0.631666 -0.844695 -1.361583  ...  1.714644 -0.244924  2.067044   \n",
       "1   -0.546506  0.740201 -0.766789  ...  1.324594 -1.303668  0.283176   \n",
       "2    0.606726  0.619151 -0.366571  ...  1.512376  0.689376 -0.512899   \n",
       "3   -0.248305  0.308209 -0.876904  ...  2.399000  0.420979 -0.327897   \n",
       "4    0.077638 -1.134016 -1.280287  ...  0.785548 -2.726915 -0.497010   \n",
       "..        ...       ...       ...  ...       ...       ...       ...   \n",
       "645 -0.411183  0.983676  0.853418  ... -1.467813  0.343385 -0.395625   \n",
       "646  2.088080 -0.285434  1.720273  ... -0.201829 -1.746228 -1.432961   \n",
       "647 -1.554179  0.763656  1.779633  ...  1.441088 -0.921475  0.252298   \n",
       "648  1.066496  0.388569  0.402670  ...  0.274530  1.407055  0.041571   \n",
       "649  0.387684  1.768715  0.977896  ...  0.095152 -0.440522  0.059010   \n",
       "\n",
       "          506       507       508       509       510       511       AUC  \n",
       "0   -0.819621 -0.395066  0.977033  1.332741  0.497226 -0.452736  0.984736  \n",
       "1   -0.116461 -0.282119 -0.921863 -0.378839  0.569786 -1.249650  0.987108  \n",
       "2   -1.893188 -0.472608  1.435452 -0.547447 -0.377913 -1.415139  0.991218  \n",
       "3   -0.265959  0.270470  2.640533  1.107515 -0.268399  0.320735  0.971035  \n",
       "4    1.897613 -1.131100 -0.681048  2.801827 -0.060734  1.584425  0.982274  \n",
       "..        ...       ...       ...       ...       ...       ...       ...  \n",
       "645  1.014190 -0.291096 -0.589987  0.803814 -0.195150 -0.613084  0.985085  \n",
       "646 -0.398487  0.947382 -1.334881 -1.745982 -0.401373 -0.651260  0.970532  \n",
       "647 -0.644621  1.521864  1.877739  0.552933 -1.058217 -0.025256  0.985580  \n",
       "648 -0.997300 -0.683061 -0.621458 -0.047847 -0.769108 -0.444951  0.977712  \n",
       "649  1.841789 -1.279967  0.787106  0.919251  0.387719 -1.732268  0.982671  \n",
       "\n",
       "[650 rows x 513 columns]"
      ]
     },
     "execution_count": 7,
     "metadata": {},
     "output_type": "execute_result"
    }
   ],
   "source": [
    "sga_emb_df = pd.DataFrame(sga_embeddings)\n",
    "sga_emb_df['AUC'] = lapatinib_data_new['AUC']#.apply(lambda x: 1-x)\n",
    "sga_emb_df"
   ]
  },
  {
   "cell_type": "code",
   "execution_count": 8,
   "id": "b6ce633c",
   "metadata": {},
   "outputs": [
    {
     "data": {
      "text/plain": [
       "LinearRegression()"
      ]
     },
     "execution_count": 8,
     "metadata": {},
     "output_type": "execute_result"
    }
   ],
   "source": [
    "from sklearn.linear_model import LinearRegression\n",
    "from sklearn.preprocessing import StandardScaler, MinMaxScaler\n",
    "from sklearn import metrics\n",
    "import matplotlib.pyplot as plt\n",
    "\n",
    "### using raw sparse SGA\n",
    "X = sga_emb_df.loc[:, sga_emb_df.columns != 'AUC'].to_numpy()\n",
    "y = sga_emb_df['AUC'].to_numpy()\n",
    "\n",
    "# from sklearn.model_selection import train_test_split\n",
    "X_train = X[train_index]\n",
    "y_train = y[train_index]\n",
    "X_test = X[test_index]\n",
    "y_test = y[test_index]\n",
    "\n",
    "scaler = StandardScaler()\n",
    "scaler.fit(X)\n",
    "X_train_scaled = scaler.transform(X_train)\n",
    "X_test_scaled = scaler.transform(X_test)\n",
    "\n",
    "lr_model = LinearRegression()\n",
    "lr_model.fit(X_train_scaled, y_train)"
   ]
  },
  {
   "cell_type": "code",
   "execution_count": 9,
   "id": "a5d55203",
   "metadata": {},
   "outputs": [
    {
     "data": {
      "text/plain": [
       "-1.0994175334309055"
      ]
     },
     "execution_count": 9,
     "metadata": {},
     "output_type": "execute_result"
    }
   ],
   "source": [
    "y_pred = lr_model.predict(X_test_scaled)\n",
    "\n",
    "from sklearn.metrics import r2_score\n",
    "r2_value = r2_score(y_test, y_pred) \n",
    "r2_value"
   ]
  },
  {
   "cell_type": "code",
   "execution_count": 10,
   "id": "157b5aa3",
   "metadata": {},
   "outputs": [
    {
     "data": {
      "text/plain": [
       "Text(0, 0.5, 'predicted_value')"
      ]
     },
     "execution_count": 10,
     "metadata": {},
     "output_type": "execute_result"
    },
    {
     "data": {
      "image/png": "[encoded data removed]",
      "text/plain": [
       "<Figure size 432x288 with 1 Axes>"
      ]
     },
     "metadata": {
      "needs_background": "light"
     },
     "output_type": "display_data"
    }
   ],
   "source": [
    "plt.scatter(y_test,y_pred,c='blue')\n",
    "plt.xlabel('test_value')\n",
    "plt.ylabel('predicted_value')"
   ]
  },
  {
   "cell_type": "code",
   "execution_count": 11,
   "id": "5ef893be",
   "metadata": {},
   "outputs": [
    {
     "data": {
      "text/plain": [
       "LinearRegression()"
      ]
     },
     "execution_count": 11,
     "metadata": {},
     "output_type": "execute_result"
    }
   ],
   "source": [
    "### using tanh embeddings\n",
    "X = sga_emb_df.loc[:, sga_emb_df.columns != 'AUC'].to_numpy()\n",
    "y = sga_emb_df['AUC'].to_numpy()\n",
    "\n",
    "X_train = X[train_index]\n",
    "y_train = y[train_index]\n",
    "X_test = X[test_index]\n",
    "y_test = y[test_index]\n",
    "\n",
    "X_train_scaled = np.tanh(X_train)\n",
    "X_test_scaled = np.tanh(X_test)\n",
    "\n",
    "lr_model = LinearRegression()\n",
    "lr_model.fit(X_train_scaled, y_train)"
   ]
  },
  {
   "cell_type": "code",
   "execution_count": 12,
   "id": "2b1cdce9",
   "metadata": {},
   "outputs": [
    {
     "data": {
      "text/plain": [
       "-1.9968628224394749"
      ]
     },
     "execution_count": 12,
     "metadata": {},
     "output_type": "execute_result"
    }
   ],
   "source": [
    "y_pred = lr_model.predict(X_test_scaled)\n",
    "\n",
    "from sklearn.metrics import r2_score\n",
    "r2_value = r2_score(y_test, y_pred)\n",
    "r2_value"
   ]
  },
  {
   "cell_type": "code",
   "execution_count": 13,
   "id": "893ce6b1",
   "metadata": {},
   "outputs": [
    {
     "data": {
      "text/plain": [
       "Text(0, 0.5, 'predicted_value')"
      ]
     },
     "execution_count": 13,
     "metadata": {},
     "output_type": "execute_result"
    },
    {
     "data": {
      "image/png": "[encoded data removed]",
      "text/plain": [
       "<Figure size 432x288 with 1 Axes>"
      ]
     },
     "metadata": {
      "needs_background": "light"
     },
     "output_type": "display_data"
    }
   ],
   "source": [
    "plt.scatter(y_test,y_pred,c='blue')\n",
    "plt.xlim(0.2, 1.2)\n",
    "plt.ylim(0.2, 1.2)\n",
    "plt.xlabel('test_value')\n",
    "plt.ylabel('predicted_value')"
   ]
  },
  {
   "cell_type": "code",
   "execution_count": 14,
   "id": "155b8640",
   "metadata": {},
   "outputs": [
    {
     "data": {
      "text/plain": [
       "LinearRegression()"
      ]
     },
     "execution_count": 14,
     "metadata": {},
     "output_type": "execute_result"
    }
   ],
   "source": [
    "### using mutation data\n",
    "X = lapatinib_data_new.loc[:, ~lapatinib_data_new.columns.isin([\"DepMap_ID\", \"AUC\", \"binary_AUC\"])].to_numpy()\n",
    "y = lapatinib_data_new['AUC'].to_numpy()\n",
    "\n",
    "X_train = X[train_index]\n",
    "y_train = y[train_index]\n",
    "X_test = X[test_index]\n",
    "y_test = y[test_index]\n",
    "\n",
    "lr_model = LinearRegression()\n",
    "lr_model.fit(X_train_scaled, y_train)"
   ]
  },
  {
   "cell_type": "code",
   "execution_count": 15,
   "id": "fa686488",
   "metadata": {},
   "outputs": [
    {
     "data": {
      "text/plain": [
       "-1.9968628224394749"
      ]
     },
     "execution_count": 15,
     "metadata": {},
     "output_type": "execute_result"
    }
   ],
   "source": [
    "y_pred = lr_model.predict(X_test_scaled)\n",
    "\n",
    "from sklearn.metrics import r2_score\n",
    "r2_value = r2_score(y_test, y_pred)\n",
    "r2_value"
   ]
  },
  {
   "cell_type": "code",
   "execution_count": 16,
   "id": "c3a34257",
   "metadata": {},
   "outputs": [
    {
     "data": {
      "text/plain": [
       "Text(0, 0.5, 'predicted_value')"
      ]
     },
     "execution_count": 16,
     "metadata": {},
     "output_type": "execute_result"
    },
    {
     "data": {
      "image/png": "[encoded data removed]",
      "text/plain": [
       "<Figure size 432x288 with 1 Axes>"
      ]
     },
     "metadata": {
      "needs_background": "light"
     },
     "output_type": "display_data"
    }
   ],
   "source": [
    "plt.scatter(y_test,y_pred,c='blue')\n",
    "plt.xlim(0.2, 1.2)\n",
    "plt.ylim(0.2, 1.2)\n",
    "plt.xlabel('test_value')\n",
    "plt.ylabel('predicted_value')"
   ]
  },
  {
   "cell_type": "code",
   "execution_count": 17,
   "id": "acb51061",
   "metadata": {},
   "outputs": [
    {
     "name": "stdout",
     "output_type": "stream",
     "text": [
      "Final rmse value is = 0.15443908438607323\n"
     ]
    }
   ],
   "source": [
    "rse = ((y_test-y_pred)**2).sum()\n",
    "mse = rse / len(y_pred)\n",
    "print(\"Final rmse value is =\",np.sqrt(mse))"
   ]
  },
  {
   "cell_type": "code",
   "execution_count": null,
   "id": "417e13df",
   "metadata": {},
   "outputs": [],
   "source": []
  },
  {
   "cell_type": "code",
   "execution_count": 18,
   "id": "024c86d2",
   "metadata": {},
   "outputs": [],
   "source": [
    "### finetuned gene embeddings except TERC\n",
    "gene_embeddings_finetune_324 = np.load('gene_emb_finetune_324_ht.npy')"
   ]
  },
  {
   "cell_type": "code",
   "execution_count": 19,
   "id": "c74c714c",
   "metadata": {},
   "outputs": [
    {
     "data": {
      "text/plain": [
       "(650, 512)"
      ]
     },
     "execution_count": 19,
     "metadata": {},
     "output_type": "execute_result"
    }
   ],
   "source": [
    "sga_embeddings_2 = []\n",
    "for i in range(len(lapatinib_data_new)):\n",
    "    mutation = []\n",
    "    for j in lapatinib_data_new.columns[1:-2]:\n",
    "        if lapatinib_data_new.loc[i, j] == 1:\n",
    "            mutation.append(int(new_sga2idx[j])+1)\n",
    "    sga_embeddings_2.append(np.array(np.sum(gene_embeddings_finetune_324[mutation], axis = 0)))\n",
    "sga_embeddings_2 = np.array(sga_embeddings_2)\n",
    "sga_embeddings_2.shape"
   ]
  },
  {
   "cell_type": "code",
   "execution_count": 20,
   "id": "f5a87712",
   "metadata": {},
   "outputs": [
    {
     "data": {
      "text/html": [
       "<div>\n",
       "<style scoped>\n",
       "    .dataframe tbody tr th:only-of-type {\n",
       "        vertical-align: middle;\n",
       "    }\n",
       "\n",
       "    .dataframe tbody tr th {\n",
       "        vertical-align: top;\n",
       "    }\n",
       "\n",
       "    .dataframe thead th {\n",
       "        text-align: right;\n",
       "    }\n",
       "</style>\n",
       "<table border=\"1\" class=\"dataframe\">\n",
       "  <thead>\n",
       "    <tr style=\"text-align: right;\">\n",
       "      <th></th>\n",
       "      <th>0</th>\n",
       "      <th>1</th>\n",
       "      <th>2</th>\n",
       "      <th>3</th>\n",
       "      <th>4</th>\n",
       "      <th>5</th>\n",
       "      <th>6</th>\n",
       "      <th>7</th>\n",
       "      <th>8</th>\n",
       "      <th>9</th>\n",
       "      <th>...</th>\n",
       "      <th>503</th>\n",
       "      <th>504</th>\n",
       "      <th>505</th>\n",
       "      <th>506</th>\n",
       "      <th>507</th>\n",
       "      <th>508</th>\n",
       "      <th>509</th>\n",
       "      <th>510</th>\n",
       "      <th>511</th>\n",
       "      <th>AUC</th>\n",
       "    </tr>\n",
       "  </thead>\n",
       "  <tbody>\n",
       "    <tr>\n",
       "      <th>0</th>\n",
       "      <td>-0.401949</td>\n",
       "      <td>-0.460355</td>\n",
       "      <td>0.129798</td>\n",
       "      <td>0.078462</td>\n",
       "      <td>-1.947838</td>\n",
       "      <td>0.159773</td>\n",
       "      <td>0.075487</td>\n",
       "      <td>1.150423</td>\n",
       "      <td>0.333026</td>\n",
       "      <td>-0.137204</td>\n",
       "      <td>...</td>\n",
       "      <td>0.310161</td>\n",
       "      <td>0.495092</td>\n",
       "      <td>-1.219147</td>\n",
       "      <td>-0.033177</td>\n",
       "      <td>1.809364</td>\n",
       "      <td>-0.406118</td>\n",
       "      <td>0.116039</td>\n",
       "      <td>-0.667105</td>\n",
       "      <td>0.393545</td>\n",
       "      <td>0.984736</td>\n",
       "    </tr>\n",
       "    <tr>\n",
       "      <th>1</th>\n",
       "      <td>-0.100365</td>\n",
       "      <td>0.011410</td>\n",
       "      <td>0.312564</td>\n",
       "      <td>-0.375468</td>\n",
       "      <td>-0.516022</td>\n",
       "      <td>0.155777</td>\n",
       "      <td>0.476241</td>\n",
       "      <td>0.225944</td>\n",
       "      <td>-0.164785</td>\n",
       "      <td>-0.758682</td>\n",
       "      <td>...</td>\n",
       "      <td>0.448525</td>\n",
       "      <td>0.182481</td>\n",
       "      <td>-0.456465</td>\n",
       "      <td>-0.062439</td>\n",
       "      <td>0.181618</td>\n",
       "      <td>-0.140921</td>\n",
       "      <td>-0.266006</td>\n",
       "      <td>0.101152</td>\n",
       "      <td>0.370076</td>\n",
       "      <td>0.987108</td>\n",
       "    </tr>\n",
       "    <tr>\n",
       "      <th>2</th>\n",
       "      <td>-0.503233</td>\n",
       "      <td>-0.194117</td>\n",
       "      <td>0.611112</td>\n",
       "      <td>-0.120861</td>\n",
       "      <td>-1.506535</td>\n",
       "      <td>0.707143</td>\n",
       "      <td>0.347542</td>\n",
       "      <td>1.058678</td>\n",
       "      <td>0.735673</td>\n",
       "      <td>-0.849688</td>\n",
       "      <td>...</td>\n",
       "      <td>0.957848</td>\n",
       "      <td>0.634875</td>\n",
       "      <td>-0.703855</td>\n",
       "      <td>-0.366297</td>\n",
       "      <td>1.342756</td>\n",
       "      <td>-0.796248</td>\n",
       "      <td>-0.638268</td>\n",
       "      <td>-0.703262</td>\n",
       "      <td>0.292354</td>\n",
       "      <td>0.991218</td>\n",
       "    </tr>\n",
       "    <tr>\n",
       "      <th>3</th>\n",
       "      <td>-0.873238</td>\n",
       "      <td>0.271486</td>\n",
       "      <td>0.285254</td>\n",
       "      <td>-0.399779</td>\n",
       "      <td>-0.814977</td>\n",
       "      <td>0.535647</td>\n",
       "      <td>0.385981</td>\n",
       "      <td>0.721733</td>\n",
       "      <td>0.103220</td>\n",
       "      <td>-0.660072</td>\n",
       "      <td>...</td>\n",
       "      <td>0.538542</td>\n",
       "      <td>0.428504</td>\n",
       "      <td>-1.066553</td>\n",
       "      <td>-0.473757</td>\n",
       "      <td>0.788167</td>\n",
       "      <td>-0.676013</td>\n",
       "      <td>0.269919</td>\n",
       "      <td>-0.525316</td>\n",
       "      <td>0.461505</td>\n",
       "      <td>0.971035</td>\n",
       "    </tr>\n",
       "    <tr>\n",
       "      <th>4</th>\n",
       "      <td>2.226708</td>\n",
       "      <td>-0.695703</td>\n",
       "      <td>-0.743883</td>\n",
       "      <td>0.937667</td>\n",
       "      <td>0.180532</td>\n",
       "      <td>-1.160804</td>\n",
       "      <td>-0.948623</td>\n",
       "      <td>-0.981389</td>\n",
       "      <td>-1.246937</td>\n",
       "      <td>0.965302</td>\n",
       "      <td>...</td>\n",
       "      <td>-0.223090</td>\n",
       "      <td>-0.211250</td>\n",
       "      <td>0.319733</td>\n",
       "      <td>1.208939</td>\n",
       "      <td>-0.112355</td>\n",
       "      <td>0.678587</td>\n",
       "      <td>0.264844</td>\n",
       "      <td>0.718939</td>\n",
       "      <td>0.413384</td>\n",
       "      <td>0.982274</td>\n",
       "    </tr>\n",
       "    <tr>\n",
       "      <th>...</th>\n",
       "      <td>...</td>\n",
       "      <td>...</td>\n",
       "      <td>...</td>\n",
       "      <td>...</td>\n",
       "      <td>...</td>\n",
       "      <td>...</td>\n",
       "      <td>...</td>\n",
       "      <td>...</td>\n",
       "      <td>...</td>\n",
       "      <td>...</td>\n",
       "      <td>...</td>\n",
       "      <td>...</td>\n",
       "      <td>...</td>\n",
       "      <td>...</td>\n",
       "      <td>...</td>\n",
       "      <td>...</td>\n",
       "      <td>...</td>\n",
       "      <td>...</td>\n",
       "      <td>...</td>\n",
       "      <td>...</td>\n",
       "      <td>...</td>\n",
       "    </tr>\n",
       "    <tr>\n",
       "      <th>645</th>\n",
       "      <td>-0.095997</td>\n",
       "      <td>-0.020140</td>\n",
       "      <td>0.051335</td>\n",
       "      <td>0.235515</td>\n",
       "      <td>-0.113219</td>\n",
       "      <td>-0.507771</td>\n",
       "      <td>-0.096928</td>\n",
       "      <td>0.106157</td>\n",
       "      <td>-0.551618</td>\n",
       "      <td>-0.235523</td>\n",
       "      <td>...</td>\n",
       "      <td>-0.125334</td>\n",
       "      <td>-0.373151</td>\n",
       "      <td>0.720479</td>\n",
       "      <td>0.010063</td>\n",
       "      <td>0.161626</td>\n",
       "      <td>0.426671</td>\n",
       "      <td>0.149415</td>\n",
       "      <td>0.554339</td>\n",
       "      <td>0.151295</td>\n",
       "      <td>0.985085</td>\n",
       "    </tr>\n",
       "    <tr>\n",
       "      <th>646</th>\n",
       "      <td>1.662632</td>\n",
       "      <td>2.047518</td>\n",
       "      <td>0.090624</td>\n",
       "      <td>1.485917</td>\n",
       "      <td>1.214756</td>\n",
       "      <td>-1.507446</td>\n",
       "      <td>-1.480162</td>\n",
       "      <td>-1.287009</td>\n",
       "      <td>-1.821438</td>\n",
       "      <td>2.284247</td>\n",
       "      <td>...</td>\n",
       "      <td>-0.402621</td>\n",
       "      <td>-0.836494</td>\n",
       "      <td>1.553263</td>\n",
       "      <td>-0.837931</td>\n",
       "      <td>-0.515337</td>\n",
       "      <td>1.355846</td>\n",
       "      <td>1.116849</td>\n",
       "      <td>1.935780</td>\n",
       "      <td>0.027915</td>\n",
       "      <td>0.970532</td>\n",
       "    </tr>\n",
       "    <tr>\n",
       "      <th>647</th>\n",
       "      <td>-0.558348</td>\n",
       "      <td>-0.011496</td>\n",
       "      <td>0.659555</td>\n",
       "      <td>-0.882464</td>\n",
       "      <td>-1.661759</td>\n",
       "      <td>0.907596</td>\n",
       "      <td>0.573110</td>\n",
       "      <td>1.762955</td>\n",
       "      <td>0.848096</td>\n",
       "      <td>-0.704888</td>\n",
       "      <td>...</td>\n",
       "      <td>0.803630</td>\n",
       "      <td>0.759777</td>\n",
       "      <td>-1.029643</td>\n",
       "      <td>-0.383295</td>\n",
       "      <td>1.744045</td>\n",
       "      <td>-0.845596</td>\n",
       "      <td>-0.436172</td>\n",
       "      <td>-0.619285</td>\n",
       "      <td>0.630648</td>\n",
       "      <td>0.985580</td>\n",
       "    </tr>\n",
       "    <tr>\n",
       "      <th>648</th>\n",
       "      <td>0.920798</td>\n",
       "      <td>0.218399</td>\n",
       "      <td>-0.847509</td>\n",
       "      <td>1.260032</td>\n",
       "      <td>-0.286283</td>\n",
       "      <td>-0.369083</td>\n",
       "      <td>-0.169294</td>\n",
       "      <td>-0.144955</td>\n",
       "      <td>0.067795</td>\n",
       "      <td>-0.110640</td>\n",
       "      <td>...</td>\n",
       "      <td>0.035304</td>\n",
       "      <td>0.252148</td>\n",
       "      <td>1.022800</td>\n",
       "      <td>-0.077434</td>\n",
       "      <td>0.059627</td>\n",
       "      <td>1.171973</td>\n",
       "      <td>0.548097</td>\n",
       "      <td>0.679199</td>\n",
       "      <td>-0.277808</td>\n",
       "      <td>0.977712</td>\n",
       "    </tr>\n",
       "    <tr>\n",
       "      <th>649</th>\n",
       "      <td>0.707230</td>\n",
       "      <td>0.403850</td>\n",
       "      <td>0.877070</td>\n",
       "      <td>0.468625</td>\n",
       "      <td>-0.295235</td>\n",
       "      <td>0.094822</td>\n",
       "      <td>0.290466</td>\n",
       "      <td>0.791791</td>\n",
       "      <td>0.140935</td>\n",
       "      <td>-0.221412</td>\n",
       "      <td>...</td>\n",
       "      <td>0.239222</td>\n",
       "      <td>0.264287</td>\n",
       "      <td>-0.680510</td>\n",
       "      <td>-0.364248</td>\n",
       "      <td>0.610010</td>\n",
       "      <td>-0.420985</td>\n",
       "      <td>-0.053695</td>\n",
       "      <td>0.187497</td>\n",
       "      <td>0.668301</td>\n",
       "      <td>0.982671</td>\n",
       "    </tr>\n",
       "  </tbody>\n",
       "</table>\n",
       "<p>650 rows × 513 columns</p>\n",
       "</div>"
      ],
      "text/plain": [
       "            0         1         2         3         4         5         6  \\\n",
       "0   -0.401949 -0.460355  0.129798  0.078462 -1.947838  0.159773  0.075487   \n",
       "1   -0.100365  0.011410  0.312564 -0.375468 -0.516022  0.155777  0.476241   \n",
       "2   -0.503233 -0.194117  0.611112 -0.120861 -1.506535  0.707143  0.347542   \n",
       "3   -0.873238  0.271486  0.285254 -0.399779 -0.814977  0.535647  0.385981   \n",
       "4    2.226708 -0.695703 -0.743883  0.937667  0.180532 -1.160804 -0.948623   \n",
       "..        ...       ...       ...       ...       ...       ...       ...   \n",
       "645 -0.095997 -0.020140  0.051335  0.235515 -0.113219 -0.507771 -0.096928   \n",
       "646  1.662632  2.047518  0.090624  1.485917  1.214756 -1.507446 -1.480162   \n",
       "647 -0.558348 -0.011496  0.659555 -0.882464 -1.661759  0.907596  0.573110   \n",
       "648  0.920798  0.218399 -0.847509  1.260032 -0.286283 -0.369083 -0.169294   \n",
       "649  0.707230  0.403850  0.877070  0.468625 -0.295235  0.094822  0.290466   \n",
       "\n",
       "            7         8         9  ...       503       504       505  \\\n",
       "0    1.150423  0.333026 -0.137204  ...  0.310161  0.495092 -1.219147   \n",
       "1    0.225944 -0.164785 -0.758682  ...  0.448525  0.182481 -0.456465   \n",
       "2    1.058678  0.735673 -0.849688  ...  0.957848  0.634875 -0.703855   \n",
       "3    0.721733  0.103220 -0.660072  ...  0.538542  0.428504 -1.066553   \n",
       "4   -0.981389 -1.246937  0.965302  ... -0.223090 -0.211250  0.319733   \n",
       "..        ...       ...       ...  ...       ...       ...       ...   \n",
       "645  0.106157 -0.551618 -0.235523  ... -0.125334 -0.373151  0.720479   \n",
       "646 -1.287009 -1.821438  2.284247  ... -0.402621 -0.836494  1.553263   \n",
       "647  1.762955  0.848096 -0.704888  ...  0.803630  0.759777 -1.029643   \n",
       "648 -0.144955  0.067795 -0.110640  ...  0.035304  0.252148  1.022800   \n",
       "649  0.791791  0.140935 -0.221412  ...  0.239222  0.264287 -0.680510   \n",
       "\n",
       "          506       507       508       509       510       511       AUC  \n",
       "0   -0.033177  1.809364 -0.406118  0.116039 -0.667105  0.393545  0.984736  \n",
       "1   -0.062439  0.181618 -0.140921 -0.266006  0.101152  0.370076  0.987108  \n",
       "2   -0.366297  1.342756 -0.796248 -0.638268 -0.703262  0.292354  0.991218  \n",
       "3   -0.473757  0.788167 -0.676013  0.269919 -0.525316  0.461505  0.971035  \n",
       "4    1.208939 -0.112355  0.678587  0.264844  0.718939  0.413384  0.982274  \n",
       "..        ...       ...       ...       ...       ...       ...       ...  \n",
       "645  0.010063  0.161626  0.426671  0.149415  0.554339  0.151295  0.985085  \n",
       "646 -0.837931 -0.515337  1.355846  1.116849  1.935780  0.027915  0.970532  \n",
       "647 -0.383295  1.744045 -0.845596 -0.436172 -0.619285  0.630648  0.985580  \n",
       "648 -0.077434  0.059627  1.171973  0.548097  0.679199 -0.277808  0.977712  \n",
       "649 -0.364248  0.610010 -0.420985 -0.053695  0.187497  0.668301  0.982671  \n",
       "\n",
       "[650 rows x 513 columns]"
      ]
     },
     "execution_count": 20,
     "metadata": {},
     "output_type": "execute_result"
    }
   ],
   "source": [
    "sga_emb_df_2 = pd.DataFrame(sga_embeddings_2)\n",
    "sga_emb_df_2['AUC'] = lapatinib_data_new['AUC']\n",
    "sga_emb_df_2"
   ]
  },
  {
   "cell_type": "code",
   "execution_count": 21,
   "id": "c4bc429c",
   "metadata": {},
   "outputs": [
    {
     "data": {
      "text/plain": [
       "LinearRegression()"
      ]
     },
     "execution_count": 21,
     "metadata": {},
     "output_type": "execute_result"
    }
   ],
   "source": [
    "### using raw sparse SGA\n",
    "X = sga_emb_df_2.loc[:, sga_emb_df_2.columns != 'AUC'].to_numpy()\n",
    "y = sga_emb_df_2['AUC']\n",
    "\n",
    "X_train = X[train_index]\n",
    "y_train = y[train_index]\n",
    "X_test = X[test_index]\n",
    "y_test = y[test_index]\n",
    "\n",
    "scaler = StandardScaler()\n",
    "scaler.fit(X)\n",
    "X_train_scaled = scaler.transform(X_train)\n",
    "X_test_scaled = scaler.transform(X_test)\n",
    "\n",
    "lr_model = LinearRegression()\n",
    "lr_model.fit(X_train_scaled, y_train)"
   ]
  },
  {
   "cell_type": "code",
   "execution_count": 22,
   "id": "08109c89",
   "metadata": {},
   "outputs": [
    {
     "data": {
      "text/plain": [
       "-0.10754098699640258"
      ]
     },
     "execution_count": 22,
     "metadata": {},
     "output_type": "execute_result"
    }
   ],
   "source": [
    "y_pred = lr_model.predict(X_test_scaled)\n",
    "\n",
    "from sklearn.metrics import r2_score\n",
    "r2_value = r2_score(y_test, y_pred)\n",
    "r2_value"
   ]
  },
  {
   "cell_type": "code",
   "execution_count": 23,
   "id": "1d83a8a4",
   "metadata": {},
   "outputs": [
    {
     "data": {
      "text/plain": [
       "Text(0, 0.5, 'predicted_value')"
      ]
     },
     "execution_count": 23,
     "metadata": {},
     "output_type": "execute_result"
    },
    {
     "data": {
      "image/png": "[encoded data removed]",
      "text/plain": [
       "<Figure size 432x288 with 1 Axes>"
      ]
     },
     "metadata": {
      "needs_background": "light"
     },
     "output_type": "display_data"
    }
   ],
   "source": [
    "plt.scatter(y_test,y_pred,c='blue')\n",
    "plt.xlim(0.2, 1.2)\n",
    "plt.ylim(0.2, 1.2)\n",
    "plt.xlabel('test_value')\n",
    "plt.ylabel('predicted_value')"
   ]
  },
  {
   "cell_type": "code",
   "execution_count": 24,
   "id": "a98ecaa9",
   "metadata": {},
   "outputs": [
    {
     "data": {
      "text/plain": [
       "LinearRegression()"
      ]
     },
     "execution_count": 24,
     "metadata": {},
     "output_type": "execute_result"
    }
   ],
   "source": [
    "### using tanh embeddings\n",
    "X = sga_emb_df_2.loc[:, sga_emb_df_2.columns != 'AUC'].to_numpy()\n",
    "y = sga_emb_df_2['AUC']\n",
    "\n",
    "X_train = X[train_index]\n",
    "y_train = y[train_index]\n",
    "X_test = X[test_index]\n",
    "y_test = y[test_index]\n",
    "\n",
    "X_train_scaled = np.tanh(X_train)\n",
    "X_test_scaled = np.tanh(X_test)\n",
    "\n",
    "lr_model = LinearRegression()\n",
    "lr_model.fit(X_train_scaled, y_train)"
   ]
  },
  {
   "cell_type": "code",
   "execution_count": 25,
   "id": "8b653a4d",
   "metadata": {},
   "outputs": [
    {
     "data": {
      "text/plain": [
       "-1.9427972995189169"
      ]
     },
     "execution_count": 25,
     "metadata": {},
     "output_type": "execute_result"
    }
   ],
   "source": [
    "y_pred = lr_model.predict(X_test_scaled)\n",
    "\n",
    "from sklearn.metrics import r2_score\n",
    "r2_value = r2_score(y_test, y_pred)\n",
    "r2_value"
   ]
  },
  {
   "cell_type": "code",
   "execution_count": 26,
   "id": "d53c4dec",
   "metadata": {},
   "outputs": [
    {
     "data": {
      "text/plain": [
       "Text(0, 0.5, 'predicted_value')"
      ]
     },
     "execution_count": 26,
     "metadata": {},
     "output_type": "execute_result"
    },
    {
     "data": {
      "image/png": "[encoded data removed]",
      "text/plain": [
       "<Figure size 432x288 with 1 Axes>"
      ]
     },
     "metadata": {
      "needs_background": "light"
     },
     "output_type": "display_data"
    }
   ],
   "source": [
    "plt.scatter(y_test,y_pred,c='blue')\n",
    "plt.xlim(0.2, 1.2)\n",
    "plt.ylim(0.2, 1.2)\n",
    "plt.xlabel('test_value')\n",
    "plt.ylabel('predicted_value')"
   ]
  },
  {
   "cell_type": "code",
   "execution_count": null,
   "id": "1a974187",
   "metadata": {},
   "outputs": [],
   "source": []
  }
 ],
 "metadata": {
  "kernelspec": {
   "display_name": "Python 3 (ipykernel)",
   "language": "python",
   "name": "python3"
  },
  "language_info": {
   "codemirror_mode": {
    "name": "ipython",
    "version": 3
   },
   "file_extension": ".py",
   "mimetype": "text/x-python",
   "name": "python",
   "nbconvert_exporter": "python",
   "pygments_lexer": "ipython3",
   "version": "3.10.2"
  }
 },
 "nbformat": 4,
 "nbformat_minor": 5
}
