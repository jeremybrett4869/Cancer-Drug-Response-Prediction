{
 "cells": [
  {
   "cell_type": "code",
   "execution_count": 1,
   "id": "8cc6febf",
   "metadata": {},
   "outputs": [],
   "source": [
    "import pandas as pd\n",
    "import numpy as np"
   ]
  },
  {
   "cell_type": "code",
   "execution_count": 2,
   "id": "b891d242",
   "metadata": {},
   "outputs": [],
   "source": [
    "TCGA_mutation_df = pd.read_csv('final_tcga_data.csv')"
   ]
  },
  {
   "cell_type": "code",
   "execution_count": 3,
   "id": "cdee7553",
   "metadata": {},
   "outputs": [
    {
     "data": {
      "text/plain": [
       "(10560, 19788)"
      ]
     },
     "execution_count": 3,
     "metadata": {},
     "output_type": "execute_result"
    }
   ],
   "source": [
    "TCGA_mutation_df.shape"
   ]
  },
  {
   "cell_type": "code",
   "execution_count": 4,
   "id": "f90fd871",
   "metadata": {},
   "outputs": [
    {
     "data": {
      "text/html": [
       "<div>\n",
       "<style scoped>\n",
       "    .dataframe tbody tr th:only-of-type {\n",
       "        vertical-align: middle;\n",
       "    }\n",
       "\n",
       "    .dataframe tbody tr th {\n",
       "        vertical-align: top;\n",
       "    }\n",
       "\n",
       "    .dataframe thead th {\n",
       "        text-align: right;\n",
       "    }\n",
       "</style>\n",
       "<table border=\"1\" class=\"dataframe\">\n",
       "  <thead>\n",
       "    <tr style=\"text-align: right;\">\n",
       "      <th></th>\n",
       "      <th>A4GALT</th>\n",
       "      <th>ABCA13</th>\n",
       "      <th>ABCA5</th>\n",
       "      <th>ABCC4</th>\n",
       "      <th>ABRAXAS2</th>\n",
       "      <th>ACAN</th>\n",
       "      <th>ACTN4</th>\n",
       "      <th>ADAM28</th>\n",
       "      <th>AFF3</th>\n",
       "      <th>AGRN</th>\n",
       "      <th>...</th>\n",
       "      <th>KRTAP4-6</th>\n",
       "      <th>MIR29B2CHG</th>\n",
       "      <th>ZDHHC11B</th>\n",
       "      <th>AL445524.2</th>\n",
       "      <th>ZCCHC18</th>\n",
       "      <th>U82695.1</th>\n",
       "      <th>Z82198.2</th>\n",
       "      <th>SPATA24</th>\n",
       "      <th>AKAIN1</th>\n",
       "      <th>PRR23A</th>\n",
       "    </tr>\n",
       "  </thead>\n",
       "  <tbody>\n",
       "    <tr>\n",
       "      <th>0</th>\n",
       "      <td>0.0</td>\n",
       "      <td>1.0</td>\n",
       "      <td>1.0</td>\n",
       "      <td>1.0</td>\n",
       "      <td>1.0</td>\n",
       "      <td>0.0</td>\n",
       "      <td>1.0</td>\n",
       "      <td>0.0</td>\n",
       "      <td>1.0</td>\n",
       "      <td>0.0</td>\n",
       "      <td>...</td>\n",
       "      <td>0.0</td>\n",
       "      <td>0.0</td>\n",
       "      <td>0.0</td>\n",
       "      <td>0.0</td>\n",
       "      <td>0.0</td>\n",
       "      <td>0.0</td>\n",
       "      <td>0.0</td>\n",
       "      <td>0.0</td>\n",
       "      <td>0.0</td>\n",
       "      <td>0.0</td>\n",
       "    </tr>\n",
       "    <tr>\n",
       "      <th>1</th>\n",
       "      <td>0.0</td>\n",
       "      <td>0.0</td>\n",
       "      <td>0.0</td>\n",
       "      <td>0.0</td>\n",
       "      <td>0.0</td>\n",
       "      <td>0.0</td>\n",
       "      <td>0.0</td>\n",
       "      <td>0.0</td>\n",
       "      <td>0.0</td>\n",
       "      <td>0.0</td>\n",
       "      <td>...</td>\n",
       "      <td>0.0</td>\n",
       "      <td>0.0</td>\n",
       "      <td>0.0</td>\n",
       "      <td>0.0</td>\n",
       "      <td>0.0</td>\n",
       "      <td>0.0</td>\n",
       "      <td>0.0</td>\n",
       "      <td>0.0</td>\n",
       "      <td>0.0</td>\n",
       "      <td>0.0</td>\n",
       "    </tr>\n",
       "    <tr>\n",
       "      <th>2</th>\n",
       "      <td>0.0</td>\n",
       "      <td>0.0</td>\n",
       "      <td>0.0</td>\n",
       "      <td>0.0</td>\n",
       "      <td>0.0</td>\n",
       "      <td>0.0</td>\n",
       "      <td>0.0</td>\n",
       "      <td>0.0</td>\n",
       "      <td>0.0</td>\n",
       "      <td>0.0</td>\n",
       "      <td>...</td>\n",
       "      <td>0.0</td>\n",
       "      <td>0.0</td>\n",
       "      <td>0.0</td>\n",
       "      <td>0.0</td>\n",
       "      <td>0.0</td>\n",
       "      <td>0.0</td>\n",
       "      <td>0.0</td>\n",
       "      <td>0.0</td>\n",
       "      <td>0.0</td>\n",
       "      <td>0.0</td>\n",
       "    </tr>\n",
       "    <tr>\n",
       "      <th>3</th>\n",
       "      <td>0.0</td>\n",
       "      <td>0.0</td>\n",
       "      <td>0.0</td>\n",
       "      <td>0.0</td>\n",
       "      <td>0.0</td>\n",
       "      <td>0.0</td>\n",
       "      <td>0.0</td>\n",
       "      <td>0.0</td>\n",
       "      <td>1.0</td>\n",
       "      <td>0.0</td>\n",
       "      <td>...</td>\n",
       "      <td>0.0</td>\n",
       "      <td>0.0</td>\n",
       "      <td>0.0</td>\n",
       "      <td>0.0</td>\n",
       "      <td>0.0</td>\n",
       "      <td>0.0</td>\n",
       "      <td>0.0</td>\n",
       "      <td>0.0</td>\n",
       "      <td>0.0</td>\n",
       "      <td>0.0</td>\n",
       "    </tr>\n",
       "    <tr>\n",
       "      <th>4</th>\n",
       "      <td>0.0</td>\n",
       "      <td>0.0</td>\n",
       "      <td>0.0</td>\n",
       "      <td>0.0</td>\n",
       "      <td>0.0</td>\n",
       "      <td>0.0</td>\n",
       "      <td>0.0</td>\n",
       "      <td>0.0</td>\n",
       "      <td>0.0</td>\n",
       "      <td>0.0</td>\n",
       "      <td>...</td>\n",
       "      <td>0.0</td>\n",
       "      <td>0.0</td>\n",
       "      <td>0.0</td>\n",
       "      <td>0.0</td>\n",
       "      <td>0.0</td>\n",
       "      <td>0.0</td>\n",
       "      <td>0.0</td>\n",
       "      <td>0.0</td>\n",
       "      <td>0.0</td>\n",
       "      <td>0.0</td>\n",
       "    </tr>\n",
       "  </tbody>\n",
       "</table>\n",
       "<p>5 rows × 19788 columns</p>\n",
       "</div>"
      ],
      "text/plain": [
       "   A4GALT  ABCA13  ABCA5  ABCC4  ABRAXAS2  ACAN  ACTN4  ADAM28  AFF3  AGRN  \\\n",
       "0     0.0     1.0    1.0    1.0       1.0   0.0    1.0     0.0   1.0   0.0   \n",
       "1     0.0     0.0    0.0    0.0       0.0   0.0    0.0     0.0   0.0   0.0   \n",
       "2     0.0     0.0    0.0    0.0       0.0   0.0    0.0     0.0   0.0   0.0   \n",
       "3     0.0     0.0    0.0    0.0       0.0   0.0    0.0     0.0   1.0   0.0   \n",
       "4     0.0     0.0    0.0    0.0       0.0   0.0    0.0     0.0   0.0   0.0   \n",
       "\n",
       "   ...  KRTAP4-6  MIR29B2CHG  ZDHHC11B  AL445524.2  ZCCHC18  U82695.1  \\\n",
       "0  ...       0.0         0.0       0.0         0.0      0.0       0.0   \n",
       "1  ...       0.0         0.0       0.0         0.0      0.0       0.0   \n",
       "2  ...       0.0         0.0       0.0         0.0      0.0       0.0   \n",
       "3  ...       0.0         0.0       0.0         0.0      0.0       0.0   \n",
       "4  ...       0.0         0.0       0.0         0.0      0.0       0.0   \n",
       "\n",
       "   Z82198.2  SPATA24  AKAIN1  PRR23A  \n",
       "0       0.0      0.0     0.0     0.0  \n",
       "1       0.0      0.0     0.0     0.0  \n",
       "2       0.0      0.0     0.0     0.0  \n",
       "3       0.0      0.0     0.0     0.0  \n",
       "4       0.0      0.0     0.0     0.0  \n",
       "\n",
       "[5 rows x 19788 columns]"
      ]
     },
     "execution_count": 4,
     "metadata": {},
     "output_type": "execute_result"
    }
   ],
   "source": [
    "TCGA_mutation_df.head()"
   ]
  },
  {
   "cell_type": "code",
   "execution_count": 5,
   "id": "e229e507-1005-467c-85f1-c3dd5dbe891a",
   "metadata": {},
   "outputs": [],
   "source": [
    "columns_remove = []\n",
    "for i in TCGA_mutation_df.columns:\n",
    "    if sum(TCGA_mutation_df[i]) == 0:\n",
    "        columns_remove.append(i)"
   ]
  },
  {
   "cell_type": "code",
   "execution_count": 6,
   "id": "c47eb8ef-5ca4-4d80-a126-5a394af837b8",
   "metadata": {},
   "outputs": [
    {
     "data": {
      "text/plain": [
       "893"
      ]
     },
     "execution_count": 6,
     "metadata": {},
     "output_type": "execute_result"
    }
   ],
   "source": [
    "len(columns_remove)"
   ]
  },
  {
   "cell_type": "code",
   "execution_count": 7,
   "id": "157e9e59-73da-4977-88be-46b59aea0b3e",
   "metadata": {},
   "outputs": [
    {
     "data": {
      "text/html": [
       "<div>\n",
       "<style scoped>\n",
       "    .dataframe tbody tr th:only-of-type {\n",
       "        vertical-align: middle;\n",
       "    }\n",
       "\n",
       "    .dataframe tbody tr th {\n",
       "        vertical-align: top;\n",
       "    }\n",
       "\n",
       "    .dataframe thead th {\n",
       "        text-align: right;\n",
       "    }\n",
       "</style>\n",
       "<table border=\"1\" class=\"dataframe\">\n",
       "  <thead>\n",
       "    <tr style=\"text-align: right;\">\n",
       "      <th></th>\n",
       "      <th>A4GALT</th>\n",
       "      <th>ABCA13</th>\n",
       "      <th>ABCA5</th>\n",
       "      <th>ABCC4</th>\n",
       "      <th>ABRAXAS2</th>\n",
       "      <th>ACAN</th>\n",
       "      <th>ACTN4</th>\n",
       "      <th>ADAM28</th>\n",
       "      <th>AFF3</th>\n",
       "      <th>AGRN</th>\n",
       "      <th>...</th>\n",
       "      <th>RNF222</th>\n",
       "      <th>ZNF729</th>\n",
       "      <th>FAM187A</th>\n",
       "      <th>MRGPRG</th>\n",
       "      <th>CD302</th>\n",
       "      <th>IGHD1-20</th>\n",
       "      <th>C11orf95</th>\n",
       "      <th>ZDHHC11B</th>\n",
       "      <th>AL445524.2</th>\n",
       "      <th>PRR23A</th>\n",
       "    </tr>\n",
       "  </thead>\n",
       "  <tbody>\n",
       "    <tr>\n",
       "      <th>0</th>\n",
       "      <td>0.0</td>\n",
       "      <td>1.0</td>\n",
       "      <td>1.0</td>\n",
       "      <td>1.0</td>\n",
       "      <td>1.0</td>\n",
       "      <td>0.0</td>\n",
       "      <td>1.0</td>\n",
       "      <td>0.0</td>\n",
       "      <td>1.0</td>\n",
       "      <td>0.0</td>\n",
       "      <td>...</td>\n",
       "      <td>0.0</td>\n",
       "      <td>0.0</td>\n",
       "      <td>0.0</td>\n",
       "      <td>0.0</td>\n",
       "      <td>0.0</td>\n",
       "      <td>0.0</td>\n",
       "      <td>0.0</td>\n",
       "      <td>0.0</td>\n",
       "      <td>0.0</td>\n",
       "      <td>0.0</td>\n",
       "    </tr>\n",
       "    <tr>\n",
       "      <th>1</th>\n",
       "      <td>0.0</td>\n",
       "      <td>0.0</td>\n",
       "      <td>0.0</td>\n",
       "      <td>0.0</td>\n",
       "      <td>0.0</td>\n",
       "      <td>0.0</td>\n",
       "      <td>0.0</td>\n",
       "      <td>0.0</td>\n",
       "      <td>0.0</td>\n",
       "      <td>0.0</td>\n",
       "      <td>...</td>\n",
       "      <td>0.0</td>\n",
       "      <td>0.0</td>\n",
       "      <td>0.0</td>\n",
       "      <td>0.0</td>\n",
       "      <td>0.0</td>\n",
       "      <td>0.0</td>\n",
       "      <td>0.0</td>\n",
       "      <td>0.0</td>\n",
       "      <td>0.0</td>\n",
       "      <td>0.0</td>\n",
       "    </tr>\n",
       "    <tr>\n",
       "      <th>2</th>\n",
       "      <td>0.0</td>\n",
       "      <td>0.0</td>\n",
       "      <td>0.0</td>\n",
       "      <td>0.0</td>\n",
       "      <td>0.0</td>\n",
       "      <td>0.0</td>\n",
       "      <td>0.0</td>\n",
       "      <td>0.0</td>\n",
       "      <td>0.0</td>\n",
       "      <td>0.0</td>\n",
       "      <td>...</td>\n",
       "      <td>0.0</td>\n",
       "      <td>0.0</td>\n",
       "      <td>0.0</td>\n",
       "      <td>0.0</td>\n",
       "      <td>0.0</td>\n",
       "      <td>0.0</td>\n",
       "      <td>0.0</td>\n",
       "      <td>0.0</td>\n",
       "      <td>0.0</td>\n",
       "      <td>0.0</td>\n",
       "    </tr>\n",
       "    <tr>\n",
       "      <th>3</th>\n",
       "      <td>0.0</td>\n",
       "      <td>0.0</td>\n",
       "      <td>0.0</td>\n",
       "      <td>0.0</td>\n",
       "      <td>0.0</td>\n",
       "      <td>0.0</td>\n",
       "      <td>0.0</td>\n",
       "      <td>0.0</td>\n",
       "      <td>1.0</td>\n",
       "      <td>0.0</td>\n",
       "      <td>...</td>\n",
       "      <td>0.0</td>\n",
       "      <td>0.0</td>\n",
       "      <td>0.0</td>\n",
       "      <td>0.0</td>\n",
       "      <td>0.0</td>\n",
       "      <td>0.0</td>\n",
       "      <td>0.0</td>\n",
       "      <td>0.0</td>\n",
       "      <td>0.0</td>\n",
       "      <td>0.0</td>\n",
       "    </tr>\n",
       "    <tr>\n",
       "      <th>4</th>\n",
       "      <td>0.0</td>\n",
       "      <td>0.0</td>\n",
       "      <td>0.0</td>\n",
       "      <td>0.0</td>\n",
       "      <td>0.0</td>\n",
       "      <td>0.0</td>\n",
       "      <td>0.0</td>\n",
       "      <td>0.0</td>\n",
       "      <td>0.0</td>\n",
       "      <td>0.0</td>\n",
       "      <td>...</td>\n",
       "      <td>0.0</td>\n",
       "      <td>0.0</td>\n",
       "      <td>0.0</td>\n",
       "      <td>0.0</td>\n",
       "      <td>0.0</td>\n",
       "      <td>0.0</td>\n",
       "      <td>0.0</td>\n",
       "      <td>0.0</td>\n",
       "      <td>0.0</td>\n",
       "      <td>0.0</td>\n",
       "    </tr>\n",
       "    <tr>\n",
       "      <th>...</th>\n",
       "      <td>...</td>\n",
       "      <td>...</td>\n",
       "      <td>...</td>\n",
       "      <td>...</td>\n",
       "      <td>...</td>\n",
       "      <td>...</td>\n",
       "      <td>...</td>\n",
       "      <td>...</td>\n",
       "      <td>...</td>\n",
       "      <td>...</td>\n",
       "      <td>...</td>\n",
       "      <td>...</td>\n",
       "      <td>...</td>\n",
       "      <td>...</td>\n",
       "      <td>...</td>\n",
       "      <td>...</td>\n",
       "      <td>...</td>\n",
       "      <td>...</td>\n",
       "      <td>...</td>\n",
       "      <td>...</td>\n",
       "      <td>...</td>\n",
       "    </tr>\n",
       "    <tr>\n",
       "      <th>10555</th>\n",
       "      <td>0.0</td>\n",
       "      <td>0.0</td>\n",
       "      <td>0.0</td>\n",
       "      <td>0.0</td>\n",
       "      <td>0.0</td>\n",
       "      <td>0.0</td>\n",
       "      <td>0.0</td>\n",
       "      <td>0.0</td>\n",
       "      <td>0.0</td>\n",
       "      <td>0.0</td>\n",
       "      <td>...</td>\n",
       "      <td>0.0</td>\n",
       "      <td>0.0</td>\n",
       "      <td>0.0</td>\n",
       "      <td>0.0</td>\n",
       "      <td>0.0</td>\n",
       "      <td>0.0</td>\n",
       "      <td>0.0</td>\n",
       "      <td>0.0</td>\n",
       "      <td>0.0</td>\n",
       "      <td>0.0</td>\n",
       "    </tr>\n",
       "    <tr>\n",
       "      <th>10556</th>\n",
       "      <td>0.0</td>\n",
       "      <td>0.0</td>\n",
       "      <td>0.0</td>\n",
       "      <td>0.0</td>\n",
       "      <td>0.0</td>\n",
       "      <td>0.0</td>\n",
       "      <td>0.0</td>\n",
       "      <td>0.0</td>\n",
       "      <td>0.0</td>\n",
       "      <td>0.0</td>\n",
       "      <td>...</td>\n",
       "      <td>0.0</td>\n",
       "      <td>0.0</td>\n",
       "      <td>0.0</td>\n",
       "      <td>0.0</td>\n",
       "      <td>0.0</td>\n",
       "      <td>0.0</td>\n",
       "      <td>0.0</td>\n",
       "      <td>0.0</td>\n",
       "      <td>0.0</td>\n",
       "      <td>0.0</td>\n",
       "    </tr>\n",
       "    <tr>\n",
       "      <th>10557</th>\n",
       "      <td>0.0</td>\n",
       "      <td>0.0</td>\n",
       "      <td>0.0</td>\n",
       "      <td>0.0</td>\n",
       "      <td>0.0</td>\n",
       "      <td>0.0</td>\n",
       "      <td>0.0</td>\n",
       "      <td>0.0</td>\n",
       "      <td>0.0</td>\n",
       "      <td>0.0</td>\n",
       "      <td>...</td>\n",
       "      <td>0.0</td>\n",
       "      <td>0.0</td>\n",
       "      <td>0.0</td>\n",
       "      <td>0.0</td>\n",
       "      <td>0.0</td>\n",
       "      <td>0.0</td>\n",
       "      <td>0.0</td>\n",
       "      <td>0.0</td>\n",
       "      <td>0.0</td>\n",
       "      <td>0.0</td>\n",
       "    </tr>\n",
       "    <tr>\n",
       "      <th>10558</th>\n",
       "      <td>0.0</td>\n",
       "      <td>0.0</td>\n",
       "      <td>0.0</td>\n",
       "      <td>0.0</td>\n",
       "      <td>0.0</td>\n",
       "      <td>0.0</td>\n",
       "      <td>0.0</td>\n",
       "      <td>0.0</td>\n",
       "      <td>0.0</td>\n",
       "      <td>0.0</td>\n",
       "      <td>...</td>\n",
       "      <td>0.0</td>\n",
       "      <td>0.0</td>\n",
       "      <td>0.0</td>\n",
       "      <td>0.0</td>\n",
       "      <td>0.0</td>\n",
       "      <td>0.0</td>\n",
       "      <td>0.0</td>\n",
       "      <td>0.0</td>\n",
       "      <td>0.0</td>\n",
       "      <td>0.0</td>\n",
       "    </tr>\n",
       "    <tr>\n",
       "      <th>10559</th>\n",
       "      <td>0.0</td>\n",
       "      <td>0.0</td>\n",
       "      <td>0.0</td>\n",
       "      <td>0.0</td>\n",
       "      <td>0.0</td>\n",
       "      <td>0.0</td>\n",
       "      <td>0.0</td>\n",
       "      <td>0.0</td>\n",
       "      <td>0.0</td>\n",
       "      <td>0.0</td>\n",
       "      <td>...</td>\n",
       "      <td>0.0</td>\n",
       "      <td>0.0</td>\n",
       "      <td>0.0</td>\n",
       "      <td>0.0</td>\n",
       "      <td>0.0</td>\n",
       "      <td>0.0</td>\n",
       "      <td>0.0</td>\n",
       "      <td>0.0</td>\n",
       "      <td>0.0</td>\n",
       "      <td>0.0</td>\n",
       "    </tr>\n",
       "  </tbody>\n",
       "</table>\n",
       "<p>10560 rows × 18895 columns</p>\n",
       "</div>"
      ],
      "text/plain": [
       "       A4GALT  ABCA13  ABCA5  ABCC4  ABRAXAS2  ACAN  ACTN4  ADAM28  AFF3  \\\n",
       "0         0.0     1.0    1.0    1.0       1.0   0.0    1.0     0.0   1.0   \n",
       "1         0.0     0.0    0.0    0.0       0.0   0.0    0.0     0.0   0.0   \n",
       "2         0.0     0.0    0.0    0.0       0.0   0.0    0.0     0.0   0.0   \n",
       "3         0.0     0.0    0.0    0.0       0.0   0.0    0.0     0.0   1.0   \n",
       "4         0.0     0.0    0.0    0.0       0.0   0.0    0.0     0.0   0.0   \n",
       "...       ...     ...    ...    ...       ...   ...    ...     ...   ...   \n",
       "10555     0.0     0.0    0.0    0.0       0.0   0.0    0.0     0.0   0.0   \n",
       "10556     0.0     0.0    0.0    0.0       0.0   0.0    0.0     0.0   0.0   \n",
       "10557     0.0     0.0    0.0    0.0       0.0   0.0    0.0     0.0   0.0   \n",
       "10558     0.0     0.0    0.0    0.0       0.0   0.0    0.0     0.0   0.0   \n",
       "10559     0.0     0.0    0.0    0.0       0.0   0.0    0.0     0.0   0.0   \n",
       "\n",
       "       AGRN  ...  RNF222  ZNF729  FAM187A  MRGPRG  CD302  IGHD1-20  C11orf95  \\\n",
       "0       0.0  ...     0.0     0.0      0.0     0.0    0.0       0.0       0.0   \n",
       "1       0.0  ...     0.0     0.0      0.0     0.0    0.0       0.0       0.0   \n",
       "2       0.0  ...     0.0     0.0      0.0     0.0    0.0       0.0       0.0   \n",
       "3       0.0  ...     0.0     0.0      0.0     0.0    0.0       0.0       0.0   \n",
       "4       0.0  ...     0.0     0.0      0.0     0.0    0.0       0.0       0.0   \n",
       "...     ...  ...     ...     ...      ...     ...    ...       ...       ...   \n",
       "10555   0.0  ...     0.0     0.0      0.0     0.0    0.0       0.0       0.0   \n",
       "10556   0.0  ...     0.0     0.0      0.0     0.0    0.0       0.0       0.0   \n",
       "10557   0.0  ...     0.0     0.0      0.0     0.0    0.0       0.0       0.0   \n",
       "10558   0.0  ...     0.0     0.0      0.0     0.0    0.0       0.0       0.0   \n",
       "10559   0.0  ...     0.0     0.0      0.0     0.0    0.0       0.0       0.0   \n",
       "\n",
       "       ZDHHC11B  AL445524.2  PRR23A  \n",
       "0           0.0         0.0     0.0  \n",
       "1           0.0         0.0     0.0  \n",
       "2           0.0         0.0     0.0  \n",
       "3           0.0         0.0     0.0  \n",
       "4           0.0         0.0     0.0  \n",
       "...         ...         ...     ...  \n",
       "10555       0.0         0.0     0.0  \n",
       "10556       0.0         0.0     0.0  \n",
       "10557       0.0         0.0     0.0  \n",
       "10558       0.0         0.0     0.0  \n",
       "10559       0.0         0.0     0.0  \n",
       "\n",
       "[10560 rows x 18895 columns]"
      ]
     },
     "execution_count": 7,
     "metadata": {},
     "output_type": "execute_result"
    }
   ],
   "source": [
    "TCGA_mutation_df.drop(columns = columns_remove, inplace = True)\n",
    "TCGA_mutation_df"
   ]
  },
  {
   "cell_type": "code",
   "execution_count": 8,
   "id": "da10e0aa",
   "metadata": {},
   "outputs": [],
   "source": [
    "mutations = []\n",
    "gene_ids = []\n",
    "gene2id = {}\n",
    "id2gene = {}\n",
    "for i in range(len(TCGA_mutation_df)):\n",
    "    mutation = []\n",
    "    gene_id = []\n",
    "    for j in range(0, len(TCGA_mutation_df.columns)):\n",
    "        gene = TCGA_mutation_df.columns[j]\n",
    "        if TCGA_mutation_df.loc[i, gene] == 1:\n",
    "            mutation.append(gene)\n",
    "            gene_id.append(j)\n",
    "            gene2id[gene] = j\n",
    "            id2gene[j] = gene\n",
    "    mutations.append(mutation)\n",
    "    gene_ids.append(gene_id)"
   ]
  },
  {
   "cell_type": "code",
   "execution_count": 9,
   "id": "fc0ed9f2",
   "metadata": {},
   "outputs": [
    {
     "name": "stdout",
     "output_type": "stream",
     "text": [
      "1596\n",
      "NOTCH1\n"
     ]
    }
   ],
   "source": [
    "print(gene2id[\"NOTCH1\"])\n",
    "print(id2gene[1596])"
   ]
  },
  {
   "cell_type": "code",
   "execution_count": 10,
   "id": "5243a5d6",
   "metadata": {},
   "outputs": [],
   "source": [
    "from keras.preprocessing.sequence import skipgrams \n",
    "from keras.layers import *\n",
    "from keras.layers.core import Dense, Reshape\n",
    "from keras.layers import Embedding\n",
    "from keras.models import Model,Sequential "
   ]
  },
  {
   "cell_type": "code",
   "execution_count": 11,
   "id": "de20f69f",
   "metadata": {},
   "outputs": [],
   "source": [
    "# Skip-Gram\n",
    "from collections import defaultdict\n",
    "\n",
    "geneFreq = defaultdict(int)\n",
    "\n",
    "for sga in mutations:\n",
    "    for gene in sga:\n",
    "        geneFreq[gene] += 1"
   ]
  },
  {
   "cell_type": "code",
   "execution_count": 12,
   "id": "ccdd58bb",
   "metadata": {},
   "outputs": [],
   "source": [
    "totalGenes = sum([freq**(3/4) for freq in geneFreq.values()])\n",
    "geneProb = {gene:(freq)**(3/4)/totalGenes for gene, freq in geneFreq.items()}"
   ]
  },
  {
   "cell_type": "code",
   "execution_count": 13,
   "id": "cb3d8da4",
   "metadata": {},
   "outputs": [],
   "source": [
    "import numpy as np\n",
    "\n",
    "def generate_negative_sample(geneProb): # generate sample\n",
    "    gene, context = (np.random.choice(list(geneProb.keys()), \n",
    "                     p=list(geneProb.values())) for _ in range(2))\n",
    "    return gene, context\n",
    "\n",
    "gene, context = generate_negative_sample(geneProb)"
   ]
  },
  {
   "cell_type": "code",
   "execution_count": 14,
   "id": "906407f2-a2cd-44e5-ab61-69af793bef9b",
   "metadata": {},
   "outputs": [
    {
     "data": {
      "text/plain": [
       "('USP36', 'AHNAK')"
      ]
     },
     "execution_count": 14,
     "metadata": {},
     "output_type": "execute_result"
    }
   ],
   "source": [
    "generate_negative_sample(geneProb)"
   ]
  },
  {
   "cell_type": "code",
   "execution_count": 15,
   "id": "0c1fc4a8",
   "metadata": {},
   "outputs": [],
   "source": [
    "import itertools\n",
    "\n",
    "posTrainSet = []\n",
    "X_gene_pos = []\n",
    "X_context_pos = []\n",
    "pos_examples_dict = {} ### remove duplicate\n",
    "\n",
    "# add positive examples\n",
    "for sga in mutations:\n",
    "    for pair in itertools.combinations(sga, 2):\n",
    "        pair_id = (gene2id[pair[0]], gene2id[pair[1]])\n",
    "        if pair_id not in pos_examples_dict:\n",
    "            pos_examples_dict[pair_id] = 1\n",
    "            posTrainSet.append(pair_id)\n",
    "            X_gene_pos.append(gene2id[pair[0]])\n",
    "            X_context_pos.append(gene2id[pair[1]])=]\n",
    "    # rev_sga = sga.copy() ### do not consider reverse order -> assume ascending order between two genes?\n",
    "    # rev_sga.reverse()\n",
    "    # for pair in itertools.combinations(rev_sga, 2):\n",
    "    #     pair_id = [gene2id[pair[0]], gene2id[pair[1]]]\n",
    "    #     posTrainSet.append(pair_id)\n",
    "    #     X_gene_pos.append(gene2id[pair[0]])\n",
    "    #     X_context_pos.append(gene2id[pair[1]])\n",
    "\n",
    "n_pos_examples = len(posTrainSet)\n",
    "y_pos = [1]*n_pos_examples]"
   ]
  },
  {
   "cell_type": "code",
   "execution_count": 16,
   "id": "8c4dc899",
   "metadata": {},
   "outputs": [
    {
     "data": {
      "text/plain": [
       "[(1, 2),\n",
       " (1, 3),\n",
       " (1, 4),\n",
       " (1, 6),\n",
       " (1, 8),\n",
       " (1, 10),\n",
       " (1, 11),\n",
       " (1, 12),\n",
       " (1, 14),\n",
       " (1, 16)]"
      ]
     },
     "execution_count": 16,
     "metadata": {},
     "output_type": "execute_result"
    }
   ],
   "source": [
    "posTrainSet[:10]"
   ]
  },
  {
   "cell_type": "code",
   "execution_count": 17,
   "id": "156bd7a8",
   "metadata": {},
   "outputs": [
    {
     "name": "stdout",
     "output_type": "stream",
     "text": [
      "157668939\n"
     ]
    }
   ],
   "source": [
    "print(n_pos_examples)"
   ]
  },
  {
   "cell_type": "code",
   "execution_count": 18,
   "id": "f3c9ca4c",
   "metadata": {},
   "outputs": [],
   "source": [
    "n_neg_examples = 0\n",
    "negTrainSet = []\n",
    "X_gene_neg = []\n",
    "X_context_neg = []"
   ]
  },
  {
   "cell_type": "code",
   "execution_count": 19,
   "id": "c5a3e0fa-2fed-4214-a1d9-10aa09e8bdf8",
   "metadata": {},
   "outputs": [],
   "source": [
    "# while n_neg_examples < n_pos_examples:\n",
    "#     (gene, context) = generate_negative_sample(geneProb) # generate a random pair of gene\n",
    "#     # convert to indicies\n",
    "#     gene, context = gene2id[gene], gene2id[context]\n",
    "#     # if (gene, context) not in posTrainSet: # add into negative samples if the gene pair is not positive\n",
    "#     # list -> dictionary (gene-pair-positive-check)\n",
    "#     if (gene, context) not in pos_examples_dict:\n",
    "#         negTrainSet.append((gene, context))\n",
    "#         X_gene_neg.append(gene) \n",
    "#         X_context_neg.append(context)\n",
    "#         n_neg_examples += 1\n",
    "# y_neg = [0]*n_neg_examples\n",
    "\n",
    "all_comb_examples = itertools.combinations(list(range(len(id2gene))), 2)\n",
    "for pair in all_comb_examples: \n",
    "    pair_id = (pair[0], pair[1])\n",
    "    if pair_id not in pos_examples_dict:\n",
    "        negTrainSet.append(pair_id)\n",
    "        X_gene_neg.append(pair[0])\n",
    "        X_context_neg.append(pair[1])\n",
    "        n_neg_examples += 1"
   ]
  },
  {
   "cell_type": "code",
   "execution_count": 20,
   "id": "17f2c7b5-d9b8-4abb-83bf-86e407924e99",
   "metadata": {},
   "outputs": [
    {
     "name": "stdout",
     "output_type": "stream",
     "text": [
      "20832126\n"
     ]
    }
   ],
   "source": [
    "print(n_neg_examples)"
   ]
  },
  {
   "cell_type": "code",
   "execution_count": 21,
   "id": "78ce1b46-f2d3-47ad-bc9d-f0fa8bcf05d5",
   "metadata": {},
   "outputs": [],
   "source": [
    "y_neg = [0]*n_neg_examples"
   ]
  },
  {
   "cell_type": "code",
   "execution_count": 22,
   "id": "9be0cb40",
   "metadata": {},
   "outputs": [],
   "source": [
    "X_gene = X_gene_pos.copy()\n",
    "X_gene.extend(X_gene_neg)\n",
    "\n",
    "X_context = X_context_pos.copy()\n",
    "X_context.extend(X_context_neg)\n",
    "\n",
    "X_all = [np.array(X_gene), np.array(X_context)]\n",
    "y_all = y_pos.copy()\n",
    "y_all.extend(y_neg)\n",
    "y_all = np.array(y_all)"
   ]
  },
  {
   "cell_type": "code",
   "execution_count": 26,
   "id": "d762fc25-bd64-4d92-a531-8ce5cb536188",
   "metadata": {},
   "outputs": [],
   "source": [
    "skip_grams = []\n",
    "count = 0"
   ]
  },
  {
   "cell_type": "code",
   "execution_count": 27,
   "id": "bdb473d5",
   "metadata": {
    "tags": []
   },
   "outputs": [
    {
     "name": "stdout",
     "output_type": "stream",
     "text": [
      "500\n",
      "1000\n",
      "1500\n",
      "2000\n",
      "2500\n",
      "3000\n",
      "3500\n",
      "4000\n",
      "4500\n",
      "5000\n",
      "5500\n",
      "6000\n",
      "6500\n",
      "7000\n",
      "7500\n",
      "8000\n",
      "8500\n",
      "9000\n",
      "9500\n",
      "10000\n",
      "10500\n"
     ]
    }
   ],
   "source": [
    "import itertools\n",
    "import random\n",
    "\n",
    "for gene_id in gene_ids:\n",
    "    count += 1\n",
    "    if count % 500 == 0:\n",
    "        print(count)\n",
    "    pairs = []\n",
    "    labels = []\n",
    "    n_pos = 0\n",
    "    for pair in itertools.combinations(gene_id, 2):\n",
    "        pairs.append(list(pair))\n",
    "        labels.append(1)\n",
    "        n_pos += 1\n",
    "    n_neg = min(len(negTrainSet), n_pos)\n",
    "    negative_samples = random.sample(negTrainSet, n_neg)\n",
    "    for pair in negative_samples:\n",
    "        g_id, c_id = pair[0], pair[1]\n",
    "        pairs.append(list((g_id, c_id)))\n",
    "        labels.append(0)\n",
    "    indices = np.arange(len(pairs))\n",
    "    np.random.shuffle(indices)\n",
    "    skip_grams.append([np.array(pairs)[indices], np.array(labels)[indices]])"
   ]
  },
  {
   "cell_type": "code",
   "execution_count": 28,
   "id": "468c98b8",
   "metadata": {},
   "outputs": [
    {
     "name": "stdout",
     "output_type": "stream",
     "text": [
      "(CALM1 (31), FAM174A (73)) -> 1\n",
      "(KHDRBS1 (6048), UBE2T (15134)) -> 0\n",
      "(BVES (26), TIGD5 (240)) -> 1\n",
      "(ZNF549 (12065), IGKJ2 (18756)) -> 0\n",
      "(GCM1 (341), PTGER1 (18164)) -> 0\n",
      "(MCL1 (5460), FAM71F2 (14487)) -> 0\n",
      "(ESRRG (69), H2BC13 (94)) -> 1\n",
      "(ANKRD60 (7307), SEC61G (13551)) -> 0\n",
      "(ANKRD34B (12), TNFRSF13C (244)) -> 1\n",
      "(S100A6 (525), MED7 (9689)) -> 0\n"
     ]
    }
   ],
   "source": [
    "pairs, labels = skip_grams[0][0], skip_grams[0][1]\n",
    "for i in range(10):\n",
    "    print(\"({:s} ({:d}), {:s} ({:d})) -> {:d}\".format(\n",
    "       id2gene[pairs[i][0]], pairs[i][0], \n",
    "       id2gene[pairs[i][1]], pairs[i][1], \n",
    "       labels[i])) "
   ]
  },
  {
   "cell_type": "code",
   "execution_count": 29,
   "id": "07e2ea8b",
   "metadata": {},
   "outputs": [
    {
     "name": "stdout",
     "output_type": "stream",
     "text": [
      "Model: \"model\"\n",
      "__________________________________________________________________________________________________\n",
      " Layer (type)                   Output Shape         Param #     Connected to                     \n",
      "==================================================================================================\n",
      " embedding_input (InputLayer)   [(None, 1)]          0           []                               \n",
      "                                                                                                  \n",
      " embedding_1_input (InputLayer)  [(None, 1)]         0           []                               \n",
      "                                                                                                  \n",
      " embedding (Embedding)          (None, 1, 512)       9674752     ['embedding_input[0][0]']        \n",
      "                                                                                                  \n",
      " embedding_1 (Embedding)        (None, 1, 512)       9674752     ['embedding_1_input[0][0]']      \n",
      "                                                                                                  \n",
      " reshape (Reshape)              (None, 512)          0           ['embedding[0][0]']              \n",
      "                                                                                                  \n",
      " reshape_1 (Reshape)            (None, 512)          0           ['embedding_1[0][0]']            \n",
      "                                                                                                  \n",
      " add (Add)                      (None, 512)          0           ['reshape[0][0]',                \n",
      "                                                                  'reshape_1[0][0]']              \n",
      "                                                                                                  \n",
      " sequential_2 (Sequential)      (None, 1)            513         ['add[0][0]']                    \n",
      "                                                                                                  \n",
      "==================================================================================================\n",
      "Total params: 19,350,017\n",
      "Trainable params: 19,350,017\n",
      "Non-trainable params: 0\n",
      "__________________________________________________________________________________________________\n"
     ]
    }
   ],
   "source": [
    "embed_size = 512\n",
    "vocab_size = len(id2gene.items())+1\n",
    "gene_model = Sequential()\n",
    "gene_model.add(Embedding(vocab_size, embed_size,\n",
    "                      embeddings_initializer=\"glorot_uniform\",\n",
    "                      input_length=1))\n",
    "gene_model.add(Reshape((embed_size, )))\n",
    "context_model = Sequential()\n",
    "context_model.add(Embedding(vocab_size, embed_size,\n",
    "               embeddings_initializer=\"glorot_uniform\",\n",
    "               input_length=1))\n",
    "context_model.add(Reshape((embed_size,)))\n",
    "merged_output = add([gene_model.output, context_model.output])  \n",
    "model_combined = Sequential()\n",
    "model_combined.add(Dense(1, kernel_initializer=\"glorot_uniform\", activation=\"sigmoid\"))\n",
    "final_model = Model([gene_model.input, context_model.input], model_combined(merged_output))\n",
    "final_model.compile(optimizer='adam',loss='binary_crossentropy', metrics = ['accuracy'])\n",
    "final_model.summary()"
   ]
  },
  {
   "cell_type": "code",
   "execution_count": 32,
   "id": "b4e2e479",
   "metadata": {
    "scrolled": true
   },
   "outputs": [
    {
     "name": "stdout",
     "output_type": "stream",
     "text": [
      "Processed 0 (skip_first, skip_second, relevance) pairs\n",
      "Processed 1000 (skip_first, skip_second, relevance) pairs\n",
      "Processed 2000 (skip_first, skip_second, relevance) pairs\n",
      "Processed 3000 (skip_first, skip_second, relevance) pairs\n",
      "Processed 4000 (skip_first, skip_second, relevance) pairs\n",
      "Processed 5000 (skip_first, skip_second, relevance) pairs\n",
      "Processed 6000 (skip_first, skip_second, relevance) pairs\n",
      "Processed 7000 (skip_first, skip_second, relevance) pairs\n",
      "Processed 8000 (skip_first, skip_second, relevance) pairs\n",
      "Processed 9000 (skip_first, skip_second, relevance) pairs\n",
      "Processed 10000 (skip_first, skip_second, relevance) pairs\n",
      "Epoch: 1 Loss: 974.9228037411203 Acc: 0.9686873472252242\n",
      "Processed 0 (skip_first, skip_second, relevance) pairs\n",
      "Processed 1000 (skip_first, skip_second, relevance) pairs\n",
      "Processed 2000 (skip_first, skip_second, relevance) pairs\n",
      "Processed 3000 (skip_first, skip_second, relevance) pairs\n",
      "Processed 4000 (skip_first, skip_second, relevance) pairs\n",
      "Processed 5000 (skip_first, skip_second, relevance) pairs\n",
      "Processed 6000 (skip_first, skip_second, relevance) pairs\n",
      "Processed 7000 (skip_first, skip_second, relevance) pairs\n",
      "Processed 8000 (skip_first, skip_second, relevance) pairs\n",
      "Processed 9000 (skip_first, skip_second, relevance) pairs\n",
      "Processed 10000 (skip_first, skip_second, relevance) pairs\n",
      "Epoch: 2 Loss: 862.5841376549148 Acc: 0.972193744940457\n",
      "Processed 0 (skip_first, skip_second, relevance) pairs\n",
      "Processed 1000 (skip_first, skip_second, relevance) pairs\n",
      "Processed 2000 (skip_first, skip_second, relevance) pairs\n",
      "Processed 3000 (skip_first, skip_second, relevance) pairs\n",
      "Processed 4000 (skip_first, skip_second, relevance) pairs\n",
      "Processed 5000 (skip_first, skip_second, relevance) pairs\n",
      "Processed 6000 (skip_first, skip_second, relevance) pairs\n",
      "Processed 7000 (skip_first, skip_second, relevance) pairs\n",
      "Processed 8000 (skip_first, skip_second, relevance) pairs\n",
      "Processed 9000 (skip_first, skip_second, relevance) pairs\n",
      "Processed 10000 (skip_first, skip_second, relevance) pairs\n",
      "Epoch: 3 Loss: 788.2566741358412 Acc: 0.974912294496026\n",
      "Processed 0 (skip_first, skip_second, relevance) pairs\n",
      "Processed 1000 (skip_first, skip_second, relevance) pairs\n",
      "Processed 2000 (skip_first, skip_second, relevance) pairs\n",
      "Processed 3000 (skip_first, skip_second, relevance) pairs\n",
      "Processed 4000 (skip_first, skip_second, relevance) pairs\n",
      "Processed 5000 (skip_first, skip_second, relevance) pairs\n",
      "Processed 6000 (skip_first, skip_second, relevance) pairs\n",
      "Processed 7000 (skip_first, skip_second, relevance) pairs\n",
      "Processed 8000 (skip_first, skip_second, relevance) pairs\n",
      "Processed 9000 (skip_first, skip_second, relevance) pairs\n",
      "Processed 10000 (skip_first, skip_second, relevance) pairs\n",
      "Epoch: 4 Loss: 752.1143591136174 Acc: 0.9762280033749358\n",
      "Processed 0 (skip_first, skip_second, relevance) pairs\n",
      "Processed 1000 (skip_first, skip_second, relevance) pairs\n",
      "Processed 2000 (skip_first, skip_second, relevance) pairs\n",
      "Processed 3000 (skip_first, skip_second, relevance) pairs\n",
      "Processed 4000 (skip_first, skip_second, relevance) pairs\n",
      "Processed 5000 (skip_first, skip_second, relevance) pairs\n",
      "Processed 6000 (skip_first, skip_second, relevance) pairs\n",
      "Processed 7000 (skip_first, skip_second, relevance) pairs\n",
      "Processed 8000 (skip_first, skip_second, relevance) pairs\n",
      "Processed 9000 (skip_first, skip_second, relevance) pairs\n",
      "Processed 10000 (skip_first, skip_second, relevance) pairs\n",
      "Epoch: 5 Loss: 730.2504658085313 Acc: 0.9770567383244243\n"
     ]
    }
   ],
   "source": [
    "for epoch in range(1, 6): # change to 5 epoch\n",
    "    loss = 0\n",
    "    acc = []\n",
    "    for i, elem in enumerate(skip_grams):\n",
    "        if len(elem[0]) == 0:\n",
    "            continue\n",
    "        pair_first_elem = np.array(list(zip(*elem[0]))[0], dtype='int32')\n",
    "        pair_second_elem = np.array(list(zip(*elem[0]))[1], dtype='int32')\n",
    "        labels = np.array(elem[1], dtype='int32')\n",
    "        X = [pair_first_elem, pair_second_elem]\n",
    "        Y = labels\n",
    "        if i % 1000 == 0:\n",
    "            print('Processed {} (skip_first, skip_second, relevance) pairs'.format(i))\n",
    "        loss += final_model.train_on_batch(X,Y)[0] \n",
    "        acc.append(final_model.train_on_batch(X,Y)[1])\n",
    "    print('Epoch:', epoch, 'Loss:', loss, 'Acc:', np.mean(acc)) "
   ]
  },
  {
   "cell_type": "code",
   "execution_count": 41,
   "id": "11272506",
   "metadata": {},
   "outputs": [
    {
     "name": "stdout",
     "output_type": "stream",
     "text": [
      " 461794/5578159 [=>............................] - ETA: 1:33:52 - loss: 0.3134 - accuracy: 0.9236"
     ]
    },
    {
     "name": "stderr",
     "output_type": "stream",
     "text": [
      "IOPub message rate exceeded.\n",
      "The notebook server will temporarily stop sending output\n",
      "to the client in order to avoid crashing it.\n",
      "To change this limit, set the config variable\n",
      "`--NotebookApp.iopub_msg_rate_limit`.\n",
      "\n",
      "Current values:\n",
      "NotebookApp.iopub_msg_rate_limit=1000.0 (msgs/sec)\n",
      "NotebookApp.rate_limit_window=3.0 (secs)\n",
      "\n"
     ]
    },
    {
     "name": "stdout",
     "output_type": "stream",
     "text": [
      "5578159/5578159 [==============================] - 6131s 1ms/step - loss: 1.1232 - accuracy: 0.7254\n"
     ]
    },
    {
     "data": {
      "text/plain": [
       "[1.123178243637085, 0.7254015207290649]"
      ]
     },
     "execution_count": 41,
     "metadata": {},
     "output_type": "execute_result"
    }
   ],
   "source": [
    "final_model.evaluate(X_all, y_all)"
   ]
  },
  {
   "cell_type": "code",
   "execution_count": 42,
   "id": "f2b6ff2c",
   "metadata": {},
   "outputs": [
    {
     "name": "stdout",
     "output_type": "stream",
     "text": [
      "(18895, 18895)\n"
     ]
    },
    {
     "data": {
      "text/plain": [
       "{'NOTCH1': ['PLEKHH2', 'NBEAL2', 'ZEB1', 'DPYD', 'TIAM1'],\n",
       " 'NOTCH3': ['PAPPA', 'RESF1', 'ADCY10', 'NOS1', 'HEATR1']}"
      ]
     },
     "execution_count": 42,
     "metadata": {},
     "output_type": "execute_result"
    }
   ],
   "source": [
    "from sklearn.metrics.pairwise import euclidean_distances\n",
    "gene_embed_layer = gene_model.layers[0]\n",
    "weights = gene_embed_layer.get_weights()[0][1:]\n",
    "distance_matrix = euclidean_distances(weights)\n",
    "print(distance_matrix.shape)\n",
    "similar_genes = {search_term: [id2gene[idx] for idx in distance_matrix[gene2id[search_term]-1].argsort()[1:6]+1] \n",
    "                for search_term in ['NOTCH1','NOTCH3']}\n",
    "similar_genes"
   ]
  },
  {
   "cell_type": "code",
   "execution_count": 43,
   "id": "47cdd2de",
   "metadata": {},
   "outputs": [
    {
     "data": {
      "text/plain": [
       "(18895, 512)"
      ]
     },
     "execution_count": 43,
     "metadata": {},
     "output_type": "execute_result"
    }
   ],
   "source": [
    "weights.shape"
   ]
  },
  {
   "cell_type": "code",
   "execution_count": 44,
   "id": "ab062c46",
   "metadata": {},
   "outputs": [
    {
     "data": {
      "text/plain": [
       "(18896, 512)"
      ]
     },
     "execution_count": 44,
     "metadata": {},
     "output_type": "execute_result"
    }
   ],
   "source": [
    "gene_embeddings = weights\n",
    "gene_embeddings = np.vstack([gene_embeddings, np.array(512*[0])])\n",
    "gene_embeddings.shape"
   ]
  },
  {
   "cell_type": "code",
   "execution_count": null,
   "id": "6de695a9",
   "metadata": {},
   "outputs": [],
   "source": []
  },
  {
   "cell_type": "code",
   "execution_count": 45,
   "id": "bb6479df",
   "metadata": {},
   "outputs": [],
   "source": [
    "### sga_embeddings for 692 patients (324 genes)\n",
    "mutations_324_df = pd.read_csv('/data/yingfei/cancer_data/mutations_raw_324_final.csv')"
   ]
  },
  {
   "cell_type": "code",
   "execution_count": 46,
   "id": "24d56863",
   "metadata": {},
   "outputs": [],
   "source": [
    "helper_dict = {'FAM123B': 'AMER1', 'FAM46C': 'TENT5C', 'C17orf39': 'GID4', 'H3F3A': 'H3-3A', 'MLL': 'KMT2A',\n",
    "            'MLL2': 'KMT2D', 'MRE11A': 'MRE11', 'MYCL1': 'MYCL', 'PARK2': 'PRKN', 'WHSC1': 'NSD2', 'WHSC1L1': 'NSD3'}\n",
    "\n",
    "mutations_324 = []\n",
    "gene_ids_324 = []\n",
    "for i in range(len(mutations_324_df)):\n",
    "    mutation = []\n",
    "    gene_id = []\n",
    "    for j in range(0, len(mutations_324_df.columns)):\n",
    "        gene = mutations_324_df.columns[j]\n",
    "        if mutations_324_df.loc[i, gene] == 1:\n",
    "            if gene not in gene2id:\n",
    "                try:\n",
    "                    gene = helper_dict[gene]\n",
    "                except:\n",
    "                    continue\n",
    "            mutation.append(gene)\n",
    "            gene_id.append(gene2id[gene])\n",
    "    mutations_324.append(mutation)\n",
    "    gene_ids_324.append(gene_id)"
   ]
  },
  {
   "cell_type": "code",
   "execution_count": 47,
   "id": "5afe159c",
   "metadata": {},
   "outputs": [
    {
     "data": {
      "text/plain": [
       "(692, 512)"
      ]
     },
     "execution_count": 47,
     "metadata": {},
     "output_type": "execute_result"
    }
   ],
   "source": [
    "sga_embeddings_324 = []\n",
    "for i in range(len(gene_ids_324)):\n",
    "    sga_embeddings_324.append(np.array(np.sum(gene_embeddings[gene_ids_324[i]], axis = 0)))\n",
    "sga_embeddings_324 = np.array(sga_embeddings_324)\n",
    "sga_embeddings_324.shape"
   ]
  },
  {
   "cell_type": "code",
   "execution_count": 48,
   "id": "4af9f372",
   "metadata": {},
   "outputs": [
    {
     "data": {
      "text/html": [
       "<div>\n",
       "<style scoped>\n",
       "    .dataframe tbody tr th:only-of-type {\n",
       "        vertical-align: middle;\n",
       "    }\n",
       "\n",
       "    .dataframe tbody tr th {\n",
       "        vertical-align: top;\n",
       "    }\n",
       "\n",
       "    .dataframe thead th {\n",
       "        text-align: right;\n",
       "    }\n",
       "</style>\n",
       "<table border=\"1\" class=\"dataframe\">\n",
       "  <thead>\n",
       "    <tr style=\"text-align: right;\">\n",
       "      <th></th>\n",
       "      <th>0</th>\n",
       "      <th>1</th>\n",
       "      <th>2</th>\n",
       "      <th>3</th>\n",
       "      <th>4</th>\n",
       "      <th>5</th>\n",
       "      <th>6</th>\n",
       "      <th>7</th>\n",
       "      <th>8</th>\n",
       "      <th>9</th>\n",
       "      <th>...</th>\n",
       "      <th>503</th>\n",
       "      <th>504</th>\n",
       "      <th>505</th>\n",
       "      <th>506</th>\n",
       "      <th>507</th>\n",
       "      <th>508</th>\n",
       "      <th>509</th>\n",
       "      <th>510</th>\n",
       "      <th>511</th>\n",
       "      <th>ID</th>\n",
       "    </tr>\n",
       "  </thead>\n",
       "  <tbody>\n",
       "    <tr>\n",
       "      <th>0</th>\n",
       "      <td>-0.362202</td>\n",
       "      <td>-0.586266</td>\n",
       "      <td>0.139180</td>\n",
       "      <td>-0.127801</td>\n",
       "      <td>-2.586040</td>\n",
       "      <td>-0.054175</td>\n",
       "      <td>0.065738</td>\n",
       "      <td>0.514233</td>\n",
       "      <td>0.018695</td>\n",
       "      <td>-0.113106</td>\n",
       "      <td>...</td>\n",
       "      <td>-0.033273</td>\n",
       "      <td>-0.070953</td>\n",
       "      <td>-1.619924</td>\n",
       "      <td>0.299801</td>\n",
       "      <td>2.858873</td>\n",
       "      <td>-0.171646</td>\n",
       "      <td>-0.141969</td>\n",
       "      <td>-0.915412</td>\n",
       "      <td>0.133838</td>\n",
       "      <td>ACH-000001</td>\n",
       "    </tr>\n",
       "    <tr>\n",
       "      <th>1</th>\n",
       "      <td>-0.717887</td>\n",
       "      <td>0.070713</td>\n",
       "      <td>0.617696</td>\n",
       "      <td>-2.104818</td>\n",
       "      <td>-1.285899</td>\n",
       "      <td>1.326184</td>\n",
       "      <td>1.475216</td>\n",
       "      <td>0.770430</td>\n",
       "      <td>0.349486</td>\n",
       "      <td>-1.404817</td>\n",
       "      <td>...</td>\n",
       "      <td>1.384965</td>\n",
       "      <td>1.267564</td>\n",
       "      <td>-1.565154</td>\n",
       "      <td>-1.279005</td>\n",
       "      <td>0.899721</td>\n",
       "      <td>-1.135881</td>\n",
       "      <td>-1.066073</td>\n",
       "      <td>-0.475878</td>\n",
       "      <td>0.852605</td>\n",
       "      <td>ACH-000002</td>\n",
       "    </tr>\n",
       "    <tr>\n",
       "      <th>2</th>\n",
       "      <td>-1.159661</td>\n",
       "      <td>-0.713725</td>\n",
       "      <td>1.416716</td>\n",
       "      <td>-1.522582</td>\n",
       "      <td>-2.850033</td>\n",
       "      <td>1.427317</td>\n",
       "      <td>1.532997</td>\n",
       "      <td>1.917707</td>\n",
       "      <td>1.566452</td>\n",
       "      <td>-1.319724</td>\n",
       "      <td>...</td>\n",
       "      <td>2.352347</td>\n",
       "      <td>1.699534</td>\n",
       "      <td>-1.488194</td>\n",
       "      <td>-1.831902</td>\n",
       "      <td>2.959663</td>\n",
       "      <td>-1.555678</td>\n",
       "      <td>-1.713684</td>\n",
       "      <td>-1.205261</td>\n",
       "      <td>0.970185</td>\n",
       "      <td>ACH-000004</td>\n",
       "    </tr>\n",
       "    <tr>\n",
       "      <th>3</th>\n",
       "      <td>-0.956402</td>\n",
       "      <td>0.672616</td>\n",
       "      <td>0.036882</td>\n",
       "      <td>-0.537108</td>\n",
       "      <td>-0.233075</td>\n",
       "      <td>0.299495</td>\n",
       "      <td>0.493790</td>\n",
       "      <td>0.544051</td>\n",
       "      <td>-0.572997</td>\n",
       "      <td>-0.888538</td>\n",
       "      <td>...</td>\n",
       "      <td>0.524351</td>\n",
       "      <td>0.109228</td>\n",
       "      <td>-1.550470</td>\n",
       "      <td>-0.967902</td>\n",
       "      <td>1.202230</td>\n",
       "      <td>-0.329287</td>\n",
       "      <td>0.274682</td>\n",
       "      <td>-0.600241</td>\n",
       "      <td>0.164878</td>\n",
       "      <td>ACH-000006</td>\n",
       "    </tr>\n",
       "    <tr>\n",
       "      <th>4</th>\n",
       "      <td>3.630104</td>\n",
       "      <td>-1.515612</td>\n",
       "      <td>-1.710425</td>\n",
       "      <td>1.366670</td>\n",
       "      <td>0.620971</td>\n",
       "      <td>-2.677953</td>\n",
       "      <td>-2.587348</td>\n",
       "      <td>-1.894064</td>\n",
       "      <td>-2.625225</td>\n",
       "      <td>1.613703</td>\n",
       "      <td>...</td>\n",
       "      <td>-0.849270</td>\n",
       "      <td>-1.118107</td>\n",
       "      <td>0.206866</td>\n",
       "      <td>1.816973</td>\n",
       "      <td>0.015490</td>\n",
       "      <td>0.645605</td>\n",
       "      <td>-0.231878</td>\n",
       "      <td>0.585406</td>\n",
       "      <td>0.419384</td>\n",
       "      <td>ACH-000007</td>\n",
       "    </tr>\n",
       "    <tr>\n",
       "      <th>...</th>\n",
       "      <td>...</td>\n",
       "      <td>...</td>\n",
       "      <td>...</td>\n",
       "      <td>...</td>\n",
       "      <td>...</td>\n",
       "      <td>...</td>\n",
       "      <td>...</td>\n",
       "      <td>...</td>\n",
       "      <td>...</td>\n",
       "      <td>...</td>\n",
       "      <td>...</td>\n",
       "      <td>...</td>\n",
       "      <td>...</td>\n",
       "      <td>...</td>\n",
       "      <td>...</td>\n",
       "      <td>...</td>\n",
       "      <td>...</td>\n",
       "      <td>...</td>\n",
       "      <td>...</td>\n",
       "      <td>...</td>\n",
       "      <td>...</td>\n",
       "    </tr>\n",
       "    <tr>\n",
       "      <th>687</th>\n",
       "      <td>-0.058090</td>\n",
       "      <td>0.054889</td>\n",
       "      <td>-0.177387</td>\n",
       "      <td>0.653368</td>\n",
       "      <td>-0.078634</td>\n",
       "      <td>-0.763639</td>\n",
       "      <td>-0.367541</td>\n",
       "      <td>-0.074601</td>\n",
       "      <td>-0.721972</td>\n",
       "      <td>-0.158866</td>\n",
       "      <td>...</td>\n",
       "      <td>-0.395210</td>\n",
       "      <td>-0.849464</td>\n",
       "      <td>1.150169</td>\n",
       "      <td>0.348296</td>\n",
       "      <td>0.199203</td>\n",
       "      <td>0.958093</td>\n",
       "      <td>0.310445</td>\n",
       "      <td>0.864697</td>\n",
       "      <td>0.012624</td>\n",
       "      <td>ACH-001702</td>\n",
       "    </tr>\n",
       "    <tr>\n",
       "      <th>688</th>\n",
       "      <td>2.820207</td>\n",
       "      <td>3.610941</td>\n",
       "      <td>-0.087317</td>\n",
       "      <td>2.563586</td>\n",
       "      <td>2.696947</td>\n",
       "      <td>-4.059348</td>\n",
       "      <td>-3.283412</td>\n",
       "      <td>-2.507394</td>\n",
       "      <td>-3.979037</td>\n",
       "      <td>3.098980</td>\n",
       "      <td>...</td>\n",
       "      <td>-1.826811</td>\n",
       "      <td>-1.531010</td>\n",
       "      <td>2.744893</td>\n",
       "      <td>-1.743722</td>\n",
       "      <td>-0.474292</td>\n",
       "      <td>2.848888</td>\n",
       "      <td>0.860894</td>\n",
       "      <td>3.197819</td>\n",
       "      <td>0.367411</td>\n",
       "      <td>ACH-001703</td>\n",
       "    </tr>\n",
       "    <tr>\n",
       "      <th>689</th>\n",
       "      <td>-1.802442</td>\n",
       "      <td>-0.620997</td>\n",
       "      <td>1.909521</td>\n",
       "      <td>-3.166911</td>\n",
       "      <td>-4.162199</td>\n",
       "      <td>2.436656</td>\n",
       "      <td>2.593712</td>\n",
       "      <td>3.111435</td>\n",
       "      <td>2.749444</td>\n",
       "      <td>-1.864359</td>\n",
       "      <td>...</td>\n",
       "      <td>2.475012</td>\n",
       "      <td>1.955045</td>\n",
       "      <td>-2.645057</td>\n",
       "      <td>-2.396843</td>\n",
       "      <td>3.887387</td>\n",
       "      <td>-2.984352</td>\n",
       "      <td>-2.386035</td>\n",
       "      <td>-1.353391</td>\n",
       "      <td>1.554012</td>\n",
       "      <td>ACH-001711</td>\n",
       "    </tr>\n",
       "    <tr>\n",
       "      <th>690</th>\n",
       "      <td>1.310773</td>\n",
       "      <td>0.496882</td>\n",
       "      <td>-2.098062</td>\n",
       "      <td>1.388226</td>\n",
       "      <td>-0.822750</td>\n",
       "      <td>-0.306283</td>\n",
       "      <td>-0.467378</td>\n",
       "      <td>-0.389838</td>\n",
       "      <td>0.530294</td>\n",
       "      <td>-0.520984</td>\n",
       "      <td>...</td>\n",
       "      <td>-0.165496</td>\n",
       "      <td>0.389864</td>\n",
       "      <td>0.831680</td>\n",
       "      <td>-0.542283</td>\n",
       "      <td>0.025685</td>\n",
       "      <td>1.821224</td>\n",
       "      <td>0.554771</td>\n",
       "      <td>0.636499</td>\n",
       "      <td>-0.800050</td>\n",
       "      <td>ACH-001715</td>\n",
       "    </tr>\n",
       "    <tr>\n",
       "      <th>691</th>\n",
       "      <td>-0.038982</td>\n",
       "      <td>1.561451</td>\n",
       "      <td>0.798615</td>\n",
       "      <td>-0.187569</td>\n",
       "      <td>-0.393788</td>\n",
       "      <td>1.560964</td>\n",
       "      <td>0.485298</td>\n",
       "      <td>0.922053</td>\n",
       "      <td>0.002008</td>\n",
       "      <td>-0.689257</td>\n",
       "      <td>...</td>\n",
       "      <td>0.944998</td>\n",
       "      <td>1.330180</td>\n",
       "      <td>-1.959936</td>\n",
       "      <td>-1.815805</td>\n",
       "      <td>1.474532</td>\n",
       "      <td>-1.324009</td>\n",
       "      <td>-0.840084</td>\n",
       "      <td>-0.323061</td>\n",
       "      <td>0.902575</td>\n",
       "      <td>ACH-001716</td>\n",
       "    </tr>\n",
       "  </tbody>\n",
       "</table>\n",
       "<p>692 rows × 513 columns</p>\n",
       "</div>"
      ],
      "text/plain": [
       "            0         1         2         3         4         5         6  \\\n",
       "0   -0.362202 -0.586266  0.139180 -0.127801 -2.586040 -0.054175  0.065738   \n",
       "1   -0.717887  0.070713  0.617696 -2.104818 -1.285899  1.326184  1.475216   \n",
       "2   -1.159661 -0.713725  1.416716 -1.522582 -2.850033  1.427317  1.532997   \n",
       "3   -0.956402  0.672616  0.036882 -0.537108 -0.233075  0.299495  0.493790   \n",
       "4    3.630104 -1.515612 -1.710425  1.366670  0.620971 -2.677953 -2.587348   \n",
       "..        ...       ...       ...       ...       ...       ...       ...   \n",
       "687 -0.058090  0.054889 -0.177387  0.653368 -0.078634 -0.763639 -0.367541   \n",
       "688  2.820207  3.610941 -0.087317  2.563586  2.696947 -4.059348 -3.283412   \n",
       "689 -1.802442 -0.620997  1.909521 -3.166911 -4.162199  2.436656  2.593712   \n",
       "690  1.310773  0.496882 -2.098062  1.388226 -0.822750 -0.306283 -0.467378   \n",
       "691 -0.038982  1.561451  0.798615 -0.187569 -0.393788  1.560964  0.485298   \n",
       "\n",
       "            7         8         9  ...       503       504       505  \\\n",
       "0    0.514233  0.018695 -0.113106  ... -0.033273 -0.070953 -1.619924   \n",
       "1    0.770430  0.349486 -1.404817  ...  1.384965  1.267564 -1.565154   \n",
       "2    1.917707  1.566452 -1.319724  ...  2.352347  1.699534 -1.488194   \n",
       "3    0.544051 -0.572997 -0.888538  ...  0.524351  0.109228 -1.550470   \n",
       "4   -1.894064 -2.625225  1.613703  ... -0.849270 -1.118107  0.206866   \n",
       "..        ...       ...       ...  ...       ...       ...       ...   \n",
       "687 -0.074601 -0.721972 -0.158866  ... -0.395210 -0.849464  1.150169   \n",
       "688 -2.507394 -3.979037  3.098980  ... -1.826811 -1.531010  2.744893   \n",
       "689  3.111435  2.749444 -1.864359  ...  2.475012  1.955045 -2.645057   \n",
       "690 -0.389838  0.530294 -0.520984  ... -0.165496  0.389864  0.831680   \n",
       "691  0.922053  0.002008 -0.689257  ...  0.944998  1.330180 -1.959936   \n",
       "\n",
       "          506       507       508       509       510       511          ID  \n",
       "0    0.299801  2.858873 -0.171646 -0.141969 -0.915412  0.133838  ACH-000001  \n",
       "1   -1.279005  0.899721 -1.135881 -1.066073 -0.475878  0.852605  ACH-000002  \n",
       "2   -1.831902  2.959663 -1.555678 -1.713684 -1.205261  0.970185  ACH-000004  \n",
       "3   -0.967902  1.202230 -0.329287  0.274682 -0.600241  0.164878  ACH-000006  \n",
       "4    1.816973  0.015490  0.645605 -0.231878  0.585406  0.419384  ACH-000007  \n",
       "..        ...       ...       ...       ...       ...       ...         ...  \n",
       "687  0.348296  0.199203  0.958093  0.310445  0.864697  0.012624  ACH-001702  \n",
       "688 -1.743722 -0.474292  2.848888  0.860894  3.197819  0.367411  ACH-001703  \n",
       "689 -2.396843  3.887387 -2.984352 -2.386035 -1.353391  1.554012  ACH-001711  \n",
       "690 -0.542283  0.025685  1.821224  0.554771  0.636499 -0.800050  ACH-001715  \n",
       "691 -1.815805  1.474532 -1.324009 -0.840084 -0.323061  0.902575  ACH-001716  \n",
       "\n",
       "[692 rows x 513 columns]"
      ]
     },
     "execution_count": 48,
     "metadata": {},
     "output_type": "execute_result"
    }
   ],
   "source": [
    "sga_emb_df = pd.DataFrame(sga_embeddings_324)\n",
    "sga_emb_df['ID'] = mutations_324_df['DepMap_ID']\n",
    "sga_emb_df.to_csv('sga_embeddings_324_5_epoch.csv', index = False)\n",
    "sga_emb_df"
   ]
  },
  {
   "cell_type": "code",
   "execution_count": 49,
   "id": "7aec0630",
   "metadata": {},
   "outputs": [
    {
     "data": {
      "text/plain": [
       "[[1596, 2832, 6057, 9454, 445, 3251, 4820],\n",
       " [2926, 17776, 2146, 4388, 3907],\n",
       " [78, 6639, 445, 15265]]"
      ]
     },
     "execution_count": 49,
     "metadata": {},
     "output_type": "execute_result"
    }
   ],
   "source": [
    "gene_ids_324[:3]"
   ]
  },
  {
   "cell_type": "code",
   "execution_count": 50,
   "id": "074d4758",
   "metadata": {},
   "outputs": [
    {
     "data": {
      "text/plain": [
       "[['NOTCH1', 'NOTCH3', 'PIK3R1', 'PPP2R1A', 'TP53', 'TSC2', 'NSD3'],\n",
       " ['CDKN2A', 'CEBPA', 'KDM5C', 'NRAS', 'RPTOR'],\n",
       " ['FGFR3', 'POLE', 'TP53', 'ZNF703']]"
      ]
     },
     "execution_count": 50,
     "metadata": {},
     "output_type": "execute_result"
    }
   ],
   "source": [
    "mutations_324[:3]"
   ]
  },
  {
   "cell_type": "code",
   "execution_count": 51,
   "id": "6969f34a",
   "metadata": {},
   "outputs": [
    {
     "data": {
      "image/png": "[encoded data removed]",
      "text/plain": [
       "<Figure size 432x288 with 1 Axes>"
      ]
     },
     "metadata": {
      "needs_background": "light"
     },
     "output_type": "display_data"
    }
   ],
   "source": [
    "from sklearn.decomposition import PCA\n",
    "import matplotlib.pyplot as plt\n",
    "\n",
    "pca = PCA(n_components=2)\n",
    "result = pca.fit_transform(gene_embeddings[[1596, 2832, 6057, 9454, 445, 3251, 4820]])\n",
    "\n",
    "# create a scatter plot of the projection\n",
    "plt.scatter(result[:, 0], result[:, 1])\n",
    "words = list(map(lambda x: id2gene[x], [1596, 2832, 6057, 9454, 445, 3251, 4820]))\n",
    "\n",
    "for i, word in enumerate(words):\n",
    "    plt.annotate(word, xy=(result[i, 0], result[i, 1]))\n",
    "plt.show()"
   ]
  },
  {
   "cell_type": "code",
   "execution_count": 52,
   "id": "91870477",
   "metadata": {},
   "outputs": [
    {
     "data": {
      "image/png": "[encoded data removed]",
      "text/plain": [
       "<Figure size 432x288 with 1 Axes>"
      ]
     },
     "metadata": {
      "needs_background": "light"
     },
     "output_type": "display_data"
    }
   ],
   "source": [
    "pca = PCA(n_components=2)\n",
    "result = pca.fit_transform(gene_embeddings[[2926, 17776, 2146, 4388, 3907]])\n",
    "\n",
    "# create a scatter plot of the projection\n",
    "plt.scatter(result[:, 0], result[:, 1])\n",
    "words = list(map(lambda x: id2gene[x], [2926, 17776, 2146, 4388, 3907]))\n",
    "\n",
    "for i, word in enumerate(words):\n",
    "    plt.annotate(word, xy=(result[i, 0], result[i, 1]))\n",
    "plt.show()"
   ]
  },
  {
   "cell_type": "code",
   "execution_count": 53,
   "id": "d78f361d",
   "metadata": {},
   "outputs": [
    {
     "data": {
      "image/png": "[encoded data removed]",
      "text/plain": [
       "<Figure size 432x288 with 1 Axes>"
      ]
     },
     "metadata": {
      "needs_background": "light"
     },
     "output_type": "display_data"
    }
   ],
   "source": [
    "pca = PCA(n_components=2)\n",
    "result = pca.fit_transform(gene_embeddings)\n",
    "\n",
    "# create a scatter plot of the projection\n",
    "plt.scatter(result[:, 0], result[:, 1])\n",
    "\n",
    "# for i, word in enumerate(words):\n",
    "#     plt.annotate(word, xy=(result[i, 0], result[i, 1]))\n",
    "plt.show()"
   ]
  },
  {
   "cell_type": "code",
   "execution_count": 54,
   "id": "d676bc49",
   "metadata": {},
   "outputs": [
    {
     "data": {
      "image/png": "[encoded data removed]",
      "text/plain": [
       "<Figure size 432x288 with 1 Axes>"
      ]
     },
     "metadata": {
      "needs_background": "light"
     },
     "output_type": "display_data"
    }
   ],
   "source": [
    "pca = PCA(n_components=2)\n",
    "result = pca.fit_transform(gene_embeddings)\n",
    "\n",
    "# create a scatter plot of the projection\n",
    "plt.scatter(result[:, 0], result[:, 1])\n",
    "\n",
    "for i, word in enumerate([78, 6639, 445, 15265]):\n",
    "    plt.annotate(word, xy=(result[i, 0], result[i, 1]))\n",
    "plt.show()"
   ]
  },
  {
   "cell_type": "code",
   "execution_count": 55,
   "id": "77cd2713",
   "metadata": {},
   "outputs": [
    {
     "data": {
      "text/plain": [
       "18895"
      ]
     },
     "execution_count": 55,
     "metadata": {},
     "output_type": "execute_result"
    }
   ],
   "source": [
    "len(id2gene)"
   ]
  },
  {
   "cell_type": "code",
   "execution_count": 56,
   "id": "05a5dcda",
   "metadata": {},
   "outputs": [],
   "source": [
    "with open('idx2gene_5_epoch.txt', 'w') as f:\n",
    "    f.write(str(id2gene))"
   ]
  },
  {
   "cell_type": "code",
   "execution_count": 57,
   "id": "7a37349b",
   "metadata": {},
   "outputs": [],
   "source": [
    "with open('gene_emb_pretrain_5_epoch.npy', 'wb') as f:\n",
    "    np.save(f, gene_embeddings)"
   ]
  },
  {
   "cell_type": "code",
   "execution_count": 58,
   "id": "66dd8221",
   "metadata": {},
   "outputs": [
    {
     "data": {
      "text/plain": [
       "(18896, 512)"
      ]
     },
     "execution_count": 58,
     "metadata": {},
     "output_type": "execute_result"
    }
   ],
   "source": [
    "np.load('gene_emb_pretrain_5_epoch.npy').shape"
   ]
  },
  {
   "cell_type": "code",
   "execution_count": null,
   "id": "0b86a27b",
   "metadata": {},
   "outputs": [],
   "source": []
  }
 ],
 "metadata": {
  "kernelspec": {
   "display_name": "Python 3",
   "language": "python",
   "name": "python3"
  },
  "language_info": {
   "codemirror_mode": {
    "name": "ipython",
    "version": 3
   },
   "file_extension": ".py",
   "mimetype": "text/x-python",
   "name": "python",
   "nbconvert_exporter": "python",
   "pygments_lexer": "ipython3",
   "version": "3.9.12"
  }
 },
 "nbformat": 4,
 "nbformat_minor": 5
}
