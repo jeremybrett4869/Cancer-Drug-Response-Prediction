{
 "cells": [
  {
   "cell_type": "code",
   "execution_count": 192,
   "id": "981892a1",
   "metadata": {},
   "outputs": [],
   "source": [
    "import numpy as np\n",
    "import pickle\n",
    "import pandas as pd\n",
    "\n",
    "# input file 1: DEG matrix in csv format\n",
    "df = pd.read_csv(\"deg_324.csv\", index_col=0)\n",
    "\n",
    "tmr = list(df.index)\n",
    "\n",
    "idx2deg = {i:d for i, d in enumerate(df.columns)}\n",
    "\n",
    "deg = df.values"
   ]
  },
  {
   "cell_type": "code",
   "execution_count": 193,
   "id": "5a09adb3",
   "metadata": {},
   "outputs": [],
   "source": [
    "# input file 2: cancer type list in txt format\n",
    "can = []\n",
    "with open(\"cancer_type_324.txt\", \"r\") as f:\n",
    "    for line in f:\n",
    "        can.append(line.strip())\n",
    "\n",
    "idx2can = {i:c for i, c in enumerate(list(set(can)))}\n",
    "can2idx = {idx2can[i]:i for i in idx2can.keys()}\n",
    "\n",
    "can = [can2idx[c] for c in can]\n",
    "\n",
    "can = np.array(can)"
   ]
  },
  {
   "cell_type": "code",
   "execution_count": 194,
   "id": "764254b6",
   "metadata": {},
   "outputs": [],
   "source": [
    "# input file 3: SGA list in txt format\n",
    "sga = []\n",
    "with open(\"sga_324_new.txt\", \"r\") as f:\n",
    "    # next(f)\n",
    "    for line in f:\n",
    "        line = line.strip().split(\", \")\n",
    "        sga.append(line[:])\n",
    "\n",
    "idx2sga = {i:s for i,s in enumerate(list(set([l for line in sga for l in line])))}\n",
    "sga2idx = {idx2sga[i]:i for i in idx2sga.keys()}\n",
    "\n",
    "sga = [[sga2idx[l] for l in line] for line in sga]"
   ]
  },
  {
   "cell_type": "code",
   "execution_count": 195,
   "id": "ea57643f",
   "metadata": {},
   "outputs": [],
   "source": [
    "# output file: dictionary in pickle format\n",
    "dataset = {\n",
    "    \"can\": can,\n",
    "    \"deg\": deg,\n",
    "    \"idx2can\": idx2can,\n",
    "    \"idx2deg\": idx2deg,\n",
    "    \"idx2sga\": idx2sga,\n",
    "    \"sga\": sga,\n",
    "    \"tmr\": tmr}\n",
    "\n",
    "with open(\"dataset_324_new.pkl\", \"wb\") as f:\n",
    "    pickle.dump(dataset, f, protocol=2)"
   ]
  },
  {
   "cell_type": "code",
   "execution_count": 196,
   "id": "b76f1e0c",
   "metadata": {},
   "outputs": [],
   "source": [
    "gene_emb_pt_1_epoch = np.load('gene_emb_pretrain_1_epoch.npy')"
   ]
  },
  {
   "cell_type": "code",
   "execution_count": 197,
   "id": "59bd7e08",
   "metadata": {},
   "outputs": [],
   "source": [
    "with open('idx2gene.txt') as f:\n",
    "    idx2gene = f.readlines()[0]"
   ]
  },
  {
   "cell_type": "code",
   "execution_count": 198,
   "id": "7ac0b934",
   "metadata": {},
   "outputs": [],
   "source": [
    "idx = list(map(lambda x: int(x.split(': ')[0]), idx2gene.split(', ')))\n",
    "genes = list(map(lambda x: x.split(': ')[1][1:-1], idx2gene.split(', ')))"
   ]
  },
  {
   "cell_type": "code",
   "execution_count": 199,
   "id": "6ce01bb1",
   "metadata": {},
   "outputs": [],
   "source": [
    "idx2gene = {}\n",
    "gene2idx = {}\n",
    "for i in range(len(idx)):\n",
    "    gene = genes[i]\n",
    "    idx2gene[idx[i]] = gene\n",
    "    gene2idx[gene] = idx[i]"
   ]
  },
  {
   "cell_type": "code",
   "execution_count": 200,
   "id": "bee28599",
   "metadata": {},
   "outputs": [],
   "source": [
    "gene_embs = [[0]*512]\n",
    "not_found = []\n",
    "for i in range(len(idx2sga.keys())):\n",
    "    gene = idx2sga[i]\n",
    "    try:\n",
    "        new_idx = gene2idx[gene]\n",
    "    except:\n",
    "        not_found.append(gene)\n",
    "    gene_embs.append(gene_emb_pt_1_epoch[new_idx])"
   ]
  },
  {
   "cell_type": "code",
   "execution_count": 201,
   "id": "d726d66a",
   "metadata": {},
   "outputs": [
    {
     "data": {
      "text/plain": [
       "(324, 512)"
      ]
     },
     "execution_count": 201,
     "metadata": {},
     "output_type": "execute_result"
    }
   ],
   "source": [
    "gene_emb_pretrain = np.array(gene_embs)\n",
    "gene_emb_pretrain.shape"
   ]
  },
  {
   "cell_type": "code",
   "execution_count": 202,
   "id": "0cb1a3ce",
   "metadata": {},
   "outputs": [],
   "source": [
    "with open('gene_emb_pretrain_324_new.npy', 'wb') as f:\n",
    "    np.save(f, gene_emb_pretrain)"
   ]
  },
  {
   "cell_type": "code",
   "execution_count": null,
   "id": "6a991de3",
   "metadata": {},
   "outputs": [],
   "source": []
  },
  {
   "cell_type": "code",
   "execution_count": null,
   "id": "4e7c0b71",
   "metadata": {},
   "outputs": [],
   "source": []
  },
  {
   "cell_type": "code",
   "execution_count": 105,
   "id": "6d765819",
   "metadata": {},
   "outputs": [],
   "source": [
    "### adjust the SGAs to the 324 genes \n",
    "\n",
    "# input file 1: DEG matrix in csv format [no change]\n",
    "df = pd.read_csv(\"deg.csv\", index_col=0)\n",
    "\n",
    "tmr = list(df.index)\n",
    "\n",
    "idx2deg = {i:d for i, d in enumerate(df.columns)}\n",
    "\n",
    "deg = df.values"
   ]
  },
  {
   "cell_type": "code",
   "execution_count": 102,
   "id": "3a34080b",
   "metadata": {},
   "outputs": [],
   "source": [
    "# input file 2: cancer type list in txt format [no change]\n",
    "can = []\n",
    "with open(\"cancer_type.txt\", \"r\") as f: \n",
    "    for line in f:\n",
    "        can.append(line.strip())\n",
    "\n",
    "idx2can = {i:c for i, c in enumerate(list(set(can)))}\n",
    "can2idx = {idx2can[i]:i for i in idx2can.keys()}\n",
    "\n",
    "can = [can2idx[c] for c in can]\n",
    "\n",
    "can = np.array(can)"
   ]
  },
  {
   "cell_type": "code",
   "execution_count": 92,
   "id": "b4631225",
   "metadata": {},
   "outputs": [],
   "source": [
    "mutation_df = pd.read_csv('../../data sets/mutations_raw_324_final.csv')"
   ]
  },
  {
   "cell_type": "code",
   "execution_count": 93,
   "id": "087b9ed6",
   "metadata": {},
   "outputs": [
    {
     "data": {
      "text/html": [
       "<div>\n",
       "<style scoped>\n",
       "    .dataframe tbody tr th:only-of-type {\n",
       "        vertical-align: middle;\n",
       "    }\n",
       "\n",
       "    .dataframe tbody tr th {\n",
       "        vertical-align: top;\n",
       "    }\n",
       "\n",
       "    .dataframe thead th {\n",
       "        text-align: right;\n",
       "    }\n",
       "</style>\n",
       "<table border=\"1\" class=\"dataframe\">\n",
       "  <thead>\n",
       "    <tr style=\"text-align: right;\">\n",
       "      <th></th>\n",
       "      <th>DepMap_ID</th>\n",
       "      <th>ABL1</th>\n",
       "      <th>ACVR1B</th>\n",
       "      <th>AKT1</th>\n",
       "      <th>AKT2</th>\n",
       "      <th>AKT3</th>\n",
       "      <th>ALK</th>\n",
       "      <th>ALOX12B</th>\n",
       "      <th>FAM123B</th>\n",
       "      <th>APC</th>\n",
       "      <th>...</th>\n",
       "      <th>VEGFA</th>\n",
       "      <th>VHL</th>\n",
       "      <th>WHSC1</th>\n",
       "      <th>WHSC1L1</th>\n",
       "      <th>WT1</th>\n",
       "      <th>XPO1</th>\n",
       "      <th>XRCC2</th>\n",
       "      <th>ZNF217</th>\n",
       "      <th>ZNF703</th>\n",
       "      <th>TERC</th>\n",
       "    </tr>\n",
       "  </thead>\n",
       "  <tbody>\n",
       "    <tr>\n",
       "      <th>0</th>\n",
       "      <td>ACH-000001</td>\n",
       "      <td>0.0</td>\n",
       "      <td>0.0</td>\n",
       "      <td>0.0</td>\n",
       "      <td>0.0</td>\n",
       "      <td>0.0</td>\n",
       "      <td>0.0</td>\n",
       "      <td>0.0</td>\n",
       "      <td>0.0</td>\n",
       "      <td>0.0</td>\n",
       "      <td>...</td>\n",
       "      <td>0.0</td>\n",
       "      <td>0.0</td>\n",
       "      <td>0.0</td>\n",
       "      <td>1.0</td>\n",
       "      <td>0.0</td>\n",
       "      <td>0.0</td>\n",
       "      <td>0.0</td>\n",
       "      <td>0.0</td>\n",
       "      <td>0.0</td>\n",
       "      <td>0</td>\n",
       "    </tr>\n",
       "    <tr>\n",
       "      <th>1</th>\n",
       "      <td>ACH-000002</td>\n",
       "      <td>0.0</td>\n",
       "      <td>0.0</td>\n",
       "      <td>0.0</td>\n",
       "      <td>0.0</td>\n",
       "      <td>0.0</td>\n",
       "      <td>0.0</td>\n",
       "      <td>0.0</td>\n",
       "      <td>0.0</td>\n",
       "      <td>0.0</td>\n",
       "      <td>...</td>\n",
       "      <td>0.0</td>\n",
       "      <td>0.0</td>\n",
       "      <td>0.0</td>\n",
       "      <td>0.0</td>\n",
       "      <td>0.0</td>\n",
       "      <td>0.0</td>\n",
       "      <td>0.0</td>\n",
       "      <td>0.0</td>\n",
       "      <td>0.0</td>\n",
       "      <td>0</td>\n",
       "    </tr>\n",
       "    <tr>\n",
       "      <th>2</th>\n",
       "      <td>ACH-000004</td>\n",
       "      <td>0.0</td>\n",
       "      <td>0.0</td>\n",
       "      <td>0.0</td>\n",
       "      <td>0.0</td>\n",
       "      <td>0.0</td>\n",
       "      <td>0.0</td>\n",
       "      <td>0.0</td>\n",
       "      <td>0.0</td>\n",
       "      <td>0.0</td>\n",
       "      <td>...</td>\n",
       "      <td>0.0</td>\n",
       "      <td>0.0</td>\n",
       "      <td>0.0</td>\n",
       "      <td>0.0</td>\n",
       "      <td>0.0</td>\n",
       "      <td>0.0</td>\n",
       "      <td>0.0</td>\n",
       "      <td>0.0</td>\n",
       "      <td>1.0</td>\n",
       "      <td>0</td>\n",
       "    </tr>\n",
       "    <tr>\n",
       "      <th>3</th>\n",
       "      <td>ACH-000006</td>\n",
       "      <td>0.0</td>\n",
       "      <td>0.0</td>\n",
       "      <td>0.0</td>\n",
       "      <td>0.0</td>\n",
       "      <td>0.0</td>\n",
       "      <td>0.0</td>\n",
       "      <td>0.0</td>\n",
       "      <td>0.0</td>\n",
       "      <td>0.0</td>\n",
       "      <td>...</td>\n",
       "      <td>0.0</td>\n",
       "      <td>0.0</td>\n",
       "      <td>0.0</td>\n",
       "      <td>0.0</td>\n",
       "      <td>0.0</td>\n",
       "      <td>0.0</td>\n",
       "      <td>0.0</td>\n",
       "      <td>0.0</td>\n",
       "      <td>0.0</td>\n",
       "      <td>0</td>\n",
       "    </tr>\n",
       "    <tr>\n",
       "      <th>4</th>\n",
       "      <td>ACH-000007</td>\n",
       "      <td>0.0</td>\n",
       "      <td>0.0</td>\n",
       "      <td>0.0</td>\n",
       "      <td>0.0</td>\n",
       "      <td>0.0</td>\n",
       "      <td>1.0</td>\n",
       "      <td>0.0</td>\n",
       "      <td>0.0</td>\n",
       "      <td>0.0</td>\n",
       "      <td>...</td>\n",
       "      <td>0.0</td>\n",
       "      <td>0.0</td>\n",
       "      <td>0.0</td>\n",
       "      <td>0.0</td>\n",
       "      <td>0.0</td>\n",
       "      <td>0.0</td>\n",
       "      <td>0.0</td>\n",
       "      <td>0.0</td>\n",
       "      <td>0.0</td>\n",
       "      <td>0</td>\n",
       "    </tr>\n",
       "  </tbody>\n",
       "</table>\n",
       "<p>5 rows × 325 columns</p>\n",
       "</div>"
      ],
      "text/plain": [
       "    DepMap_ID  ABL1  ACVR1B  AKT1  AKT2  AKT3  ALK  ALOX12B  FAM123B  APC  \\\n",
       "0  ACH-000001   0.0     0.0   0.0   0.0   0.0  0.0      0.0      0.0  0.0   \n",
       "1  ACH-000002   0.0     0.0   0.0   0.0   0.0  0.0      0.0      0.0  0.0   \n",
       "2  ACH-000004   0.0     0.0   0.0   0.0   0.0  0.0      0.0      0.0  0.0   \n",
       "3  ACH-000006   0.0     0.0   0.0   0.0   0.0  0.0      0.0      0.0  0.0   \n",
       "4  ACH-000007   0.0     0.0   0.0   0.0   0.0  1.0      0.0      0.0  0.0   \n",
       "\n",
       "   ...  VEGFA  VHL  WHSC1  WHSC1L1  WT1  XPO1  XRCC2  ZNF217  ZNF703  TERC  \n",
       "0  ...    0.0  0.0    0.0      1.0  0.0   0.0    0.0     0.0     0.0     0  \n",
       "1  ...    0.0  0.0    0.0      0.0  0.0   0.0    0.0     0.0     0.0     0  \n",
       "2  ...    0.0  0.0    0.0      0.0  0.0   0.0    0.0     0.0     1.0     0  \n",
       "3  ...    0.0  0.0    0.0      0.0  0.0   0.0    0.0     0.0     0.0     0  \n",
       "4  ...    0.0  0.0    0.0      0.0  0.0   0.0    0.0     0.0     0.0     0  \n",
       "\n",
       "[5 rows x 325 columns]"
      ]
     },
     "execution_count": 93,
     "metadata": {},
     "output_type": "execute_result"
    }
   ],
   "source": [
    "mutation_df.head()"
   ]
  },
  {
   "cell_type": "code",
   "execution_count": 95,
   "id": "c57c4d41",
   "metadata": {},
   "outputs": [],
   "source": [
    "genes_324 = mutation_df.columns[1:]"
   ]
  },
  {
   "cell_type": "code",
   "execution_count": 126,
   "id": "47c86962",
   "metadata": {},
   "outputs": [],
   "source": [
    "# input file 3: SGA list in txt format\n",
    "name_dict = {'FAM123B': 'AMER1', 'FAM46C': 'TENT5C', 'C17orf39': 'GID4', 'H3F3A': 'H3-3A', 'MLL': 'KMT2A',\n",
    "            'MLL2': 'KMT2D', 'MRE11A': 'MRE11', 'MYCL1': 'MYCL', 'PARK2': 'PRKN', 'WHSC1': 'NSD2', 'WHSC1L1': 'NSD3'}\n",
    "track_dict = {}\n",
    "\n",
    "sga = []\n",
    "with open(\"sga.txt\", \"r\") as f:\n",
    "    next(f)\n",
    "    for line in f:\n",
    "        line = line.strip().split(\", \")\n",
    "        new_line = line[1:]\n",
    "        add_line = []\n",
    "        for gene in new_line:\n",
    "            if gene in genes_324:\n",
    "                add_line.append(gene)\n",
    "            elif gene in name_dict.values():\n",
    "                add_line.append(gene)\n",
    "                track_dict[gene] = 1\n",
    "        sga.append(add_line)\n",
    "\n",
    "idx2sga = {i:s for i,s in enumerate(list(set([l for line in sga for l in line])))}\n",
    "sga2idx = {idx2sga[i]:i for i in idx2sga.keys()}\n",
    "\n",
    "sga = [[sga2idx[l] for l in line] for line in sga]"
   ]
  },
  {
   "cell_type": "code",
   "execution_count": 113,
   "id": "cdc04f81",
   "metadata": {},
   "outputs": [],
   "source": [
    "# output file: dictionary in pickle format\n",
    "dataset = {\n",
    "    \"can\": can,\n",
    "    \"deg\": deg,\n",
    "    \"idx2can\": idx2can,\n",
    "    \"idx2deg\": idx2deg,\n",
    "    \"idx2sga\": idx2sga,\n",
    "    \"sga\": sga,\n",
    "    \"tmr\": tmr}\n",
    "\n",
    "with open(\"dataset_adjusted.pkl\", \"wb\") as f:\n",
    "    pickle.dump(dataset, f, protocol=2)"
   ]
  },
  {
   "cell_type": "code",
   "execution_count": 114,
   "id": "2692c0cc",
   "metadata": {},
   "outputs": [],
   "source": [
    "gene_emb_pretrain_ori = np.load('gene_emb_pretrain.npy')"
   ]
  },
  {
   "cell_type": "code",
   "execution_count": 115,
   "id": "02f6ec57",
   "metadata": {},
   "outputs": [],
   "source": [
    "with open('idx2gene.txt') as f:\n",
    "    idx2gene = f.readlines()[0]"
   ]
  },
  {
   "cell_type": "code",
   "execution_count": 116,
   "id": "62085829",
   "metadata": {},
   "outputs": [],
   "source": [
    "idx = list(map(lambda x: int(x.split(': ')[0]), idx2gene.split(', ')))\n",
    "genes = list(map(lambda x: x.split(': ')[1][1:-1], idx2gene.split(', ')))"
   ]
  },
  {
   "cell_type": "code",
   "execution_count": 117,
   "id": "7bb90c28",
   "metadata": {},
   "outputs": [],
   "source": [
    "idx2gene = {}\n",
    "gene2idx = {}\n",
    "for i in range(len(idx)):\n",
    "    gene = genes[i]\n",
    "    idx2gene[idx[i]] = gene\n",
    "    gene2idx[gene] = idx[i]"
   ]
  },
  {
   "cell_type": "code",
   "execution_count": 118,
   "id": "fd49a67c",
   "metadata": {},
   "outputs": [],
   "source": [
    "gene_embs = [[0]*512]\n",
    "not_found = []\n",
    "for i in range(len(idx2sga.keys())):\n",
    "    gene = idx2sga[i]\n",
    "    try:\n",
    "        new_idx = gene2idx[gene]\n",
    "    except:\n",
    "        not_found.append(gene)\n",
    "    gene_embs.append(gene_emb_pretrain_ori[new_idx])"
   ]
  },
  {
   "cell_type": "code",
   "execution_count": 119,
   "id": "59679e2b",
   "metadata": {},
   "outputs": [
    {
     "data": {
      "text/plain": [
       "(306, 512)"
      ]
     },
     "execution_count": 119,
     "metadata": {},
     "output_type": "execute_result"
    }
   ],
   "source": [
    "gene_emb_pretrain = np.array(gene_embs)\n",
    "gene_emb_pretrain.shape"
   ]
  },
  {
   "cell_type": "code",
   "execution_count": 124,
   "id": "81c956a4",
   "metadata": {},
   "outputs": [],
   "source": [
    "with open('gene_emb_pretrain_adjusted.npy', 'wb') as f:\n",
    "    np.save(f, gene_emb_pretrain)"
   ]
  },
  {
   "cell_type": "code",
   "execution_count": null,
   "id": "5652a9c3",
   "metadata": {},
   "outputs": [],
   "source": []
  },
  {
   "cell_type": "code",
   "execution_count": null,
   "id": "10aeff89",
   "metadata": {},
   "outputs": [],
   "source": []
  },
  {
   "cell_type": "code",
   "execution_count": 137,
   "id": "9b287786",
   "metadata": {},
   "outputs": [],
   "source": [
    "### adjust the SGAs to the 324 genes \n",
    "# input file 1: DEG matrix in csv format [no change]\n",
    "df = pd.read_csv(\"deg.csv\", index_col=0)\n",
    "\n",
    "tmr = list(df.index)\n",
    "\n",
    "idx2deg = {i:d for i, d in enumerate(df.columns)}\n",
    "\n",
    "deg = df.values"
   ]
  },
  {
   "cell_type": "code",
   "execution_count": 138,
   "id": "700d7aca",
   "metadata": {},
   "outputs": [
    {
     "data": {
      "text/plain": [
       "(4468, 2207)"
      ]
     },
     "execution_count": 138,
     "metadata": {},
     "output_type": "execute_result"
    }
   ],
   "source": [
    "deg.shape"
   ]
  },
  {
   "cell_type": "code",
   "execution_count": 139,
   "id": "55cc8ee4",
   "metadata": {},
   "outputs": [],
   "source": [
    "# input file 2: cancer type list in txt format [no change]\n",
    "can = []\n",
    "with open(\"cancer_type.txt\", \"r\") as f: \n",
    "    for line in f:\n",
    "        can.append(line.strip())\n",
    "\n",
    "idx2can = {i:c for i, c in enumerate(list(set(can)))}\n",
    "can2idx = {idx2can[i]:i for i in idx2can.keys()}\n",
    "\n",
    "can = [can2idx[c] for c in can]\n",
    "\n",
    "can = np.array(can)"
   ]
  },
  {
   "cell_type": "code",
   "execution_count": 140,
   "id": "eb6a8b96",
   "metadata": {},
   "outputs": [
    {
     "data": {
      "text/plain": [
       "(4468,)"
      ]
     },
     "execution_count": 140,
     "metadata": {},
     "output_type": "execute_result"
    }
   ],
   "source": [
    "can.shape"
   ]
  },
  {
   "cell_type": "code",
   "execution_count": 161,
   "id": "4822dd60",
   "metadata": {},
   "outputs": [],
   "source": [
    "# input file 3: SGA list in txt format (ori)\n",
    "sga_ori = []\n",
    "with open(\"sga.txt\", \"r\") as f:\n",
    "    next(f)\n",
    "    for line in f:\n",
    "        line = line.strip().split(\", \")\n",
    "        sga_ori.append(line[1:])\n",
    "\n",
    "idx2sga_ori = {i:s for i,s in enumerate(list(set([l for line in sga_ori for l in line])))}\n",
    "sga2idx_ori = {idx2sga_ori[i]:i for i in idx2sga_ori.keys()}\n",
    "\n",
    "sga_ori = [[sga2idx_ori[l] for l in line] for line in sga_ori]"
   ]
  },
  {
   "cell_type": "code",
   "execution_count": 162,
   "id": "04d97a78",
   "metadata": {},
   "outputs": [
    {
     "data": {
      "text/plain": [
       "4468"
      ]
     },
     "execution_count": 162,
     "metadata": {},
     "output_type": "execute_result"
    }
   ],
   "source": [
    "len(sga_ori)"
   ]
  },
  {
   "cell_type": "code",
   "execution_count": 163,
   "id": "ff9e1517",
   "metadata": {},
   "outputs": [
    {
     "data": {
      "text/plain": [
       "19780"
      ]
     },
     "execution_count": 163,
     "metadata": {},
     "output_type": "execute_result"
    }
   ],
   "source": [
    "max_id = 0\n",
    "for i in sga_ori:\n",
    "    max_id = max(max_id, max(i))\n",
    "max_id"
   ]
  },
  {
   "cell_type": "code",
   "execution_count": 185,
   "id": "1c8ef550",
   "metadata": {},
   "outputs": [],
   "source": [
    "# input file 3: SGA list in txt format\n",
    "missing_genes = list(genes_324)\n",
    "name_dict = {'FAM123B': 'AMER1', 'FAM46C': 'TENT5C', 'C17orf39': 'GID4', 'H3F3A': 'H3-3A', 'MLL': 'KMT2A',\n",
    "            'MLL2': 'KMT2D', 'MRE11A': 'MRE11', 'MYCL1': 'MYCL', 'PARK2': 'PRKN', 'WHSC1': 'NSD2', 'WHSC1L1': 'NSD3'}\n",
    "\n",
    "sga = []\n",
    "with open(\"sga.txt\", \"r\") as f:\n",
    "    next(f)\n",
    "    for line in f:\n",
    "        line = line.strip().split(\", \")\n",
    "        new_line = line[1:]\n",
    "        add_line = []\n",
    "        for gene in new_line:\n",
    "            if gene in genes_324:\n",
    "                add_line.append(gene)\n",
    "                if gene in missing_genes:\n",
    "                    missing_genes.remove(gene)\n",
    "            elif gene in name_dict.values():\n",
    "                add_line.append(gene)\n",
    "                if gene in missing_genes:\n",
    "                    missing_genes.remove(gene)\n",
    "        sga.append(add_line)\n",
    "\n",
    "idx2sga = {i:s for i,s in enumerate(list(set([l for line in sga for l in line])))}\n",
    "sga2idx = {idx2sga[i]:i for i in idx2sga.keys()}\n",
    "\n",
    "sga = [[sga2idx[l] for l in line] for line in sga]"
   ]
  },
  {
   "cell_type": "code",
   "execution_count": 186,
   "id": "5b42d347",
   "metadata": {},
   "outputs": [
    {
     "name": "stdout",
     "output_type": "stream",
     "text": [
      "['BCL2L2', 'EMSY', 'CCND1', 'CD274', 'CD70', 'FGF19', 'FGF3', 'FGF4', 'GATA4', 'ID3', 'MCL1', 'MDM4', 'MYC', 'PDCD1LG2', 'RAD21', 'RSPO2', 'SDHC', 'SDHD', 'SOCS1', 'SOX2', 'TNFRSF14', 'ZNF703', 'TERC']\n"
     ]
    }
   ],
   "source": [
    "print(missing_genes)"
   ]
  },
  {
   "cell_type": "code",
   "execution_count": 187,
   "id": "ff056cf0",
   "metadata": {},
   "outputs": [
    {
     "data": {
      "text/plain": [
       "304"
      ]
     },
     "execution_count": 187,
     "metadata": {},
     "output_type": "execute_result"
    }
   ],
   "source": [
    "max_id = 0\n",
    "for i in sga:\n",
    "    if i:\n",
    "        max_id = max(max_id, max(i))\n",
    "max_id"
   ]
  }
 ],
 "metadata": {
  "kernelspec": {
   "display_name": "Python 3 (ipykernel)",
   "language": "python",
   "name": "python3"
  },
  "language_info": {
   "codemirror_mode": {
    "name": "ipython",
    "version": 3
   },
   "file_extension": ".py",
   "mimetype": "text/x-python",
   "name": "python",
   "nbconvert_exporter": "python",
   "pygments_lexer": "ipython3",
   "version": "3.10.2"
  }
 },
 "nbformat": 4,
 "nbformat_minor": 5
}
