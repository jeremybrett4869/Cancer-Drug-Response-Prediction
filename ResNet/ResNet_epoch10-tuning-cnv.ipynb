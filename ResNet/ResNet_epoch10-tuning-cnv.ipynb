{
 "cells": [
  {
   "cell_type": "code",
   "execution_count": 1,
   "metadata": {},
   "outputs": [],
   "source": [
    "import os\n",
    "import pandas as pd\n",
    "import numpy as np\n",
    "import tensorflow as tf\n",
    "import random\n",
    "from pandas import DataFrame\n",
    "from datetime import datetime\n",
    "import keras\n",
    "from keras import Sequential,Input,Model\n",
    "from keras.layers import Dense, Dropout, Flatten, Reshape, Activation\n",
    "from keras.layers import Conv1D, MaxPooling1D ,AveragePooling1D\n",
    "from keras.layers import Conv2D, MaxPooling2D, AveragePooling2D\n",
    "from tensorflow.keras.layers import BatchNormalization\n",
    "from keras.layers import LeakyReLU\n",
    "from keras import backend as K\n",
    "#from tensorflow.keras.callbacks import ModelCheckpoint, CSVLogger\n",
    "#from tensorflow.keras.optimizers import Adam"
   ]
  },
  {
   "cell_type": "code",
   "execution_count": 2,
   "metadata": {},
   "outputs": [
    {
     "name": "stdout",
     "output_type": "stream",
     "text": [
      "[name: \"/device:CPU:0\"\n",
      "device_type: \"CPU\"\n",
      "memory_limit: 268435456\n",
      "locality {\n",
      "}\n",
      "incarnation: 4999177982297457661\n",
      "xla_global_id: -1\n",
      "]\n"
     ]
    }
   ],
   "source": [
    "from tensorflow.python.client import device_lib\n",
    "print(device_lib.list_local_devices())"
   ]
  },
  {
   "cell_type": "code",
   "execution_count": 3,
   "metadata": {},
   "outputs": [
    {
     "name": "stdout",
     "output_type": "stream",
     "text": [
      "['/device:CPU:0']\n"
     ]
    }
   ],
   "source": [
    "def get_available_devices():\n",
    "    local_device_protos = device_lib.list_local_devices()\n",
    "    return [x.name for x in local_device_protos]\n",
    "print(get_available_devices()) "
   ]
  },
  {
   "cell_type": "code",
   "execution_count": 4,
   "metadata": {},
   "outputs": [],
   "source": [
    "import pandas as pd\n",
    "train_data = pd.read_csv('/data/yingfei/cancer_data/train_data_cnv.csv')\n",
    "test_data = pd.read_csv('/data/yingfei/cancer_data/test_data_cnv.csv')"
   ]
  },
  {
   "cell_type": "code",
   "execution_count": 5,
   "metadata": {},
   "outputs": [
    {
     "name": "stdout",
     "output_type": "stream",
     "text": [
      "Train Shape: (203918, 2652)\n",
      "Test Shape: (22878, 2652)\n"
     ]
    }
   ],
   "source": [
    "print(f'Train Shape: {train_data.shape}')\n",
    "print(f'Test Shape: {test_data.shape}')"
   ]
  },
  {
   "cell_type": "code",
   "execution_count": 6,
   "metadata": {},
   "outputs": [],
   "source": [
    "train_data = train_data.loc[train_data['auc'] >= 0]"
   ]
  },
  {
   "cell_type": "code",
   "execution_count": 7,
   "metadata": {},
   "outputs": [
    {
     "data": {
      "text/html": [
       "<div>\n",
       "<style scoped>\n",
       "    .dataframe tbody tr th:only-of-type {\n",
       "        vertical-align: middle;\n",
       "    }\n",
       "\n",
       "    .dataframe tbody tr th {\n",
       "        vertical-align: top;\n",
       "    }\n",
       "\n",
       "    .dataframe thead th {\n",
       "        text-align: right;\n",
       "    }\n",
       "</style>\n",
       "<table border=\"1\" class=\"dataframe\">\n",
       "  <thead>\n",
       "    <tr style=\"text-align: right;\">\n",
       "      <th></th>\n",
       "      <th>ARXSPAN_ID</th>\n",
       "      <th>DRUG_NAME</th>\n",
       "      <th>ABL1</th>\n",
       "      <th>ACVR1B</th>\n",
       "      <th>AKT1</th>\n",
       "      <th>AKT2</th>\n",
       "      <th>AKT3</th>\n",
       "      <th>ALK</th>\n",
       "      <th>ALOX12B</th>\n",
       "      <th>FAM123B</th>\n",
       "      <th>...</th>\n",
       "      <th>PubchemFP872</th>\n",
       "      <th>PubchemFP873</th>\n",
       "      <th>PubchemFP874</th>\n",
       "      <th>PubchemFP875</th>\n",
       "      <th>PubchemFP876</th>\n",
       "      <th>PubchemFP877</th>\n",
       "      <th>PubchemFP878</th>\n",
       "      <th>PubchemFP879</th>\n",
       "      <th>PubchemFP880</th>\n",
       "      <th>auc</th>\n",
       "    </tr>\n",
       "  </thead>\n",
       "  <tbody>\n",
       "    <tr>\n",
       "      <th>0</th>\n",
       "      <td>ACH-000001</td>\n",
       "      <td>JW-7-24-1</td>\n",
       "      <td>1</td>\n",
       "      <td>1</td>\n",
       "      <td>1</td>\n",
       "      <td>1</td>\n",
       "      <td>1</td>\n",
       "      <td>0</td>\n",
       "      <td>-1</td>\n",
       "      <td>0</td>\n",
       "      <td>...</td>\n",
       "      <td>0</td>\n",
       "      <td>0</td>\n",
       "      <td>0</td>\n",
       "      <td>0</td>\n",
       "      <td>0</td>\n",
       "      <td>0</td>\n",
       "      <td>0</td>\n",
       "      <td>0</td>\n",
       "      <td>0</td>\n",
       "      <td>0.778432</td>\n",
       "    </tr>\n",
       "    <tr>\n",
       "      <th>1</th>\n",
       "      <td>ACH-000001</td>\n",
       "      <td>KIN001-260</td>\n",
       "      <td>1</td>\n",
       "      <td>1</td>\n",
       "      <td>1</td>\n",
       "      <td>1</td>\n",
       "      <td>1</td>\n",
       "      <td>0</td>\n",
       "      <td>-1</td>\n",
       "      <td>0</td>\n",
       "      <td>...</td>\n",
       "      <td>0</td>\n",
       "      <td>0</td>\n",
       "      <td>0</td>\n",
       "      <td>0</td>\n",
       "      <td>0</td>\n",
       "      <td>0</td>\n",
       "      <td>0</td>\n",
       "      <td>0</td>\n",
       "      <td>0</td>\n",
       "      <td>0.951321</td>\n",
       "    </tr>\n",
       "    <tr>\n",
       "      <th>2</th>\n",
       "      <td>ACH-000001</td>\n",
       "      <td>NSC-87877</td>\n",
       "      <td>1</td>\n",
       "      <td>1</td>\n",
       "      <td>1</td>\n",
       "      <td>1</td>\n",
       "      <td>1</td>\n",
       "      <td>0</td>\n",
       "      <td>-1</td>\n",
       "      <td>0</td>\n",
       "      <td>...</td>\n",
       "      <td>0</td>\n",
       "      <td>0</td>\n",
       "      <td>0</td>\n",
       "      <td>0</td>\n",
       "      <td>0</td>\n",
       "      <td>0</td>\n",
       "      <td>0</td>\n",
       "      <td>0</td>\n",
       "      <td>0</td>\n",
       "      <td>0.840287</td>\n",
       "    </tr>\n",
       "    <tr>\n",
       "      <th>3</th>\n",
       "      <td>ACH-000001</td>\n",
       "      <td>PLX-4720</td>\n",
       "      <td>1</td>\n",
       "      <td>1</td>\n",
       "      <td>1</td>\n",
       "      <td>1</td>\n",
       "      <td>1</td>\n",
       "      <td>0</td>\n",
       "      <td>-1</td>\n",
       "      <td>0</td>\n",
       "      <td>...</td>\n",
       "      <td>0</td>\n",
       "      <td>0</td>\n",
       "      <td>0</td>\n",
       "      <td>0</td>\n",
       "      <td>0</td>\n",
       "      <td>0</td>\n",
       "      <td>0</td>\n",
       "      <td>0</td>\n",
       "      <td>0</td>\n",
       "      <td>0.936410</td>\n",
       "    </tr>\n",
       "    <tr>\n",
       "      <th>4</th>\n",
       "      <td>ACH-000001</td>\n",
       "      <td>ERK5-IN-1</td>\n",
       "      <td>1</td>\n",
       "      <td>1</td>\n",
       "      <td>1</td>\n",
       "      <td>1</td>\n",
       "      <td>1</td>\n",
       "      <td>0</td>\n",
       "      <td>-1</td>\n",
       "      <td>0</td>\n",
       "      <td>...</td>\n",
       "      <td>0</td>\n",
       "      <td>0</td>\n",
       "      <td>0</td>\n",
       "      <td>0</td>\n",
       "      <td>0</td>\n",
       "      <td>0</td>\n",
       "      <td>0</td>\n",
       "      <td>0</td>\n",
       "      <td>0</td>\n",
       "      <td>0.891908</td>\n",
       "    </tr>\n",
       "    <tr>\n",
       "      <th>...</th>\n",
       "      <td>...</td>\n",
       "      <td>...</td>\n",
       "      <td>...</td>\n",
       "      <td>...</td>\n",
       "      <td>...</td>\n",
       "      <td>...</td>\n",
       "      <td>...</td>\n",
       "      <td>...</td>\n",
       "      <td>...</td>\n",
       "      <td>...</td>\n",
       "      <td>...</td>\n",
       "      <td>...</td>\n",
       "      <td>...</td>\n",
       "      <td>...</td>\n",
       "      <td>...</td>\n",
       "      <td>...</td>\n",
       "      <td>...</td>\n",
       "      <td>...</td>\n",
       "      <td>...</td>\n",
       "      <td>...</td>\n",
       "      <td>...</td>\n",
       "    </tr>\n",
       "    <tr>\n",
       "      <th>203913</th>\n",
       "      <td>ACH-001716</td>\n",
       "      <td>KIN001-236</td>\n",
       "      <td>0</td>\n",
       "      <td>0</td>\n",
       "      <td>0</td>\n",
       "      <td>0</td>\n",
       "      <td>0</td>\n",
       "      <td>1</td>\n",
       "      <td>0</td>\n",
       "      <td>0</td>\n",
       "      <td>...</td>\n",
       "      <td>0</td>\n",
       "      <td>0</td>\n",
       "      <td>0</td>\n",
       "      <td>0</td>\n",
       "      <td>0</td>\n",
       "      <td>0</td>\n",
       "      <td>0</td>\n",
       "      <td>0</td>\n",
       "      <td>0</td>\n",
       "      <td>0.956865</td>\n",
       "    </tr>\n",
       "    <tr>\n",
       "      <th>203914</th>\n",
       "      <td>ACH-001716</td>\n",
       "      <td>LUMINESPIB</td>\n",
       "      <td>0</td>\n",
       "      <td>0</td>\n",
       "      <td>0</td>\n",
       "      <td>0</td>\n",
       "      <td>0</td>\n",
       "      <td>1</td>\n",
       "      <td>0</td>\n",
       "      <td>0</td>\n",
       "      <td>...</td>\n",
       "      <td>0</td>\n",
       "      <td>0</td>\n",
       "      <td>0</td>\n",
       "      <td>0</td>\n",
       "      <td>0</td>\n",
       "      <td>0</td>\n",
       "      <td>0</td>\n",
       "      <td>0</td>\n",
       "      <td>0</td>\n",
       "      <td>0.975168</td>\n",
       "    </tr>\n",
       "    <tr>\n",
       "      <th>203915</th>\n",
       "      <td>ACH-001716</td>\n",
       "      <td>NUTLIN-3A</td>\n",
       "      <td>0</td>\n",
       "      <td>0</td>\n",
       "      <td>0</td>\n",
       "      <td>0</td>\n",
       "      <td>0</td>\n",
       "      <td>1</td>\n",
       "      <td>0</td>\n",
       "      <td>0</td>\n",
       "      <td>...</td>\n",
       "      <td>0</td>\n",
       "      <td>0</td>\n",
       "      <td>0</td>\n",
       "      <td>0</td>\n",
       "      <td>0</td>\n",
       "      <td>0</td>\n",
       "      <td>0</td>\n",
       "      <td>0</td>\n",
       "      <td>0</td>\n",
       "      <td>0.871995</td>\n",
       "    </tr>\n",
       "    <tr>\n",
       "      <th>203916</th>\n",
       "      <td>ACH-001716</td>\n",
       "      <td>SGC0946</td>\n",
       "      <td>0</td>\n",
       "      <td>0</td>\n",
       "      <td>0</td>\n",
       "      <td>0</td>\n",
       "      <td>0</td>\n",
       "      <td>1</td>\n",
       "      <td>0</td>\n",
       "      <td>0</td>\n",
       "      <td>...</td>\n",
       "      <td>0</td>\n",
       "      <td>0</td>\n",
       "      <td>0</td>\n",
       "      <td>0</td>\n",
       "      <td>0</td>\n",
       "      <td>0</td>\n",
       "      <td>0</td>\n",
       "      <td>0</td>\n",
       "      <td>0</td>\n",
       "      <td>0.975417</td>\n",
       "    </tr>\n",
       "    <tr>\n",
       "      <th>203917</th>\n",
       "      <td>ACH-001716</td>\n",
       "      <td>SL 0101-1</td>\n",
       "      <td>0</td>\n",
       "      <td>0</td>\n",
       "      <td>0</td>\n",
       "      <td>0</td>\n",
       "      <td>0</td>\n",
       "      <td>1</td>\n",
       "      <td>0</td>\n",
       "      <td>0</td>\n",
       "      <td>...</td>\n",
       "      <td>0</td>\n",
       "      <td>0</td>\n",
       "      <td>0</td>\n",
       "      <td>0</td>\n",
       "      <td>0</td>\n",
       "      <td>0</td>\n",
       "      <td>0</td>\n",
       "      <td>0</td>\n",
       "      <td>0</td>\n",
       "      <td>0.942321</td>\n",
       "    </tr>\n",
       "  </tbody>\n",
       "</table>\n",
       "<p>203918 rows × 2652 columns</p>\n",
       "</div>"
      ],
      "text/plain": [
       "        ARXSPAN_ID   DRUG_NAME  ABL1  ACVR1B  AKT1  AKT2  AKT3  ALK  ALOX12B  \\\n",
       "0       ACH-000001   JW-7-24-1     1       1     1     1     1    0       -1   \n",
       "1       ACH-000001  KIN001-260     1       1     1     1     1    0       -1   \n",
       "2       ACH-000001   NSC-87877     1       1     1     1     1    0       -1   \n",
       "3       ACH-000001    PLX-4720     1       1     1     1     1    0       -1   \n",
       "4       ACH-000001   ERK5-IN-1     1       1     1     1     1    0       -1   \n",
       "...            ...         ...   ...     ...   ...   ...   ...  ...      ...   \n",
       "203913  ACH-001716  KIN001-236     0       0     0     0     0    1        0   \n",
       "203914  ACH-001716  LUMINESPIB     0       0     0     0     0    1        0   \n",
       "203915  ACH-001716   NUTLIN-3A     0       0     0     0     0    1        0   \n",
       "203916  ACH-001716     SGC0946     0       0     0     0     0    1        0   \n",
       "203917  ACH-001716   SL 0101-1     0       0     0     0     0    1        0   \n",
       "\n",
       "        FAM123B  ...  PubchemFP872  PubchemFP873  PubchemFP874  PubchemFP875  \\\n",
       "0             0  ...             0             0             0             0   \n",
       "1             0  ...             0             0             0             0   \n",
       "2             0  ...             0             0             0             0   \n",
       "3             0  ...             0             0             0             0   \n",
       "4             0  ...             0             0             0             0   \n",
       "...         ...  ...           ...           ...           ...           ...   \n",
       "203913        0  ...             0             0             0             0   \n",
       "203914        0  ...             0             0             0             0   \n",
       "203915        0  ...             0             0             0             0   \n",
       "203916        0  ...             0             0             0             0   \n",
       "203917        0  ...             0             0             0             0   \n",
       "\n",
       "        PubchemFP876  PubchemFP877  PubchemFP878  PubchemFP879  PubchemFP880  \\\n",
       "0                  0             0             0             0             0   \n",
       "1                  0             0             0             0             0   \n",
       "2                  0             0             0             0             0   \n",
       "3                  0             0             0             0             0   \n",
       "4                  0             0             0             0             0   \n",
       "...              ...           ...           ...           ...           ...   \n",
       "203913             0             0             0             0             0   \n",
       "203914             0             0             0             0             0   \n",
       "203915             0             0             0             0             0   \n",
       "203916             0             0             0             0             0   \n",
       "203917             0             0             0             0             0   \n",
       "\n",
       "             auc  \n",
       "0       0.778432  \n",
       "1       0.951321  \n",
       "2       0.840287  \n",
       "3       0.936410  \n",
       "4       0.891908  \n",
       "...          ...  \n",
       "203913  0.956865  \n",
       "203914  0.975168  \n",
       "203915  0.871995  \n",
       "203916  0.975417  \n",
       "203917  0.942321  \n",
       "\n",
       "[203918 rows x 2652 columns]"
      ]
     },
     "execution_count": 7,
     "metadata": {},
     "output_type": "execute_result"
    }
   ],
   "source": [
    "train_data = train_data.reset_index(drop = True)\n",
    "train_data"
   ]
  },
  {
   "cell_type": "code",
   "execution_count": 8,
   "metadata": {},
   "outputs": [],
   "source": [
    "test_data = test_data.loc[test_data['auc'] >= 0]"
   ]
  },
  {
   "cell_type": "code",
   "execution_count": 9,
   "metadata": {},
   "outputs": [
    {
     "data": {
      "text/html": [
       "<div>\n",
       "<style scoped>\n",
       "    .dataframe tbody tr th:only-of-type {\n",
       "        vertical-align: middle;\n",
       "    }\n",
       "\n",
       "    .dataframe tbody tr th {\n",
       "        vertical-align: top;\n",
       "    }\n",
       "\n",
       "    .dataframe thead th {\n",
       "        text-align: right;\n",
       "    }\n",
       "</style>\n",
       "<table border=\"1\" class=\"dataframe\">\n",
       "  <thead>\n",
       "    <tr style=\"text-align: right;\">\n",
       "      <th></th>\n",
       "      <th>ARXSPAN_ID</th>\n",
       "      <th>DRUG_NAME</th>\n",
       "      <th>ABL1</th>\n",
       "      <th>ACVR1B</th>\n",
       "      <th>AKT1</th>\n",
       "      <th>AKT2</th>\n",
       "      <th>AKT3</th>\n",
       "      <th>ALK</th>\n",
       "      <th>ALOX12B</th>\n",
       "      <th>FAM123B</th>\n",
       "      <th>...</th>\n",
       "      <th>PubchemFP872</th>\n",
       "      <th>PubchemFP873</th>\n",
       "      <th>PubchemFP874</th>\n",
       "      <th>PubchemFP875</th>\n",
       "      <th>PubchemFP876</th>\n",
       "      <th>PubchemFP877</th>\n",
       "      <th>PubchemFP878</th>\n",
       "      <th>PubchemFP879</th>\n",
       "      <th>PubchemFP880</th>\n",
       "      <th>auc</th>\n",
       "    </tr>\n",
       "  </thead>\n",
       "  <tbody>\n",
       "    <tr>\n",
       "      <th>0</th>\n",
       "      <td>ACH-000802</td>\n",
       "      <td>JW-7-24-1</td>\n",
       "      <td>1</td>\n",
       "      <td>0</td>\n",
       "      <td>1</td>\n",
       "      <td>-1</td>\n",
       "      <td>1</td>\n",
       "      <td>1</td>\n",
       "      <td>-1</td>\n",
       "      <td>0</td>\n",
       "      <td>...</td>\n",
       "      <td>0</td>\n",
       "      <td>0</td>\n",
       "      <td>0</td>\n",
       "      <td>0</td>\n",
       "      <td>0</td>\n",
       "      <td>0</td>\n",
       "      <td>0</td>\n",
       "      <td>0</td>\n",
       "      <td>0</td>\n",
       "      <td>0.528562</td>\n",
       "    </tr>\n",
       "    <tr>\n",
       "      <th>1</th>\n",
       "      <td>ACH-000802</td>\n",
       "      <td>KIN001-260</td>\n",
       "      <td>1</td>\n",
       "      <td>0</td>\n",
       "      <td>1</td>\n",
       "      <td>-1</td>\n",
       "      <td>1</td>\n",
       "      <td>1</td>\n",
       "      <td>-1</td>\n",
       "      <td>0</td>\n",
       "      <td>...</td>\n",
       "      <td>0</td>\n",
       "      <td>0</td>\n",
       "      <td>0</td>\n",
       "      <td>0</td>\n",
       "      <td>0</td>\n",
       "      <td>0</td>\n",
       "      <td>0</td>\n",
       "      <td>0</td>\n",
       "      <td>0</td>\n",
       "      <td>0.930958</td>\n",
       "    </tr>\n",
       "    <tr>\n",
       "      <th>2</th>\n",
       "      <td>ACH-000802</td>\n",
       "      <td>NSC-87877</td>\n",
       "      <td>1</td>\n",
       "      <td>0</td>\n",
       "      <td>1</td>\n",
       "      <td>-1</td>\n",
       "      <td>1</td>\n",
       "      <td>1</td>\n",
       "      <td>-1</td>\n",
       "      <td>0</td>\n",
       "      <td>...</td>\n",
       "      <td>0</td>\n",
       "      <td>0</td>\n",
       "      <td>0</td>\n",
       "      <td>0</td>\n",
       "      <td>0</td>\n",
       "      <td>0</td>\n",
       "      <td>0</td>\n",
       "      <td>0</td>\n",
       "      <td>0</td>\n",
       "      <td>0.759249</td>\n",
       "    </tr>\n",
       "    <tr>\n",
       "      <th>3</th>\n",
       "      <td>ACH-000802</td>\n",
       "      <td>PLX-4720</td>\n",
       "      <td>1</td>\n",
       "      <td>0</td>\n",
       "      <td>1</td>\n",
       "      <td>-1</td>\n",
       "      <td>1</td>\n",
       "      <td>1</td>\n",
       "      <td>-1</td>\n",
       "      <td>0</td>\n",
       "      <td>...</td>\n",
       "      <td>0</td>\n",
       "      <td>0</td>\n",
       "      <td>0</td>\n",
       "      <td>0</td>\n",
       "      <td>0</td>\n",
       "      <td>0</td>\n",
       "      <td>0</td>\n",
       "      <td>0</td>\n",
       "      <td>0</td>\n",
       "      <td>0.936510</td>\n",
       "    </tr>\n",
       "    <tr>\n",
       "      <th>4</th>\n",
       "      <td>ACH-000802</td>\n",
       "      <td>ERK5-IN-1</td>\n",
       "      <td>1</td>\n",
       "      <td>0</td>\n",
       "      <td>1</td>\n",
       "      <td>-1</td>\n",
       "      <td>1</td>\n",
       "      <td>1</td>\n",
       "      <td>-1</td>\n",
       "      <td>0</td>\n",
       "      <td>...</td>\n",
       "      <td>0</td>\n",
       "      <td>0</td>\n",
       "      <td>0</td>\n",
       "      <td>0</td>\n",
       "      <td>0</td>\n",
       "      <td>0</td>\n",
       "      <td>0</td>\n",
       "      <td>0</td>\n",
       "      <td>0</td>\n",
       "      <td>0.823453</td>\n",
       "    </tr>\n",
       "    <tr>\n",
       "      <th>...</th>\n",
       "      <td>...</td>\n",
       "      <td>...</td>\n",
       "      <td>...</td>\n",
       "      <td>...</td>\n",
       "      <td>...</td>\n",
       "      <td>...</td>\n",
       "      <td>...</td>\n",
       "      <td>...</td>\n",
       "      <td>...</td>\n",
       "      <td>...</td>\n",
       "      <td>...</td>\n",
       "      <td>...</td>\n",
       "      <td>...</td>\n",
       "      <td>...</td>\n",
       "      <td>...</td>\n",
       "      <td>...</td>\n",
       "      <td>...</td>\n",
       "      <td>...</td>\n",
       "      <td>...</td>\n",
       "      <td>...</td>\n",
       "      <td>...</td>\n",
       "    </tr>\n",
       "    <tr>\n",
       "      <th>22873</th>\n",
       "      <td>ACH-000438</td>\n",
       "      <td>KIN001-266</td>\n",
       "      <td>0</td>\n",
       "      <td>0</td>\n",
       "      <td>0</td>\n",
       "      <td>1</td>\n",
       "      <td>0</td>\n",
       "      <td>0</td>\n",
       "      <td>0</td>\n",
       "      <td>0</td>\n",
       "      <td>...</td>\n",
       "      <td>0</td>\n",
       "      <td>0</td>\n",
       "      <td>0</td>\n",
       "      <td>0</td>\n",
       "      <td>0</td>\n",
       "      <td>0</td>\n",
       "      <td>0</td>\n",
       "      <td>0</td>\n",
       "      <td>0</td>\n",
       "      <td>0.975578</td>\n",
       "    </tr>\n",
       "    <tr>\n",
       "      <th>22874</th>\n",
       "      <td>ACH-000438</td>\n",
       "      <td>LUMINESPIB</td>\n",
       "      <td>0</td>\n",
       "      <td>0</td>\n",
       "      <td>0</td>\n",
       "      <td>1</td>\n",
       "      <td>0</td>\n",
       "      <td>0</td>\n",
       "      <td>0</td>\n",
       "      <td>0</td>\n",
       "      <td>...</td>\n",
       "      <td>0</td>\n",
       "      <td>0</td>\n",
       "      <td>0</td>\n",
       "      <td>0</td>\n",
       "      <td>0</td>\n",
       "      <td>0</td>\n",
       "      <td>0</td>\n",
       "      <td>0</td>\n",
       "      <td>0</td>\n",
       "      <td>0.980529</td>\n",
       "    </tr>\n",
       "    <tr>\n",
       "      <th>22875</th>\n",
       "      <td>ACH-000438</td>\n",
       "      <td>NUTLIN-3A</td>\n",
       "      <td>0</td>\n",
       "      <td>0</td>\n",
       "      <td>0</td>\n",
       "      <td>1</td>\n",
       "      <td>0</td>\n",
       "      <td>0</td>\n",
       "      <td>0</td>\n",
       "      <td>0</td>\n",
       "      <td>...</td>\n",
       "      <td>0</td>\n",
       "      <td>0</td>\n",
       "      <td>0</td>\n",
       "      <td>0</td>\n",
       "      <td>0</td>\n",
       "      <td>0</td>\n",
       "      <td>0</td>\n",
       "      <td>0</td>\n",
       "      <td>0</td>\n",
       "      <td>0.960501</td>\n",
       "    </tr>\n",
       "    <tr>\n",
       "      <th>22876</th>\n",
       "      <td>ACH-000438</td>\n",
       "      <td>SGC0946</td>\n",
       "      <td>0</td>\n",
       "      <td>0</td>\n",
       "      <td>0</td>\n",
       "      <td>1</td>\n",
       "      <td>0</td>\n",
       "      <td>0</td>\n",
       "      <td>0</td>\n",
       "      <td>0</td>\n",
       "      <td>...</td>\n",
       "      <td>0</td>\n",
       "      <td>0</td>\n",
       "      <td>0</td>\n",
       "      <td>0</td>\n",
       "      <td>0</td>\n",
       "      <td>0</td>\n",
       "      <td>0</td>\n",
       "      <td>0</td>\n",
       "      <td>0</td>\n",
       "      <td>0.970524</td>\n",
       "    </tr>\n",
       "    <tr>\n",
       "      <th>22877</th>\n",
       "      <td>ACH-000438</td>\n",
       "      <td>SL 0101-1</td>\n",
       "      <td>0</td>\n",
       "      <td>0</td>\n",
       "      <td>0</td>\n",
       "      <td>1</td>\n",
       "      <td>0</td>\n",
       "      <td>0</td>\n",
       "      <td>0</td>\n",
       "      <td>0</td>\n",
       "      <td>...</td>\n",
       "      <td>0</td>\n",
       "      <td>0</td>\n",
       "      <td>0</td>\n",
       "      <td>0</td>\n",
       "      <td>0</td>\n",
       "      <td>0</td>\n",
       "      <td>0</td>\n",
       "      <td>0</td>\n",
       "      <td>0</td>\n",
       "      <td>0.706073</td>\n",
       "    </tr>\n",
       "  </tbody>\n",
       "</table>\n",
       "<p>22878 rows × 2652 columns</p>\n",
       "</div>"
      ],
      "text/plain": [
       "       ARXSPAN_ID   DRUG_NAME  ABL1  ACVR1B  AKT1  AKT2  AKT3  ALK  ALOX12B  \\\n",
       "0      ACH-000802   JW-7-24-1     1       0     1    -1     1    1       -1   \n",
       "1      ACH-000802  KIN001-260     1       0     1    -1     1    1       -1   \n",
       "2      ACH-000802   NSC-87877     1       0     1    -1     1    1       -1   \n",
       "3      ACH-000802    PLX-4720     1       0     1    -1     1    1       -1   \n",
       "4      ACH-000802   ERK5-IN-1     1       0     1    -1     1    1       -1   \n",
       "...           ...         ...   ...     ...   ...   ...   ...  ...      ...   \n",
       "22873  ACH-000438  KIN001-266     0       0     0     1     0    0        0   \n",
       "22874  ACH-000438  LUMINESPIB     0       0     0     1     0    0        0   \n",
       "22875  ACH-000438   NUTLIN-3A     0       0     0     1     0    0        0   \n",
       "22876  ACH-000438     SGC0946     0       0     0     1     0    0        0   \n",
       "22877  ACH-000438   SL 0101-1     0       0     0     1     0    0        0   \n",
       "\n",
       "       FAM123B  ...  PubchemFP872  PubchemFP873  PubchemFP874  PubchemFP875  \\\n",
       "0            0  ...             0             0             0             0   \n",
       "1            0  ...             0             0             0             0   \n",
       "2            0  ...             0             0             0             0   \n",
       "3            0  ...             0             0             0             0   \n",
       "4            0  ...             0             0             0             0   \n",
       "...        ...  ...           ...           ...           ...           ...   \n",
       "22873        0  ...             0             0             0             0   \n",
       "22874        0  ...             0             0             0             0   \n",
       "22875        0  ...             0             0             0             0   \n",
       "22876        0  ...             0             0             0             0   \n",
       "22877        0  ...             0             0             0             0   \n",
       "\n",
       "       PubchemFP876  PubchemFP877  PubchemFP878  PubchemFP879  PubchemFP880  \\\n",
       "0                 0             0             0             0             0   \n",
       "1                 0             0             0             0             0   \n",
       "2                 0             0             0             0             0   \n",
       "3                 0             0             0             0             0   \n",
       "4                 0             0             0             0             0   \n",
       "...             ...           ...           ...           ...           ...   \n",
       "22873             0             0             0             0             0   \n",
       "22874             0             0             0             0             0   \n",
       "22875             0             0             0             0             0   \n",
       "22876             0             0             0             0             0   \n",
       "22877             0             0             0             0             0   \n",
       "\n",
       "            auc  \n",
       "0      0.528562  \n",
       "1      0.930958  \n",
       "2      0.759249  \n",
       "3      0.936510  \n",
       "4      0.823453  \n",
       "...         ...  \n",
       "22873  0.975578  \n",
       "22874  0.980529  \n",
       "22875  0.960501  \n",
       "22876  0.970524  \n",
       "22877  0.706073  \n",
       "\n",
       "[22878 rows x 2652 columns]"
      ]
     },
     "execution_count": 9,
     "metadata": {},
     "output_type": "execute_result"
    }
   ],
   "source": [
    "test_data = test_data.reset_index(drop = True)\n",
    "test_data"
   ]
  },
  {
   "cell_type": "code",
   "execution_count": 10,
   "metadata": {},
   "outputs": [
    {
     "data": {
      "text/plain": [
       "array([[1., 1., 1., ..., 0., 0., 0.],\n",
       "       [1., 1., 1., ..., 0., 0., 0.],\n",
       "       [1., 1., 1., ..., 0., 0., 0.],\n",
       "       ...,\n",
       "       [0., 0., 0., ..., 0., 0., 0.],\n",
       "       [0., 0., 0., ..., 0., 0., 0.],\n",
       "       [0., 0., 0., ..., 0., 0., 0.]])"
      ]
     },
     "execution_count": 10,
     "metadata": {},
     "output_type": "execute_result"
    }
   ],
   "source": [
    "from sklearn.preprocessing import MinMaxScaler\n",
    "scaler = MinMaxScaler()\n",
    "padel_features = train_data[train_data.columns[-2326:-1]]\n",
    "padel_features = scaler.fit_transform(padel_features)\n",
    "padel_features = pd.DataFrame(padel_features)\n",
    "#train_features = train_data.drop(columns = ['ARXSPAN_ID', 'DRUG_NAME','auc'])\n",
    "#train_features = scaler.fit_transform(train_features)\n",
    "train_features = train_data[train_data.columns[2:-2326]]\n",
    "train_features = pd.concat([train_features, padel_features], axis = 1)\n",
    "train_features = train_features.to_numpy()\n",
    "train_features"
   ]
  },
  {
   "cell_type": "code",
   "execution_count": 11,
   "metadata": {},
   "outputs": [
    {
     "name": "stdout",
     "output_type": "stream",
     "text": [
      "Minimum train y value: 0.004496,       Maximum train y value: 0.999883\n"
     ]
    }
   ],
   "source": [
    "train_label = train_data['auc']\n",
    "print(f'Minimum train y value: {min(train_label)}, \\\n",
    "      Maximum train y value: {max(train_label)}')"
   ]
  },
  {
   "cell_type": "code",
   "execution_count": 12,
   "metadata": {},
   "outputs": [
    {
     "data": {
      "text/plain": [
       "array([[1., 0., 1., ..., 0., 0., 0.],\n",
       "       [1., 0., 1., ..., 0., 0., 0.],\n",
       "       [1., 0., 1., ..., 0., 0., 0.],\n",
       "       ...,\n",
       "       [0., 0., 0., ..., 0., 0., 0.],\n",
       "       [0., 0., 0., ..., 0., 0., 0.],\n",
       "       [0., 0., 0., ..., 0., 0., 0.]])"
      ]
     },
     "execution_count": 12,
     "metadata": {},
     "output_type": "execute_result"
    }
   ],
   "source": [
    "padel_features = test_data[test_data.columns[-2326:-1]]\n",
    "padel_features = scaler.fit_transform(padel_features)\n",
    "padel_features = pd.DataFrame(padel_features)\n",
    "#test_features = test_data.drop(columns = ['ARXSPAN_ID', 'DRUG_NAME','auc'])\n",
    "#test_features = scaler.transform(test_features)\n",
    "test_features = test_data[test_data.columns[2:-2326]]\n",
    "test_features = pd.concat([test_features, padel_features], axis = 1)\n",
    "test_features = test_features.to_numpy()\n",
    "test_features"
   ]
  },
  {
   "cell_type": "code",
   "execution_count": 13,
   "metadata": {},
   "outputs": [
    {
     "name": "stdout",
     "output_type": "stream",
     "text": [
      "Minimum test y value: 0.013524,       Maximum test y value: 0.998284\n"
     ]
    }
   ],
   "source": [
    "test_label = test_data['auc']\n",
    "print(f'Minimum test y value: {min(test_label)}, \\\n",
    "      Maximum test y value: {max(test_label)}')"
   ]
  },
  {
   "cell_type": "code",
   "execution_count": 14,
   "metadata": {},
   "outputs": [],
   "source": [
    "train_X, train_y, test_X, test_y = train_features, train_label, test_features, test_label"
   ]
  },
  {
   "cell_type": "code",
   "execution_count": 15,
   "metadata": {},
   "outputs": [],
   "source": [
    "train_X = train_X.reshape(train_X.shape[0], train_X.shape[1], 1)\n",
    "test_X = test_X.reshape(test_X.shape[0], test_X.shape[1], 1)"
   ]
  },
  {
   "cell_type": "code",
   "execution_count": 16,
   "metadata": {},
   "outputs": [
    {
     "name": "stdout",
     "output_type": "stream",
     "text": [
      "(203918, 2649, 1) (203918,) (22878, 2649, 1) (22878,)\n"
     ]
    }
   ],
   "source": [
    "print(train_X.shape, train_y.shape, test_X.shape, test_y.shape)"
   ]
  },
  {
   "cell_type": "code",
   "execution_count": 17,
   "metadata": {},
   "outputs": [
    {
     "name": "stdout",
     "output_type": "stream",
     "text": [
      "train_X shape: (203918, 2649, 1)\n",
      "203918 train samples\n",
      "22878 test samples\n"
     ]
    }
   ],
   "source": [
    "train_X = train_X.astype('float32')\n",
    "test_X = test_X.astype('float32')\n",
    "print('train_X shape:', train_X.shape)\n",
    "print(train_X.shape[0], 'train samples')\n",
    "print(test_X.shape[0], 'test samples')"
   ]
  },
  {
   "cell_type": "code",
   "execution_count": 18,
   "metadata": {},
   "outputs": [],
   "source": [
    "train_X = np.nan_to_num(train_X)\n",
    "train_y = np.nan_to_num(train_y)\n",
    "test_X = np.nan_to_num(test_X)\n",
    "test_y = np.nan_to_num(test_y)"
   ]
  },
  {
   "cell_type": "code",
   "execution_count": 19,
   "metadata": {},
   "outputs": [],
   "source": [
    "from bayes_opt import BayesianOptimization, UtilityFunction"
   ]
  },
  {
   "cell_type": "code",
   "execution_count": 20,
   "metadata": {},
   "outputs": [],
   "source": [
    "from sklearn.model_selection import train_test_split"
   ]
  },
  {
   "cell_type": "code",
   "execution_count": 21,
   "metadata": {},
   "outputs": [],
   "source": [
    "### split into train and validation set\n",
    "train_X, val_X, train_y, val_y = train_test_split(train_X, train_y, random_state = 42)"
   ]
  },
  {
   "cell_type": "code",
   "execution_count": 22,
   "metadata": {},
   "outputs": [
    {
     "name": "stdout",
     "output_type": "stream",
     "text": [
      "18\n"
     ]
    }
   ],
   "source": [
    "### Hyperparameters set\n",
    "params_lst = [\"learning_rate\", \"batch_size\", \"optimizer\"]\n",
    "params_value_dict = {\"learning_rate\": [1e-4, 2e-4, 5e-4], \n",
    "                     \"batch_size\": [80, 100, 120], \n",
    "                     \"optimizer\": ['sgd', 'adam']}\n",
    "import itertools as it\n",
    "\n",
    "allparams = params_value_dict\n",
    "combinations = it.product(*(params_value_dict[param] for param in allparams))\n",
    "combinations_lst = list(combinations)\n",
    "print(len(combinations_lst))\n",
    "\n",
    "hyper_param_dict = {}\n",
    "for i in range(len(combinations_lst)):\n",
    "    hyper_param_dict[i] = {}\n",
    "    for j in range(len(params_lst)):\n",
    "        hyper_param_dict[i][params_lst[j]] = combinations_lst[i][j]"
   ]
  },
  {
   "cell_type": "code",
   "execution_count": 23,
   "metadata": {
    "scrolled": true
   },
   "outputs": [
    {
     "name": "stdout",
     "output_type": "stream",
     "text": [
      "StartTime : 2023-03-15 16:36:10.976750\n",
      "Epoch 1/10\n",
      "1912/1912 [==============================] - 346s 175ms/step - loss: 0.6638 - mse: 0.6638 - mae: 0.6419 - val_loss: 0.2243 - val_mse: 0.2243 - val_mae: 0.3766\n",
      "Epoch 2/10\n",
      "1912/1912 [==============================] - 333s 174ms/step - loss: 0.4121 - mse: 0.4121 - mae: 0.5081 - val_loss: 0.1603 - val_mse: 0.1603 - val_mae: 0.3188\n",
      "Epoch 3/10\n",
      "1912/1912 [==============================] - 342s 179ms/step - loss: 0.3073 - mse: 0.3073 - mae: 0.4389 - val_loss: 0.1202 - val_mse: 0.1202 - val_mae: 0.2756\n",
      "Epoch 4/10\n",
      "1912/1912 [==============================] - 339s 177ms/step - loss: 0.2398 - mse: 0.2398 - mae: 0.3879 - val_loss: 0.1014 - val_mse: 0.1014 - val_mae: 0.2544\n",
      "Epoch 5/10\n",
      "1912/1912 [==============================] - 347s 181ms/step - loss: 0.1950 - mse: 0.1950 - mae: 0.3500 - val_loss: 0.0839 - val_mse: 0.0839 - val_mae: 0.2325\n",
      "Epoch 6/10\n",
      "1912/1912 [==============================] - 348s 182ms/step - loss: 0.1652 - mse: 0.1652 - mae: 0.3224 - val_loss: 0.0730 - val_mse: 0.0730 - val_mae: 0.2165\n",
      "Epoch 7/10\n",
      "1912/1912 [==============================] - 335s 175ms/step - loss: 0.1424 - mse: 0.1424 - mae: 0.2990 - val_loss: 0.0660 - val_mse: 0.0660 - val_mae: 0.2063\n",
      "Epoch 8/10\n",
      "1912/1912 [==============================] - 336s 176ms/step - loss: 0.1244 - mse: 0.1244 - mae: 0.2795 - val_loss: 0.0569 - val_mse: 0.0569 - val_mae: 0.1912\n",
      "Epoch 9/10\n",
      "1912/1912 [==============================] - 344s 180ms/step - loss: 0.1095 - mse: 0.1095 - mae: 0.2620 - val_loss: 0.0541 - val_mse: 0.0541 - val_mae: 0.1870\n",
      "Epoch 10/10\n",
      "1912/1912 [==============================] - 347s 181ms/step - loss: 0.0967 - mse: 0.0967 - mae: 0.2463 - val_loss: 0.0490 - val_mse: 0.0490 - val_mae: 0.1784\n",
      "EndTime : 2023-03-15 17:33:09.110075\n",
      "Evaluating model 0...\n",
      "715/715 [==============================] - 25s 35ms/step - loss: 0.0489 - mse: 0.0489 - mae: 0.1777\n",
      "loss=0.048888, mse=0.048888, mae=0.177700\n",
      "StartTime : 2023-03-15 17:33:37.145986\n",
      "Epoch 1/10\n",
      "1912/1912 [==============================] - 363s 183ms/step - loss: 0.3627 - mse: 0.3627 - mae: 0.3923 - val_loss: 0.0229 - val_mse: 0.0229 - val_mae: 0.1091\n",
      "Epoch 2/10\n",
      "1912/1912 [==============================] - 344s 180ms/step - loss: 0.0784 - mse: 0.0784 - mae: 0.1856 - val_loss: 0.0175 - val_mse: 0.0175 - val_mae: 0.0865\n",
      "Epoch 3/10\n",
      "1912/1912 [==============================] - 339s 177ms/step - loss: 0.0464 - mse: 0.0464 - mae: 0.1452 - val_loss: 0.0160 - val_mse: 0.0160 - val_mae: 0.0825\n",
      "Epoch 4/10\n",
      "1912/1912 [==============================] - 340s 178ms/step - loss: 0.0309 - mse: 0.0309 - mae: 0.1214 - val_loss: 0.0150 - val_mse: 0.0150 - val_mae: 0.0791\n",
      "Epoch 5/10\n",
      "1912/1912 [==============================] - 339s 178ms/step - loss: 0.0222 - mse: 0.0222 - mae: 0.1047 - val_loss: 0.0133 - val_mse: 0.0133 - val_mae: 0.0731\n",
      "Epoch 6/10\n",
      "1912/1912 [==============================] - 334s 175ms/step - loss: 0.0180 - mse: 0.0180 - mae: 0.0945 - val_loss: 0.0127 - val_mse: 0.0127 - val_mae: 0.0727\n",
      "Epoch 7/10\n",
      "1912/1912 [==============================] - 329s 172ms/step - loss: 0.0159 - mse: 0.0159 - mae: 0.0885 - val_loss: 0.0128 - val_mse: 0.0128 - val_mae: 0.0707\n",
      "Epoch 8/10\n",
      "1912/1912 [==============================] - 330s 173ms/step - loss: 0.0148 - mse: 0.0148 - mae: 0.0843 - val_loss: 0.0126 - val_mse: 0.0126 - val_mae: 0.0704\n",
      "Epoch 9/10\n",
      "1912/1912 [==============================] - 331s 173ms/step - loss: 0.0140 - mse: 0.0140 - mae: 0.0817 - val_loss: 0.0126 - val_mse: 0.0126 - val_mae: 0.0688\n",
      "Epoch 10/10\n",
      "1357/1912 [====================>.........] - ETA: 1:29 - loss: 0.0134 - mse: 0.0134 - mae: 0.0791"
     ]
    },
    {
     "name": "stderr",
     "output_type": "stream",
     "text": [
      "IOPub message rate exceeded.\n",
      "The notebook server will temporarily stop sending output\n",
      "to the client in order to avoid crashing it.\n",
      "To change this limit, set the config variable\n",
      "`--NotebookApp.iopub_msg_rate_limit`.\n",
      "\n",
      "Current values:\n",
      "NotebookApp.iopub_msg_rate_limit=1000.0 (msgs/sec)\n",
      "NotebookApp.rate_limit_window=3.0 (secs)\n",
      "\n"
     ]
    },
    {
     "name": "stdout",
     "output_type": "stream",
     "text": [
      "1530/1530 [==============================] - 333s 211ms/step - loss: 0.9382 - mse: 0.9382 - mae: 0.7597 - val_loss: 0.3313 - val_mse: 0.3313 - val_mae: 0.4617\n",
      "Epoch 2/10\n",
      "1530/1530 [==============================] - 316s 207ms/step - loss: 0.5069 - mse: 0.5069 - mae: 0.5617 - val_loss: 0.2151 - val_mse: 0.2151 - val_mae: 0.3703\n",
      "Epoch 3/10\n",
      "1530/1530 [==============================] - 323s 211ms/step - loss: 0.3653 - mse: 0.3653 - mae: 0.4770 - val_loss: 0.1497 - val_mse: 0.1497 - val_mae: 0.3082\n",
      "Epoch 4/10\n",
      "1530/1530 [==============================] - 321s 210ms/step - loss: 0.2804 - mse: 0.2804 - mae: 0.4166 - val_loss: 0.1138 - val_mse: 0.1138 - val_mae: 0.2704\n",
      "Epoch 5/10\n",
      "1530/1530 [==============================] - 319s 209ms/step - loss: 0.2273 - mse: 0.2273 - mae: 0.3729 - val_loss: 0.0952 - val_mse: 0.0952 - val_mae: 0.2465\n",
      "Epoch 6/10\n",
      "1530/1530 [==============================] - 316s 206ms/step - loss: 0.1878 - mse: 0.1878 - mae: 0.3381 - val_loss: 0.0776 - val_mse: 0.0776 - val_mae: 0.2223\n",
      "Epoch 7/10\n",
      "1530/1530 [==============================] - 316s 207ms/step - loss: 0.1628 - mse: 0.1628 - mae: 0.3125 - val_loss: 0.0643 - val_mse: 0.0643 - val_mae: 0.2029\n",
      "Epoch 8/10\n",
      " 448/1530 [=======>......................] - ETA: 3:31 - loss: 0.1473 - mse: 0.1473 - mae: 0.2971"
     ]
    },
    {
     "name": "stderr",
     "output_type": "stream",
     "text": [
      "IOPub message rate exceeded.\n",
      "The notebook server will temporarily stop sending output\n",
      "to the client in order to avoid crashing it.\n",
      "To change this limit, set the config variable\n",
      "`--NotebookApp.iopub_msg_rate_limit`.\n",
      "\n",
      "Current values:\n",
      "NotebookApp.iopub_msg_rate_limit=1000.0 (msgs/sec)\n",
      "NotebookApp.rate_limit_window=3.0 (secs)\n",
      "\n"
     ]
    },
    {
     "name": "stdout",
     "output_type": "stream",
     "text": [
      "1530/1530 [==============================] - 315s 206ms/step - loss: 0.1129 - mse: 0.1129 - mae: 0.2588 - val_loss: 0.0456 - val_mse: 0.0456 - val_mae: 0.1697\n",
      "EndTime : 2023-03-15 19:23:48.535253\n",
      "Evaluating model 2...\n",
      "715/715 [==============================] - 26s 36ms/step - loss: 0.0473 - mse: 0.0473 - mae: 0.1729\n",
      "loss=0.047316, mse=0.047316, mae=0.172861\n",
      "StartTime : 2023-03-15 19:24:32.984215\n",
      "Epoch 1/10\n",
      "1530/1530 [==============================] - 305s 191ms/step - loss: 0.1517 - mse: 0.1517 - mae: 0.2669 - val_loss: 0.0305 - val_mse: 0.0305 - val_mae: 0.1110\n",
      "Epoch 2/10\n",
      "1530/1530 [==============================] - 297s 194ms/step - loss: 0.0559 - mse: 0.0559 - mae: 0.1557 - val_loss: 0.0208 - val_mse: 0.0208 - val_mae: 0.0915\n",
      "Epoch 3/10\n",
      "1530/1530 [==============================] - 302s 197ms/step - loss: 0.0357 - mse: 0.0357 - mae: 0.1303 - val_loss: 0.0153 - val_mse: 0.0153 - val_mae: 0.0795\n",
      "Epoch 4/10\n",
      "1530/1530 [==============================] - 306s 200ms/step - loss: 0.0241 - mse: 0.0241 - mae: 0.1108 - val_loss: 0.0142 - val_mse: 0.0142 - val_mae: 0.0745\n",
      "Epoch 5/10\n",
      "1530/1530 [==============================] - 309s 202ms/step - loss: 0.0191 - mse: 0.0191 - mae: 0.0986 - val_loss: 0.0132 - val_mse: 0.0132 - val_mae: 0.0729\n",
      "Epoch 6/10\n",
      "1530/1530 [==============================] - 304s 198ms/step - loss: 0.0168 - mse: 0.0168 - mae: 0.0913 - val_loss: 0.0133 - val_mse: 0.0133 - val_mae: 0.0730\n",
      "Epoch 7/10\n",
      "1530/1530 [==============================] - 302s 197ms/step - loss: 0.0155 - mse: 0.0155 - mae: 0.0872 - val_loss: 0.0137 - val_mse: 0.0137 - val_mae: 0.0704\n",
      "Epoch 8/10\n",
      "1530/1530 [==============================] - 304s 199ms/step - loss: 0.0147 - mse: 0.0147 - mae: 0.0840 - val_loss: 0.0118 - val_mse: 0.0118 - val_mae: 0.0689\n",
      "Epoch 9/10\n",
      "1530/1530 [==============================] - 304s 199ms/step - loss: 0.0140 - mse: 0.0140 - mae: 0.0812 - val_loss: 0.0124 - val_mse: 0.0124 - val_mae: 0.0676\n",
      "Epoch 10/10\n",
      "1530/1530 [==============================] - 304s 199ms/step - loss: 0.0135 - mse: 0.0135 - mae: 0.0795 - val_loss: 0.0121 - val_mse: 0.0121 - val_mae: 0.0672\n",
      "EndTime : 2023-03-15 20:15:12.566535\n",
      "Evaluating model 3...\n",
      "715/715 [==============================] - 25s 35ms/step - loss: 0.0170 - mse: 0.0170 - mae: 0.0787\n",
      "loss=0.017037, mse=0.017037, mae=0.078715\n",
      "StartTime : 2023-03-15 20:15:40.083264\n",
      "Epoch 1/10\n",
      "1275/1275 [==============================] - 305s 227ms/step - loss: 0.5184 - mse: 0.5184 - mae: 0.5706 - val_loss: 0.1953 - val_mse: 0.1953 - val_mae: 0.3519\n",
      "Epoch 2/10\n",
      "1275/1275 [==============================] - 288s 226ms/step - loss: 0.3851 - mse: 0.3851 - mae: 0.4916 - val_loss: 0.1615 - val_mse: 0.1615 - val_mae: 0.3206\n",
      "Epoch 3/10\n",
      "1118/1275 [=========================>....] - ETA: 31s - loss: 0.3145 - mse: 0.3145 - mae: 0.4449"
     ]
    },
    {
     "name": "stderr",
     "output_type": "stream",
     "text": [
      "IOPub message rate exceeded.\n",
      "The notebook server will temporarily stop sending output\n",
      "to the client in order to avoid crashing it.\n",
      "To change this limit, set the config variable\n",
      "`--NotebookApp.iopub_msg_rate_limit`.\n",
      "\n",
      "Current values:\n",
      "NotebookApp.iopub_msg_rate_limit=1000.0 (msgs/sec)\n",
      "NotebookApp.rate_limit_window=3.0 (secs)\n",
      "\n"
     ]
    },
    {
     "name": "stdout",
     "output_type": "stream",
     "text": [
      "1275/1275 [==============================] - 282s 221ms/step - loss: 0.1914 - mse: 0.1914 - mae: 0.3470 - val_loss: 0.0827 - val_mse: 0.0827 - val_mae: 0.2295\n",
      "Epoch 7/10\n",
      "1275/1275 [==============================] - 287s 225ms/step - loss: 0.1690 - mse: 0.1690 - mae: 0.3260 - val_loss: 0.0757 - val_mse: 0.0757 - val_mae: 0.2197\n",
      "Epoch 8/10\n",
      "1275/1275 [==============================] - 293s 230ms/step - loss: 0.1530 - mse: 0.1530 - mae: 0.3100 - val_loss: 0.0684 - val_mse: 0.0684 - val_mae: 0.2094\n",
      "Epoch 9/10\n",
      "1275/1275 [==============================] - 291s 228ms/step - loss: 0.1363 - mse: 0.1363 - mae: 0.2924 - val_loss: 0.0636 - val_mse: 0.0636 - val_mae: 0.2018\n",
      "Epoch 10/10\n",
      "1275/1275 [==============================] - 296s 232ms/step - loss: 0.1235 - mse: 0.1235 - mae: 0.2785 - val_loss: 0.0590 - val_mse: 0.0590 - val_mae: 0.1953\n",
      "EndTime : 2023-03-15 21:03:40.018626\n",
      "Evaluating model 4...\n",
      "715/715 [==============================] - 27s 38ms/step - loss: 0.0595 - mse: 0.0595 - mae: 0.1944\n",
      "loss=0.059530, mse=0.059530, mae=0.194360\n",
      "StartTime : 2023-03-15 21:04:10.083872\n",
      "Epoch 1/10\n",
      "1275/1275 [==============================] - 302s 227ms/step - loss: 0.2421 - mse: 0.2421 - mae: 0.3334 - val_loss: 0.0399 - val_mse: 0.0399 - val_mae: 0.1380\n",
      "Epoch 2/10\n",
      "1275/1275 [==============================] - 281s 220ms/step - loss: 0.0743 - mse: 0.0743 - mae: 0.1789 - val_loss: 0.0180 - val_mse: 0.0180 - val_mae: 0.0927\n",
      "Epoch 3/10\n",
      "1275/1275 [==============================] - 281s 221ms/step - loss: 0.0527 - mse: 0.0527 - mae: 0.1487 - val_loss: 0.0162 - val_mse: 0.0162 - val_mae: 0.0851\n",
      "Epoch 4/10\n",
      "1275/1275 [==============================] - 278s 218ms/step - loss: 0.0371 - mse: 0.0371 - mae: 0.1300 - val_loss: 0.0148 - val_mse: 0.0148 - val_mae: 0.0785\n",
      "Epoch 5/10\n",
      "1275/1275 [==============================] - 277s 217ms/step - loss: 0.0258 - mse: 0.0258 - mae: 0.1124 - val_loss: 0.0140 - val_mse: 0.0140 - val_mae: 0.0786\n",
      "Epoch 6/10\n",
      "1275/1275 [==============================] - 277s 217ms/step - loss: 0.0205 - mse: 0.0205 - mae: 0.1009 - val_loss: 0.0127 - val_mse: 0.0127 - val_mae: 0.0726\n",
      "Epoch 7/10\n",
      "1275/1275 [==============================] - 280s 219ms/step - loss: 0.0177 - mse: 0.0177 - mae: 0.0934 - val_loss: 0.0125 - val_mse: 0.0125 - val_mae: 0.0709\n",
      "Epoch 8/10\n",
      "1275/1275 [==============================] - 276s 217ms/step - loss: 0.0161 - mse: 0.0161 - mae: 0.0884 - val_loss: 0.0125 - val_mse: 0.0125 - val_mae: 0.0690\n",
      "Epoch 9/10\n",
      "1275/1275 [==============================] - 272s 214ms/step - loss: 0.0151 - mse: 0.0151 - mae: 0.0855 - val_loss: 0.0122 - val_mse: 0.0122 - val_mae: 0.0691\n",
      "Epoch 10/10\n",
      "1275/1275 [==============================] - 276s 217ms/step - loss: 0.0141 - mse: 0.0141 - mae: 0.0821 - val_loss: 0.0121 - val_mse: 0.0121 - val_mae: 0.0680\n",
      "EndTime : 2023-03-15 21:51:46.456423\n",
      "Evaluating model 5...\n",
      "715/715 [==============================] - 28s 40ms/step - loss: 0.0176 - mse: 0.0176 - mae: 0.0801\n",
      "loss=0.017642, mse=0.017642, mae=0.080127\n",
      "StartTime : 2023-03-15 21:52:18.880840\n",
      "Epoch 1/10\n",
      "1912/1912 [==============================] - 389s 196ms/step - loss: 0.5066 - mse: 0.5066 - mae: 0.5602 - val_loss: 0.1947 - val_mse: 0.1947 - val_mae: 0.3551\n",
      "Epoch 2/10\n",
      "1912/1912 [==============================] - 378s 198ms/step - loss: 0.2743 - mse: 0.2743 - mae: 0.4148 - val_loss: 0.1296 - val_mse: 0.1296 - val_mae: 0.2918\n",
      "Epoch 3/10\n",
      "1912/1912 [==============================] - 379s 198ms/step - loss: 0.1893 - mse: 0.1893 - mae: 0.3444 - val_loss: 0.0933 - val_mse: 0.0933 - val_mae: 0.2485\n",
      "Epoch 4/10\n",
      "1912/1912 [==============================] - 382s 200ms/step - loss: 0.1432 - mse: 0.1432 - mae: 0.2991 - val_loss: 0.0767 - val_mse: 0.0767 - val_mae: 0.2269\n",
      "Epoch 5/10\n",
      "1912/1912 [==============================] - 388s 203ms/step - loss: 0.1139 - mse: 0.1139 - mae: 0.2667 - val_loss: 0.0669 - val_mse: 0.0669 - val_mae: 0.2129\n",
      "Epoch 6/10\n",
      "1912/1912 [==============================] - 387s 202ms/step - loss: 0.0933 - mse: 0.0933 - mae: 0.2410 - val_loss: 0.0564 - val_mse: 0.0564 - val_mae: 0.1960\n",
      "Epoch 7/10\n",
      "1912/1912 [==============================] - 368s 192ms/step - loss: 0.0779 - mse: 0.0779 - mae: 0.2197 - val_loss: 0.0509 - val_mse: 0.0509 - val_mae: 0.1878\n",
      "Epoch 8/10\n",
      "1912/1912 [==============================] - 367s 192ms/step - loss: 0.0672 - mse: 0.0672 - mae: 0.2039 - val_loss: 0.0474 - val_mse: 0.0474 - val_mae: 0.1822\n",
      "Epoch 9/10\n",
      "1912/1912 [==============================] - 365s 191ms/step - loss: 0.0592 - mse: 0.0592 - mae: 0.1912 - val_loss: 0.0437 - val_mse: 0.0437 - val_mae: 0.1753\n",
      "Epoch 10/10\n",
      "1912/1912 [==============================] - 358s 187ms/step - loss: 0.0527 - mse: 0.0527 - mae: 0.1795 - val_loss: 0.0405 - val_mse: 0.0405 - val_mae: 0.1688\n",
      "EndTime : 2023-03-15 22:55:03.338338\n",
      "Evaluating model 6...\n",
      "715/715 [==============================] - 26s 36ms/step - loss: 0.0420 - mse: 0.0420 - mae: 0.1711\n",
      "loss=0.042032, mse=0.042032, mae=0.171068\n",
      "StartTime : 2023-03-15 22:55:32.392874\n",
      "Epoch 1/10\n",
      "1912/1912 [==============================] - 360s 182ms/step - loss: 0.1455 - mse: 0.1455 - mae: 0.2493 - val_loss: 0.0252 - val_mse: 0.0252 - val_mae: 0.1055\n",
      "Epoch 2/10\n",
      "1912/1912 [==============================] - 355s 186ms/step - loss: 0.0425 - mse: 0.0425 - mae: 0.1376 - val_loss: 0.0149 - val_mse: 0.0149 - val_mae: 0.0791\n",
      "Epoch 3/10\n",
      "1912/1912 [==============================] - 356s 186ms/step - loss: 0.0260 - mse: 0.0260 - mae: 0.1098 - val_loss: 0.0137 - val_mse: 0.0137 - val_mae: 0.0754\n",
      "Epoch 4/10\n",
      "1912/1912 [==============================] - 355s 185ms/step - loss: 0.0185 - mse: 0.0185 - mae: 0.0942 - val_loss: 0.0133 - val_mse: 0.0133 - val_mae: 0.0733\n",
      "Epoch 5/10\n",
      "1912/1912 [==============================] - 350s 183ms/step - loss: 0.0158 - mse: 0.0158 - mae: 0.0867 - val_loss: 0.0128 - val_mse: 0.0128 - val_mae: 0.0715\n",
      "Epoch 6/10\n",
      "1912/1912 [==============================] - 359s 188ms/step - loss: 0.0147 - mse: 0.0147 - mae: 0.0833 - val_loss: 0.0120 - val_mse: 0.0120 - val_mae: 0.0692\n",
      "Epoch 7/10\n",
      "1912/1912 [==============================] - 351s 183ms/step - loss: 0.0141 - mse: 0.0141 - mae: 0.0806 - val_loss: 0.0123 - val_mse: 0.0123 - val_mae: 0.0700\n",
      "Epoch 8/10\n",
      "1912/1912 [==============================] - 344s 180ms/step - loss: 0.0135 - mse: 0.0135 - mae: 0.0784 - val_loss: 0.0120 - val_mse: 0.0120 - val_mae: 0.0700\n",
      "Epoch 9/10\n",
      "1912/1912 [==============================] - 344s 180ms/step - loss: 0.0131 - mse: 0.0131 - mae: 0.0766 - val_loss: 0.0119 - val_mse: 0.0119 - val_mae: 0.0682\n",
      "Epoch 10/10\n",
      "1343/1912 [====================>.........] - ETA: 1:34 - loss: 0.0126 - mse: 0.0126 - mae: 0.0746"
     ]
    },
    {
     "name": "stderr",
     "output_type": "stream",
     "text": [
      "IOPub message rate exceeded.\n",
      "The notebook server will temporarily stop sending output\n",
      "to the client in order to avoid crashing it.\n",
      "To change this limit, set the config variable\n",
      "`--NotebookApp.iopub_msg_rate_limit`.\n",
      "\n",
      "Current values:\n",
      "NotebookApp.iopub_msg_rate_limit=1000.0 (msgs/sec)\n",
      "NotebookApp.rate_limit_window=3.0 (secs)\n",
      "\n"
     ]
    },
    {
     "name": "stdout",
     "output_type": "stream",
     "text": [
      "1530/1530 [==============================] - 325s 207ms/step - loss: 0.6269 - mse: 0.6269 - mae: 0.6217 - val_loss: 0.2252 - val_mse: 0.2252 - val_mae: 0.3826\n",
      "Epoch 2/10\n",
      "1530/1530 [==============================] - 310s 203ms/step - loss: 0.3353 - mse: 0.3353 - mae: 0.4591 - val_loss: 0.1453 - val_mse: 0.1453 - val_mae: 0.3071\n",
      "Epoch 3/10\n",
      "1530/1530 [==============================] - 319s 208ms/step - loss: 0.2399 - mse: 0.2399 - mae: 0.3889 - val_loss: 0.1127 - val_mse: 0.1127 - val_mae: 0.2715\n",
      "Epoch 4/10\n",
      "1530/1530 [==============================] - 313s 204ms/step - loss: 0.1858 - mse: 0.1858 - mae: 0.3415 - val_loss: 0.0906 - val_mse: 0.0906 - val_mae: 0.2437\n",
      "Epoch 5/10\n",
      "1530/1530 [==============================] - 312s 204ms/step - loss: 0.1489 - mse: 0.1489 - mae: 0.3055 - val_loss: 0.0763 - val_mse: 0.0763 - val_mae: 0.2254\n",
      "Epoch 6/10\n",
      "1530/1530 [==============================] - 315s 206ms/step - loss: 0.1224 - mse: 0.1224 - mae: 0.2771 - val_loss: 0.0661 - val_mse: 0.0661 - val_mae: 0.2099\n",
      "Epoch 7/10\n",
      "1530/1530 [==============================] - 309s 202ms/step - loss: 0.1035 - mse: 0.1035 - mae: 0.2543 - val_loss: 0.0589 - val_mse: 0.0589 - val_mae: 0.1989\n",
      "Epoch 8/10\n",
      "1530/1530 [==============================] - 308s 201ms/step - loss: 0.0892 - mse: 0.0892 - mae: 0.2356 - val_loss: 0.0543 - val_mse: 0.0543 - val_mae: 0.1926\n",
      "Epoch 9/10\n",
      "1530/1530 [==============================] - 311s 203ms/step - loss: 0.0781 - mse: 0.0781 - mae: 0.2204 - val_loss: 0.0474 - val_mse: 0.0474 - val_mae: 0.1795\n",
      "Epoch 10/10\n",
      "1530/1530 [==============================] - 309s 202ms/step - loss: 0.0685 - mse: 0.0685 - mae: 0.2062 - val_loss: 0.0458 - val_mse: 0.0458 - val_mae: 0.1772\n",
      "EndTime : 2023-03-16 00:46:50.881716\n",
      "Evaluating model 8...\n",
      "715/715 [==============================] - 24s 34ms/step - loss: 0.0465 - mse: 0.0465 - mae: 0.1780\n",
      "loss=0.046456, mse=0.046456, mae=0.177979\n",
      "StartTime : 2023-03-16 00:47:17.702497\n",
      "Epoch 1/10\n",
      "1530/1530 [==============================] - 318s 200ms/step - loss: 0.1518 - mse: 0.1518 - mae: 0.2526 - val_loss: 0.0174 - val_mse: 0.0174 - val_mae: 0.0884\n",
      "Epoch 2/10\n",
      "1530/1530 [==============================] - 305s 199ms/step - loss: 0.0503 - mse: 0.0503 - mae: 0.1461 - val_loss: 0.0153 - val_mse: 0.0153 - val_mae: 0.0797\n",
      "Epoch 3/10\n",
      "1530/1530 [==============================] - 314s 205ms/step - loss: 0.0270 - mse: 0.0270 - mae: 0.1150 - val_loss: 0.0141 - val_mse: 0.0141 - val_mae: 0.0753\n",
      "Epoch 4/10\n",
      "1530/1530 [==============================] - 308s 201ms/step - loss: 0.0185 - mse: 0.0185 - mae: 0.0966 - val_loss: 0.0130 - val_mse: 0.0130 - val_mae: 0.0717\n",
      "Epoch 5/10\n",
      "1530/1530 [==============================] - 313s 205ms/step - loss: 0.0161 - mse: 0.0161 - mae: 0.0886 - val_loss: 0.0126 - val_mse: 0.0126 - val_mae: 0.0695\n",
      "Epoch 6/10\n",
      "1530/1530 [==============================] - 300s 196ms/step - loss: 0.0150 - mse: 0.0150 - mae: 0.0848 - val_loss: 0.0126 - val_mse: 0.0126 - val_mae: 0.0705\n",
      "Epoch 7/10\n",
      "1530/1530 [==============================] - 304s 199ms/step - loss: 0.0144 - mse: 0.0144 - mae: 0.0820 - val_loss: 0.0128 - val_mse: 0.0128 - val_mae: 0.0723\n",
      "Epoch 8/10\n",
      "1530/1530 [==============================] - 305s 199ms/step - loss: 0.0139 - mse: 0.0139 - mae: 0.0801 - val_loss: 0.0119 - val_mse: 0.0119 - val_mae: 0.0679\n",
      "Epoch 9/10\n",
      "1530/1530 [==============================] - 308s 201ms/step - loss: 0.0133 - mse: 0.0133 - mae: 0.0779 - val_loss: 0.0116 - val_mse: 0.0116 - val_mae: 0.0675\n",
      "Epoch 10/10\n",
      "1530/1530 [==============================] - 299s 196ms/step - loss: 0.0129 - mse: 0.0129 - mae: 0.0761 - val_loss: 0.0116 - val_mse: 0.0116 - val_mae: 0.0686\n",
      "EndTime : 2023-03-16 01:38:32.715853\n",
      "Evaluating model 9...\n",
      "715/715 [==============================] - 23s 32ms/step - loss: 0.0164 - mse: 0.0164 - mae: 0.0786\n",
      "loss=0.016430, mse=0.016430, mae=0.078640\n",
      "StartTime : 2023-03-16 01:38:58.048172\n",
      "Epoch 1/10\n",
      "1275/1275 [==============================] - 295s 225ms/step - loss: 0.6747 - mse: 0.6747 - mae: 0.6441 - val_loss: 0.2216 - val_mse: 0.2216 - val_mae: 0.3760\n",
      "Epoch 2/10\n",
      "1275/1275 [==============================] - 290s 228ms/step - loss: 0.3711 - mse: 0.3711 - mae: 0.4821 - val_loss: 0.1483 - val_mse: 0.1483 - val_mae: 0.3079\n",
      "Epoch 3/10\n",
      "1275/1275 [==============================] - 288s 226ms/step - loss: 0.2687 - mse: 0.2687 - mae: 0.4113 - val_loss: 0.1071 - val_mse: 0.1071 - val_mae: 0.2620\n",
      "Epoch 4/10\n",
      "1275/1275 [==============================] - 289s 227ms/step - loss: 0.2058 - mse: 0.2058 - mae: 0.3593 - val_loss: 0.0898 - val_mse: 0.0898 - val_mae: 0.2409\n",
      "Epoch 5/10\n",
      "1275/1275 [==============================] - 286s 224ms/step - loss: 0.1682 - mse: 0.1682 - mae: 0.3248 - val_loss: 0.0769 - val_mse: 0.0769 - val_mae: 0.2237\n",
      "Epoch 6/10\n",
      "1275/1275 [==============================] - 285s 223ms/step - loss: 0.1399 - mse: 0.1399 - mae: 0.2963 - val_loss: 0.0687 - val_mse: 0.0687 - val_mae: 0.2116\n",
      "Epoch 7/10\n",
      "1275/1275 [==============================] - 282s 221ms/step - loss: 0.1173 - mse: 0.1173 - mae: 0.2707 - val_loss: 0.0585 - val_mse: 0.0585 - val_mae: 0.1953\n",
      "Epoch 8/10\n",
      "1275/1275 [==============================] - 286s 224ms/step - loss: 0.1006 - mse: 0.1006 - mae: 0.2507 - val_loss: 0.0496 - val_mse: 0.0496 - val_mae: 0.1797\n",
      "Epoch 9/10\n",
      "1275/1275 [==============================] - 308s 242ms/step - loss: 0.0871 - mse: 0.0871 - mae: 0.2335 - val_loss: 0.0444 - val_mse: 0.0444 - val_mae: 0.1690\n",
      "Epoch 10/10\n",
      "1275/1275 [==============================] - 284s 223ms/step - loss: 0.0772 - mse: 0.0772 - mae: 0.2193 - val_loss: 0.0424 - val_mse: 0.0424 - val_mae: 0.1664\n",
      "EndTime : 2023-03-16 02:27:13.452771\n",
      "Evaluating model 10...\n",
      "715/715 [==============================] - 23s 32ms/step - loss: 0.0437 - mse: 0.0437 - mae: 0.1677\n",
      "loss=0.043652, mse=0.043652, mae=0.167745\n",
      "StartTime : 2023-03-16 02:27:38.840661\n",
      "Epoch 1/10\n",
      "1275/1275 [==============================] - 289s 218ms/step - loss: 0.1983 - mse: 0.1983 - mae: 0.2876 - val_loss: 0.0235 - val_mse: 0.0235 - val_mae: 0.0943\n",
      "Epoch 2/10\n",
      "1275/1275 [==============================] - 286s 224ms/step - loss: 0.0538 - mse: 0.0538 - mae: 0.1528 - val_loss: 0.0165 - val_mse: 0.0165 - val_mae: 0.0835\n",
      "Epoch 3/10\n",
      "1275/1275 [==============================] - 273s 214ms/step - loss: 0.0356 - mse: 0.0356 - mae: 0.1263 - val_loss: 0.0172 - val_mse: 0.0172 - val_mae: 0.0864\n",
      "Epoch 4/10\n",
      "1275/1275 [==============================] - 284s 223ms/step - loss: 0.0249 - mse: 0.0249 - mae: 0.1091 - val_loss: 0.0143 - val_mse: 0.0143 - val_mae: 0.0768\n",
      "Epoch 5/10\n",
      " 158/1275 [==>...........................] - ETA: 3:32 - loss: 0.0202 - mse: 0.0202 - mae: 0.0995"
     ]
    },
    {
     "name": "stderr",
     "output_type": "stream",
     "text": [
      "IOPub message rate exceeded.\n",
      "The notebook server will temporarily stop sending output\n",
      "to the client in order to avoid crashing it.\n",
      "To change this limit, set the config variable\n",
      "`--NotebookApp.iopub_msg_rate_limit`.\n",
      "\n",
      "Current values:\n",
      "NotebookApp.iopub_msg_rate_limit=1000.0 (msgs/sec)\n",
      "NotebookApp.rate_limit_window=3.0 (secs)\n",
      "\n"
     ]
    },
    {
     "name": "stdout",
     "output_type": "stream",
     "text": [
      "1275/1275 [==============================] - 266s 209ms/step - loss: 0.0163 - mse: 0.0163 - mae: 0.0893 - val_loss: 0.0122 - val_mse: 0.0122 - val_mae: 0.0695\n",
      "Epoch 7/10\n",
      "1275/1275 [==============================] - 265s 208ms/step - loss: 0.0148 - mse: 0.0148 - mae: 0.0845 - val_loss: 0.0124 - val_mse: 0.0124 - val_mae: 0.0705\n",
      "Epoch 8/10\n",
      " 113/1275 [=>............................] - ETA: 3:39 - loss: 0.0146 - mse: 0.0146 - mae: 0.0839"
     ]
    },
    {
     "name": "stderr",
     "output_type": "stream",
     "text": [
      "IOPub message rate exceeded.\n",
      "The notebook server will temporarily stop sending output\n",
      "to the client in order to avoid crashing it.\n",
      "To change this limit, set the config variable\n",
      "`--NotebookApp.iopub_msg_rate_limit`.\n",
      "\n",
      "Current values:\n",
      "NotebookApp.iopub_msg_rate_limit=1000.0 (msgs/sec)\n",
      "NotebookApp.rate_limit_window=3.0 (secs)\n",
      "\n"
     ]
    },
    {
     "name": "stdout",
     "output_type": "stream",
     "text": [
      "1275/1275 [==============================] - 268s 210ms/step - loss: 0.0144 - mse: 0.0144 - mae: 0.0827 - val_loss: 0.0120 - val_mse: 0.0120 - val_mae: 0.0688\n",
      "Epoch 9/10\n",
      "1130/1275 [=========================>....] - ETA: 27s - loss: 0.0138 - mse: 0.0138 - mae: 0.0805"
     ]
    },
    {
     "name": "stderr",
     "output_type": "stream",
     "text": [
      "IOPub message rate exceeded.\n",
      "The notebook server will temporarily stop sending output\n",
      "to the client in order to avoid crashing it.\n",
      "To change this limit, set the config variable\n",
      "`--NotebookApp.iopub_msg_rate_limit`.\n",
      "\n",
      "Current values:\n",
      "NotebookApp.iopub_msg_rate_limit=1000.0 (msgs/sec)\n",
      "NotebookApp.rate_limit_window=3.0 (secs)\n",
      "\n"
     ]
    },
    {
     "name": "stdout",
     "output_type": "stream",
     "text": [
      "1912/1912 [==============================] - 363s 186ms/step - loss: 0.3372 - mse: 0.3372 - mae: 0.4484 - val_loss: 0.1013 - val_mse: 0.1013 - val_mae: 0.2576\n",
      "Epoch 2/10\n",
      "1217/1912 [==================>...........] - ETA: 1:58 - loss: 0.1426 - mse: 0.1426 - mae: 0.2978"
     ]
    },
    {
     "name": "stderr",
     "output_type": "stream",
     "text": [
      "IOPub message rate exceeded.\n",
      "The notebook server will temporarily stop sending output\n",
      "to the client in order to avoid crashing it.\n",
      "To change this limit, set the config variable\n",
      "`--NotebookApp.iopub_msg_rate_limit`.\n",
      "\n",
      "Current values:\n",
      "NotebookApp.iopub_msg_rate_limit=1000.0 (msgs/sec)\n",
      "NotebookApp.rate_limit_window=3.0 (secs)\n",
      "\n"
     ]
    },
    {
     "name": "stdout",
     "output_type": "stream",
     "text": [
      "1912/1912 [==============================] - 348s 182ms/step - loss: 0.0797 - mse: 0.0797 - mae: 0.2210 - val_loss: 0.0484 - val_mse: 0.0484 - val_mae: 0.1813\n",
      "Epoch 4/10\n",
      "1912/1912 [==============================] - 342s 179ms/step - loss: 0.0582 - mse: 0.0582 - mae: 0.1874 - val_loss: 0.0420 - val_mse: 0.0420 - val_mae: 0.1703\n",
      "Epoch 5/10\n",
      " 597/1912 [========>.....................] - ETA: 3:34 - loss: 0.0498 - mse: 0.0498 - mae: 0.1731"
     ]
    },
    {
     "name": "stderr",
     "output_type": "stream",
     "text": [
      "IOPub message rate exceeded.\n",
      "The notebook server will temporarily stop sending output\n",
      "to the client in order to avoid crashing it.\n",
      "To change this limit, set the config variable\n",
      "`--NotebookApp.iopub_msg_rate_limit`.\n",
      "\n",
      "Current values:\n",
      "NotebookApp.iopub_msg_rate_limit=1000.0 (msgs/sec)\n",
      "NotebookApp.rate_limit_window=3.0 (secs)\n",
      "\n"
     ]
    },
    {
     "name": "stdout",
     "output_type": "stream",
     "text": [
      "1912/1912 [==============================] - 353s 185ms/step - loss: 0.0398 - mse: 0.0398 - mae: 0.1529 - val_loss: 0.0327 - val_mse: 0.0327 - val_mae: 0.1507\n",
      "Epoch 7/10\n",
      "1912/1912 [==============================] - 351s 183ms/step - loss: 0.0356 - mse: 0.0356 - mae: 0.1439 - val_loss: 0.0298 - val_mse: 0.0298 - val_mae: 0.1433\n",
      "Epoch 8/10\n",
      " 545/1912 [=======>......................] - ETA: 3:47 - loss: 0.0337 - mse: 0.0337 - mae: 0.1390"
     ]
    },
    {
     "name": "stderr",
     "output_type": "stream",
     "text": [
      "IOPub message rate exceeded.\n",
      "The notebook server will temporarily stop sending output\n",
      "to the client in order to avoid crashing it.\n",
      "To change this limit, set the config variable\n",
      "`--NotebookApp.iopub_msg_rate_limit`.\n",
      "\n",
      "Current values:\n",
      "NotebookApp.iopub_msg_rate_limit=1000.0 (msgs/sec)\n",
      "NotebookApp.rate_limit_window=3.0 (secs)\n",
      "\n"
     ]
    },
    {
     "name": "stdout",
     "output_type": "stream",
     "text": [
      "1628/1912 [========================>.....] - ETA: 49s - loss: 0.0311 - mse: 0.0311 - mae: 0.1333"
     ]
    },
    {
     "name": "stderr",
     "output_type": "stream",
     "text": [
      "IOPub message rate exceeded.\n",
      "The notebook server will temporarily stop sending output\n",
      "to the client in order to avoid crashing it.\n",
      "To change this limit, set the config variable\n",
      "`--NotebookApp.iopub_msg_rate_limit`.\n",
      "\n",
      "Current values:\n",
      "NotebookApp.iopub_msg_rate_limit=1000.0 (msgs/sec)\n",
      "NotebookApp.rate_limit_window=3.0 (secs)\n",
      "\n"
     ]
    },
    {
     "name": "stdout",
     "output_type": "stream",
     "text": [
      "715/715 [==============================] - 25s 35ms/step - loss: 0.0254 - mse: 0.0254 - mae: 0.1277\n",
      "loss=0.025373, mse=0.025373, mae=0.127677\n",
      "StartTime : 2023-03-16 04:12:56.120078\n",
      "Epoch 1/10\n",
      "1357/1912 [====================>.........] - ETA: 1:29 - loss: 0.0977 - mse: 0.0977 - mae: 0.2075"
     ]
    },
    {
     "name": "stderr",
     "output_type": "stream",
     "text": [
      "IOPub message rate exceeded.\n",
      "The notebook server will temporarily stop sending output\n",
      "to the client in order to avoid crashing it.\n",
      "To change this limit, set the config variable\n",
      "`--NotebookApp.iopub_msg_rate_limit`.\n",
      "\n",
      "Current values:\n",
      "NotebookApp.iopub_msg_rate_limit=1000.0 (msgs/sec)\n",
      "NotebookApp.rate_limit_window=3.0 (secs)\n",
      "\n"
     ]
    },
    {
     "name": "stdout",
     "output_type": "stream",
     "text": [
      "1912/1912 [==============================] - 335s 175ms/step - loss: 0.0162 - mse: 0.0162 - mae: 0.0882 - val_loss: 0.0144 - val_mse: 0.0144 - val_mae: 0.0761\n",
      "Epoch 4/10\n",
      " 884/1912 [============>.................] - ETA: 2:47 - loss: 0.0153 - mse: 0.0153 - mae: 0.0846"
     ]
    },
    {
     "name": "stderr",
     "output_type": "stream",
     "text": [
      "IOPub message rate exceeded.\n",
      "The notebook server will temporarily stop sending output\n",
      "to the client in order to avoid crashing it.\n",
      "To change this limit, set the config variable\n",
      "`--NotebookApp.iopub_msg_rate_limit`.\n",
      "\n",
      "Current values:\n",
      "NotebookApp.iopub_msg_rate_limit=1000.0 (msgs/sec)\n",
      "NotebookApp.rate_limit_window=3.0 (secs)\n",
      "\n"
     ]
    },
    {
     "name": "stdout",
     "output_type": "stream",
     "text": [
      "1912/1912 [==============================] - 330s 173ms/step - loss: 0.0147 - mse: 0.0147 - mae: 0.0816 - val_loss: 0.0131 - val_mse: 0.0131 - val_mae: 0.0716\n",
      "Epoch 6/10\n",
      " 202/1912 [==>...........................] - ETA: 4:33 - loss: 0.0141 - mse: 0.0141 - mae: 0.0796"
     ]
    },
    {
     "name": "stderr",
     "output_type": "stream",
     "text": [
      "IOPub message rate exceeded.\n",
      "The notebook server will temporarily stop sending output\n",
      "to the client in order to avoid crashing it.\n",
      "To change this limit, set the config variable\n",
      "`--NotebookApp.iopub_msg_rate_limit`.\n",
      "\n",
      "Current values:\n",
      "NotebookApp.iopub_msg_rate_limit=1000.0 (msgs/sec)\n",
      "NotebookApp.rate_limit_window=3.0 (secs)\n",
      "\n"
     ]
    },
    {
     "name": "stdout",
     "output_type": "stream",
     "text": [
      "1618/1912 [========================>.....] - ETA: 47s - loss: 0.0138 - mse: 0.0138 - mae: 0.0774"
     ]
    },
    {
     "name": "stderr",
     "output_type": "stream",
     "text": [
      "IOPub message rate exceeded.\n",
      "The notebook server will temporarily stop sending output\n",
      "to the client in order to avoid crashing it.\n",
      "To change this limit, set the config variable\n",
      "`--NotebookApp.iopub_msg_rate_limit`.\n",
      "\n",
      "Current values:\n",
      "NotebookApp.iopub_msg_rate_limit=1000.0 (msgs/sec)\n",
      "NotebookApp.rate_limit_window=3.0 (secs)\n",
      "\n"
     ]
    },
    {
     "name": "stdout",
     "output_type": "stream",
     "text": [
      "1912/1912 [==============================] - 332s 173ms/step - loss: 0.0133 - mse: 0.0133 - mae: 0.0754 - val_loss: 0.0124 - val_mse: 0.0124 - val_mae: 0.0715\n",
      "Epoch 9/10\n",
      " 944/1912 [=============>................] - ETA: 2:35 - loss: 0.0128 - mse: 0.0128 - mae: 0.0740"
     ]
    },
    {
     "name": "stderr",
     "output_type": "stream",
     "text": [
      "IOPub message rate exceeded.\n",
      "The notebook server will temporarily stop sending output\n",
      "to the client in order to avoid crashing it.\n",
      "To change this limit, set the config variable\n",
      "`--NotebookApp.iopub_msg_rate_limit`.\n",
      "\n",
      "Current values:\n",
      "NotebookApp.iopub_msg_rate_limit=1000.0 (msgs/sec)\n",
      "NotebookApp.rate_limit_window=3.0 (secs)\n",
      "\n"
     ]
    },
    {
     "name": "stdout",
     "output_type": "stream",
     "text": [
      "1912/1912 [==============================] - 326s 171ms/step - loss: 0.0129 - mse: 0.0129 - mae: 0.0740 - val_loss: 0.0124 - val_mse: 0.0124 - val_mae: 0.0680\n",
      "Epoch 10/10\n",
      "1716/1912 [=========================>....] - ETA: 30s - loss: 0.0126 - mse: 0.0126 - mae: 0.0729"
     ]
    },
    {
     "name": "stderr",
     "output_type": "stream",
     "text": [
      "IOPub message rate exceeded.\n",
      "The notebook server will temporarily stop sending output\n",
      "to the client in order to avoid crashing it.\n",
      "To change this limit, set the config variable\n",
      "`--NotebookApp.iopub_msg_rate_limit`.\n",
      "\n",
      "Current values:\n",
      "NotebookApp.iopub_msg_rate_limit=1000.0 (msgs/sec)\n",
      "NotebookApp.rate_limit_window=3.0 (secs)\n",
      "\n"
     ]
    },
    {
     "name": "stdout",
     "output_type": "stream",
     "text": [
      "1530/1530 [==============================] - 320s 203ms/step - loss: 0.4313 - mse: 0.4313 - mae: 0.5078 - val_loss: 0.1422 - val_mse: 0.1422 - val_mae: 0.2997\n",
      "Epoch 2/10\n",
      " 127/1530 [=>............................] - ETA: 4:42 - loss: 0.2277 - mse: 0.2277 - mae: 0.3748"
     ]
    },
    {
     "name": "stderr",
     "output_type": "stream",
     "text": [
      "IOPub message rate exceeded.\n",
      "The notebook server will temporarily stop sending output\n",
      "to the client in order to avoid crashing it.\n",
      "To change this limit, set the config variable\n",
      "`--NotebookApp.iopub_msg_rate_limit`.\n",
      "\n",
      "Current values:\n",
      "NotebookApp.iopub_msg_rate_limit=1000.0 (msgs/sec)\n",
      "NotebookApp.rate_limit_window=3.0 (secs)\n",
      "\n"
     ]
    },
    {
     "name": "stdout",
     "output_type": "stream",
     "text": [
      "1530/1530 [==============================] - 315s 206ms/step - loss: 0.1048 - mse: 0.1048 - mae: 0.2525 - val_loss: 0.0524 - val_mse: 0.0524 - val_mae: 0.1811\n",
      "Epoch 4/10\n",
      " 947/1530 [=================>............] - ETA: 1:49 - loss: 0.0779 - mse: 0.0779 - mae: 0.2165"
     ]
    },
    {
     "name": "stderr",
     "output_type": "stream",
     "text": [
      "IOPub message rate exceeded.\n",
      "The notebook server will temporarily stop sending output\n",
      "to the client in order to avoid crashing it.\n",
      "To change this limit, set the config variable\n",
      "`--NotebookApp.iopub_msg_rate_limit`.\n",
      "\n",
      "Current values:\n",
      "NotebookApp.iopub_msg_rate_limit=1000.0 (msgs/sec)\n",
      "NotebookApp.rate_limit_window=3.0 (secs)\n",
      "\n"
     ]
    },
    {
     "name": "stdout",
     "output_type": "stream",
     "text": [
      "1530/1530 [==============================] - 315s 206ms/step - loss: 0.0483 - mse: 0.0483 - mae: 0.1686 - val_loss: 0.0331 - val_mse: 0.0331 - val_mae: 0.1428\n",
      "Epoch 7/10\n",
      " 261/1530 [====>.........................] - ETA: 4:02 - loss: 0.0446 - mse: 0.0446 - mae: 0.1618"
     ]
    },
    {
     "name": "stderr",
     "output_type": "stream",
     "text": [
      "IOPub message rate exceeded.\n",
      "The notebook server will temporarily stop sending output\n",
      "to the client in order to avoid crashing it.\n",
      "To change this limit, set the config variable\n",
      "`--NotebookApp.iopub_msg_rate_limit`.\n",
      "\n",
      "Current values:\n",
      "NotebookApp.iopub_msg_rate_limit=1000.0 (msgs/sec)\n",
      "NotebookApp.rate_limit_window=3.0 (secs)\n",
      "\n"
     ]
    },
    {
     "name": "stdout",
     "output_type": "stream",
     "text": [
      "1530/1530 [==============================] - 308s 201ms/step - loss: 0.0383 - mse: 0.0383 - mae: 0.1489 - val_loss: 0.0277 - val_mse: 0.0277 - val_mae: 0.1285\n",
      "Epoch 9/10\n",
      "1530/1530 [==============================] - 322s 211ms/step - loss: 0.0354 - mse: 0.0354 - mae: 0.1423 - val_loss: 0.0265 - val_mse: 0.0265 - val_mae: 0.1250\n",
      "Epoch 10/10\n",
      " 239/1530 [===>..........................] - ETA: 4:12 - loss: 0.0342 - mse: 0.0342 - mae: 0.1403"
     ]
    },
    {
     "name": "stderr",
     "output_type": "stream",
     "text": [
      "IOPub message rate exceeded.\n",
      "The notebook server will temporarily stop sending output\n",
      "to the client in order to avoid crashing it.\n",
      "To change this limit, set the config variable\n",
      "`--NotebookApp.iopub_msg_rate_limit`.\n",
      "\n",
      "Current values:\n",
      "NotebookApp.iopub_msg_rate_limit=1000.0 (msgs/sec)\n",
      "NotebookApp.rate_limit_window=3.0 (secs)\n",
      "\n"
     ]
    },
    {
     "name": "stdout",
     "output_type": "stream",
     "text": [
      "715/715 [==============================] - 24s 34ms/step - loss: 0.0273 - mse: 0.0273 - mae: 0.1256\n",
      "loss=0.027276, mse=0.027276, mae=0.125636\n",
      "StartTime : 2023-03-16 06:02:03.742557\n",
      "Epoch 1/10\n",
      " 957/1530 [=================>............] - ETA: 1:40 - loss: 0.1307 - mse: 0.1307 - mae: 0.2216"
     ]
    },
    {
     "name": "stderr",
     "output_type": "stream",
     "text": [
      "IOPub message rate exceeded.\n",
      "The notebook server will temporarily stop sending output\n",
      "to the client in order to avoid crashing it.\n",
      "To change this limit, set the config variable\n",
      "`--NotebookApp.iopub_msg_rate_limit`.\n",
      "\n",
      "Current values:\n",
      "NotebookApp.iopub_msg_rate_limit=1000.0 (msgs/sec)\n",
      "NotebookApp.rate_limit_window=3.0 (secs)\n",
      "\n"
     ]
    },
    {
     "name": "stdout",
     "output_type": "stream",
     "text": [
      "1530/1530 [==============================] - 311s 204ms/step - loss: 0.0169 - mse: 0.0169 - mae: 0.0910 - val_loss: 0.0134 - val_mse: 0.0134 - val_mae: 0.0750\n",
      "Epoch 4/10\n",
      " 637/1530 [===========>..................] - ETA: 2:46 - loss: 0.0154 - mse: 0.0154 - mae: 0.0859"
     ]
    },
    {
     "name": "stderr",
     "output_type": "stream",
     "text": [
      "IOPub message rate exceeded.\n",
      "The notebook server will temporarily stop sending output\n",
      "to the client in order to avoid crashing it.\n",
      "To change this limit, set the config variable\n",
      "`--NotebookApp.iopub_msg_rate_limit`.\n",
      "\n",
      "Current values:\n",
      "NotebookApp.iopub_msg_rate_limit=1000.0 (msgs/sec)\n",
      "NotebookApp.rate_limit_window=3.0 (secs)\n",
      "\n"
     ]
    },
    {
     "name": "stdout",
     "output_type": "stream",
     "text": [
      "1530/1530 [==============================] - 311s 203ms/step - loss: 0.0147 - mse: 0.0147 - mae: 0.0825 - val_loss: 0.0143 - val_mse: 0.0143 - val_mae: 0.0753\n",
      "Epoch 6/10\n",
      "   3/1530 [..............................] - ETA: 4:03 - loss: 0.0143 - mse: 0.0143 - mae: 0.0780"
     ]
    },
    {
     "name": "stderr",
     "output_type": "stream",
     "text": [
      "IOPub message rate exceeded.\n",
      "The notebook server will temporarily stop sending output\n",
      "to the client in order to avoid crashing it.\n",
      "To change this limit, set the config variable\n",
      "`--NotebookApp.iopub_msg_rate_limit`.\n",
      "\n",
      "Current values:\n",
      "NotebookApp.iopub_msg_rate_limit=1000.0 (msgs/sec)\n",
      "NotebookApp.rate_limit_window=3.0 (secs)\n",
      "\n"
     ]
    },
    {
     "name": "stdout",
     "output_type": "stream",
     "text": [
      "1530/1530 [==============================] - 306s 200ms/step - loss: 0.0139 - mse: 0.0139 - mae: 0.0786 - val_loss: 0.0129 - val_mse: 0.0129 - val_mae: 0.0725\n",
      "Epoch 8/10\n",
      " 427/1530 [=======>......................] - ETA: 3:19 - loss: 0.0136 - mse: 0.0136 - mae: 0.0774"
     ]
    },
    {
     "name": "stderr",
     "output_type": "stream",
     "text": [
      "IOPub message rate exceeded.\n",
      "The notebook server will temporarily stop sending output\n",
      "to the client in order to avoid crashing it.\n",
      "To change this limit, set the config variable\n",
      "`--NotebookApp.iopub_msg_rate_limit`.\n",
      "\n",
      "Current values:\n",
      "NotebookApp.iopub_msg_rate_limit=1000.0 (msgs/sec)\n",
      "NotebookApp.rate_limit_window=3.0 (secs)\n",
      "\n"
     ]
    },
    {
     "name": "stdout",
     "output_type": "stream",
     "text": [
      "1429/1530 [===========================>..] - ETA: 18s - loss: 0.0132 - mse: 0.0132 - mae: 0.0756"
     ]
    },
    {
     "name": "stderr",
     "output_type": "stream",
     "text": [
      "IOPub message rate exceeded.\n",
      "The notebook server will temporarily stop sending output\n",
      "to the client in order to avoid crashing it.\n",
      "To change this limit, set the config variable\n",
      "`--NotebookApp.iopub_msg_rate_limit`.\n",
      "\n",
      "Current values:\n",
      "NotebookApp.iopub_msg_rate_limit=1000.0 (msgs/sec)\n",
      "NotebookApp.rate_limit_window=3.0 (secs)\n",
      "\n"
     ]
    },
    {
     "name": "stdout",
     "output_type": "stream",
     "text": [
      "1530/1530 [==============================] - 296s 194ms/step - loss: 0.0128 - mse: 0.0128 - mae: 0.0741 - val_loss: 0.0121 - val_mse: 0.0121 - val_mae: 0.0684\n",
      "EndTime : 2023-03-16 06:52:48.788519\n",
      "Evaluating model 15...\n",
      "715/715 [==============================] - 24s 33ms/step - loss: 0.0160 - mse: 0.0160 - mae: 0.0769\n",
      "loss=0.016008, mse=0.016008, mae=0.076916\n",
      "StartTime : 2023-03-16 06:53:14.729665\n",
      "Epoch 1/10\n",
      " 730/1275 [================>.............] - ETA: 1:53 - loss: 0.4871 - mse: 0.4871 - mae: 0.5459"
     ]
    },
    {
     "name": "stderr",
     "output_type": "stream",
     "text": [
      "IOPub message rate exceeded.\n",
      "The notebook server will temporarily stop sending output\n",
      "to the client in order to avoid crashing it.\n",
      "To change this limit, set the config variable\n",
      "`--NotebookApp.iopub_msg_rate_limit`.\n",
      "\n",
      "Current values:\n",
      "NotebookApp.iopub_msg_rate_limit=1000.0 (msgs/sec)\n",
      "NotebookApp.rate_limit_window=3.0 (secs)\n",
      "\n"
     ]
    },
    {
     "name": "stdout",
     "output_type": "stream",
     "text": [
      "1143/1275 [=========================>....] - ETA: 26s - loss: 0.1062 - mse: 0.1062 - mae: 0.2561"
     ]
    },
    {
     "name": "stderr",
     "output_type": "stream",
     "text": [
      "IOPub message rate exceeded.\n",
      "The notebook server will temporarily stop sending output\n",
      "to the client in order to avoid crashing it.\n",
      "To change this limit, set the config variable\n",
      "`--NotebookApp.iopub_msg_rate_limit`.\n",
      "\n",
      "Current values:\n",
      "NotebookApp.iopub_msg_rate_limit=1000.0 (msgs/sec)\n",
      "NotebookApp.rate_limit_window=3.0 (secs)\n",
      "\n"
     ]
    },
    {
     "name": "stdout",
     "output_type": "stream",
     "text": [
      "1275/1275 [==============================] - 273s 214ms/step - loss: 0.0569 - mse: 0.0569 - mae: 0.1866 - val_loss: 0.0342 - val_mse: 0.0342 - val_mae: 0.1493\n",
      "Epoch 6/10\n",
      "1080/1275 [========================>.....] - ETA: 40s - loss: 0.0474 - mse: 0.0474 - mae: 0.1699"
     ]
    },
    {
     "name": "stderr",
     "output_type": "stream",
     "text": [
      "IOPub message rate exceeded.\n",
      "The notebook server will temporarily stop sending output\n",
      "to the client in order to avoid crashing it.\n",
      "To change this limit, set the config variable\n",
      "`--NotebookApp.iopub_msg_rate_limit`.\n",
      "\n",
      "Current values:\n",
      "NotebookApp.iopub_msg_rate_limit=1000.0 (msgs/sec)\n",
      "NotebookApp.rate_limit_window=3.0 (secs)\n",
      "\n"
     ]
    },
    {
     "name": "stdout",
     "output_type": "stream",
     "text": [
      "1275/1275 [==============================] - 280s 219ms/step - loss: 0.0407 - mse: 0.0407 - mae: 0.1566 - val_loss: 0.0281 - val_mse: 0.0281 - val_mae: 0.1341\n",
      "Epoch 8/10\n",
      " 649/1275 [==============>...............] - ETA: 2:03 - loss: 0.0372 - mse: 0.0372 - mae: 0.1492"
     ]
    },
    {
     "name": "stderr",
     "output_type": "stream",
     "text": [
      "IOPub message rate exceeded.\n",
      "The notebook server will temporarily stop sending output\n",
      "to the client in order to avoid crashing it.\n",
      "To change this limit, set the config variable\n",
      "`--NotebookApp.iopub_msg_rate_limit`.\n",
      "\n",
      "Current values:\n",
      "NotebookApp.iopub_msg_rate_limit=1000.0 (msgs/sec)\n",
      "NotebookApp.rate_limit_window=3.0 (secs)\n",
      "\n"
     ]
    },
    {
     "name": "stdout",
     "output_type": "stream",
     "text": [
      "1275/1275 [==============================] - 284s 223ms/step - loss: 0.0338 - mse: 0.0338 - mae: 0.1414 - val_loss: 0.0258 - val_mse: 0.0258 - val_mae: 0.1283\n",
      "Epoch 10/10\n",
      "1275/1275 [==============================] - 279s 219ms/step - loss: 0.0318 - mse: 0.0318 - mae: 0.1367 - val_loss: 0.0251 - val_mse: 0.0251 - val_mae: 0.1261\n",
      "EndTime : 2023-03-16 07:39:47.891799\n",
      "Evaluating model 16...\n",
      "260/715 [=========>....................] - ETA: 15s - loss: 0.0256 - mse: 0.0256 - mae: 0.1263"
     ]
    },
    {
     "name": "stderr",
     "output_type": "stream",
     "text": [
      "IOPub message rate exceeded.\n",
      "The notebook server will temporarily stop sending output\n",
      "to the client in order to avoid crashing it.\n",
      "To change this limit, set the config variable\n",
      "`--NotebookApp.iopub_msg_rate_limit`.\n",
      "\n",
      "Current values:\n",
      "NotebookApp.iopub_msg_rate_limit=1000.0 (msgs/sec)\n",
      "NotebookApp.rate_limit_window=3.0 (secs)\n",
      "\n"
     ]
    },
    {
     "name": "stdout",
     "output_type": "stream",
     "text": [
      "1275/1275 [==============================] - 284s 216ms/step - loss: 0.1114 - mse: 0.1114 - mae: 0.2122 - val_loss: 0.0160 - val_mse: 0.0160 - val_mae: 0.0801\n",
      "Epoch 2/10\n",
      " 449/1275 [=========>....................] - ETA: 2:36 - loss: 0.0286 - mse: 0.0286 - mae: 0.1215"
     ]
    },
    {
     "name": "stderr",
     "output_type": "stream",
     "text": [
      "IOPub message rate exceeded.\n",
      "The notebook server will temporarily stop sending output\n",
      "to the client in order to avoid crashing it.\n",
      "To change this limit, set the config variable\n",
      "`--NotebookApp.iopub_msg_rate_limit`.\n",
      "\n",
      "Current values:\n",
      "NotebookApp.iopub_msg_rate_limit=1000.0 (msgs/sec)\n",
      "NotebookApp.rate_limit_window=3.0 (secs)\n",
      "\n"
     ]
    },
    {
     "name": "stdout",
     "output_type": "stream",
     "text": [
      "1275/1275 [==============================] - 273s 214ms/step - loss: 0.0180 - mse: 0.0180 - mae: 0.0946 - val_loss: 0.0131 - val_mse: 0.0131 - val_mae: 0.0715\n",
      "Epoch 4/10\n",
      "1275/1275 [==============================] - 275s 215ms/step - loss: 0.0157 - mse: 0.0157 - mae: 0.0869 - val_loss: 0.0131 - val_mse: 0.0131 - val_mae: 0.0778\n",
      "Epoch 5/10\n",
      " 706/1275 [===============>..............] - ETA: 1:51 - loss: 0.0150 - mse: 0.0150 - mae: 0.0844"
     ]
    },
    {
     "name": "stderr",
     "output_type": "stream",
     "text": [
      "IOPub message rate exceeded.\n",
      "The notebook server will temporarily stop sending output\n",
      "to the client in order to avoid crashing it.\n",
      "To change this limit, set the config variable\n",
      "`--NotebookApp.iopub_msg_rate_limit`.\n",
      "\n",
      "Current values:\n",
      "NotebookApp.iopub_msg_rate_limit=1000.0 (msgs/sec)\n",
      "NotebookApp.rate_limit_window=3.0 (secs)\n",
      "\n"
     ]
    },
    {
     "name": "stdout",
     "output_type": "stream",
     "text": [
      "1275/1275 [==============================] - 271s 213ms/step - loss: 0.0143 - mse: 0.0143 - mae: 0.0809 - val_loss: 0.0129 - val_mse: 0.0129 - val_mae: 0.0754\n",
      "Epoch 7/10\n",
      " 604/1275 [=============>................] - ETA: 2:15 - loss: 0.0137 - mse: 0.0137 - mae: 0.0789"
     ]
    },
    {
     "name": "stderr",
     "output_type": "stream",
     "text": [
      "IOPub message rate exceeded.\n",
      "The notebook server will temporarily stop sending output\n",
      "to the client in order to avoid crashing it.\n",
      "To change this limit, set the config variable\n",
      "`--NotebookApp.iopub_msg_rate_limit`.\n",
      "\n",
      "Current values:\n",
      "NotebookApp.iopub_msg_rate_limit=1000.0 (msgs/sec)\n",
      "NotebookApp.rate_limit_window=3.0 (secs)\n",
      "\n"
     ]
    },
    {
     "name": "stdout",
     "output_type": "stream",
     "text": [
      "1275/1275 [==============================] - 268s 210ms/step - loss: 0.0137 - mse: 0.0137 - mae: 0.0779 - val_loss: 0.0130 - val_mse: 0.0130 - val_mae: 0.0714\n",
      "Epoch 9/10\n",
      "1275/1275 [==============================] - 271s 213ms/step - loss: 0.0134 - mse: 0.0134 - mae: 0.0768 - val_loss: 0.0133 - val_mse: 0.0133 - val_mae: 0.0771\n",
      "Epoch 10/10\n",
      "  25/1275 [..............................] - ETA: 4:12 - loss: 0.0139 - mse: 0.0139 - mae: 0.0794"
     ]
    },
    {
     "name": "stderr",
     "output_type": "stream",
     "text": [
      "IOPub message rate exceeded.\n",
      "The notebook server will temporarily stop sending output\n",
      "to the client in order to avoid crashing it.\n",
      "To change this limit, set the config variable\n",
      "`--NotebookApp.iopub_msg_rate_limit`.\n",
      "\n",
      "Current values:\n",
      "NotebookApp.iopub_msg_rate_limit=1000.0 (msgs/sec)\n",
      "NotebookApp.rate_limit_window=3.0 (secs)\n",
      "\n"
     ]
    },
    {
     "name": "stdout",
     "output_type": "stream",
     "text": [
      "1275/1275 [==============================] - 267s 210ms/step - loss: 0.0131 - mse: 0.0131 - mae: 0.0755 - val_loss: 0.0127 - val_mse: 0.0127 - val_mae: 0.0686\n",
      "EndTime : 2023-03-16 08:25:49.158965\n",
      "Evaluating model 17...\n",
      "715/715 [==============================] - 25s 35ms/step - loss: 0.0166 - mse: 0.0166 - mae: 0.0780\n",
      "loss=0.016639, mse=0.016639, mae=0.078004\n"
     ]
    }
   ],
   "source": [
    "import json\n",
    "from keras.models import model_from_json, load_model\n",
    "workdir = \"resnet_ht_models/cnv_model\"\n",
    "\n",
    "model_eval_dict = {}\n",
    "model_dict = {}\n",
    "training_epochs = 10\n",
    "model_ht_history = {}\n",
    "\n",
    "for i in hyper_param_dict:\n",
    "    params_dict = hyper_param_dict[i]\n",
    "    learning_rate=params_dict[\"learning_rate\"] \n",
    "    batch_size=params_dict[\"batch_size\"] \n",
    "    opt_name=params_dict[\"optimizer\"]\n",
    "    \n",
    "    # hyper parameters\n",
    "    num_classes = 1\n",
    "    if opt_name == 'adam':\n",
    "        optimizer = keras.optimizers.Adam(learning_rate)\n",
    "    else: # sgd\n",
    "        optimizer = keras.optimizers.SGD(learning_rate)\n",
    "    \n",
    "    with K.tf.device('/GPU:0'): # model compile\n",
    "        inputs = Input(shape=(train_X.shape[1],1),name='inputs')\n",
    "\n",
    "        x = Conv1D(16, kernel_size=3, strides=2, padding=\"same\")(inputs)\n",
    "        x = MaxPooling1D(pool_size=5)(x)\n",
    "        x = BatchNormalization()(x)\n",
    "    #     y = x\n",
    "        x = Activation('tanh')(x)\n",
    "\n",
    "        x = Conv1D(16, kernel_size=3, strides=1, padding=\"same\")(x)\n",
    "    #     x = MaxPooling1D(pool_size=5)(x)\n",
    "        x = BatchNormalization()(x)\n",
    "        y = x\n",
    "        x = Activation('relu')(x)\n",
    "\n",
    "        x = Conv1D(16, kernel_size=3, strides=1, padding=\"same\")(x)\n",
    "    #     x = MaxPooling1D(pool_size=5)(x)\n",
    "        x = BatchNormalization()(x)\n",
    "        x = Activation('relu')(x)\n",
    "\n",
    "        x = Conv1D(16, kernel_size=3, strides=1, padding=\"same\")(x)\n",
    "    #     x = MaxPooling1D(pool_size=5)(x)\n",
    "        x = BatchNormalization()(x)\n",
    "        x = keras.layers.add([x,y])\n",
    "        x = Activation('relu')(x)\n",
    "\n",
    "\n",
    "        x = Conv1D(16, kernel_size=3, strides=1, padding=\"same\")(x)\n",
    "    #     x = MaxPooling1D(pool_size=5)(x)\n",
    "        x = BatchNormalization()(x)\n",
    "        y = x\n",
    "        x = Activation('relu')(x)\n",
    "\n",
    "\n",
    "        x = Conv1D(16, kernel_size=3, strides=1, padding=\"same\")(x)\n",
    "    #     x = MaxPooling1D(pool_size=5)(x)\n",
    "        x = BatchNormalization()(x)\n",
    "        x = Activation('relu')(x)\n",
    "\n",
    "        x = Conv1D(16, kernel_size=3, strides=1, padding=\"same\")(x)\n",
    "    #     x = MaxPooling1D(pool_size=5)(x)\n",
    "        x = BatchNormalization()(x)\n",
    "        x = Activation('relu')(x)\n",
    "\n",
    "\n",
    "        x = Conv1D(16, kernel_size=3, strides=1, padding=\"same\")(x)\n",
    "    #     x = MaxPooling1D(pool_size=5)(x)\n",
    "        x = BatchNormalization()(x)\n",
    "        x = keras.layers.add([x,y])\n",
    "        x = Activation('relu')(x)\n",
    "\n",
    "        x = Conv1D(32, kernel_size=3, strides=2, padding=\"same\")(x)\n",
    "    #     x = MaxPooling1D(pool_size=5)(x)\n",
    "        x = BatchNormalization()(x)\n",
    "        y = x\n",
    "        x = Activation('relu')(x)\n",
    "\n",
    "        x = Conv1D(32, kernel_size=3, strides=1, padding=\"same\")(x)\n",
    "    #     x = MaxPooling1D(pool_size=5)(x)\n",
    "    #     x = BatchNormalization()(x)\n",
    "\n",
    "        x = Conv1D(32, kernel_size=3, strides=1, padding=\"same\")(x)\n",
    "    #     x = MaxPooling1D(pool_size=5)(x)\n",
    "        x = BatchNormalization()(x)\n",
    "        x = keras.layers.add([x,y])\n",
    "        x = Activation('relu')(x)\n",
    "\n",
    "\n",
    "        x = Conv1D(32, kernel_size=3, strides=1, padding=\"same\")(x)\n",
    "    #     x = MaxPooling1D(pool_size=5)(x)\n",
    "        x = BatchNormalization()(x)\n",
    "        y = x\n",
    "        x = Activation('relu')(x)\n",
    "\n",
    "        x = Conv1D(32, kernel_size=3, strides=1, padding=\"same\")(x)\n",
    "    #     x = MaxPooling1D(pool_size=5)(x)\n",
    "        x = BatchNormalization()(x)\n",
    "        x = keras.layers.add([x,y])\n",
    "        x = Activation('relu')(x)\n",
    "\n",
    "        x = Conv1D(32, kernel_size=3, strides=1, padding=\"same\")(x)\n",
    "    #     x = MaxPooling1D(pool_size=5)(x)\n",
    "        x = BatchNormalization()(x)\n",
    "        y = x\n",
    "        x = Activation('relu')(x)\n",
    "\n",
    "        x = Conv1D(32, kernel_size=3, strides=1, padding=\"same\")(x)\n",
    "    #     x = MaxPooling1D(pool_size=5)(x)\n",
    "        x = BatchNormalization()(x)\n",
    "        x = keras.layers.add([x,y])\n",
    "        x = Activation('relu')(x)\n",
    "\n",
    "        x = Conv1D(64, kernel_size=3, strides=2, padding=\"same\")(x)\n",
    "    #     x = MaxPooling1D(pool_size=5)(x)\n",
    "        x = BatchNormalization()(x)\n",
    "        y = x\n",
    "        x = Activation('relu')(x)\n",
    "\n",
    "        x = Conv1D(64, kernel_size=3, strides=1, padding=\"same\")(x)\n",
    "    #     x = MaxPooling1D(pool_size=5)(x)\n",
    "    #     x = BatchNormalization()(x)\n",
    "\n",
    "        x = Conv1D(64, kernel_size=3, strides=1, padding=\"same\")(x)\n",
    "    #     x = MaxPooling1D(pool_size=5)(x)\n",
    "        x = BatchNormalization()(x)\n",
    "        x = keras.layers.add([x,y])\n",
    "        x = Activation('relu')(x)\n",
    "\n",
    "\n",
    "        x = Conv1D(64, kernel_size=3, strides=1, padding=\"same\")(x)\n",
    "    #     x = MaxPooling1D(pool_size=5)(x)\n",
    "        x = BatchNormalization()(x)\n",
    "        y = x\n",
    "        x = Activation('relu')(x)\n",
    "\n",
    "        x = Conv1D(64, kernel_size=3, strides=1, padding=\"same\")(x)\n",
    "    #     x = MaxPooling1D(pool_size=5)(x)\n",
    "        x = BatchNormalization()(x)\n",
    "        x = keras.layers.add([x,y])\n",
    "        x = Activation('relu')(x)\n",
    "\n",
    "        x = Conv1D(64, kernel_size=3, strides=1, padding=\"same\")(x)\n",
    "    #     x = MaxPooling1D(pool_size=5)(x)\n",
    "        x = BatchNormalization()(x)\n",
    "        y = x\n",
    "        x = Activation('relu')(x)\n",
    "\n",
    "        x = Conv1D(64, kernel_size=3, strides=1, padding=\"same\")(x)\n",
    "    #     x = MaxPooling1D(pool_size=5)(x)\n",
    "        x = BatchNormalization()(x)\n",
    "        x = keras.layers.add([x,y])\n",
    "        x = Activation('relu')(x)\n",
    "\n",
    "    #     x = AveragePooling1D(pool_size=8)(x)\n",
    "        x = Flatten()(x)\n",
    "        x = Dense(units=2048, name='dense1'  ) (x)\n",
    "        x = BatchNormalization()(x)\n",
    "        x = Dropout(0.1, name='dropout1') (x)\n",
    "        x = Activation('relu')(x)\n",
    "\n",
    "    #    x = Reshape((300,1))(x)\n",
    "\n",
    "    #    x = Conv1D(30, kernel_size=150, strides=1, activation = 'relu')(x)\n",
    "    #    x = MaxPooling1D(pool_size=2)(x)\n",
    "    #    x = BatchNormalization()(x)\n",
    "\n",
    "        x = Dense(units=1024, name='dense5'  ) (x)\n",
    "        x = BatchNormalization()(x)\n",
    "        y = x\n",
    "        x = Dropout(0.1, name='dropout5') (x)\n",
    "        x = Activation('relu')(x)\n",
    "\n",
    "        x = Dense(units=512, name='dense6'  ) (x)\n",
    "        x = BatchNormalization()(x)\n",
    "        x = Dropout(0.1, name='dropout6') (x)\n",
    "        x = Activation('relu')(x)\n",
    "\n",
    "        x = Dense(units=1024, name='dense7'  ) (x)\n",
    "        x = BatchNormalization()(x)\n",
    "        x = Dropout(0.1, name='dropout7') (x)\n",
    "        x = keras.layers.add([x,y])\n",
    "        x = Activation('relu')(x)\n",
    "\n",
    "        x = Dense(units=512, name='dense8'  ) (x)\n",
    "        x = BatchNormalization()(x)\n",
    "        x = Dropout(0.1, name='dropout8') (x)\n",
    "        x = Activation('relu')(x)\n",
    "\n",
    "        x = Dense(units=256, name='dense9'  ) (x)\n",
    "        x = BatchNormalization()(x)\n",
    "        x = Dropout(0.1, name='dropout9') (x)\n",
    "        x = Activation('relu')(x)\n",
    "\n",
    "        x = Dense(units=128, name='dense10'  ) (x)\n",
    "        x = BatchNormalization()(x)\n",
    "        y = x\n",
    "        x = Dropout(0.1, name='dropout10') (x)\n",
    "        x = Activation('relu')(x)\n",
    "\n",
    "\n",
    "        predictions = Dense(1, activation='linear', name='predictions', kernel_initializer='he_normal')(x)\n",
    "\n",
    "        model = Model(inputs=inputs, outputs=predictions, name='Test_v2_DNN')\n",
    "        model.compile(loss=keras.losses.mean_squared_error,\n",
    "                      optimizer=optimizer,\n",
    "                      metrics=['mse','mae'])\n",
    "        \n",
    "        # model training\n",
    "        StartTime8 = datetime.now()\n",
    "        print(\"StartTime :\", StartTime8)\n",
    "        with K.tf.device('/GPU:0'):\n",
    "            model_train = model.fit(train_X, train_y, batch_size=batch_size,epochs=training_epochs,verbose=1,\n",
    "                                validation_data=(val_X, val_y))\n",
    "\n",
    "        EndTime8 = datetime.now()\n",
    "        print(\"EndTime :\", EndTime8)\n",
    "    model.save_weights(workdir+ f'/model_{i}_new.h5')\n",
    "    with open(workdir + f'/model_architecture_{i}_new.json', 'w') as f:\n",
    "        f.write(model.to_json())\n",
    "        \n",
    "    # evaluation\n",
    "    print(f\"Evaluating model {i}...\")\n",
    "    test_score = model.evaluate(test_X, test_y, verbose=1)\n",
    "    model_ht_history[(learning_rate, batch_size)] = model\n",
    "    loss, mse, mae = test_score\n",
    "    print(\"loss=%.6f, mse=%.6f, mae=%.6f\"%(loss, mse, mae))\n",
    "    \n",
    "    model_dict[i] = model\n",
    "    model_eval_dict[i] = {\"loss\":loss, \"mse\":mse, \"mae\":mae}"
   ]
  },
  {
   "cell_type": "code",
   "execution_count": 24,
   "metadata": {},
   "outputs": [],
   "source": [
    "min_mse = 10\n",
    "bst_model_id_lst = []\n",
    "for i in model_eval_dict:\n",
    "    if model_eval_dict[i]['mse'] < min_mse:\n",
    "        bst_model_id_lst = []\n",
    "        bst_model_id_lst.append(i)\n",
    "        min_mse = model_eval_dict[i]['mse']\n",
    "    elif model_eval_dict[i]['mse'] == min_mse:\n",
    "        bst_model_id_lst.append(i)"
   ]
  },
  {
   "cell_type": "code",
   "execution_count": 25,
   "metadata": {},
   "outputs": [
    {
     "data": {
      "text/plain": [
       "[15]"
      ]
     },
     "execution_count": 25,
     "metadata": {},
     "output_type": "execute_result"
    }
   ],
   "source": [
    "bst_model_id_lst"
   ]
  },
  {
   "cell_type": "code",
   "execution_count": null,
   "metadata": {},
   "outputs": [],
   "source": []
  },
  {
   "cell_type": "code",
   "execution_count": 27,
   "metadata": {},
   "outputs": [
    {
     "data": {
      "text/plain": [
       "{'loss': 0.016008485108613968,\n",
       " 'mse': 0.016008485108613968,\n",
       " 'mae': 0.07691584527492523}"
      ]
     },
     "execution_count": 27,
     "metadata": {},
     "output_type": "execute_result"
    }
   ],
   "source": [
    "model_eval_dict[15]"
   ]
  },
  {
   "cell_type": "code",
   "execution_count": 30,
   "metadata": {},
   "outputs": [
    {
     "data": {
      "text/plain": [
       "{'learning_rate': 0.0005, 'batch_size': 100, 'optimizer': 'adam'}"
      ]
     },
     "execution_count": 30,
     "metadata": {},
     "output_type": "execute_result"
    }
   ],
   "source": [
    "hyper_param_dict[15]"
   ]
  },
  {
   "cell_type": "code",
   "execution_count": 29,
   "metadata": {},
   "outputs": [],
   "source": [
    "best_model = model_dict[15]"
   ]
  },
  {
   "cell_type": "code",
   "execution_count": 31,
   "metadata": {},
   "outputs": [
    {
     "data": {
      "text/plain": [
       "True"
      ]
     },
     "execution_count": 31,
     "metadata": {},
     "output_type": "execute_result"
    }
   ],
   "source": [
    "model_ht_history[(0.0005, 100)] is best_model"
   ]
  },
  {
   "cell_type": "code",
   "execution_count": 32,
   "metadata": {},
   "outputs": [],
   "source": [
    "import json\n",
    "from keras.models import model_from_json, load_model\n",
    "workdir = \"resnet_ht_models/cnv_model\"\n",
    "\n",
    "json_file = open(workdir +'/model_architecture_15_new.json', 'r')\n",
    "loaded_model_json = json_file.read()\n",
    "json_file.close()\n",
    "loaded_model = model_from_json(loaded_model_json)\n",
    "# load weights into new model\n",
    "loaded_model.load_weights(workdir +\"/model_15_new.h5\")"
   ]
  },
  {
   "cell_type": "code",
   "execution_count": 33,
   "metadata": {},
   "outputs": [],
   "source": [
    "best_model = loaded_model"
   ]
  },
  {
   "cell_type": "code",
   "execution_count": 34,
   "metadata": {},
   "outputs": [],
   "source": [
    "best_model.compile(loss=keras.losses.mean_squared_error,\n",
    "                  optimizer=tf.keras.optimizers.Adam(0.0005),\n",
    "                  metrics=['mse','mae'])"
   ]
  },
  {
   "cell_type": "code",
   "execution_count": 35,
   "metadata": {},
   "outputs": [
    {
     "name": "stdout",
     "output_type": "stream",
     "text": [
      "715/715 [==============================] - 29s 37ms/step - loss: 0.0160 - mse: 0.0160 - mae: 0.0769\n"
     ]
    }
   ],
   "source": [
    "test_eval = best_model.evaluate(test_X, test_y, verbose=1)"
   ]
  },
  {
   "cell_type": "code",
   "execution_count": 36,
   "metadata": {},
   "outputs": [
    {
     "data": {
      "text/plain": [
       "[0.016008485108613968, 0.016008485108613968, 0.07691584527492523]"
      ]
     },
     "execution_count": 36,
     "metadata": {},
     "output_type": "execute_result"
    }
   ],
   "source": [
    "test_eval"
   ]
  },
  {
   "cell_type": "code",
   "execution_count": 37,
   "metadata": {
    "collapsed": true
   },
   "outputs": [
    {
     "name": "stdout",
     "output_type": "stream",
     "text": [
      "Epoch 1/10\n",
      "1275/1275 [==============================] - 290s 218ms/step - loss: 0.0125 - mse: 0.0125 - mae: 0.0726 - val_loss: 0.0121 - val_mse: 0.0121 - val_mae: 0.0726\n",
      "Epoch 2/10\n",
      "1275/1275 [==============================] - 282s 221ms/step - loss: 0.0121 - mse: 0.0121 - mae: 0.0714 - val_loss: 0.0117 - val_mse: 0.0117 - val_mae: 0.0666\n",
      "Epoch 3/10\n",
      "1275/1275 [==============================] - 275s 216ms/step - loss: 0.0118 - mse: 0.0118 - mae: 0.0705 - val_loss: 0.0112 - val_mse: 0.0112 - val_mae: 0.0661\n",
      "Epoch 4/10\n",
      "1275/1275 [==============================] - 279s 219ms/step - loss: 0.0115 - mse: 0.0115 - mae: 0.0695 - val_loss: 0.0114 - val_mse: 0.0114 - val_mae: 0.0689\n",
      "Epoch 5/10\n",
      "1275/1275 [==============================] - 283s 222ms/step - loss: 0.0112 - mse: 0.0112 - mae: 0.0685 - val_loss: 0.0109 - val_mse: 0.0109 - val_mae: 0.0656\n",
      "Epoch 6/10\n",
      "1275/1275 [==============================] - 286s 225ms/step - loss: 0.0109 - mse: 0.0109 - mae: 0.0673 - val_loss: 0.0107 - val_mse: 0.0107 - val_mae: 0.0648\n",
      "Epoch 7/10\n",
      "1275/1275 [==============================] - 286s 225ms/step - loss: 0.0107 - mse: 0.0107 - mae: 0.0666 - val_loss: 0.0105 - val_mse: 0.0105 - val_mae: 0.0658\n",
      "Epoch 8/10\n",
      "1275/1275 [==============================] - 283s 222ms/step - loss: 0.0104 - mse: 0.0104 - mae: 0.0656 - val_loss: 0.0105 - val_mse: 0.0105 - val_mae: 0.0624\n",
      "Epoch 9/10\n",
      "1275/1275 [==============================] - 282s 222ms/step - loss: 0.0101 - mse: 0.0101 - mae: 0.0648 - val_loss: 0.0105 - val_mse: 0.0105 - val_mae: 0.0654\n",
      "Epoch 10/10\n",
      "1275/1275 [==============================] - 281s 221ms/step - loss: 0.0098 - mse: 0.0098 - mae: 0.0637 - val_loss: 0.0100 - val_mse: 0.0100 - val_mae: 0.0611\n"
     ]
    }
   ],
   "source": [
    "model_train = best_model.fit(train_X, train_y, batch_size=batch_size,epochs=training_epochs,verbose=1,\n",
    "                                validation_data=(val_X, val_y))"
   ]
  },
  {
   "cell_type": "code",
   "execution_count": 38,
   "metadata": {},
   "outputs": [
    {
     "name": "stdout",
     "output_type": "stream",
     "text": [
      "Model: \"Test_v2_DNN\"\n",
      "__________________________________________________________________________________________________\n",
      " Layer (type)                   Output Shape         Param #     Connected to                     \n",
      "==================================================================================================\n",
      " inputs (InputLayer)            [(None, 2649, 1)]    0           []                               \n",
      "                                                                                                  \n",
      " conv1d_330 (Conv1D)            (None, 1325, 16)     64          ['inputs[0][0]']                 \n",
      "                                                                                                  \n",
      " max_pooling1d_15 (MaxPooling1D  (None, 265, 16)     0           ['conv1d_330[0][0]']             \n",
      " )                                                                                                \n",
      "                                                                                                  \n",
      " batch_normalization_405 (Batch  (None, 265, 16)     64          ['max_pooling1d_15[0][0]']       \n",
      " Normalization)                                                                                   \n",
      "                                                                                                  \n",
      " activation_405 (Activation)    (None, 265, 16)      0           ['batch_normalization_405[0][0]']\n",
      "                                                                                                  \n",
      " conv1d_331 (Conv1D)            (None, 265, 16)      784         ['activation_405[0][0]']         \n",
      "                                                                                                  \n",
      " batch_normalization_406 (Batch  (None, 265, 16)     64          ['conv1d_331[0][0]']             \n",
      " Normalization)                                                                                   \n",
      "                                                                                                  \n",
      " activation_406 (Activation)    (None, 265, 16)      0           ['batch_normalization_406[0][0]']\n",
      "                                                                                                  \n",
      " conv1d_332 (Conv1D)            (None, 265, 16)      784         ['activation_406[0][0]']         \n",
      "                                                                                                  \n",
      " batch_normalization_407 (Batch  (None, 265, 16)     64          ['conv1d_332[0][0]']             \n",
      " Normalization)                                                                                   \n",
      "                                                                                                  \n",
      " activation_407 (Activation)    (None, 265, 16)      0           ['batch_normalization_407[0][0]']\n",
      "                                                                                                  \n",
      " conv1d_333 (Conv1D)            (None, 265, 16)      784         ['activation_407[0][0]']         \n",
      "                                                                                                  \n",
      " batch_normalization_408 (Batch  (None, 265, 16)     64          ['conv1d_333[0][0]']             \n",
      " Normalization)                                                                                   \n",
      "                                                                                                  \n",
      " add_135 (Add)                  (None, 265, 16)      0           ['batch_normalization_408[0][0]',\n",
      "                                                                  'batch_normalization_406[0][0]']\n",
      "                                                                                                  \n",
      " activation_408 (Activation)    (None, 265, 16)      0           ['add_135[0][0]']                \n",
      "                                                                                                  \n",
      " conv1d_334 (Conv1D)            (None, 265, 16)      784         ['activation_408[0][0]']         \n",
      "                                                                                                  \n",
      " batch_normalization_409 (Batch  (None, 265, 16)     64          ['conv1d_334[0][0]']             \n",
      " Normalization)                                                                                   \n",
      "                                                                                                  \n",
      " activation_409 (Activation)    (None, 265, 16)      0           ['batch_normalization_409[0][0]']\n",
      "                                                                                                  \n",
      " conv1d_335 (Conv1D)            (None, 265, 16)      784         ['activation_409[0][0]']         \n",
      "                                                                                                  \n",
      " batch_normalization_410 (Batch  (None, 265, 16)     64          ['conv1d_335[0][0]']             \n",
      " Normalization)                                                                                   \n",
      "                                                                                                  \n",
      " activation_410 (Activation)    (None, 265, 16)      0           ['batch_normalization_410[0][0]']\n",
      "                                                                                                  \n",
      " conv1d_336 (Conv1D)            (None, 265, 16)      784         ['activation_410[0][0]']         \n",
      "                                                                                                  \n",
      " batch_normalization_411 (Batch  (None, 265, 16)     64          ['conv1d_336[0][0]']             \n",
      " Normalization)                                                                                   \n",
      "                                                                                                  \n",
      " activation_411 (Activation)    (None, 265, 16)      0           ['batch_normalization_411[0][0]']\n",
      "                                                                                                  \n",
      " conv1d_337 (Conv1D)            (None, 265, 16)      784         ['activation_411[0][0]']         \n",
      "                                                                                                  \n",
      " batch_normalization_412 (Batch  (None, 265, 16)     64          ['conv1d_337[0][0]']             \n",
      " Normalization)                                                                                   \n",
      "                                                                                                  \n",
      " add_136 (Add)                  (None, 265, 16)      0           ['batch_normalization_412[0][0]',\n",
      "                                                                  'batch_normalization_409[0][0]']\n",
      "                                                                                                  \n",
      " activation_412 (Activation)    (None, 265, 16)      0           ['add_136[0][0]']                \n",
      "                                                                                                  \n",
      " conv1d_338 (Conv1D)            (None, 133, 32)      1568        ['activation_412[0][0]']         \n",
      "                                                                                                  \n",
      " batch_normalization_413 (Batch  (None, 133, 32)     128         ['conv1d_338[0][0]']             \n",
      " Normalization)                                                                                   \n",
      "                                                                                                  \n",
      " activation_413 (Activation)    (None, 133, 32)      0           ['batch_normalization_413[0][0]']\n",
      "                                                                                                  \n",
      " conv1d_339 (Conv1D)            (None, 133, 32)      3104        ['activation_413[0][0]']         \n",
      "                                                                                                  \n",
      " conv1d_340 (Conv1D)            (None, 133, 32)      3104        ['conv1d_339[0][0]']             \n",
      "                                                                                                  \n",
      " batch_normalization_414 (Batch  (None, 133, 32)     128         ['conv1d_340[0][0]']             \n",
      " Normalization)                                                                                   \n"
     ]
    },
    {
     "name": "stdout",
     "output_type": "stream",
     "text": [
      "                                                                                                  \n",
      " add_137 (Add)                  (None, 133, 32)      0           ['batch_normalization_414[0][0]',\n",
      "                                                                  'batch_normalization_413[0][0]']\n",
      "                                                                                                  \n",
      " activation_414 (Activation)    (None, 133, 32)      0           ['add_137[0][0]']                \n",
      "                                                                                                  \n",
      " conv1d_341 (Conv1D)            (None, 133, 32)      3104        ['activation_414[0][0]']         \n",
      "                                                                                                  \n",
      " batch_normalization_415 (Batch  (None, 133, 32)     128         ['conv1d_341[0][0]']             \n",
      " Normalization)                                                                                   \n",
      "                                                                                                  \n",
      " activation_415 (Activation)    (None, 133, 32)      0           ['batch_normalization_415[0][0]']\n",
      "                                                                                                  \n",
      " conv1d_342 (Conv1D)            (None, 133, 32)      3104        ['activation_415[0][0]']         \n",
      "                                                                                                  \n",
      " batch_normalization_416 (Batch  (None, 133, 32)     128         ['conv1d_342[0][0]']             \n",
      " Normalization)                                                                                   \n",
      "                                                                                                  \n",
      " add_138 (Add)                  (None, 133, 32)      0           ['batch_normalization_416[0][0]',\n",
      "                                                                  'batch_normalization_415[0][0]']\n",
      "                                                                                                  \n",
      " activation_416 (Activation)    (None, 133, 32)      0           ['add_138[0][0]']                \n",
      "                                                                                                  \n",
      " conv1d_343 (Conv1D)            (None, 133, 32)      3104        ['activation_416[0][0]']         \n",
      "                                                                                                  \n",
      " batch_normalization_417 (Batch  (None, 133, 32)     128         ['conv1d_343[0][0]']             \n",
      " Normalization)                                                                                   \n",
      "                                                                                                  \n",
      " activation_417 (Activation)    (None, 133, 32)      0           ['batch_normalization_417[0][0]']\n",
      "                                                                                                  \n",
      " conv1d_344 (Conv1D)            (None, 133, 32)      3104        ['activation_417[0][0]']         \n",
      "                                                                                                  \n",
      " batch_normalization_418 (Batch  (None, 133, 32)     128         ['conv1d_344[0][0]']             \n",
      " Normalization)                                                                                   \n",
      "                                                                                                  \n",
      " add_139 (Add)                  (None, 133, 32)      0           ['batch_normalization_418[0][0]',\n",
      "                                                                  'batch_normalization_417[0][0]']\n",
      "                                                                                                  \n",
      " activation_418 (Activation)    (None, 133, 32)      0           ['add_139[0][0]']                \n",
      "                                                                                                  \n",
      " conv1d_345 (Conv1D)            (None, 67, 64)       6208        ['activation_418[0][0]']         \n",
      "                                                                                                  \n",
      " batch_normalization_419 (Batch  (None, 67, 64)      256         ['conv1d_345[0][0]']             \n",
      " Normalization)                                                                                   \n",
      "                                                                                                  \n",
      " activation_419 (Activation)    (None, 67, 64)       0           ['batch_normalization_419[0][0]']\n",
      "                                                                                                  \n",
      " conv1d_346 (Conv1D)            (None, 67, 64)       12352       ['activation_419[0][0]']         \n",
      "                                                                                                  \n",
      " conv1d_347 (Conv1D)            (None, 67, 64)       12352       ['conv1d_346[0][0]']             \n",
      "                                                                                                  \n",
      " batch_normalization_420 (Batch  (None, 67, 64)      256         ['conv1d_347[0][0]']             \n",
      " Normalization)                                                                                   \n",
      "                                                                                                  \n",
      " add_140 (Add)                  (None, 67, 64)       0           ['batch_normalization_420[0][0]',\n",
      "                                                                  'batch_normalization_419[0][0]']\n",
      "                                                                                                  \n",
      " activation_420 (Activation)    (None, 67, 64)       0           ['add_140[0][0]']                \n",
      "                                                                                                  \n",
      " conv1d_348 (Conv1D)            (None, 67, 64)       12352       ['activation_420[0][0]']         \n",
      "                                                                                                  \n",
      " batch_normalization_421 (Batch  (None, 67, 64)      256         ['conv1d_348[0][0]']             \n",
      " Normalization)                                                                                   \n",
      "                                                                                                  \n",
      " activation_421 (Activation)    (None, 67, 64)       0           ['batch_normalization_421[0][0]']\n",
      "                                                                                                  \n",
      " conv1d_349 (Conv1D)            (None, 67, 64)       12352       ['activation_421[0][0]']         \n",
      "                                                                                                  \n",
      " batch_normalization_422 (Batch  (None, 67, 64)      256         ['conv1d_349[0][0]']             \n",
      " Normalization)                                                                                   \n",
      "                                                                                                  \n",
      " add_141 (Add)                  (None, 67, 64)       0           ['batch_normalization_422[0][0]',\n",
      "                                                                  'batch_normalization_421[0][0]']\n",
      "                                                                                                  \n",
      " activation_422 (Activation)    (None, 67, 64)       0           ['add_141[0][0]']                \n",
      "                                                                                                  \n",
      " conv1d_350 (Conv1D)            (None, 67, 64)       12352       ['activation_422[0][0]']         \n",
      "                                                                                                  \n",
      " batch_normalization_423 (Batch  (None, 67, 64)      256         ['conv1d_350[0][0]']             \n",
      " Normalization)                                                                                   \n",
      "                                                                                                  \n",
      " activation_423 (Activation)    (None, 67, 64)       0           ['batch_normalization_423[0][0]']\n",
      "                                                                                                  \n"
     ]
    },
    {
     "name": "stdout",
     "output_type": "stream",
     "text": [
      " conv1d_351 (Conv1D)            (None, 67, 64)       12352       ['activation_423[0][0]']         \n",
      "                                                                                                  \n",
      " batch_normalization_424 (Batch  (None, 67, 64)      256         ['conv1d_351[0][0]']             \n",
      " Normalization)                                                                                   \n",
      "                                                                                                  \n",
      " add_142 (Add)                  (None, 67, 64)       0           ['batch_normalization_424[0][0]',\n",
      "                                                                  'batch_normalization_423[0][0]']\n",
      "                                                                                                  \n",
      " activation_424 (Activation)    (None, 67, 64)       0           ['add_142[0][0]']                \n",
      "                                                                                                  \n",
      " flatten_15 (Flatten)           (None, 4288)         0           ['activation_424[0][0]']         \n",
      "                                                                                                  \n",
      " dense1 (Dense)                 (None, 2048)         8783872     ['flatten_15[0][0]']             \n",
      "                                                                                                  \n",
      " batch_normalization_425 (Batch  (None, 2048)        8192        ['dense1[0][0]']                 \n",
      " Normalization)                                                                                   \n",
      "                                                                                                  \n",
      " dropout1 (Dropout)             (None, 2048)         0           ['batch_normalization_425[0][0]']\n",
      "                                                                                                  \n",
      " activation_425 (Activation)    (None, 2048)         0           ['dropout1[0][0]']               \n",
      "                                                                                                  \n",
      " dense5 (Dense)                 (None, 1024)         2098176     ['activation_425[0][0]']         \n",
      "                                                                                                  \n",
      " batch_normalization_426 (Batch  (None, 1024)        4096        ['dense5[0][0]']                 \n",
      " Normalization)                                                                                   \n",
      "                                                                                                  \n",
      " dropout5 (Dropout)             (None, 1024)         0           ['batch_normalization_426[0][0]']\n",
      "                                                                                                  \n",
      " activation_426 (Activation)    (None, 1024)         0           ['dropout5[0][0]']               \n",
      "                                                                                                  \n",
      " dense6 (Dense)                 (None, 512)          524800      ['activation_426[0][0]']         \n",
      "                                                                                                  \n",
      " batch_normalization_427 (Batch  (None, 512)         2048        ['dense6[0][0]']                 \n",
      " Normalization)                                                                                   \n",
      "                                                                                                  \n",
      " dropout6 (Dropout)             (None, 512)          0           ['batch_normalization_427[0][0]']\n",
      "                                                                                                  \n",
      " activation_427 (Activation)    (None, 512)          0           ['dropout6[0][0]']               \n",
      "                                                                                                  \n",
      " dense7 (Dense)                 (None, 1024)         525312      ['activation_427[0][0]']         \n",
      "                                                                                                  \n",
      " batch_normalization_428 (Batch  (None, 1024)        4096        ['dense7[0][0]']                 \n",
      " Normalization)                                                                                   \n",
      "                                                                                                  \n",
      " dropout7 (Dropout)             (None, 1024)         0           ['batch_normalization_428[0][0]']\n",
      "                                                                                                  \n",
      " add_143 (Add)                  (None, 1024)         0           ['dropout7[0][0]',               \n",
      "                                                                  'batch_normalization_426[0][0]']\n",
      "                                                                                                  \n",
      " activation_428 (Activation)    (None, 1024)         0           ['add_143[0][0]']                \n",
      "                                                                                                  \n",
      " dense8 (Dense)                 (None, 512)          524800      ['activation_428[0][0]']         \n",
      "                                                                                                  \n",
      " batch_normalization_429 (Batch  (None, 512)         2048        ['dense8[0][0]']                 \n",
      " Normalization)                                                                                   \n",
      "                                                                                                  \n",
      " dropout8 (Dropout)             (None, 512)          0           ['batch_normalization_429[0][0]']\n",
      "                                                                                                  \n",
      " activation_429 (Activation)    (None, 512)          0           ['dropout8[0][0]']               \n",
      "                                                                                                  \n",
      " dense9 (Dense)                 (None, 256)          131328      ['activation_429[0][0]']         \n",
      "                                                                                                  \n",
      " batch_normalization_430 (Batch  (None, 256)         1024        ['dense9[0][0]']                 \n",
      " Normalization)                                                                                   \n",
      "                                                                                                  \n",
      " dropout9 (Dropout)             (None, 256)          0           ['batch_normalization_430[0][0]']\n",
      "                                                                                                  \n",
      " activation_430 (Activation)    (None, 256)          0           ['dropout9[0][0]']               \n",
      "                                                                                                  \n",
      " dense10 (Dense)                (None, 128)          32896       ['activation_430[0][0]']         \n",
      "                                                                                                  \n",
      " batch_normalization_431 (Batch  (None, 128)         512         ['dense10[0][0]']                \n",
      " Normalization)                                                                                   \n",
      "                                                                                                  \n",
      " dropout10 (Dropout)            (None, 128)          0           ['batch_normalization_431[0][0]']\n",
      "                                                                                                  \n",
      " activation_431 (Activation)    (None, 128)          0           ['dropout10[0][0]']              \n",
      "                                                                                                  \n",
      " predictions (Dense)            (None, 1)            129         ['activation_431[0][0]']         \n",
      "                                                                                                  \n",
      "==================================================================================================\n",
      "Total params: 12,752,209\n",
      "Trainable params: 12,739,793\n",
      "Non-trainable params: 12,416\n",
      "__________________________________________________________________________________________________\n"
     ]
    }
   ],
   "source": [
    "best_model.summary()"
   ]
  },
  {
   "cell_type": "code",
   "execution_count": 39,
   "metadata": {},
   "outputs": [],
   "source": [
    "# mse and loss monitor\n",
    "accuracy = model_train.history['mse']\n",
    "val_accuracy = model_train.history['val_mse']\n",
    "loss = model_train.history['loss']\n",
    "val_loss = model_train.history['val_loss']\n",
    "\n",
    "np_acc = np.array(accuracy)\n",
    "np_val_acc = np.array(val_accuracy)\n",
    "np_loss = np.array(loss)\n",
    "np_val_loss = np.array(val_loss)"
   ]
  },
  {
   "cell_type": "code",
   "execution_count": 40,
   "metadata": {},
   "outputs": [],
   "source": [
    "import matplotlib\n",
    "from matplotlib import pyplot as plt"
   ]
  },
  {
   "cell_type": "code",
   "execution_count": 41,
   "metadata": {},
   "outputs": [
    {
     "data": {
      "image/png": "[encoded data removed]",
      "text/plain": [
       "<Figure size 432x288 with 1 Axes>"
      ]
     },
     "metadata": {
      "needs_background": "light"
     },
     "output_type": "display_data"
    },
    {
     "data": {
      "image/png": "[encoded data removed]",
      "text/plain": [
       "<Figure size 432x288 with 1 Axes>"
      ]
     },
     "metadata": {
      "needs_background": "light"
     },
     "output_type": "display_data"
    }
   ],
   "source": [
    "epochs = range(len(accuracy))\n",
    "plt.plot(epochs, accuracy, 'bo', label='Training mse')\n",
    "plt.plot(epochs, val_accuracy, 'b', label='Validation mse')\n",
    "plt.title('Training and validation mse')\n",
    "plt.legend()\n",
    "plt.figure()\n",
    "plt.plot(epochs, loss, 'bo', label='Training loss')\n",
    "plt.plot(epochs, val_loss, 'b', label='Validation loss')\n",
    "plt.title('Training and validation loss')\n",
    "plt.legend()\n",
    "plt.savefig(workdir + '//mse_loss_plot.png')\n",
    "plt.show()"
   ]
  },
  {
   "cell_type": "code",
   "execution_count": 42,
   "metadata": {},
   "outputs": [
    {
     "name": "stdout",
     "output_type": "stream",
     "text": [
      "715/715 [==============================] - 28s 37ms/step\n"
     ]
    }
   ],
   "source": [
    "# test validation\n",
    "predicted_classes = best_model.predict(test_X)"
   ]
  },
  {
   "cell_type": "code",
   "execution_count": 43,
   "metadata": {},
   "outputs": [],
   "source": [
    "predicted_value = predicted_classes"
   ]
  },
  {
   "cell_type": "code",
   "execution_count": 44,
   "metadata": {},
   "outputs": [],
   "source": [
    "a = pd.DataFrame(predicted_value)\n",
    "b = pd.DataFrame(test_y)\n",
    "c = pd.concat([a,b], axis=1)\n",
    "c.columns=[\"Predicted\",\"Test\"]"
   ]
  },
  {
   "cell_type": "code",
   "execution_count": 67,
   "metadata": {},
   "outputs": [],
   "source": [
    "c.to_csv(workdir + '/DeepAUCv2_epoch_10_ht_result_new.csv')"
   ]
  },
  {
   "cell_type": "code",
   "execution_count": 46,
   "metadata": {
    "scrolled": true
   },
   "outputs": [
    {
     "data": {
      "text/html": [
       "<div>\n",
       "<style scoped>\n",
       "    .dataframe tbody tr th:only-of-type {\n",
       "        vertical-align: middle;\n",
       "    }\n",
       "\n",
       "    .dataframe tbody tr th {\n",
       "        vertical-align: top;\n",
       "    }\n",
       "\n",
       "    .dataframe thead th {\n",
       "        text-align: right;\n",
       "    }\n",
       "</style>\n",
       "<table border=\"1\" class=\"dataframe\">\n",
       "  <thead>\n",
       "    <tr style=\"text-align: right;\">\n",
       "      <th></th>\n",
       "      <th>Predicted</th>\n",
       "      <th>Test</th>\n",
       "    </tr>\n",
       "  </thead>\n",
       "  <tbody>\n",
       "    <tr>\n",
       "      <th>0</th>\n",
       "      <td>0.776219</td>\n",
       "      <td>0.528562</td>\n",
       "    </tr>\n",
       "    <tr>\n",
       "      <th>1</th>\n",
       "      <td>0.935249</td>\n",
       "      <td>0.930958</td>\n",
       "    </tr>\n",
       "    <tr>\n",
       "      <th>2</th>\n",
       "      <td>0.890053</td>\n",
       "      <td>0.759249</td>\n",
       "    </tr>\n",
       "    <tr>\n",
       "      <th>3</th>\n",
       "      <td>0.941818</td>\n",
       "      <td>0.936510</td>\n",
       "    </tr>\n",
       "    <tr>\n",
       "      <th>4</th>\n",
       "      <td>0.882936</td>\n",
       "      <td>0.823453</td>\n",
       "    </tr>\n",
       "    <tr>\n",
       "      <th>...</th>\n",
       "      <td>...</td>\n",
       "      <td>...</td>\n",
       "    </tr>\n",
       "    <tr>\n",
       "      <th>22873</th>\n",
       "      <td>0.743234</td>\n",
       "      <td>0.975578</td>\n",
       "    </tr>\n",
       "    <tr>\n",
       "      <th>22874</th>\n",
       "      <td>0.979556</td>\n",
       "      <td>0.980529</td>\n",
       "    </tr>\n",
       "    <tr>\n",
       "      <th>22875</th>\n",
       "      <td>0.899360</td>\n",
       "      <td>0.960501</td>\n",
       "    </tr>\n",
       "    <tr>\n",
       "      <th>22876</th>\n",
       "      <td>0.983109</td>\n",
       "      <td>0.970524</td>\n",
       "    </tr>\n",
       "    <tr>\n",
       "      <th>22877</th>\n",
       "      <td>0.727004</td>\n",
       "      <td>0.706073</td>\n",
       "    </tr>\n",
       "  </tbody>\n",
       "</table>\n",
       "<p>22878 rows × 2 columns</p>\n",
       "</div>"
      ],
      "text/plain": [
       "       Predicted      Test\n",
       "0       0.776219  0.528562\n",
       "1       0.935249  0.930958\n",
       "2       0.890053  0.759249\n",
       "3       0.941818  0.936510\n",
       "4       0.882936  0.823453\n",
       "...          ...       ...\n",
       "22873   0.743234  0.975578\n",
       "22874   0.979556  0.980529\n",
       "22875   0.899360  0.960501\n",
       "22876   0.983109  0.970524\n",
       "22877   0.727004  0.706073\n",
       "\n",
       "[22878 rows x 2 columns]"
      ]
     },
     "execution_count": 46,
     "metadata": {},
     "output_type": "execute_result"
    }
   ],
   "source": [
    "c"
   ]
  },
  {
   "cell_type": "code",
   "execution_count": 47,
   "metadata": {},
   "outputs": [
    {
     "data": {
      "text/plain": [
       "(22878, 1)"
      ]
     },
     "execution_count": 47,
     "metadata": {},
     "output_type": "execute_result"
    }
   ],
   "source": [
    "predicted_value.shape"
   ]
  },
  {
   "cell_type": "code",
   "execution_count": 48,
   "metadata": {},
   "outputs": [
    {
     "data": {
      "text/plain": [
       "Text(0, 0.5, 'predicted_AUC_value')"
      ]
     },
     "execution_count": 48,
     "metadata": {},
     "output_type": "execute_result"
    },
    {
     "data": {
      "image/png": "[encoded data removed]",
      "text/plain": [
       "<Figure size 432x288 with 1 Axes>"
      ]
     },
     "metadata": {
      "needs_background": "light"
     },
     "output_type": "display_data"
    }
   ],
   "source": [
    "# scatter plot as test validation\n",
    "plt.scatter(test_y,predicted_value,c='blue')\n",
    "plt.xlabel('test_AUC_value')\n",
    "plt.ylabel('predicted_AUC_value')\n",
    "# plt.savefig(workdir + '/DeepAUCv2_epoch_10_ht_test_scatterplot_new.png')"
   ]
  },
  {
   "cell_type": "code",
   "execution_count": 49,
   "metadata": {},
   "outputs": [
    {
     "name": "stdout",
     "output_type": "stream",
     "text": [
      "Final rmse value is = 0.12679861064567194\n"
     ]
    }
   ],
   "source": [
    "# calculate RMSE\n",
    "\n",
    "rse = ((b[0]-a[0])**2).sum()\n",
    "mse = rse / len(b)\n",
    "print(\"Final rmse value is =\",np.sqrt(mse))"
   ]
  },
  {
   "cell_type": "code",
   "execution_count": 50,
   "metadata": {},
   "outputs": [
    {
     "data": {
      "text/plain": [
       "0.07608268393580953"
      ]
     },
     "execution_count": 50,
     "metadata": {},
     "output_type": "execute_result"
    }
   ],
   "source": [
    "mae = (np.abs(b[0]-a[0])).sum()\n",
    "mae / len(b)"
   ]
  },
  {
   "cell_type": "code",
   "execution_count": 51,
   "metadata": {},
   "outputs": [
    {
     "data": {
      "text/plain": [
       "0.016077887661672712"
      ]
     },
     "execution_count": 51,
     "metadata": {},
     "output_type": "execute_result"
    }
   ],
   "source": [
    "mse"
   ]
  },
  {
   "cell_type": "code",
   "execution_count": 52,
   "metadata": {},
   "outputs": [
    {
     "name": "stdout",
     "output_type": "stream",
     "text": [
      "0.5219426542836239\n"
     ]
    }
   ],
   "source": [
    "# R-squared value\n",
    "\n",
    "from sklearn.metrics import r2_score\n",
    "r2_value = r2_score(b, a) \n",
    "print(r2_value)"
   ]
  },
  {
   "cell_type": "code",
   "execution_count": 53,
   "metadata": {},
   "outputs": [],
   "source": [
    "full_test = pd.read_csv('/data/yingfei/cancer_data/test_data.csv')"
   ]
  },
  {
   "cell_type": "code",
   "execution_count": 54,
   "metadata": {},
   "outputs": [],
   "source": [
    "full_test = full_test[['ARXSPAN_ID', 'DRUG_NAME']]"
   ]
  },
  {
   "cell_type": "code",
   "execution_count": 55,
   "metadata": {},
   "outputs": [
    {
     "data": {
      "text/html": [
       "<div>\n",
       "<style scoped>\n",
       "    .dataframe tbody tr th:only-of-type {\n",
       "        vertical-align: middle;\n",
       "    }\n",
       "\n",
       "    .dataframe tbody tr th {\n",
       "        vertical-align: top;\n",
       "    }\n",
       "\n",
       "    .dataframe thead th {\n",
       "        text-align: right;\n",
       "    }\n",
       "</style>\n",
       "<table border=\"1\" class=\"dataframe\">\n",
       "  <thead>\n",
       "    <tr style=\"text-align: right;\">\n",
       "      <th></th>\n",
       "      <th>ARXSPAN_ID</th>\n",
       "      <th>DRUG_NAME</th>\n",
       "      <th>auc</th>\n",
       "      <th>pred_auc</th>\n",
       "    </tr>\n",
       "  </thead>\n",
       "  <tbody>\n",
       "    <tr>\n",
       "      <th>0</th>\n",
       "      <td>ACH-000802</td>\n",
       "      <td>JW-7-24-1</td>\n",
       "      <td>0.528562</td>\n",
       "      <td>0.776219</td>\n",
       "    </tr>\n",
       "    <tr>\n",
       "      <th>1</th>\n",
       "      <td>ACH-000802</td>\n",
       "      <td>KIN001-260</td>\n",
       "      <td>0.930958</td>\n",
       "      <td>0.935249</td>\n",
       "    </tr>\n",
       "    <tr>\n",
       "      <th>2</th>\n",
       "      <td>ACH-000802</td>\n",
       "      <td>NSC-87877</td>\n",
       "      <td>0.759249</td>\n",
       "      <td>0.890053</td>\n",
       "    </tr>\n",
       "    <tr>\n",
       "      <th>3</th>\n",
       "      <td>ACH-000802</td>\n",
       "      <td>PLX-4720</td>\n",
       "      <td>0.936510</td>\n",
       "      <td>0.941818</td>\n",
       "    </tr>\n",
       "    <tr>\n",
       "      <th>4</th>\n",
       "      <td>ACH-000802</td>\n",
       "      <td>ERK5-IN-1</td>\n",
       "      <td>0.823453</td>\n",
       "      <td>0.882936</td>\n",
       "    </tr>\n",
       "    <tr>\n",
       "      <th>...</th>\n",
       "      <td>...</td>\n",
       "      <td>...</td>\n",
       "      <td>...</td>\n",
       "      <td>...</td>\n",
       "    </tr>\n",
       "    <tr>\n",
       "      <th>22873</th>\n",
       "      <td>ACH-000438</td>\n",
       "      <td>KIN001-266</td>\n",
       "      <td>0.975578</td>\n",
       "      <td>0.743234</td>\n",
       "    </tr>\n",
       "    <tr>\n",
       "      <th>22874</th>\n",
       "      <td>ACH-000438</td>\n",
       "      <td>LUMINESPIB</td>\n",
       "      <td>0.980529</td>\n",
       "      <td>0.979556</td>\n",
       "    </tr>\n",
       "    <tr>\n",
       "      <th>22875</th>\n",
       "      <td>ACH-000438</td>\n",
       "      <td>NUTLIN-3A</td>\n",
       "      <td>0.960501</td>\n",
       "      <td>0.899360</td>\n",
       "    </tr>\n",
       "    <tr>\n",
       "      <th>22876</th>\n",
       "      <td>ACH-000438</td>\n",
       "      <td>SGC0946</td>\n",
       "      <td>0.970524</td>\n",
       "      <td>0.983109</td>\n",
       "    </tr>\n",
       "    <tr>\n",
       "      <th>22877</th>\n",
       "      <td>ACH-000438</td>\n",
       "      <td>SL 0101-1</td>\n",
       "      <td>0.706073</td>\n",
       "      <td>0.727004</td>\n",
       "    </tr>\n",
       "  </tbody>\n",
       "</table>\n",
       "<p>22878 rows × 4 columns</p>\n",
       "</div>"
      ],
      "text/plain": [
       "       ARXSPAN_ID   DRUG_NAME       auc  pred_auc\n",
       "0      ACH-000802   JW-7-24-1  0.528562  0.776219\n",
       "1      ACH-000802  KIN001-260  0.930958  0.935249\n",
       "2      ACH-000802   NSC-87877  0.759249  0.890053\n",
       "3      ACH-000802    PLX-4720  0.936510  0.941818\n",
       "4      ACH-000802   ERK5-IN-1  0.823453  0.882936\n",
       "...           ...         ...       ...       ...\n",
       "22873  ACH-000438  KIN001-266  0.975578  0.743234\n",
       "22874  ACH-000438  LUMINESPIB  0.980529  0.979556\n",
       "22875  ACH-000438   NUTLIN-3A  0.960501  0.899360\n",
       "22876  ACH-000438     SGC0946  0.970524  0.983109\n",
       "22877  ACH-000438   SL 0101-1  0.706073  0.727004\n",
       "\n",
       "[22878 rows x 4 columns]"
      ]
     },
     "execution_count": 55,
     "metadata": {},
     "output_type": "execute_result"
    }
   ],
   "source": [
    "eval_data = test_data[['ARXSPAN_ID', 'DRUG_NAME', 'auc']].copy()\n",
    "eval_data['pred_auc'] = predicted_value\n",
    "eval_data"
   ]
  },
  {
   "cell_type": "code",
   "execution_count": 56,
   "metadata": {},
   "outputs": [],
   "source": [
    "full_test['comb'] = full_test.ARXSPAN_ID + full_test.DRUG_NAME\n",
    "eval_data['comb'] = eval_data.ARXSPAN_ID + eval_data.DRUG_NAME\n",
    "eval_data = pd.merge(full_test, eval_data, on = ['ARXSPAN_ID', 'DRUG_NAME'], how = 'left')"
   ]
  },
  {
   "cell_type": "code",
   "execution_count": 57,
   "metadata": {},
   "outputs": [
    {
     "data": {
      "text/plain": [
       "str"
      ]
     },
     "execution_count": 57,
     "metadata": {},
     "output_type": "execute_result"
    }
   ],
   "source": [
    "type(full_test.comb[0])"
   ]
  },
  {
   "cell_type": "code",
   "execution_count": 58,
   "metadata": {},
   "outputs": [
    {
     "data": {
      "text/html": [
       "<div>\n",
       "<style scoped>\n",
       "    .dataframe tbody tr th:only-of-type {\n",
       "        vertical-align: middle;\n",
       "    }\n",
       "\n",
       "    .dataframe tbody tr th {\n",
       "        vertical-align: top;\n",
       "    }\n",
       "\n",
       "    .dataframe thead th {\n",
       "        text-align: right;\n",
       "    }\n",
       "</style>\n",
       "<table border=\"1\" class=\"dataframe\">\n",
       "  <thead>\n",
       "    <tr style=\"text-align: right;\">\n",
       "      <th></th>\n",
       "      <th>ARXSPAN_ID</th>\n",
       "      <th>true_auc_arr</th>\n",
       "      <th>pred_auc_arr</th>\n",
       "    </tr>\n",
       "  </thead>\n",
       "  <tbody>\n",
       "    <tr>\n",
       "      <th>0</th>\n",
       "      <td>ACH-000802</td>\n",
       "      <td>[]</td>\n",
       "      <td>[]</td>\n",
       "    </tr>\n",
       "    <tr>\n",
       "      <th>1</th>\n",
       "      <td>ACH-001496</td>\n",
       "      <td>[]</td>\n",
       "      <td>[]</td>\n",
       "    </tr>\n",
       "    <tr>\n",
       "      <th>2</th>\n",
       "      <td>ACH-000267</td>\n",
       "      <td>[]</td>\n",
       "      <td>[]</td>\n",
       "    </tr>\n",
       "    <tr>\n",
       "      <th>3</th>\n",
       "      <td>ACH-000508</td>\n",
       "      <td>[]</td>\n",
       "      <td>[]</td>\n",
       "    </tr>\n",
       "    <tr>\n",
       "      <th>4</th>\n",
       "      <td>ACH-001106</td>\n",
       "      <td>[]</td>\n",
       "      <td>[]</td>\n",
       "    </tr>\n",
       "    <tr>\n",
       "      <th>...</th>\n",
       "      <td>...</td>\n",
       "      <td>...</td>\n",
       "      <td>...</td>\n",
       "    </tr>\n",
       "    <tr>\n",
       "      <th>64</th>\n",
       "      <td>ACH-000953</td>\n",
       "      <td>[]</td>\n",
       "      <td>[]</td>\n",
       "    </tr>\n",
       "    <tr>\n",
       "      <th>65</th>\n",
       "      <td>ACH-000561</td>\n",
       "      <td>[]</td>\n",
       "      <td>[]</td>\n",
       "    </tr>\n",
       "    <tr>\n",
       "      <th>66</th>\n",
       "      <td>ACH-000819</td>\n",
       "      <td>[]</td>\n",
       "      <td>[]</td>\n",
       "    </tr>\n",
       "    <tr>\n",
       "      <th>67</th>\n",
       "      <td>ACH-000873</td>\n",
       "      <td>[]</td>\n",
       "      <td>[]</td>\n",
       "    </tr>\n",
       "    <tr>\n",
       "      <th>68</th>\n",
       "      <td>ACH-000438</td>\n",
       "      <td>[]</td>\n",
       "      <td>[]</td>\n",
       "    </tr>\n",
       "  </tbody>\n",
       "</table>\n",
       "<p>69 rows × 3 columns</p>\n",
       "</div>"
      ],
      "text/plain": [
       "    ARXSPAN_ID true_auc_arr pred_auc_arr\n",
       "0   ACH-000802           []           []\n",
       "1   ACH-001496           []           []\n",
       "2   ACH-000267           []           []\n",
       "3   ACH-000508           []           []\n",
       "4   ACH-001106           []           []\n",
       "..         ...          ...          ...\n",
       "64  ACH-000953           []           []\n",
       "65  ACH-000561           []           []\n",
       "66  ACH-000819           []           []\n",
       "67  ACH-000873           []           []\n",
       "68  ACH-000438           []           []\n",
       "\n",
       "[69 rows x 3 columns]"
      ]
     },
     "execution_count": 58,
     "metadata": {},
     "output_type": "execute_result"
    }
   ],
   "source": [
    "eval_data_arr = pd.DataFrame(eval_data.ARXSPAN_ID.unique(), columns = ['ARXSPAN_ID'])\n",
    "eval_data_arr['true_auc_arr'] = [[] for _ in range(len(eval_data_arr))]\n",
    "eval_data_arr['pred_auc_arr'] = [[] for _ in range(len(eval_data_arr))]\n",
    "eval_data_arr"
   ]
  },
  {
   "cell_type": "code",
   "execution_count": 59,
   "metadata": {},
   "outputs": [],
   "source": [
    "for i in range(len(eval_data)):\n",
    "    cl_id = eval_data.loc[i, 'ARXSPAN_ID']\n",
    "    auc = eval_data.loc[i, 'auc']\n",
    "    pred_auc =  eval_data.loc[i, 'pred_auc']\n",
    "    if np.isnan(auc):\n",
    "        #eval_data_arr.loc[eval_data_arr.ARXSPAN_ID == cl_id, 'true_auc_arr'].values[0].append(1)\n",
    "        #eval_data_arr.loc[eval_data_arr.ARXSPAN_ID == cl_id, 'pred_auc_arr'].values[0].append(1)\n",
    "        continue\n",
    "    eval_data_arr.loc[eval_data_arr.ARXSPAN_ID == cl_id, 'true_auc_arr'].values[0].append(auc)\n",
    "    eval_data_arr.loc[eval_data_arr.ARXSPAN_ID == cl_id, 'pred_auc_arr'].values[0].append(pred_auc)"
   ]
  },
  {
   "cell_type": "code",
   "execution_count": 60,
   "metadata": {},
   "outputs": [
    {
     "data": {
      "text/html": [
       "<div>\n",
       "<style scoped>\n",
       "    .dataframe tbody tr th:only-of-type {\n",
       "        vertical-align: middle;\n",
       "    }\n",
       "\n",
       "    .dataframe tbody tr th {\n",
       "        vertical-align: top;\n",
       "    }\n",
       "\n",
       "    .dataframe thead th {\n",
       "        text-align: right;\n",
       "    }\n",
       "</style>\n",
       "<table border=\"1\" class=\"dataframe\">\n",
       "  <thead>\n",
       "    <tr style=\"text-align: right;\">\n",
       "      <th></th>\n",
       "      <th>ARXSPAN_ID</th>\n",
       "      <th>true_auc_arr</th>\n",
       "      <th>pred_auc_arr</th>\n",
       "    </tr>\n",
       "  </thead>\n",
       "  <tbody>\n",
       "    <tr>\n",
       "      <th>0</th>\n",
       "      <td>ACH-000802</td>\n",
       "      <td>[0.528562, 0.930958, 0.759249, 0.93651, 0.8234...</td>\n",
       "      <td>[0.7762189, 0.93524885, 0.89005286, 0.9418184,...</td>\n",
       "    </tr>\n",
       "    <tr>\n",
       "      <th>1</th>\n",
       "      <td>ACH-001496</td>\n",
       "      <td>[0.8600040000000001, 0.935607, 0.919367, 0.861...</td>\n",
       "      <td>[0.721455, 0.91140664, 0.85157484, 0.9372215, ...</td>\n",
       "    </tr>\n",
       "    <tr>\n",
       "      <th>2</th>\n",
       "      <td>ACH-000267</td>\n",
       "      <td>[0.730128, 0.930868, 0.761296, 0.94428, 0.7239...</td>\n",
       "      <td>[0.7628348, 0.9592155, 0.90200263, 0.7027653, ...</td>\n",
       "    </tr>\n",
       "    <tr>\n",
       "      <th>3</th>\n",
       "      <td>ACH-000508</td>\n",
       "      <td>[0.958722, 0.966097, 0.832343, 0.818851, 0.953...</td>\n",
       "      <td>[0.7669825, 0.91619885, 0.86654806, 0.7948702,...</td>\n",
       "    </tr>\n",
       "    <tr>\n",
       "      <th>4</th>\n",
       "      <td>ACH-001106</td>\n",
       "      <td>[0.670247, 0.845083, 0.720917, 0.705755, 0.865...</td>\n",
       "      <td>[0.6862056, 0.9008161, 0.8519385, 0.66277045, ...</td>\n",
       "    </tr>\n",
       "    <tr>\n",
       "      <th>...</th>\n",
       "      <td>...</td>\n",
       "      <td>...</td>\n",
       "      <td>...</td>\n",
       "    </tr>\n",
       "    <tr>\n",
       "      <th>64</th>\n",
       "      <td>ACH-000953</td>\n",
       "      <td>[0.771624, 0.902238, 0.788892, 0.987629, 0.977...</td>\n",
       "      <td>[0.7513126, 0.87975883, 0.8032219, 0.7316645, ...</td>\n",
       "    </tr>\n",
       "    <tr>\n",
       "      <th>65</th>\n",
       "      <td>ACH-000561</td>\n",
       "      <td>[0.806557, 0.92585, 0.747498, 0.974266, 0.7882...</td>\n",
       "      <td>[0.7398468, 0.929042, 0.8975643, 0.9491248, 0....</td>\n",
       "    </tr>\n",
       "    <tr>\n",
       "      <th>66</th>\n",
       "      <td>ACH-000819</td>\n",
       "      <td>[0.8246040000000001, 0.93947, 0.778985, 0.9747...</td>\n",
       "      <td>[0.7589171, 0.9422953, 0.8850465, 0.945125, 0....</td>\n",
       "    </tr>\n",
       "    <tr>\n",
       "      <th>67</th>\n",
       "      <td>ACH-000873</td>\n",
       "      <td>[0.6613979999999999, 0.876398, 0.837356, 0.971...</td>\n",
       "      <td>[0.69982064, 0.8735905, 0.80489826, 0.95107853...</td>\n",
       "    </tr>\n",
       "    <tr>\n",
       "      <th>68</th>\n",
       "      <td>ACH-000438</td>\n",
       "      <td>[0.95799, 0.8848719999999999, 0.748696, 0.7972...</td>\n",
       "      <td>[0.6784454, 0.8887086, 0.8036526, 0.69288725, ...</td>\n",
       "    </tr>\n",
       "  </tbody>\n",
       "</table>\n",
       "<p>69 rows × 3 columns</p>\n",
       "</div>"
      ],
      "text/plain": [
       "    ARXSPAN_ID                                       true_auc_arr  \\\n",
       "0   ACH-000802  [0.528562, 0.930958, 0.759249, 0.93651, 0.8234...   \n",
       "1   ACH-001496  [0.8600040000000001, 0.935607, 0.919367, 0.861...   \n",
       "2   ACH-000267  [0.730128, 0.930868, 0.761296, 0.94428, 0.7239...   \n",
       "3   ACH-000508  [0.958722, 0.966097, 0.832343, 0.818851, 0.953...   \n",
       "4   ACH-001106  [0.670247, 0.845083, 0.720917, 0.705755, 0.865...   \n",
       "..         ...                                                ...   \n",
       "64  ACH-000953  [0.771624, 0.902238, 0.788892, 0.987629, 0.977...   \n",
       "65  ACH-000561  [0.806557, 0.92585, 0.747498, 0.974266, 0.7882...   \n",
       "66  ACH-000819  [0.8246040000000001, 0.93947, 0.778985, 0.9747...   \n",
       "67  ACH-000873  [0.6613979999999999, 0.876398, 0.837356, 0.971...   \n",
       "68  ACH-000438  [0.95799, 0.8848719999999999, 0.748696, 0.7972...   \n",
       "\n",
       "                                         pred_auc_arr  \n",
       "0   [0.7762189, 0.93524885, 0.89005286, 0.9418184,...  \n",
       "1   [0.721455, 0.91140664, 0.85157484, 0.9372215, ...  \n",
       "2   [0.7628348, 0.9592155, 0.90200263, 0.7027653, ...  \n",
       "3   [0.7669825, 0.91619885, 0.86654806, 0.7948702,...  \n",
       "4   [0.6862056, 0.9008161, 0.8519385, 0.66277045, ...  \n",
       "..                                                ...  \n",
       "64  [0.7513126, 0.87975883, 0.8032219, 0.7316645, ...  \n",
       "65  [0.7398468, 0.929042, 0.8975643, 0.9491248, 0....  \n",
       "66  [0.7589171, 0.9422953, 0.8850465, 0.945125, 0....  \n",
       "67  [0.69982064, 0.8735905, 0.80489826, 0.95107853...  \n",
       "68  [0.6784454, 0.8887086, 0.8036526, 0.69288725, ...  \n",
       "\n",
       "[69 rows x 3 columns]"
      ]
     },
     "execution_count": 60,
     "metadata": {},
     "output_type": "execute_result"
    }
   ],
   "source": [
    "eval_data_arr"
   ]
  },
  {
   "cell_type": "code",
   "execution_count": 61,
   "metadata": {},
   "outputs": [],
   "source": [
    "pred_values = eval_data_arr.pred_auc_arr.apply(lambda x: np.array(x)).to_numpy()\n",
    "true_values = eval_data_arr.true_auc_arr.apply(lambda x: np.array(x)).to_numpy()"
   ]
  },
  {
   "cell_type": "code",
   "execution_count": 62,
   "metadata": {},
   "outputs": [
    {
     "name": "stdout",
     "output_type": "stream",
     "text": [
      "0.9255710872371127\n",
      "0.7657867002046594\n"
     ]
    }
   ],
   "source": [
    "### NDCG\n",
    "from sklearn.metrics import ndcg_score\n",
    "#ndcg_all = ndcg_score([p for p in pred_values],[t for t in true_values])\n",
    "#ndcg_10 = ndcg_score([p for p in pred_values],[t for t in true_values], k = 10)\n",
    "ndcg_all_values = []\n",
    "ndcg_10_values = []\n",
    "for i in range(len(pred_values)):\n",
    "    pred_value = eval_data_arr['pred_auc_arr'].apply(lambda x:list(map(lambda y:1-y, x)))[i]\n",
    "    true_value = eval_data_arr['true_auc_arr'].apply(lambda x:list(map(lambda y:1-y, x)))[i]\n",
    "    ndcg_all_values.append(ndcg_score([pred_value],[true_value]))\n",
    "    ndcg_10_values.append(ndcg_score([pred_value],[true_value], k = 10))\n",
    "    \n",
    "ndcg_all = np.mean(ndcg_all_values)\n",
    "ndcg_10 = np.mean(ndcg_10_values)\n",
    "\n",
    "print(ndcg_all)\n",
    "print(ndcg_10)"
   ]
  },
  {
   "cell_type": "code",
   "execution_count": 63,
   "metadata": {},
   "outputs": [
    {
     "name": "stdout",
     "output_type": "stream",
     "text": [
      "[('Recall@1', 0.3768), ('Recall@2', 0.4058), ('Recall@5', 0.4203), ('Recall@10', 0.4522)]\n"
     ]
    }
   ],
   "source": [
    "### Recall\n",
    "results = []\n",
    "for top_k in [1, 2, 5, 10]:\n",
    "    dict_test_cell_line_idx_perf = {}\n",
    "    for cur_cell_line_idx in range(len(pred_values)):\n",
    "        # step 1\n",
    "        # per the ground truth\n",
    "        gt_aucs = true_values[cur_cell_line_idx]\n",
    "        # find the top k drugs's idx\n",
    "        topk_drug_idx_gt = np.argsort(gt_aucs)[:top_k]\n",
    "        # step 2\n",
    "        # per the predicted scores\n",
    "        pred_scores = pred_values[cur_cell_line_idx]\n",
    "        assert gt_aucs.shape == pred_scores.shape\n",
    "        # find the top k drugs'idx (note: here its by pred scores)\n",
    "        topk_drug_idx_pred = np.argsort(pred_scores)[:top_k]\n",
    "        # step 3\n",
    "        # recall@k\n",
    "        cur_recall_at_k = len(\n",
    "            set(topk_drug_idx_pred).intersection(set(topk_drug_idx_gt))\n",
    "        ) / len(set(topk_drug_idx_gt))\n",
    "        dict_test_cell_line_idx_perf[cur_cell_line_idx] = cur_recall_at_k\n",
    "\n",
    "    avg_recall_at_k = np.mean(list(dict_test_cell_line_idx_perf.values()))\n",
    "    results.append((f\"Recall@{top_k}\", round(avg_recall_at_k, 4)))\n",
    "print(results)"
   ]
  },
  {
   "cell_type": "code",
   "execution_count": 64,
   "metadata": {},
   "outputs": [
    {
     "name": "stdout",
     "output_type": "stream",
     "text": [
      "[('Auc@1', '0.2468 (GT: 0.1198)'), ('Auc@2', '0.3131 (GT: 0.157)'), ('Auc@5', '0.378 (GT: 0.222)'), ('Auc@10', '0.4392 (GT: 0.2893)')]\n"
     ]
    }
   ],
   "source": [
    "### AUC\n",
    "results = []\n",
    "for top_k in [1, 2, 5, 10]:\n",
    "    dict_test_cell_line_topk_auc_sum_gt = {}\n",
    "    dict_test_cell_line_topk_auc_sum_pred = {}\n",
    "    for cur_cell_line_idx in range(len(pred_values)):\n",
    "        # step 1\n",
    "        # per the predicted scores\n",
    "        pred_scores = pred_values[cur_cell_line_idx]\n",
    "        # find the top k drugs'idx (note: here its by pred scores)\n",
    "        topk_drug_idx_pred = np.argsort(pred_scores)[:top_k]\n",
    "        # step 2\n",
    "        # per the ground truth\n",
    "        gt_aucs = true_values[cur_cell_line_idx]\n",
    "        # find the top k predicted drugs' (per ground truth) aucs\n",
    "        topk_drug_idx_gt = np.argsort(gt_aucs)[:top_k]\n",
    "        dict_test_cell_line_topk_auc_sum_gt[cur_cell_line_idx] = np.mean(\n",
    "            gt_aucs[topk_drug_idx_gt]\n",
    "        )\n",
    "        dict_test_cell_line_topk_auc_sum_pred[cur_cell_line_idx] = np.mean(\n",
    "            gt_aucs[topk_drug_idx_pred]\n",
    "        )\n",
    "\n",
    "    avg_auc_topk_gt = np.mean(\n",
    "        list(dict_test_cell_line_topk_auc_sum_gt.values())\n",
    "    )\n",
    "    avg_auc_topk_pred = np.mean(\n",
    "        list(dict_test_cell_line_topk_auc_sum_pred.values())\n",
    "    )\n",
    "\n",
    "    results.append(\n",
    "        (\n",
    "            f\"Auc@{top_k}\",\n",
    "            f\"{round(avg_auc_topk_pred, 4)} (GT: {round(avg_auc_topk_gt, 4)})\",\n",
    "        )\n",
    "    )\n",
    "\n",
    "print(results)"
   ]
  },
  {
   "cell_type": "code",
   "execution_count": 65,
   "metadata": {},
   "outputs": [
    {
     "name": "stdout",
     "output_type": "stream",
     "text": [
      "0.7294949189925679 0.7278606688434116\n"
     ]
    }
   ],
   "source": [
    "from scipy.stats import pearsonr, spearmanr\n",
    "print(pearsonr(c.Predicted, c.Test)[0], spearmanr(c.Predicted, c.Test)[0])"
   ]
  },
  {
   "cell_type": "code",
   "execution_count": 66,
   "metadata": {},
   "outputs": [
    {
     "data": {
      "text/html": [
       "<div>\n",
       "<style scoped>\n",
       "    .dataframe tbody tr th:only-of-type {\n",
       "        vertical-align: middle;\n",
       "    }\n",
       "\n",
       "    .dataframe tbody tr th {\n",
       "        vertical-align: top;\n",
       "    }\n",
       "\n",
       "    .dataframe thead th {\n",
       "        text-align: right;\n",
       "    }\n",
       "</style>\n",
       "<table border=\"1\" class=\"dataframe\">\n",
       "  <thead>\n",
       "    <tr style=\"text-align: right;\">\n",
       "      <th></th>\n",
       "      <th>Predicted</th>\n",
       "      <th>Test</th>\n",
       "    </tr>\n",
       "  </thead>\n",
       "  <tbody>\n",
       "    <tr>\n",
       "      <th>0</th>\n",
       "      <td>0.776219</td>\n",
       "      <td>0.528562</td>\n",
       "    </tr>\n",
       "    <tr>\n",
       "      <th>1</th>\n",
       "      <td>0.935249</td>\n",
       "      <td>0.930958</td>\n",
       "    </tr>\n",
       "    <tr>\n",
       "      <th>2</th>\n",
       "      <td>0.890053</td>\n",
       "      <td>0.759249</td>\n",
       "    </tr>\n",
       "    <tr>\n",
       "      <th>3</th>\n",
       "      <td>0.941818</td>\n",
       "      <td>0.936510</td>\n",
       "    </tr>\n",
       "    <tr>\n",
       "      <th>4</th>\n",
       "      <td>0.882936</td>\n",
       "      <td>0.823453</td>\n",
       "    </tr>\n",
       "    <tr>\n",
       "      <th>...</th>\n",
       "      <td>...</td>\n",
       "      <td>...</td>\n",
       "    </tr>\n",
       "    <tr>\n",
       "      <th>22873</th>\n",
       "      <td>0.743234</td>\n",
       "      <td>0.975578</td>\n",
       "    </tr>\n",
       "    <tr>\n",
       "      <th>22874</th>\n",
       "      <td>0.979556</td>\n",
       "      <td>0.980529</td>\n",
       "    </tr>\n",
       "    <tr>\n",
       "      <th>22875</th>\n",
       "      <td>0.899360</td>\n",
       "      <td>0.960501</td>\n",
       "    </tr>\n",
       "    <tr>\n",
       "      <th>22876</th>\n",
       "      <td>0.983109</td>\n",
       "      <td>0.970524</td>\n",
       "    </tr>\n",
       "    <tr>\n",
       "      <th>22877</th>\n",
       "      <td>0.727004</td>\n",
       "      <td>0.706073</td>\n",
       "    </tr>\n",
       "  </tbody>\n",
       "</table>\n",
       "<p>22878 rows × 2 columns</p>\n",
       "</div>"
      ],
      "text/plain": [
       "       Predicted      Test\n",
       "0       0.776219  0.528562\n",
       "1       0.935249  0.930958\n",
       "2       0.890053  0.759249\n",
       "3       0.941818  0.936510\n",
       "4       0.882936  0.823453\n",
       "...          ...       ...\n",
       "22873   0.743234  0.975578\n",
       "22874   0.979556  0.980529\n",
       "22875   0.899360  0.960501\n",
       "22876   0.983109  0.970524\n",
       "22877   0.727004  0.706073\n",
       "\n",
       "[22878 rows x 2 columns]"
      ]
     },
     "execution_count": 66,
     "metadata": {},
     "output_type": "execute_result"
    }
   ],
   "source": [
    "c"
   ]
  },
  {
   "cell_type": "code",
   "execution_count": null,
   "metadata": {},
   "outputs": [],
   "source": [
    "[('Auc@1', '0.36090001463890076 (GT: 0.11209999769926071)'), ('Auc@2', '0.40849998593330383 (GT: 0.24279999732971191)'), ('Auc@5', '0.4742000102996826 (GT: 0.3368000090122223)'), ('Auc@10', '0.5327000021934509 (GT: 0.3993000090122223)')]"
   ]
  },
  {
   "cell_type": "code",
   "execution_count": null,
   "metadata": {},
   "outputs": [],
   "source": [
    "import tensorflow as tf\n",
    "tf.config.list_physical_devices('GPU')"
   ]
  }
 ],
 "metadata": {
  "kernelspec": {
   "display_name": "Python 3",
   "language": "python",
   "name": "python3"
  },
  "language_info": {
   "codemirror_mode": {
    "name": "ipython",
    "version": 3
   },
   "file_extension": ".py",
   "mimetype": "text/x-python",
   "name": "python",
   "nbconvert_exporter": "python",
   "pygments_lexer": "ipython3",
   "version": "3.9.12"
  }
 },
 "nbformat": 4,
 "nbformat_minor": 4
}
