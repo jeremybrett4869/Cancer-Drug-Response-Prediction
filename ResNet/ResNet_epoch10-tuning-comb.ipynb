{
 "cells": [
  {
   "cell_type": "code",
   "execution_count": 1,
   "metadata": {},
   "outputs": [],
   "source": [
    "import os\n",
    "import pandas as pd\n",
    "import numpy as np\n",
    "import tensorflow as tf\n",
    "import random\n",
    "from pandas import DataFrame\n",
    "from datetime import datetime\n",
    "import keras\n",
    "from keras import Sequential,Input,Model\n",
    "from keras.layers import Dense, Dropout, Flatten, Reshape, Activation\n",
    "from keras.layers import Conv1D, MaxPooling1D ,AveragePooling1D\n",
    "from keras.layers import Conv2D, MaxPooling2D, AveragePooling2D\n",
    "from tensorflow.keras.layers import BatchNormalization\n",
    "from keras.layers import LeakyReLU\n",
    "from keras import backend as K\n",
    "#from tensorflow.keras.callbacks import ModelCheckpoint, CSVLogger\n",
    "#from tensorflow.keras.optimizers import Adam"
   ]
  },
  {
   "cell_type": "code",
   "execution_count": 2,
   "metadata": {},
   "outputs": [
    {
     "name": "stdout",
     "output_type": "stream",
     "text": [
      "[name: \"/device:CPU:0\"\n",
      "device_type: \"CPU\"\n",
      "memory_limit: 268435456\n",
      "locality {\n",
      "}\n",
      "incarnation: 4070228022074215087\n",
      "xla_global_id: -1\n",
      "]\n"
     ]
    }
   ],
   "source": [
    "from tensorflow.python.client import device_lib\n",
    "print(device_lib.list_local_devices())"
   ]
  },
  {
   "cell_type": "code",
   "execution_count": 3,
   "metadata": {},
   "outputs": [
    {
     "name": "stdout",
     "output_type": "stream",
     "text": [
      "['/device:CPU:0']\n"
     ]
    }
   ],
   "source": [
    "def get_available_devices():\n",
    "    local_device_protos = device_lib.list_local_devices()\n",
    "    return [x.name for x in local_device_protos]\n",
    "print(get_available_devices()) "
   ]
  },
  {
   "cell_type": "code",
   "execution_count": 4,
   "metadata": {},
   "outputs": [],
   "source": [
    "import pandas as pd\n",
    "train_data = pd.read_csv('/data/yingfei/cancer_data/train_data_comb.csv')\n",
    "test_data = pd.read_csv('/data/yingfei/cancer_data/test_data_comb.csv')"
   ]
  },
  {
   "cell_type": "code",
   "execution_count": 5,
   "metadata": {},
   "outputs": [
    {
     "name": "stdout",
     "output_type": "stream",
     "text": [
      "Train Shape: (203918, 2976)\n",
      "Test Shape: (22878, 2976)\n"
     ]
    }
   ],
   "source": [
    "print(f'Train Shape: {train_data.shape}')\n",
    "print(f'Test Shape: {test_data.shape}')"
   ]
  },
  {
   "cell_type": "code",
   "execution_count": 6,
   "metadata": {},
   "outputs": [],
   "source": [
    "train_data = train_data.loc[train_data['auc'] >= 0]"
   ]
  },
  {
   "cell_type": "code",
   "execution_count": 7,
   "metadata": {},
   "outputs": [
    {
     "data": {
      "text/html": [
       "<div>\n",
       "<style scoped>\n",
       "    .dataframe tbody tr th:only-of-type {\n",
       "        vertical-align: middle;\n",
       "    }\n",
       "\n",
       "    .dataframe tbody tr th {\n",
       "        vertical-align: top;\n",
       "    }\n",
       "\n",
       "    .dataframe thead th {\n",
       "        text-align: right;\n",
       "    }\n",
       "</style>\n",
       "<table border=\"1\" class=\"dataframe\">\n",
       "  <thead>\n",
       "    <tr style=\"text-align: right;\">\n",
       "      <th></th>\n",
       "      <th>ARXSPAN_ID</th>\n",
       "      <th>DRUG_NAME</th>\n",
       "      <th>ABL1_cnv</th>\n",
       "      <th>ACVR1B_cnv</th>\n",
       "      <th>AKT1_cnv</th>\n",
       "      <th>AKT2_cnv</th>\n",
       "      <th>AKT3_cnv</th>\n",
       "      <th>ALK_cnv</th>\n",
       "      <th>ALOX12B_cnv</th>\n",
       "      <th>FAM123B_cnv</th>\n",
       "      <th>...</th>\n",
       "      <th>PubchemFP872</th>\n",
       "      <th>PubchemFP873</th>\n",
       "      <th>PubchemFP874</th>\n",
       "      <th>PubchemFP875</th>\n",
       "      <th>PubchemFP876</th>\n",
       "      <th>PubchemFP877</th>\n",
       "      <th>PubchemFP878</th>\n",
       "      <th>PubchemFP879</th>\n",
       "      <th>PubchemFP880</th>\n",
       "      <th>auc</th>\n",
       "    </tr>\n",
       "  </thead>\n",
       "  <tbody>\n",
       "    <tr>\n",
       "      <th>0</th>\n",
       "      <td>ACH-000001</td>\n",
       "      <td>JW-7-24-1</td>\n",
       "      <td>1</td>\n",
       "      <td>1</td>\n",
       "      <td>1</td>\n",
       "      <td>1</td>\n",
       "      <td>1</td>\n",
       "      <td>0</td>\n",
       "      <td>-1</td>\n",
       "      <td>0</td>\n",
       "      <td>...</td>\n",
       "      <td>0</td>\n",
       "      <td>0</td>\n",
       "      <td>0</td>\n",
       "      <td>0</td>\n",
       "      <td>0</td>\n",
       "      <td>0</td>\n",
       "      <td>0</td>\n",
       "      <td>0</td>\n",
       "      <td>0</td>\n",
       "      <td>0.778432</td>\n",
       "    </tr>\n",
       "    <tr>\n",
       "      <th>1</th>\n",
       "      <td>ACH-000001</td>\n",
       "      <td>KIN001-260</td>\n",
       "      <td>1</td>\n",
       "      <td>1</td>\n",
       "      <td>1</td>\n",
       "      <td>1</td>\n",
       "      <td>1</td>\n",
       "      <td>0</td>\n",
       "      <td>-1</td>\n",
       "      <td>0</td>\n",
       "      <td>...</td>\n",
       "      <td>0</td>\n",
       "      <td>0</td>\n",
       "      <td>0</td>\n",
       "      <td>0</td>\n",
       "      <td>0</td>\n",
       "      <td>0</td>\n",
       "      <td>0</td>\n",
       "      <td>0</td>\n",
       "      <td>0</td>\n",
       "      <td>0.951321</td>\n",
       "    </tr>\n",
       "    <tr>\n",
       "      <th>2</th>\n",
       "      <td>ACH-000001</td>\n",
       "      <td>NSC-87877</td>\n",
       "      <td>1</td>\n",
       "      <td>1</td>\n",
       "      <td>1</td>\n",
       "      <td>1</td>\n",
       "      <td>1</td>\n",
       "      <td>0</td>\n",
       "      <td>-1</td>\n",
       "      <td>0</td>\n",
       "      <td>...</td>\n",
       "      <td>0</td>\n",
       "      <td>0</td>\n",
       "      <td>0</td>\n",
       "      <td>0</td>\n",
       "      <td>0</td>\n",
       "      <td>0</td>\n",
       "      <td>0</td>\n",
       "      <td>0</td>\n",
       "      <td>0</td>\n",
       "      <td>0.840287</td>\n",
       "    </tr>\n",
       "    <tr>\n",
       "      <th>3</th>\n",
       "      <td>ACH-000001</td>\n",
       "      <td>PLX-4720</td>\n",
       "      <td>1</td>\n",
       "      <td>1</td>\n",
       "      <td>1</td>\n",
       "      <td>1</td>\n",
       "      <td>1</td>\n",
       "      <td>0</td>\n",
       "      <td>-1</td>\n",
       "      <td>0</td>\n",
       "      <td>...</td>\n",
       "      <td>0</td>\n",
       "      <td>0</td>\n",
       "      <td>0</td>\n",
       "      <td>0</td>\n",
       "      <td>0</td>\n",
       "      <td>0</td>\n",
       "      <td>0</td>\n",
       "      <td>0</td>\n",
       "      <td>0</td>\n",
       "      <td>0.936410</td>\n",
       "    </tr>\n",
       "    <tr>\n",
       "      <th>4</th>\n",
       "      <td>ACH-000001</td>\n",
       "      <td>ERK5-IN-1</td>\n",
       "      <td>1</td>\n",
       "      <td>1</td>\n",
       "      <td>1</td>\n",
       "      <td>1</td>\n",
       "      <td>1</td>\n",
       "      <td>0</td>\n",
       "      <td>-1</td>\n",
       "      <td>0</td>\n",
       "      <td>...</td>\n",
       "      <td>0</td>\n",
       "      <td>0</td>\n",
       "      <td>0</td>\n",
       "      <td>0</td>\n",
       "      <td>0</td>\n",
       "      <td>0</td>\n",
       "      <td>0</td>\n",
       "      <td>0</td>\n",
       "      <td>0</td>\n",
       "      <td>0.891908</td>\n",
       "    </tr>\n",
       "    <tr>\n",
       "      <th>...</th>\n",
       "      <td>...</td>\n",
       "      <td>...</td>\n",
       "      <td>...</td>\n",
       "      <td>...</td>\n",
       "      <td>...</td>\n",
       "      <td>...</td>\n",
       "      <td>...</td>\n",
       "      <td>...</td>\n",
       "      <td>...</td>\n",
       "      <td>...</td>\n",
       "      <td>...</td>\n",
       "      <td>...</td>\n",
       "      <td>...</td>\n",
       "      <td>...</td>\n",
       "      <td>...</td>\n",
       "      <td>...</td>\n",
       "      <td>...</td>\n",
       "      <td>...</td>\n",
       "      <td>...</td>\n",
       "      <td>...</td>\n",
       "      <td>...</td>\n",
       "    </tr>\n",
       "    <tr>\n",
       "      <th>203913</th>\n",
       "      <td>ACH-001716</td>\n",
       "      <td>KIN001-236</td>\n",
       "      <td>0</td>\n",
       "      <td>0</td>\n",
       "      <td>0</td>\n",
       "      <td>0</td>\n",
       "      <td>0</td>\n",
       "      <td>1</td>\n",
       "      <td>0</td>\n",
       "      <td>0</td>\n",
       "      <td>...</td>\n",
       "      <td>0</td>\n",
       "      <td>0</td>\n",
       "      <td>0</td>\n",
       "      <td>0</td>\n",
       "      <td>0</td>\n",
       "      <td>0</td>\n",
       "      <td>0</td>\n",
       "      <td>0</td>\n",
       "      <td>0</td>\n",
       "      <td>0.956865</td>\n",
       "    </tr>\n",
       "    <tr>\n",
       "      <th>203914</th>\n",
       "      <td>ACH-001716</td>\n",
       "      <td>LUMINESPIB</td>\n",
       "      <td>0</td>\n",
       "      <td>0</td>\n",
       "      <td>0</td>\n",
       "      <td>0</td>\n",
       "      <td>0</td>\n",
       "      <td>1</td>\n",
       "      <td>0</td>\n",
       "      <td>0</td>\n",
       "      <td>...</td>\n",
       "      <td>0</td>\n",
       "      <td>0</td>\n",
       "      <td>0</td>\n",
       "      <td>0</td>\n",
       "      <td>0</td>\n",
       "      <td>0</td>\n",
       "      <td>0</td>\n",
       "      <td>0</td>\n",
       "      <td>0</td>\n",
       "      <td>0.975168</td>\n",
       "    </tr>\n",
       "    <tr>\n",
       "      <th>203915</th>\n",
       "      <td>ACH-001716</td>\n",
       "      <td>NUTLIN-3A</td>\n",
       "      <td>0</td>\n",
       "      <td>0</td>\n",
       "      <td>0</td>\n",
       "      <td>0</td>\n",
       "      <td>0</td>\n",
       "      <td>1</td>\n",
       "      <td>0</td>\n",
       "      <td>0</td>\n",
       "      <td>...</td>\n",
       "      <td>0</td>\n",
       "      <td>0</td>\n",
       "      <td>0</td>\n",
       "      <td>0</td>\n",
       "      <td>0</td>\n",
       "      <td>0</td>\n",
       "      <td>0</td>\n",
       "      <td>0</td>\n",
       "      <td>0</td>\n",
       "      <td>0.871995</td>\n",
       "    </tr>\n",
       "    <tr>\n",
       "      <th>203916</th>\n",
       "      <td>ACH-001716</td>\n",
       "      <td>SGC0946</td>\n",
       "      <td>0</td>\n",
       "      <td>0</td>\n",
       "      <td>0</td>\n",
       "      <td>0</td>\n",
       "      <td>0</td>\n",
       "      <td>1</td>\n",
       "      <td>0</td>\n",
       "      <td>0</td>\n",
       "      <td>...</td>\n",
       "      <td>0</td>\n",
       "      <td>0</td>\n",
       "      <td>0</td>\n",
       "      <td>0</td>\n",
       "      <td>0</td>\n",
       "      <td>0</td>\n",
       "      <td>0</td>\n",
       "      <td>0</td>\n",
       "      <td>0</td>\n",
       "      <td>0.975417</td>\n",
       "    </tr>\n",
       "    <tr>\n",
       "      <th>203917</th>\n",
       "      <td>ACH-001716</td>\n",
       "      <td>SL 0101-1</td>\n",
       "      <td>0</td>\n",
       "      <td>0</td>\n",
       "      <td>0</td>\n",
       "      <td>0</td>\n",
       "      <td>0</td>\n",
       "      <td>1</td>\n",
       "      <td>0</td>\n",
       "      <td>0</td>\n",
       "      <td>...</td>\n",
       "      <td>0</td>\n",
       "      <td>0</td>\n",
       "      <td>0</td>\n",
       "      <td>0</td>\n",
       "      <td>0</td>\n",
       "      <td>0</td>\n",
       "      <td>0</td>\n",
       "      <td>0</td>\n",
       "      <td>0</td>\n",
       "      <td>0.942321</td>\n",
       "    </tr>\n",
       "  </tbody>\n",
       "</table>\n",
       "<p>203918 rows × 2976 columns</p>\n",
       "</div>"
      ],
      "text/plain": [
       "        ARXSPAN_ID   DRUG_NAME  ABL1_cnv  ACVR1B_cnv  AKT1_cnv  AKT2_cnv  \\\n",
       "0       ACH-000001   JW-7-24-1         1           1         1         1   \n",
       "1       ACH-000001  KIN001-260         1           1         1         1   \n",
       "2       ACH-000001   NSC-87877         1           1         1         1   \n",
       "3       ACH-000001    PLX-4720         1           1         1         1   \n",
       "4       ACH-000001   ERK5-IN-1         1           1         1         1   \n",
       "...            ...         ...       ...         ...       ...       ...   \n",
       "203913  ACH-001716  KIN001-236         0           0         0         0   \n",
       "203914  ACH-001716  LUMINESPIB         0           0         0         0   \n",
       "203915  ACH-001716   NUTLIN-3A         0           0         0         0   \n",
       "203916  ACH-001716     SGC0946         0           0         0         0   \n",
       "203917  ACH-001716   SL 0101-1         0           0         0         0   \n",
       "\n",
       "        AKT3_cnv  ALK_cnv  ALOX12B_cnv  FAM123B_cnv  ...  PubchemFP872  \\\n",
       "0              1        0           -1            0  ...             0   \n",
       "1              1        0           -1            0  ...             0   \n",
       "2              1        0           -1            0  ...             0   \n",
       "3              1        0           -1            0  ...             0   \n",
       "4              1        0           -1            0  ...             0   \n",
       "...          ...      ...          ...          ...  ...           ...   \n",
       "203913         0        1            0            0  ...             0   \n",
       "203914         0        1            0            0  ...             0   \n",
       "203915         0        1            0            0  ...             0   \n",
       "203916         0        1            0            0  ...             0   \n",
       "203917         0        1            0            0  ...             0   \n",
       "\n",
       "        PubchemFP873  PubchemFP874  PubchemFP875  PubchemFP876  PubchemFP877  \\\n",
       "0                  0             0             0             0             0   \n",
       "1                  0             0             0             0             0   \n",
       "2                  0             0             0             0             0   \n",
       "3                  0             0             0             0             0   \n",
       "4                  0             0             0             0             0   \n",
       "...              ...           ...           ...           ...           ...   \n",
       "203913             0             0             0             0             0   \n",
       "203914             0             0             0             0             0   \n",
       "203915             0             0             0             0             0   \n",
       "203916             0             0             0             0             0   \n",
       "203917             0             0             0             0             0   \n",
       "\n",
       "        PubchemFP878  PubchemFP879  PubchemFP880       auc  \n",
       "0                  0             0             0  0.778432  \n",
       "1                  0             0             0  0.951321  \n",
       "2                  0             0             0  0.840287  \n",
       "3                  0             0             0  0.936410  \n",
       "4                  0             0             0  0.891908  \n",
       "...              ...           ...           ...       ...  \n",
       "203913             0             0             0  0.956865  \n",
       "203914             0             0             0  0.975168  \n",
       "203915             0             0             0  0.871995  \n",
       "203916             0             0             0  0.975417  \n",
       "203917             0             0             0  0.942321  \n",
       "\n",
       "[203918 rows x 2976 columns]"
      ]
     },
     "execution_count": 7,
     "metadata": {},
     "output_type": "execute_result"
    }
   ],
   "source": [
    "train_data = train_data.reset_index(drop = True)\n",
    "train_data"
   ]
  },
  {
   "cell_type": "code",
   "execution_count": 8,
   "metadata": {},
   "outputs": [],
   "source": [
    "test_data = test_data.loc[test_data['auc'] >= 0]"
   ]
  },
  {
   "cell_type": "code",
   "execution_count": 9,
   "metadata": {},
   "outputs": [
    {
     "data": {
      "text/html": [
       "<div>\n",
       "<style scoped>\n",
       "    .dataframe tbody tr th:only-of-type {\n",
       "        vertical-align: middle;\n",
       "    }\n",
       "\n",
       "    .dataframe tbody tr th {\n",
       "        vertical-align: top;\n",
       "    }\n",
       "\n",
       "    .dataframe thead th {\n",
       "        text-align: right;\n",
       "    }\n",
       "</style>\n",
       "<table border=\"1\" class=\"dataframe\">\n",
       "  <thead>\n",
       "    <tr style=\"text-align: right;\">\n",
       "      <th></th>\n",
       "      <th>ARXSPAN_ID</th>\n",
       "      <th>DRUG_NAME</th>\n",
       "      <th>ABL1_cnv</th>\n",
       "      <th>ACVR1B_cnv</th>\n",
       "      <th>AKT1_cnv</th>\n",
       "      <th>AKT2_cnv</th>\n",
       "      <th>AKT3_cnv</th>\n",
       "      <th>ALK_cnv</th>\n",
       "      <th>ALOX12B_cnv</th>\n",
       "      <th>FAM123B_cnv</th>\n",
       "      <th>...</th>\n",
       "      <th>PubchemFP872</th>\n",
       "      <th>PubchemFP873</th>\n",
       "      <th>PubchemFP874</th>\n",
       "      <th>PubchemFP875</th>\n",
       "      <th>PubchemFP876</th>\n",
       "      <th>PubchemFP877</th>\n",
       "      <th>PubchemFP878</th>\n",
       "      <th>PubchemFP879</th>\n",
       "      <th>PubchemFP880</th>\n",
       "      <th>auc</th>\n",
       "    </tr>\n",
       "  </thead>\n",
       "  <tbody>\n",
       "    <tr>\n",
       "      <th>0</th>\n",
       "      <td>ACH-000802</td>\n",
       "      <td>JW-7-24-1</td>\n",
       "      <td>1</td>\n",
       "      <td>0</td>\n",
       "      <td>1</td>\n",
       "      <td>-1</td>\n",
       "      <td>1</td>\n",
       "      <td>1</td>\n",
       "      <td>-1</td>\n",
       "      <td>0</td>\n",
       "      <td>...</td>\n",
       "      <td>0</td>\n",
       "      <td>0</td>\n",
       "      <td>0</td>\n",
       "      <td>0</td>\n",
       "      <td>0</td>\n",
       "      <td>0</td>\n",
       "      <td>0</td>\n",
       "      <td>0</td>\n",
       "      <td>0</td>\n",
       "      <td>0.528562</td>\n",
       "    </tr>\n",
       "    <tr>\n",
       "      <th>1</th>\n",
       "      <td>ACH-000802</td>\n",
       "      <td>KIN001-260</td>\n",
       "      <td>1</td>\n",
       "      <td>0</td>\n",
       "      <td>1</td>\n",
       "      <td>-1</td>\n",
       "      <td>1</td>\n",
       "      <td>1</td>\n",
       "      <td>-1</td>\n",
       "      <td>0</td>\n",
       "      <td>...</td>\n",
       "      <td>0</td>\n",
       "      <td>0</td>\n",
       "      <td>0</td>\n",
       "      <td>0</td>\n",
       "      <td>0</td>\n",
       "      <td>0</td>\n",
       "      <td>0</td>\n",
       "      <td>0</td>\n",
       "      <td>0</td>\n",
       "      <td>0.930958</td>\n",
       "    </tr>\n",
       "    <tr>\n",
       "      <th>2</th>\n",
       "      <td>ACH-000802</td>\n",
       "      <td>NSC-87877</td>\n",
       "      <td>1</td>\n",
       "      <td>0</td>\n",
       "      <td>1</td>\n",
       "      <td>-1</td>\n",
       "      <td>1</td>\n",
       "      <td>1</td>\n",
       "      <td>-1</td>\n",
       "      <td>0</td>\n",
       "      <td>...</td>\n",
       "      <td>0</td>\n",
       "      <td>0</td>\n",
       "      <td>0</td>\n",
       "      <td>0</td>\n",
       "      <td>0</td>\n",
       "      <td>0</td>\n",
       "      <td>0</td>\n",
       "      <td>0</td>\n",
       "      <td>0</td>\n",
       "      <td>0.759249</td>\n",
       "    </tr>\n",
       "    <tr>\n",
       "      <th>3</th>\n",
       "      <td>ACH-000802</td>\n",
       "      <td>PLX-4720</td>\n",
       "      <td>1</td>\n",
       "      <td>0</td>\n",
       "      <td>1</td>\n",
       "      <td>-1</td>\n",
       "      <td>1</td>\n",
       "      <td>1</td>\n",
       "      <td>-1</td>\n",
       "      <td>0</td>\n",
       "      <td>...</td>\n",
       "      <td>0</td>\n",
       "      <td>0</td>\n",
       "      <td>0</td>\n",
       "      <td>0</td>\n",
       "      <td>0</td>\n",
       "      <td>0</td>\n",
       "      <td>0</td>\n",
       "      <td>0</td>\n",
       "      <td>0</td>\n",
       "      <td>0.936510</td>\n",
       "    </tr>\n",
       "    <tr>\n",
       "      <th>4</th>\n",
       "      <td>ACH-000802</td>\n",
       "      <td>ERK5-IN-1</td>\n",
       "      <td>1</td>\n",
       "      <td>0</td>\n",
       "      <td>1</td>\n",
       "      <td>-1</td>\n",
       "      <td>1</td>\n",
       "      <td>1</td>\n",
       "      <td>-1</td>\n",
       "      <td>0</td>\n",
       "      <td>...</td>\n",
       "      <td>0</td>\n",
       "      <td>0</td>\n",
       "      <td>0</td>\n",
       "      <td>0</td>\n",
       "      <td>0</td>\n",
       "      <td>0</td>\n",
       "      <td>0</td>\n",
       "      <td>0</td>\n",
       "      <td>0</td>\n",
       "      <td>0.823453</td>\n",
       "    </tr>\n",
       "    <tr>\n",
       "      <th>...</th>\n",
       "      <td>...</td>\n",
       "      <td>...</td>\n",
       "      <td>...</td>\n",
       "      <td>...</td>\n",
       "      <td>...</td>\n",
       "      <td>...</td>\n",
       "      <td>...</td>\n",
       "      <td>...</td>\n",
       "      <td>...</td>\n",
       "      <td>...</td>\n",
       "      <td>...</td>\n",
       "      <td>...</td>\n",
       "      <td>...</td>\n",
       "      <td>...</td>\n",
       "      <td>...</td>\n",
       "      <td>...</td>\n",
       "      <td>...</td>\n",
       "      <td>...</td>\n",
       "      <td>...</td>\n",
       "      <td>...</td>\n",
       "      <td>...</td>\n",
       "    </tr>\n",
       "    <tr>\n",
       "      <th>22873</th>\n",
       "      <td>ACH-000438</td>\n",
       "      <td>KIN001-266</td>\n",
       "      <td>0</td>\n",
       "      <td>0</td>\n",
       "      <td>0</td>\n",
       "      <td>1</td>\n",
       "      <td>0</td>\n",
       "      <td>0</td>\n",
       "      <td>0</td>\n",
       "      <td>0</td>\n",
       "      <td>...</td>\n",
       "      <td>0</td>\n",
       "      <td>0</td>\n",
       "      <td>0</td>\n",
       "      <td>0</td>\n",
       "      <td>0</td>\n",
       "      <td>0</td>\n",
       "      <td>0</td>\n",
       "      <td>0</td>\n",
       "      <td>0</td>\n",
       "      <td>0.975578</td>\n",
       "    </tr>\n",
       "    <tr>\n",
       "      <th>22874</th>\n",
       "      <td>ACH-000438</td>\n",
       "      <td>LUMINESPIB</td>\n",
       "      <td>0</td>\n",
       "      <td>0</td>\n",
       "      <td>0</td>\n",
       "      <td>1</td>\n",
       "      <td>0</td>\n",
       "      <td>0</td>\n",
       "      <td>0</td>\n",
       "      <td>0</td>\n",
       "      <td>...</td>\n",
       "      <td>0</td>\n",
       "      <td>0</td>\n",
       "      <td>0</td>\n",
       "      <td>0</td>\n",
       "      <td>0</td>\n",
       "      <td>0</td>\n",
       "      <td>0</td>\n",
       "      <td>0</td>\n",
       "      <td>0</td>\n",
       "      <td>0.980529</td>\n",
       "    </tr>\n",
       "    <tr>\n",
       "      <th>22875</th>\n",
       "      <td>ACH-000438</td>\n",
       "      <td>NUTLIN-3A</td>\n",
       "      <td>0</td>\n",
       "      <td>0</td>\n",
       "      <td>0</td>\n",
       "      <td>1</td>\n",
       "      <td>0</td>\n",
       "      <td>0</td>\n",
       "      <td>0</td>\n",
       "      <td>0</td>\n",
       "      <td>...</td>\n",
       "      <td>0</td>\n",
       "      <td>0</td>\n",
       "      <td>0</td>\n",
       "      <td>0</td>\n",
       "      <td>0</td>\n",
       "      <td>0</td>\n",
       "      <td>0</td>\n",
       "      <td>0</td>\n",
       "      <td>0</td>\n",
       "      <td>0.960501</td>\n",
       "    </tr>\n",
       "    <tr>\n",
       "      <th>22876</th>\n",
       "      <td>ACH-000438</td>\n",
       "      <td>SGC0946</td>\n",
       "      <td>0</td>\n",
       "      <td>0</td>\n",
       "      <td>0</td>\n",
       "      <td>1</td>\n",
       "      <td>0</td>\n",
       "      <td>0</td>\n",
       "      <td>0</td>\n",
       "      <td>0</td>\n",
       "      <td>...</td>\n",
       "      <td>0</td>\n",
       "      <td>0</td>\n",
       "      <td>0</td>\n",
       "      <td>0</td>\n",
       "      <td>0</td>\n",
       "      <td>0</td>\n",
       "      <td>0</td>\n",
       "      <td>0</td>\n",
       "      <td>0</td>\n",
       "      <td>0.970524</td>\n",
       "    </tr>\n",
       "    <tr>\n",
       "      <th>22877</th>\n",
       "      <td>ACH-000438</td>\n",
       "      <td>SL 0101-1</td>\n",
       "      <td>0</td>\n",
       "      <td>0</td>\n",
       "      <td>0</td>\n",
       "      <td>1</td>\n",
       "      <td>0</td>\n",
       "      <td>0</td>\n",
       "      <td>0</td>\n",
       "      <td>0</td>\n",
       "      <td>...</td>\n",
       "      <td>0</td>\n",
       "      <td>0</td>\n",
       "      <td>0</td>\n",
       "      <td>0</td>\n",
       "      <td>0</td>\n",
       "      <td>0</td>\n",
       "      <td>0</td>\n",
       "      <td>0</td>\n",
       "      <td>0</td>\n",
       "      <td>0.706073</td>\n",
       "    </tr>\n",
       "  </tbody>\n",
       "</table>\n",
       "<p>22878 rows × 2976 columns</p>\n",
       "</div>"
      ],
      "text/plain": [
       "       ARXSPAN_ID   DRUG_NAME  ABL1_cnv  ACVR1B_cnv  AKT1_cnv  AKT2_cnv  \\\n",
       "0      ACH-000802   JW-7-24-1         1           0         1        -1   \n",
       "1      ACH-000802  KIN001-260         1           0         1        -1   \n",
       "2      ACH-000802   NSC-87877         1           0         1        -1   \n",
       "3      ACH-000802    PLX-4720         1           0         1        -1   \n",
       "4      ACH-000802   ERK5-IN-1         1           0         1        -1   \n",
       "...           ...         ...       ...         ...       ...       ...   \n",
       "22873  ACH-000438  KIN001-266         0           0         0         1   \n",
       "22874  ACH-000438  LUMINESPIB         0           0         0         1   \n",
       "22875  ACH-000438   NUTLIN-3A         0           0         0         1   \n",
       "22876  ACH-000438     SGC0946         0           0         0         1   \n",
       "22877  ACH-000438   SL 0101-1         0           0         0         1   \n",
       "\n",
       "       AKT3_cnv  ALK_cnv  ALOX12B_cnv  FAM123B_cnv  ...  PubchemFP872  \\\n",
       "0             1        1           -1            0  ...             0   \n",
       "1             1        1           -1            0  ...             0   \n",
       "2             1        1           -1            0  ...             0   \n",
       "3             1        1           -1            0  ...             0   \n",
       "4             1        1           -1            0  ...             0   \n",
       "...         ...      ...          ...          ...  ...           ...   \n",
       "22873         0        0            0            0  ...             0   \n",
       "22874         0        0            0            0  ...             0   \n",
       "22875         0        0            0            0  ...             0   \n",
       "22876         0        0            0            0  ...             0   \n",
       "22877         0        0            0            0  ...             0   \n",
       "\n",
       "       PubchemFP873  PubchemFP874  PubchemFP875  PubchemFP876  PubchemFP877  \\\n",
       "0                 0             0             0             0             0   \n",
       "1                 0             0             0             0             0   \n",
       "2                 0             0             0             0             0   \n",
       "3                 0             0             0             0             0   \n",
       "4                 0             0             0             0             0   \n",
       "...             ...           ...           ...           ...           ...   \n",
       "22873             0             0             0             0             0   \n",
       "22874             0             0             0             0             0   \n",
       "22875             0             0             0             0             0   \n",
       "22876             0             0             0             0             0   \n",
       "22877             0             0             0             0             0   \n",
       "\n",
       "       PubchemFP878  PubchemFP879  PubchemFP880       auc  \n",
       "0                 0             0             0  0.528562  \n",
       "1                 0             0             0  0.930958  \n",
       "2                 0             0             0  0.759249  \n",
       "3                 0             0             0  0.936510  \n",
       "4                 0             0             0  0.823453  \n",
       "...             ...           ...           ...       ...  \n",
       "22873             0             0             0  0.975578  \n",
       "22874             0             0             0  0.980529  \n",
       "22875             0             0             0  0.960501  \n",
       "22876             0             0             0  0.970524  \n",
       "22877             0             0             0  0.706073  \n",
       "\n",
       "[22878 rows x 2976 columns]"
      ]
     },
     "execution_count": 9,
     "metadata": {},
     "output_type": "execute_result"
    }
   ],
   "source": [
    "test_data = test_data.reset_index(drop = True)\n",
    "test_data"
   ]
  },
  {
   "cell_type": "code",
   "execution_count": 10,
   "metadata": {},
   "outputs": [
    {
     "data": {
      "text/plain": [
       "array([[1., 1., 1., ..., 0., 0., 0.],\n",
       "       [1., 1., 1., ..., 0., 0., 0.],\n",
       "       [1., 1., 1., ..., 0., 0., 0.],\n",
       "       ...,\n",
       "       [0., 0., 0., ..., 0., 0., 0.],\n",
       "       [0., 0., 0., ..., 0., 0., 0.],\n",
       "       [0., 0., 0., ..., 0., 0., 0.]])"
      ]
     },
     "execution_count": 10,
     "metadata": {},
     "output_type": "execute_result"
    }
   ],
   "source": [
    "from sklearn.preprocessing import MinMaxScaler\n",
    "scaler = MinMaxScaler()\n",
    "padel_features = train_data[train_data.columns[-2326:-1]]\n",
    "padel_features = scaler.fit_transform(padel_features)\n",
    "padel_features = pd.DataFrame(padel_features)\n",
    "#train_features = train_data.drop(columns = ['ARXSPAN_ID', 'DRUG_NAME','auc'])\n",
    "#train_features = scaler.fit_transform(train_features)\n",
    "train_features = train_data[train_data.columns[2:-2326]]\n",
    "train_features = pd.concat([train_features, padel_features], axis = 1)\n",
    "train_features = train_features.to_numpy()\n",
    "train_features"
   ]
  },
  {
   "cell_type": "code",
   "execution_count": 11,
   "metadata": {},
   "outputs": [
    {
     "name": "stdout",
     "output_type": "stream",
     "text": [
      "Minimum train y value: 0.004496,       Maximum train y value: 0.999883\n"
     ]
    }
   ],
   "source": [
    "train_label = train_data['auc']\n",
    "print(f'Minimum train y value: {min(train_label)}, \\\n",
    "      Maximum train y value: {max(train_label)}')"
   ]
  },
  {
   "cell_type": "code",
   "execution_count": 12,
   "metadata": {},
   "outputs": [
    {
     "data": {
      "text/plain": [
       "array([[1., 0., 1., ..., 0., 0., 0.],\n",
       "       [1., 0., 1., ..., 0., 0., 0.],\n",
       "       [1., 0., 1., ..., 0., 0., 0.],\n",
       "       ...,\n",
       "       [0., 0., 0., ..., 0., 0., 0.],\n",
       "       [0., 0., 0., ..., 0., 0., 0.],\n",
       "       [0., 0., 0., ..., 0., 0., 0.]])"
      ]
     },
     "execution_count": 12,
     "metadata": {},
     "output_type": "execute_result"
    }
   ],
   "source": [
    "padel_features = test_data[test_data.columns[-2326:-1]]\n",
    "padel_features = scaler.transform(padel_features)\n",
    "padel_features = pd.DataFrame(padel_features)\n",
    "#test_features = test_data.drop(columns = ['ARXSPAN_ID', 'DRUG_NAME','auc'])\n",
    "#test_features = scaler.transform(test_features)\n",
    "test_features = test_data[test_data.columns[2:-2326]]\n",
    "test_features = pd.concat([test_features, padel_features], axis = 1)\n",
    "test_features = test_features.to_numpy()\n",
    "test_features"
   ]
  },
  {
   "cell_type": "code",
   "execution_count": 13,
   "metadata": {},
   "outputs": [
    {
     "name": "stdout",
     "output_type": "stream",
     "text": [
      "Minimum test y value: 0.013524,       Maximum test y value: 0.998284\n"
     ]
    }
   ],
   "source": [
    "test_label = test_data['auc']\n",
    "print(f'Minimum test y value: {min(test_label)}, \\\n",
    "      Maximum test y value: {max(test_label)}')"
   ]
  },
  {
   "cell_type": "code",
   "execution_count": 14,
   "metadata": {},
   "outputs": [],
   "source": [
    "train_X, train_y, test_X, test_y = train_features, train_label, test_features, test_label"
   ]
  },
  {
   "cell_type": "code",
   "execution_count": 15,
   "metadata": {},
   "outputs": [],
   "source": [
    "train_X = train_X.reshape(train_X.shape[0], train_X.shape[1], 1)\n",
    "test_X = test_X.reshape(test_X.shape[0], test_X.shape[1], 1)"
   ]
  },
  {
   "cell_type": "code",
   "execution_count": 16,
   "metadata": {},
   "outputs": [
    {
     "name": "stdout",
     "output_type": "stream",
     "text": [
      "(203918, 2973, 1) (203918,) (22878, 2973, 1) (22878,)\n"
     ]
    }
   ],
   "source": [
    "print(train_X.shape, train_y.shape, test_X.shape, test_y.shape)"
   ]
  },
  {
   "cell_type": "code",
   "execution_count": 17,
   "metadata": {},
   "outputs": [
    {
     "name": "stdout",
     "output_type": "stream",
     "text": [
      "train_X shape: (203918, 2973, 1)\n",
      "203918 train samples\n",
      "22878 test samples\n"
     ]
    }
   ],
   "source": [
    "train_X = train_X.astype('float32')\n",
    "test_X = test_X.astype('float32')\n",
    "print('train_X shape:', train_X.shape)\n",
    "print(train_X.shape[0], 'train samples')\n",
    "print(test_X.shape[0], 'test samples')"
   ]
  },
  {
   "cell_type": "code",
   "execution_count": 18,
   "metadata": {},
   "outputs": [],
   "source": [
    "train_X = np.nan_to_num(train_X)\n",
    "train_y = np.nan_to_num(train_y)\n",
    "test_X = np.nan_to_num(test_X)\n",
    "test_y = np.nan_to_num(test_y)"
   ]
  },
  {
   "cell_type": "code",
   "execution_count": 19,
   "metadata": {},
   "outputs": [],
   "source": [
    "from bayes_opt import BayesianOptimization, UtilityFunction"
   ]
  },
  {
   "cell_type": "code",
   "execution_count": 20,
   "metadata": {},
   "outputs": [],
   "source": [
    "from sklearn.model_selection import train_test_split"
   ]
  },
  {
   "cell_type": "code",
   "execution_count": 21,
   "metadata": {},
   "outputs": [],
   "source": [
    "### split into train and validation set\n",
    "train_X, val_X, train_y, val_y = train_test_split(train_X, train_y, random_state = 42)"
   ]
  },
  {
   "cell_type": "code",
   "execution_count": 22,
   "metadata": {},
   "outputs": [
    {
     "name": "stdout",
     "output_type": "stream",
     "text": [
      "18\n"
     ]
    }
   ],
   "source": [
    "### Hyperparameters set\n",
    "params_lst = [\"learning_rate\", \"batch_size\", \"optimizer\"]\n",
    "params_value_dict = {\"learning_rate\": [1e-4, 2e-4, 5e-4], \n",
    "                     \"batch_size\": [80, 100, 120], \n",
    "                     \"optimizer\": ['sgd', 'adam']}\n",
    "import itertools as it\n",
    "\n",
    "allparams = params_value_dict\n",
    "combinations = it.product(*(params_value_dict[param] for param in allparams))\n",
    "combinations_lst = list(combinations)\n",
    "print(len(combinations_lst))\n",
    "\n",
    "hyper_param_dict = {}\n",
    "for i in range(len(combinations_lst)):\n",
    "    hyper_param_dict[i] = {}\n",
    "    for j in range(len(params_lst)):\n",
    "        hyper_param_dict[i][params_lst[j]] = combinations_lst[i][j]"
   ]
  },
  {
   "cell_type": "code",
   "execution_count": 23,
   "metadata": {
    "scrolled": true
   },
   "outputs": [
    {
     "name": "stdout",
     "output_type": "stream",
     "text": [
      "StartTime : 2023-03-16 16:58:26.110549\n",
      "Epoch 1/10\n",
      "1912/1912 [==============================] - 386s 195ms/step - loss: 0.7704 - mse: 0.7704 - mae: 0.6914 - val_loss: 0.2699 - val_mse: 0.2699 - val_mae: 0.4169\n",
      "Epoch 2/10\n",
      "1912/1912 [==============================] - 362s 189ms/step - loss: 0.4464 - mse: 0.4464 - mae: 0.5293 - val_loss: 0.1830 - val_mse: 0.1830 - val_mae: 0.3420\n",
      "Epoch 3/10\n",
      "1912/1912 [==============================] - 361s 189ms/step - loss: 0.3341 - mse: 0.3341 - mae: 0.4575 - val_loss: 0.1467 - val_mse: 0.1467 - val_mae: 0.3072\n",
      "Epoch 4/10\n",
      "1912/1912 [==============================] - 356s 186ms/step - loss: 0.2619 - mse: 0.2619 - mae: 0.4045 - val_loss: 0.1196 - val_mse: 0.1196 - val_mae: 0.2770\n",
      "Epoch 5/10\n",
      "1912/1912 [==============================] - 358s 188ms/step - loss: 0.2138 - mse: 0.2138 - mae: 0.3648 - val_loss: 0.0982 - val_mse: 0.0982 - val_mae: 0.2508\n",
      "Epoch 6/10\n",
      "1912/1912 [==============================] - 352s 184ms/step - loss: 0.1784 - mse: 0.1784 - mae: 0.3329 - val_loss: 0.0835 - val_mse: 0.0835 - val_mae: 0.2304\n",
      "Epoch 7/10\n",
      "1912/1912 [==============================] - 355s 185ms/step - loss: 0.1536 - mse: 0.1536 - mae: 0.3084 - val_loss: 0.0733 - val_mse: 0.0733 - val_mae: 0.2161\n",
      "Epoch 8/10\n",
      "1912/1912 [==============================] - 359s 188ms/step - loss: 0.1330 - mse: 0.1330 - mae: 0.2862 - val_loss: 0.0659 - val_mse: 0.0659 - val_mae: 0.2045\n",
      "Epoch 9/10\n",
      "1912/1912 [==============================] - 367s 192ms/step - loss: 0.1183 - mse: 0.1183 - mae: 0.2699 - val_loss: 0.0593 - val_mse: 0.0593 - val_mae: 0.1945\n",
      "Epoch 10/10\n",
      "1912/1912 [==============================] - 356s 186ms/step - loss: 0.1051 - mse: 0.1051 - mae: 0.2547 - val_loss: 0.0553 - val_mse: 0.0553 - val_mae: 0.1885\n",
      "EndTime : 2023-03-16 17:58:41.343884\n",
      "Evaluating model 0...\n",
      "715/715 [==============================] - 30s 42ms/step - loss: 0.0566 - mse: 0.0566 - mae: 0.1908\n",
      "loss=0.056589, mse=0.056589, mae=0.190805\n",
      "StartTime : 2023-03-16 17:59:13.495253\n",
      "Epoch 1/10\n",
      "1912/1912 [==============================] - 376s 189ms/step - loss: 0.1849 - mse: 0.1849 - mae: 0.3083 - val_loss: 0.0267 - val_mse: 0.0267 - val_mae: 0.1165\n",
      "Epoch 2/10\n",
      "1912/1912 [==============================] - 383s 200ms/step - loss: 0.0486 - mse: 0.0486 - mae: 0.1576 - val_loss: 0.0187 - val_mse: 0.0187 - val_mae: 0.0918\n",
      "Epoch 3/10\n",
      "1912/1912 [==============================] - 396s 207ms/step - loss: 0.0284 - mse: 0.0284 - mae: 0.1223 - val_loss: 0.0150 - val_mse: 0.0150 - val_mae: 0.0778\n",
      "Epoch 4/10\n",
      "1912/1912 [==============================] - 391s 205ms/step - loss: 0.0212 - mse: 0.0212 - mae: 0.1047 - val_loss: 0.0139 - val_mse: 0.0139 - val_mae: 0.0763\n",
      "Epoch 5/10\n",
      "1912/1912 [==============================] - 371s 194ms/step - loss: 0.0175 - mse: 0.0175 - mae: 0.0938 - val_loss: 0.0139 - val_mse: 0.0139 - val_mae: 0.0797\n",
      "Epoch 6/10\n",
      "1912/1912 [==============================] - 357s 186ms/step - loss: 0.0158 - mse: 0.0158 - mae: 0.0876 - val_loss: 0.0126 - val_mse: 0.0126 - val_mae: 0.0717\n",
      "Epoch 7/10\n",
      "1912/1912 [==============================] - 358s 187ms/step - loss: 0.0147 - mse: 0.0147 - mae: 0.0834 - val_loss: 0.0128 - val_mse: 0.0128 - val_mae: 0.0694\n",
      "Epoch 8/10\n",
      "1912/1912 [==============================] - 365s 191ms/step - loss: 0.0139 - mse: 0.0139 - mae: 0.0810 - val_loss: 0.0118 - val_mse: 0.0118 - val_mae: 0.0667\n",
      "Epoch 9/10\n",
      "1912/1912 [==============================] - 361s 189ms/step - loss: 0.0132 - mse: 0.0132 - mae: 0.0786 - val_loss: 0.0118 - val_mse: 0.0118 - val_mae: 0.0656\n",
      "Epoch 10/10\n",
      "1912/1912 [==============================] - 367s 192ms/step - loss: 0.0125 - mse: 0.0125 - mae: 0.0764 - val_loss: 0.0109 - val_mse: 0.0109 - val_mae: 0.0656\n",
      "EndTime : 2023-03-16 19:01:20.441844\n",
      "Evaluating model 1...\n",
      "715/715 [==============================] - 28s 38ms/step - loss: 0.0170 - mse: 0.0170 - mae: 0.0791\n",
      "loss=0.016987, mse=0.016987, mae=0.079078\n",
      "StartTime : 2023-03-16 19:01:51.170959\n",
      "Epoch 1/10\n",
      "1530/1530 [==============================] - 378s 237ms/step - loss: 0.7192 - mse: 0.7192 - mae: 0.6654 - val_loss: 0.2419 - val_mse: 0.2419 - val_mae: 0.3937\n",
      "Epoch 2/10\n",
      "1530/1530 [==============================] - 353s 231ms/step - loss: 0.4077 - mse: 0.4077 - mae: 0.5060 - val_loss: 0.1772 - val_mse: 0.1772 - val_mae: 0.3369\n",
      "Epoch 3/10\n",
      "1530/1530 [==============================] - 353s 231ms/step - loss: 0.3212 - mse: 0.3212 - mae: 0.4493 - val_loss: 0.1379 - val_mse: 0.1379 - val_mae: 0.2974\n",
      "Epoch 4/10\n",
      "1530/1530 [==============================] - 350s 229ms/step - loss: 0.2656 - mse: 0.2656 - mae: 0.4086 - val_loss: 0.1194 - val_mse: 0.1194 - val_mae: 0.2778\n",
      "Epoch 5/10\n",
      "1530/1530 [==============================] - 356s 232ms/step - loss: 0.2266 - mse: 0.2266 - mae: 0.3780 - val_loss: 0.1036 - val_mse: 0.1036 - val_mae: 0.2584\n",
      "Epoch 6/10\n",
      "1530/1530 [==============================] - 345s 225ms/step - loss: 0.1974 - mse: 0.1974 - mae: 0.3522 - val_loss: 0.0924 - val_mse: 0.0924 - val_mae: 0.2449\n",
      "Epoch 7/10\n",
      "1530/1530 [==============================] - 343s 224ms/step - loss: 0.1754 - mse: 0.1754 - mae: 0.3321 - val_loss: 0.0828 - val_mse: 0.0828 - val_mae: 0.2320\n",
      "Epoch 8/10\n",
      "1530/1530 [==============================] - 337s 220ms/step - loss: 0.1555 - mse: 0.1555 - mae: 0.3127 - val_loss: 0.0762 - val_mse: 0.0762 - val_mae: 0.2232\n",
      "Epoch 9/10\n",
      "1530/1530 [==============================] - 342s 224ms/step - loss: 0.1401 - mse: 0.1401 - mae: 0.2968 - val_loss: 0.0700 - val_mse: 0.0700 - val_mae: 0.2139\n",
      "Epoch 10/10\n",
      "1530/1530 [==============================] - 334s 219ms/step - loss: 0.1249 - mse: 0.1249 - mae: 0.2803 - val_loss: 0.0653 - val_mse: 0.0653 - val_mae: 0.2067\n",
      "EndTime : 2023-03-16 20:00:04.901140\n",
      "Evaluating model 2...\n",
      "715/715 [==============================] - 28s 39ms/step - loss: 0.0646 - mse: 0.0646 - mae: 0.2056\n",
      "loss=0.064583, mse=0.064583, mae=0.205617\n",
      "StartTime : 2023-03-16 20:00:36.623499\n",
      "Epoch 1/10\n",
      "1530/1530 [==============================] - 333s 209ms/step - loss: 0.4457 - mse: 0.4457 - mae: 0.4188 - val_loss: 0.0342 - val_mse: 0.0342 - val_mae: 0.1323\n",
      "Epoch 2/10\n",
      "1530/1530 [==============================] - 315s 206ms/step - loss: 0.0929 - mse: 0.0929 - mae: 0.1929 - val_loss: 0.0178 - val_mse: 0.0178 - val_mae: 0.0901\n",
      "Epoch 3/10\n",
      "1530/1530 [==============================] - 316s 207ms/step - loss: 0.0605 - mse: 0.0605 - mae: 0.1576 - val_loss: 0.0154 - val_mse: 0.0154 - val_mae: 0.0782\n",
      "Epoch 4/10\n",
      "1530/1530 [==============================] - 312s 204ms/step - loss: 0.0411 - mse: 0.0411 - mae: 0.1363 - val_loss: 0.0138 - val_mse: 0.0138 - val_mae: 0.0761\n",
      "Epoch 5/10\n",
      "1530/1530 [==============================] - 312s 204ms/step - loss: 0.0272 - mse: 0.0272 - mae: 0.1148 - val_loss: 0.0131 - val_mse: 0.0131 - val_mae: 0.0733\n",
      "Epoch 6/10\n",
      "1530/1530 [==============================] - 309s 202ms/step - loss: 0.0204 - mse: 0.0204 - mae: 0.1008 - val_loss: 0.0128 - val_mse: 0.0128 - val_mae: 0.0716\n",
      "Epoch 7/10\n",
      "1530/1530 [==============================] - 313s 204ms/step - loss: 0.0174 - mse: 0.0174 - mae: 0.0926 - val_loss: 0.0221 - val_mse: 0.0221 - val_mae: 0.0849\n",
      "Epoch 8/10\n",
      "1530/1530 [==============================] - 313s 204ms/step - loss: 0.0158 - mse: 0.0158 - mae: 0.0871 - val_loss: 0.0213 - val_mse: 0.0213 - val_mae: 0.0786\n",
      "Epoch 9/10\n",
      "1530/1530 [==============================] - 311s 203ms/step - loss: 0.0148 - mse: 0.0148 - mae: 0.0837 - val_loss: 0.0323 - val_mse: 0.0323 - val_mae: 0.0815\n",
      "Epoch 10/10\n",
      "1530/1530 [==============================] - 310s 202ms/step - loss: 0.0140 - mse: 0.0140 - mae: 0.0808 - val_loss: 0.0169 - val_mse: 0.0169 - val_mae: 0.0715\n",
      "EndTime : 2023-03-16 20:53:02.474788\n",
      "Evaluating model 3...\n",
      "715/715 [==============================] - 29s 40ms/step - loss: 0.0169 - mse: 0.0169 - mae: 0.0781\n",
      "loss=0.016893, mse=0.016893, mae=0.078116\n",
      "StartTime : 2023-03-16 20:53:47.246697\n",
      "Epoch 1/10\n",
      "1275/1275 [==============================] - 310s 235ms/step - loss: 0.7719 - mse: 0.7719 - mae: 0.6939 - val_loss: 0.3208 - val_mse: 0.3208 - val_mae: 0.4584\n",
      "Epoch 2/10\n",
      "1275/1275 [==============================] - 307s 241ms/step - loss: 0.4747 - mse: 0.4747 - mae: 0.5454 - val_loss: 0.2237 - val_mse: 0.2237 - val_mae: 0.3804\n",
      "Epoch 3/10\n"
     ]
    },
    {
     "name": "stdout",
     "output_type": "stream",
     "text": [
      "1275/1275 [==============================] - 308s 241ms/step - loss: 0.3733 - mse: 0.3733 - mae: 0.4843 - val_loss: 0.1854 - val_mse: 0.1854 - val_mae: 0.3463\n",
      "Epoch 4/10\n",
      "1275/1275 [==============================] - 307s 240ms/step - loss: 0.3057 - mse: 0.3057 - mae: 0.4376 - val_loss: 0.1468 - val_mse: 0.1468 - val_mae: 0.3091\n",
      "Epoch 5/10\n",
      "1275/1275 [==============================] - 308s 242ms/step - loss: 0.2602 - mse: 0.2602 - mae: 0.4047 - val_loss: 0.1243 - val_mse: 0.1243 - val_mae: 0.2835\n",
      "Epoch 6/10\n",
      "1275/1275 [==============================] - 311s 244ms/step - loss: 0.2228 - mse: 0.2228 - mae: 0.3742 - val_loss: 0.1073 - val_mse: 0.1073 - val_mae: 0.2638\n",
      "Epoch 7/10\n",
      "1275/1275 [==============================] - 306s 240ms/step - loss: 0.1949 - mse: 0.1949 - mae: 0.3492 - val_loss: 0.0979 - val_mse: 0.0979 - val_mae: 0.2521\n",
      "Epoch 8/10\n",
      "1275/1275 [==============================] - 311s 244ms/step - loss: 0.1729 - mse: 0.1729 - mae: 0.3294 - val_loss: 0.0854 - val_mse: 0.0854 - val_mae: 0.2360\n",
      "Epoch 9/10\n",
      "1275/1275 [==============================] - 305s 239ms/step - loss: 0.1557 - mse: 0.1557 - mae: 0.3125 - val_loss: 0.0813 - val_mse: 0.0813 - val_mae: 0.2307\n",
      "Epoch 10/10\n",
      "1275/1275 [==============================] - 307s 241ms/step - loss: 0.1413 - mse: 0.1413 - mae: 0.2977 - val_loss: 0.0749 - val_mse: 0.0749 - val_mae: 0.2211\n",
      "EndTime : 2023-03-16 21:45:09.568593\n",
      "Evaluating model 4...\n",
      "715/715 [==============================] - 30s 41ms/step - loss: 0.0734 - mse: 0.0734 - mae: 0.2188\n",
      "loss=0.073415, mse=0.073415, mae=0.218770\n",
      "StartTime : 2023-03-16 21:45:42.343882\n",
      "Epoch 1/10\n",
      "1275/1275 [==============================] - 311s 234ms/step - loss: 0.2303 - mse: 0.2303 - mae: 0.3521 - val_loss: 0.0270 - val_mse: 0.0270 - val_mae: 0.1200\n",
      "Epoch 2/10\n",
      "1275/1275 [==============================] - 296s 232ms/step - loss: 0.0544 - mse: 0.0544 - mae: 0.1700 - val_loss: 0.0164 - val_mse: 0.0164 - val_mae: 0.0837\n",
      "Epoch 3/10\n",
      "1275/1275 [==============================] - 302s 237ms/step - loss: 0.0343 - mse: 0.0343 - mae: 0.1333 - val_loss: 0.0152 - val_mse: 0.0152 - val_mae: 0.0796\n",
      "Epoch 4/10\n",
      "1275/1275 [==============================] - 296s 232ms/step - loss: 0.0265 - mse: 0.0265 - mae: 0.1165 - val_loss: 0.0145 - val_mse: 0.0145 - val_mae: 0.0788\n",
      "Epoch 5/10\n",
      "1275/1275 [==============================] - 295s 231ms/step - loss: 0.0217 - mse: 0.0217 - mae: 0.1046 - val_loss: 0.0137 - val_mse: 0.0137 - val_mae: 0.0776\n",
      "Epoch 6/10\n",
      "1275/1275 [==============================] - 291s 228ms/step - loss: 0.0182 - mse: 0.0182 - mae: 0.0952 - val_loss: 0.0127 - val_mse: 0.0127 - val_mae: 0.0756\n",
      "Epoch 7/10\n",
      "1275/1275 [==============================] - 290s 227ms/step - loss: 0.0164 - mse: 0.0164 - mae: 0.0894 - val_loss: 0.0125 - val_mse: 0.0125 - val_mae: 0.0739\n",
      "Epoch 8/10\n",
      "1275/1275 [==============================] - 292s 229ms/step - loss: 0.0152 - mse: 0.0152 - mae: 0.0856 - val_loss: 0.0123 - val_mse: 0.0123 - val_mae: 0.0721\n",
      "Epoch 9/10\n",
      "1275/1275 [==============================] - 292s 229ms/step - loss: 0.0143 - mse: 0.0143 - mae: 0.0824 - val_loss: 0.0122 - val_mse: 0.0122 - val_mae: 0.0685\n",
      "Epoch 10/10\n",
      "1275/1275 [==============================] - 294s 230ms/step - loss: 0.0136 - mse: 0.0136 - mae: 0.0803 - val_loss: 0.0114 - val_mse: 0.0114 - val_mae: 0.0662\n",
      "EndTime : 2023-03-16 22:35:20.754908\n",
      "Evaluating model 5...\n",
      "715/715 [==============================] - 31s 43ms/step - loss: 0.0172 - mse: 0.0172 - mae: 0.0791\n",
      "loss=0.017247, mse=0.017247, mae=0.079057\n",
      "StartTime : 2023-03-16 22:35:54.409090\n",
      "Epoch 1/10\n",
      "1912/1912 [==============================] - 400s 202ms/step - loss: 0.5484 - mse: 0.5484 - mae: 0.5821 - val_loss: 0.1877 - val_mse: 0.1877 - val_mae: 0.3494\n",
      "Epoch 2/10\n",
      "1912/1912 [==============================] - 380s 199ms/step - loss: 0.2938 - mse: 0.2938 - mae: 0.4290 - val_loss: 0.1236 - val_mse: 0.1236 - val_mae: 0.2848\n",
      "Epoch 3/10\n",
      "1912/1912 [==============================] - 380s 199ms/step - loss: 0.2031 - mse: 0.2031 - mae: 0.3570 - val_loss: 0.0956 - val_mse: 0.0956 - val_mae: 0.2509\n",
      "Epoch 4/10\n",
      "1912/1912 [==============================] - 386s 202ms/step - loss: 0.1543 - mse: 0.1543 - mae: 0.3109 - val_loss: 0.0771 - val_mse: 0.0771 - val_mae: 0.2262\n",
      "Epoch 5/10\n",
      "1912/1912 [==============================] - 379s 198ms/step - loss: 0.1214 - mse: 0.1214 - mae: 0.2756 - val_loss: 0.0675 - val_mse: 0.0675 - val_mae: 0.2134\n",
      "Epoch 6/10\n",
      "1912/1912 [==============================] - 383s 200ms/step - loss: 0.0979 - mse: 0.0979 - mae: 0.2474 - val_loss: 0.0547 - val_mse: 0.0547 - val_mae: 0.1921\n",
      "Epoch 7/10\n",
      "1912/1912 [==============================] - 385s 201ms/step - loss: 0.0825 - mse: 0.0825 - mae: 0.2266 - val_loss: 0.0490 - val_mse: 0.0490 - val_mae: 0.1820\n",
      "Epoch 8/10\n",
      "1912/1912 [==============================] - 379s 198ms/step - loss: 0.0694 - mse: 0.0694 - mae: 0.2077 - val_loss: 0.0436 - val_mse: 0.0436 - val_mae: 0.1724\n",
      "Epoch 9/10\n",
      "1912/1912 [==============================] - 386s 202ms/step - loss: 0.0608 - mse: 0.0608 - mae: 0.1938 - val_loss: 0.0409 - val_mse: 0.0409 - val_mae: 0.1674\n",
      "Epoch 10/10\n",
      "1912/1912 [==============================] - 378s 198ms/step - loss: 0.0542 - mse: 0.0542 - mae: 0.1825 - val_loss: 0.0378 - val_mse: 0.0378 - val_mae: 0.1616\n",
      "EndTime : 2023-03-16 23:39:53.577100\n",
      "Evaluating model 6...\n",
      "715/715 [==============================] - 28s 40ms/step - loss: 0.0386 - mse: 0.0386 - mae: 0.1624\n",
      "loss=0.038646, mse=0.038646, mae=0.162366\n",
      "StartTime : 2023-03-16 23:40:24.366613\n",
      "Epoch 1/10\n",
      "1912/1912 [==============================] - 383s 193ms/step - loss: 0.1582 - mse: 0.1582 - mae: 0.2708 - val_loss: 0.0209 - val_mse: 0.0209 - val_mae: 0.0979\n",
      "Epoch 2/10\n",
      "1912/1912 [==============================] - 369s 193ms/step - loss: 0.0358 - mse: 0.0358 - mae: 0.1352 - val_loss: 0.0158 - val_mse: 0.0158 - val_mae: 0.0851\n",
      "Epoch 3/10\n",
      "1912/1912 [==============================] - 358s 187ms/step - loss: 0.0218 - mse: 0.0218 - mae: 0.1060 - val_loss: 0.0138 - val_mse: 0.0138 - val_mae: 0.0741\n",
      "Epoch 4/10\n",
      "1912/1912 [==============================] - 357s 187ms/step - loss: 0.0171 - mse: 0.0171 - mae: 0.0921 - val_loss: 0.0139 - val_mse: 0.0139 - val_mae: 0.0746\n",
      "Epoch 5/10\n",
      "1912/1912 [==============================] - 362s 189ms/step - loss: 0.0156 - mse: 0.0156 - mae: 0.0865 - val_loss: 0.0140 - val_mse: 0.0140 - val_mae: 0.0761\n",
      "Epoch 6/10\n",
      "1912/1912 [==============================] - 356s 186ms/step - loss: 0.0148 - mse: 0.0148 - mae: 0.0831 - val_loss: 0.0123 - val_mse: 0.0123 - val_mae: 0.0692\n",
      "Epoch 7/10\n",
      "1912/1912 [==============================] - 353s 185ms/step - loss: 0.0141 - mse: 0.0141 - mae: 0.0805 - val_loss: 0.0122 - val_mse: 0.0122 - val_mae: 0.0691\n",
      "Epoch 8/10\n",
      "1912/1912 [==============================] - 359s 188ms/step - loss: 0.0134 - mse: 0.0134 - mae: 0.0781 - val_loss: 0.0119 - val_mse: 0.0119 - val_mae: 0.0677\n",
      "Epoch 9/10\n",
      "1912/1912 [==============================] - 352s 184ms/step - loss: 0.0129 - mse: 0.0129 - mae: 0.0761 - val_loss: 0.0116 - val_mse: 0.0116 - val_mae: 0.0661\n",
      "Epoch 10/10\n",
      "1912/1912 [==============================] - 352s 184ms/step - loss: 0.0123 - mse: 0.0123 - mae: 0.0741 - val_loss: 0.0114 - val_mse: 0.0114 - val_mae: 0.0692\n",
      "EndTime : 2023-03-17 00:40:28.668836\n",
      "Evaluating model 7...\n",
      "715/715 [==============================] - 27s 37ms/step - loss: 0.0164 - mse: 0.0164 - mae: 0.0796\n",
      "loss=0.016399, mse=0.016399, mae=0.079604\n",
      "StartTime : 2023-03-17 00:40:58.181797\n",
      "Epoch 1/10\n",
      "1530/1530 [==============================] - 347s 218ms/step - loss: 0.5949 - mse: 0.5949 - mae: 0.6031 - val_loss: 0.1869 - val_mse: 0.1869 - val_mae: 0.3434\n",
      "Epoch 2/10\n",
      "1530/1530 [==============================] - 336s 220ms/step - loss: 0.3161 - mse: 0.3161 - mae: 0.4439 - val_loss: 0.1234 - val_mse: 0.1234 - val_mae: 0.2805\n",
      "Epoch 3/10\n",
      "1530/1530 [==============================] - 333s 218ms/step - loss: 0.2169 - mse: 0.2169 - mae: 0.3686 - val_loss: 0.0947 - val_mse: 0.0947 - val_mae: 0.2470\n",
      "Epoch 4/10\n",
      "1530/1530 [==============================] - 340s 222ms/step - loss: 0.1612 - mse: 0.1612 - mae: 0.3174 - val_loss: 0.0797 - val_mse: 0.0797 - val_mae: 0.2279\n",
      "Epoch 5/10\n"
     ]
    },
    {
     "name": "stdout",
     "output_type": "stream",
     "text": [
      "1530/1530 [==============================] - 338s 221ms/step - loss: 0.1268 - mse: 0.1268 - mae: 0.2816 - val_loss: 0.0674 - val_mse: 0.0674 - val_mae: 0.2114\n",
      "Epoch 6/10\n",
      "1530/1530 [==============================] - 339s 221ms/step - loss: 0.1038 - mse: 0.1038 - mae: 0.2541 - val_loss: 0.0573 - val_mse: 0.0573 - val_mae: 0.1954\n",
      "Epoch 7/10\n",
      "1530/1530 [==============================] - 336s 220ms/step - loss: 0.0882 - mse: 0.0882 - mae: 0.2343 - val_loss: 0.0522 - val_mse: 0.0522 - val_mae: 0.1874\n",
      "Epoch 8/10\n",
      "1530/1530 [==============================] - 335s 219ms/step - loss: 0.0755 - mse: 0.0755 - mae: 0.2164 - val_loss: 0.0468 - val_mse: 0.0468 - val_mae: 0.1779\n",
      "Epoch 9/10\n",
      "1530/1530 [==============================] - 336s 219ms/step - loss: 0.0658 - mse: 0.0658 - mae: 0.2014 - val_loss: 0.0441 - val_mse: 0.0441 - val_mae: 0.1735\n",
      "Epoch 10/10\n",
      "1530/1530 [==============================] - 336s 220ms/step - loss: 0.0591 - mse: 0.0591 - mae: 0.1906 - val_loss: 0.0412 - val_mse: 0.0412 - val_mae: 0.1683\n",
      "EndTime : 2023-03-17 01:37:16.641573\n",
      "Evaluating model 8...\n",
      "715/715 [==============================] - 30s 42ms/step - loss: 0.0425 - mse: 0.0425 - mae: 0.1703\n",
      "loss=0.042521, mse=0.042521, mae=0.170280\n",
      "StartTime : 2023-03-17 01:37:49.264162\n",
      "Epoch 1/10\n",
      "1143/1530 [=====================>........] - ETA: 1:13 - loss: 0.1606 - mse: 0.1606 - mae: 0.2700"
     ]
    },
    {
     "name": "stderr",
     "output_type": "stream",
     "text": [
      "IOPub message rate exceeded.\n",
      "The notebook server will temporarily stop sending output\n",
      "to the client in order to avoid crashing it.\n",
      "To change this limit, set the config variable\n",
      "`--NotebookApp.iopub_msg_rate_limit`.\n",
      "\n",
      "Current values:\n",
      "NotebookApp.iopub_msg_rate_limit=1000.0 (msgs/sec)\n",
      "NotebookApp.rate_limit_window=3.0 (secs)\n",
      "\n"
     ]
    },
    {
     "name": "stdout",
     "output_type": "stream",
     "text": [
      "1530/1530 [==============================] - 317s 207ms/step - loss: 0.0255 - mse: 0.0255 - mae: 0.1093 - val_loss: 0.0133 - val_mse: 0.0133 - val_mae: 0.0719\n",
      "Epoch 4/10\n",
      "1530/1530 [==============================] - 318s 208ms/step - loss: 0.0180 - mse: 0.0180 - mae: 0.0934 - val_loss: 0.0125 - val_mse: 0.0125 - val_mae: 0.0706\n",
      "Epoch 5/10\n",
      " 961/1530 [=================>............] - ETA: 1:50 - loss: 0.0160 - mse: 0.0160 - mae: 0.0879"
     ]
    },
    {
     "name": "stderr",
     "output_type": "stream",
     "text": [
      "IOPub message rate exceeded.\n",
      "The notebook server will temporarily stop sending output\n",
      "to the client in order to avoid crashing it.\n",
      "To change this limit, set the config variable\n",
      "`--NotebookApp.iopub_msg_rate_limit`.\n",
      "\n",
      "Current values:\n",
      "NotebookApp.iopub_msg_rate_limit=1000.0 (msgs/sec)\n",
      "NotebookApp.rate_limit_window=3.0 (secs)\n",
      "\n"
     ]
    },
    {
     "name": "stdout",
     "output_type": "stream",
     "text": [
      "1510/1530 [============================>.] - ETA: 3s - loss: 0.0137 - mse: 0.0137 - mae: 0.0792"
     ]
    },
    {
     "name": "stderr",
     "output_type": "stream",
     "text": [
      "IOPub message rate exceeded.\n",
      "The notebook server will temporarily stop sending output\n",
      "to the client in order to avoid crashing it.\n",
      "To change this limit, set the config variable\n",
      "`--NotebookApp.iopub_msg_rate_limit`.\n",
      "\n",
      "Current values:\n",
      "NotebookApp.iopub_msg_rate_limit=1000.0 (msgs/sec)\n",
      "NotebookApp.rate_limit_window=3.0 (secs)\n",
      "\n"
     ]
    },
    {
     "name": "stdout",
     "output_type": "stream",
     "text": [
      "1530/1530 [==============================] - 325s 212ms/step - loss: 0.0132 - mse: 0.0132 - mae: 0.0775 - val_loss: 0.0136 - val_mse: 0.0136 - val_mae: 0.0693\n",
      "Epoch 10/10\n",
      "1530/1530 [==============================] - 320s 209ms/step - loss: 0.0128 - mse: 0.0128 - mae: 0.0758 - val_loss: 0.0118 - val_mse: 0.0118 - val_mae: 0.0664\n",
      "EndTime : 2023-03-17 02:31:27.423866\n",
      "Evaluating model 9...\n",
      "715/715 [==============================] - 31s 43ms/step - loss: 0.0168 - mse: 0.0168 - mae: 0.0777\n",
      "loss=0.016787, mse=0.016787, mae=0.077738\n",
      "StartTime : 2023-03-17 02:32:11.581942\n",
      "Epoch 1/10\n",
      " 146/1275 [==>...........................] - ETA: 3:57 - loss: 0.9524 - mse: 0.9524 - mae: 0.7799"
     ]
    },
    {
     "name": "stderr",
     "output_type": "stream",
     "text": [
      "IOPub message rate exceeded.\n",
      "The notebook server will temporarily stop sending output\n",
      "to the client in order to avoid crashing it.\n",
      "To change this limit, set the config variable\n",
      "`--NotebookApp.iopub_msg_rate_limit`.\n",
      "\n",
      "Current values:\n",
      "NotebookApp.iopub_msg_rate_limit=1000.0 (msgs/sec)\n",
      "NotebookApp.rate_limit_window=3.0 (secs)\n",
      "\n"
     ]
    },
    {
     "name": "stdout",
     "output_type": "stream",
     "text": [
      " 973/1275 [=====================>........] - ETA: 1:05 - loss: 0.2309 - mse: 0.2309 - mae: 0.3788"
     ]
    },
    {
     "name": "stderr",
     "output_type": "stream",
     "text": [
      "IOPub message rate exceeded.\n",
      "The notebook server will temporarily stop sending output\n",
      "to the client in order to avoid crashing it.\n",
      "To change this limit, set the config variable\n",
      "`--NotebookApp.iopub_msg_rate_limit`.\n",
      "\n",
      "Current values:\n",
      "NotebookApp.iopub_msg_rate_limit=1000.0 (msgs/sec)\n",
      "NotebookApp.rate_limit_window=3.0 (secs)\n",
      "\n"
     ]
    },
    {
     "name": "stdout",
     "output_type": "stream",
     "text": [
      "1275/1275 [==============================] - 294s 230ms/step - loss: 0.1759 - mse: 0.1759 - mae: 0.3305 - val_loss: 0.0818 - val_mse: 0.0818 - val_mae: 0.2302\n",
      "Epoch 5/10\n",
      "1275/1275 [==============================] - 297s 233ms/step - loss: 0.1425 - mse: 0.1425 - mae: 0.2975 - val_loss: 0.0679 - val_mse: 0.0679 - val_mae: 0.2100\n",
      "Epoch 6/10\n",
      " 995/1275 [======================>.......] - ETA: 59s - loss: 0.1209 - mse: 0.1209 - mae: 0.2739 "
     ]
    },
    {
     "name": "stderr",
     "output_type": "stream",
     "text": [
      "IOPub message rate exceeded.\n",
      "The notebook server will temporarily stop sending output\n",
      "to the client in order to avoid crashing it.\n",
      "To change this limit, set the config variable\n",
      "`--NotebookApp.iopub_msg_rate_limit`.\n",
      "\n",
      "Current values:\n",
      "NotebookApp.iopub_msg_rate_limit=1000.0 (msgs/sec)\n",
      "NotebookApp.rate_limit_window=3.0 (secs)\n",
      "\n"
     ]
    },
    {
     "name": "stdout",
     "output_type": "stream",
     "text": [
      "1275/1275 [==============================] - 294s 231ms/step - loss: 0.0892 - mse: 0.0892 - mae: 0.2352 - val_loss: 0.0490 - val_mse: 0.0490 - val_mae: 0.1800\n",
      "Epoch 9/10\n",
      " 441/1275 [=========>....................] - ETA: 2:56 - loss: 0.0812 - mse: 0.0812 - mae: 0.2242"
     ]
    },
    {
     "name": "stderr",
     "output_type": "stream",
     "text": [
      "IOPub message rate exceeded.\n",
      "The notebook server will temporarily stop sending output\n",
      "to the client in order to avoid crashing it.\n",
      "To change this limit, set the config variable\n",
      "`--NotebookApp.iopub_msg_rate_limit`.\n",
      "\n",
      "Current values:\n",
      "NotebookApp.iopub_msg_rate_limit=1000.0 (msgs/sec)\n",
      "NotebookApp.rate_limit_window=3.0 (secs)\n",
      "\n"
     ]
    },
    {
     "name": "stdout",
     "output_type": "stream",
     "text": [
      "1275/1275 [==============================] - 298s 234ms/step - loss: 0.0703 - mse: 0.0703 - mae: 0.2079 - val_loss: 0.0415 - val_mse: 0.0415 - val_mae: 0.1655\n",
      "EndTime : 2023-03-17 03:21:48.386565\n",
      "Evaluating model 10...\n",
      "715/715 [==============================] - 27s 38ms/step - loss: 0.0454 - mse: 0.0454 - mae: 0.1725\n",
      "loss=0.045415, mse=0.045415, mae=0.172548\n",
      "StartTime : 2023-03-17 03:22:18.029086\n",
      "Epoch 1/10\n",
      " 718/1275 [===============>..............] - ETA: 1:54 - loss: 0.2683 - mse: 0.2683 - mae: 0.3807"
     ]
    },
    {
     "name": "stderr",
     "output_type": "stream",
     "text": [
      "IOPub message rate exceeded.\n",
      "The notebook server will temporarily stop sending output\n",
      "to the client in order to avoid crashing it.\n",
      "To change this limit, set the config variable\n",
      "`--NotebookApp.iopub_msg_rate_limit`.\n",
      "\n",
      "Current values:\n",
      "NotebookApp.iopub_msg_rate_limit=1000.0 (msgs/sec)\n",
      "NotebookApp.rate_limit_window=3.0 (secs)\n",
      "\n"
     ]
    },
    {
     "name": "stdout",
     "output_type": "stream",
     "text": [
      "1275/1275 [==============================] - 287s 225ms/step - loss: 0.0189 - mse: 0.0189 - mae: 0.0983 - val_loss: 0.0131 - val_mse: 0.0131 - val_mae: 0.0729\n",
      "Epoch 5/10\n",
      " 996/1275 [======================>.......] - ETA: 57s - loss: 0.0163 - mse: 0.0163 - mae: 0.0895"
     ]
    },
    {
     "name": "stderr",
     "output_type": "stream",
     "text": [
      "IOPub message rate exceeded.\n",
      "The notebook server will temporarily stop sending output\n",
      "to the client in order to avoid crashing it.\n",
      "To change this limit, set the config variable\n",
      "`--NotebookApp.iopub_msg_rate_limit`.\n",
      "\n",
      "Current values:\n",
      "NotebookApp.iopub_msg_rate_limit=1000.0 (msgs/sec)\n",
      "NotebookApp.rate_limit_window=3.0 (secs)\n",
      "\n"
     ]
    },
    {
     "name": "stdout",
     "output_type": "stream",
     "text": [
      "1275/1275 [==============================] - 287s 225ms/step - loss: 0.0149 - mse: 0.0149 - mae: 0.0845 - val_loss: 0.0133 - val_mse: 0.0133 - val_mae: 0.0717\n",
      "Epoch 7/10\n",
      "1275/1275 [==============================] - 286s 225ms/step - loss: 0.0141 - mse: 0.0141 - mae: 0.0812 - val_loss: 0.0124 - val_mse: 0.0124 - val_mae: 0.0690\n",
      "Epoch 8/10\n",
      " 239/1275 [====>.........................] - ETA: 3:35 - loss: 0.0137 - mse: 0.0137 - mae: 0.0798"
     ]
    },
    {
     "name": "stderr",
     "output_type": "stream",
     "text": [
      "IOPub message rate exceeded.\n",
      "The notebook server will temporarily stop sending output\n",
      "to the client in order to avoid crashing it.\n",
      "To change this limit, set the config variable\n",
      "`--NotebookApp.iopub_msg_rate_limit`.\n",
      "\n",
      "Current values:\n",
      "NotebookApp.iopub_msg_rate_limit=1000.0 (msgs/sec)\n",
      "NotebookApp.rate_limit_window=3.0 (secs)\n",
      "\n"
     ]
    },
    {
     "name": "stdout",
     "output_type": "stream",
     "text": [
      "1275/1275 [==============================] - 287s 225ms/step - loss: 0.0132 - mse: 0.0132 - mae: 0.0779 - val_loss: 0.0118 - val_mse: 0.0118 - val_mae: 0.0682\n",
      "Epoch 10/10\n",
      "1037/1275 [=======================>......] - ETA: 49s - loss: 0.0126 - mse: 0.0126 - mae: 0.0756"
     ]
    },
    {
     "name": "stderr",
     "output_type": "stream",
     "text": [
      "IOPub message rate exceeded.\n",
      "The notebook server will temporarily stop sending output\n",
      "to the client in order to avoid crashing it.\n",
      "To change this limit, set the config variable\n",
      "`--NotebookApp.iopub_msg_rate_limit`.\n",
      "\n",
      "Current values:\n",
      "NotebookApp.iopub_msg_rate_limit=1000.0 (msgs/sec)\n",
      "NotebookApp.rate_limit_window=3.0 (secs)\n",
      "\n"
     ]
    },
    {
     "name": "stdout",
     "output_type": "stream",
     "text": [
      "1912/1912 [==============================] - 383s 195ms/step - loss: 0.3818 - mse: 0.3818 - mae: 0.4799 - val_loss: 0.1161 - val_mse: 0.1161 - val_mae: 0.2761\n",
      "Epoch 2/10\n",
      "1362/1912 [====================>.........] - ETA: 1:39 - loss: 0.1627 - mse: 0.1627 - mae: 0.3192"
     ]
    },
    {
     "name": "stderr",
     "output_type": "stream",
     "text": [
      "IOPub message rate exceeded.\n",
      "The notebook server will temporarily stop sending output\n",
      "to the client in order to avoid crashing it.\n",
      "To change this limit, set the config variable\n",
      "`--NotebookApp.iopub_msg_rate_limit`.\n",
      "\n",
      "Current values:\n",
      "NotebookApp.iopub_msg_rate_limit=1000.0 (msgs/sec)\n",
      "NotebookApp.rate_limit_window=3.0 (secs)\n",
      "\n"
     ]
    },
    {
     "name": "stdout",
     "output_type": "stream",
     "text": [
      "1912/1912 [==============================] - 378s 198ms/step - loss: 0.0639 - mse: 0.0639 - mae: 0.1986 - val_loss: 0.0485 - val_mse: 0.0485 - val_mae: 0.1873\n",
      "Epoch 5/10\n",
      "1857/1912 [============================>.] - ETA: 9s - loss: 0.0497 - mse: 0.0497 - mae: 0.1738 "
     ]
    },
    {
     "name": "stderr",
     "output_type": "stream",
     "text": [
      "IOPub message rate exceeded.\n",
      "The notebook server will temporarily stop sending output\n",
      "to the client in order to avoid crashing it.\n",
      "To change this limit, set the config variable\n",
      "`--NotebookApp.iopub_msg_rate_limit`.\n",
      "\n",
      "Current values:\n",
      "NotebookApp.iopub_msg_rate_limit=1000.0 (msgs/sec)\n",
      "NotebookApp.rate_limit_window=3.0 (secs)\n",
      "\n"
     ]
    },
    {
     "name": "stdout",
     "output_type": "stream",
     "text": [
      "1912/1912 [==============================] - 374s 196ms/step - loss: 0.0368 - mse: 0.0368 - mae: 0.1476 - val_loss: 0.0356 - val_mse: 0.0356 - val_mae: 0.1617\n",
      "Epoch 8/10\n",
      "1875/1912 [============================>.] - ETA: 6s - loss: 0.0339 - mse: 0.0339 - mae: 0.1409"
     ]
    },
    {
     "name": "stderr",
     "output_type": "stream",
     "text": [
      "IOPub message rate exceeded.\n",
      "The notebook server will temporarily stop sending output\n",
      "to the client in order to avoid crashing it.\n",
      "To change this limit, set the config variable\n",
      "`--NotebookApp.iopub_msg_rate_limit`.\n",
      "\n",
      "Current values:\n",
      "NotebookApp.iopub_msg_rate_limit=1000.0 (msgs/sec)\n",
      "NotebookApp.rate_limit_window=3.0 (secs)\n",
      "\n"
     ]
    },
    {
     "name": "stdout",
     "output_type": "stream",
     "text": [
      "1786/1912 [===========================>..] - ETA: 22s - loss: 0.0316 - mse: 0.0316 - mae: 0.1351"
     ]
    },
    {
     "name": "stderr",
     "output_type": "stream",
     "text": [
      "IOPub message rate exceeded.\n",
      "The notebook server will temporarily stop sending output\n",
      "to the client in order to avoid crashing it.\n",
      "To change this limit, set the config variable\n",
      "`--NotebookApp.iopub_msg_rate_limit`.\n",
      "\n",
      "Current values:\n",
      "NotebookApp.iopub_msg_rate_limit=1000.0 (msgs/sec)\n",
      "NotebookApp.rate_limit_window=3.0 (secs)\n",
      "\n"
     ]
    },
    {
     "name": "stdout",
     "output_type": "stream",
     "text": [
      "1912/1912 [==============================] - 364s 183ms/step - loss: 0.0889 - mse: 0.0889 - mae: 0.1851 - val_loss: 0.0167 - val_mse: 0.0167 - val_mae: 0.0826\n",
      "Epoch 2/10\n",
      "1539/1912 [=======================>......] - ETA: 1:03 - loss: 0.0218 - mse: 0.0218 - mae: 0.1053"
     ]
    },
    {
     "name": "stderr",
     "output_type": "stream",
     "text": [
      "IOPub message rate exceeded.\n",
      "The notebook server will temporarily stop sending output\n",
      "to the client in order to avoid crashing it.\n",
      "To change this limit, set the config variable\n",
      "`--NotebookApp.iopub_msg_rate_limit`.\n",
      "\n",
      "Current values:\n",
      "NotebookApp.iopub_msg_rate_limit=1000.0 (msgs/sec)\n",
      "NotebookApp.rate_limit_window=3.0 (secs)\n",
      "\n"
     ]
    },
    {
     "name": "stdout",
     "output_type": "stream",
     "text": [
      "1912/1912 [==============================] - 359s 188ms/step - loss: 0.0151 - mse: 0.0151 - mae: 0.0841 - val_loss: 0.0128 - val_mse: 0.0128 - val_mae: 0.0709\n",
      "Epoch 5/10\n",
      "1912/1912 [==============================] - 357s 187ms/step - loss: 0.0146 - mse: 0.0146 - mae: 0.0817 - val_loss: 0.0145 - val_mse: 0.0145 - val_mae: 0.0760\n",
      "Epoch 6/10\n",
      " 356/1912 [====>.........................] - ETA: 4:25 - loss: 0.0145 - mse: 0.0145 - mae: 0.0804"
     ]
    },
    {
     "name": "stderr",
     "output_type": "stream",
     "text": [
      "IOPub message rate exceeded.\n",
      "The notebook server will temporarily stop sending output\n",
      "to the client in order to avoid crashing it.\n",
      "To change this limit, set the config variable\n",
      "`--NotebookApp.iopub_msg_rate_limit`.\n",
      "\n",
      "Current values:\n",
      "NotebookApp.iopub_msg_rate_limit=1000.0 (msgs/sec)\n",
      "NotebookApp.rate_limit_window=3.0 (secs)\n",
      "\n"
     ]
    },
    {
     "name": "stdout",
     "output_type": "stream",
     "text": [
      "1912/1912 [==============================] - 359s 188ms/step - loss: 0.0133 - mse: 0.0133 - mae: 0.0758 - val_loss: 0.0130 - val_mse: 0.0130 - val_mae: 0.0697\n",
      "Epoch 9/10\n",
      "1912/1912 [==============================] - 358s 187ms/step - loss: 0.0131 - mse: 0.0131 - mae: 0.0748 - val_loss: 0.0120 - val_mse: 0.0120 - val_mae: 0.0689\n",
      "Epoch 10/10\n",
      " 693/1912 [=========>....................] - ETA: 3:30 - loss: 0.0127 - mse: 0.0127 - mae: 0.0735"
     ]
    },
    {
     "name": "stderr",
     "output_type": "stream",
     "text": [
      "IOPub message rate exceeded.\n",
      "The notebook server will temporarily stop sending output\n",
      "to the client in order to avoid crashing it.\n",
      "To change this limit, set the config variable\n",
      "`--NotebookApp.iopub_msg_rate_limit`.\n",
      "\n",
      "Current values:\n",
      "NotebookApp.iopub_msg_rate_limit=1000.0 (msgs/sec)\n",
      "NotebookApp.rate_limit_window=3.0 (secs)\n",
      "\n"
     ]
    },
    {
     "name": "stdout",
     "output_type": "stream",
     "text": [
      "1530/1530 [==============================] - 348s 227ms/step - loss: 0.0791 - mse: 0.0791 - mae: 0.2207 - val_loss: 0.0520 - val_mse: 0.0520 - val_mae: 0.1884\n",
      "Epoch 5/10\n",
      "1530/1530 [==============================] - 345s 226ms/step - loss: 0.0625 - mse: 0.0625 - mae: 0.1949 - val_loss: 0.0463 - val_mse: 0.0463 - val_mae: 0.1796\n",
      "Epoch 6/10\n",
      " 382/1530 [======>.......................] - ETA: 3:58 - loss: 0.0553 - mse: 0.0553 - mae: 0.1828"
     ]
    },
    {
     "name": "stderr",
     "output_type": "stream",
     "text": [
      "IOPub message rate exceeded.\n",
      "The notebook server will temporarily stop sending output\n",
      "to the client in order to avoid crashing it.\n",
      "To change this limit, set the config variable\n",
      "`--NotebookApp.iopub_msg_rate_limit`.\n",
      "\n",
      "Current values:\n",
      "NotebookApp.iopub_msg_rate_limit=1000.0 (msgs/sec)\n",
      "NotebookApp.rate_limit_window=3.0 (secs)\n",
      "\n"
     ]
    },
    {
     "name": "stdout",
     "output_type": "stream",
     "text": [
      "1530/1530 [==============================] - 343s 224ms/step - loss: 0.0368 - mse: 0.0368 - mae: 0.1465 - val_loss: 0.0353 - val_mse: 0.0353 - val_mae: 0.1589\n",
      "EndTime : 2023-03-17 07:13:12.564198\n",
      "Evaluating model 14...\n",
      "715/715 [==============================] - 27s 38ms/step - loss: 0.0369 - mse: 0.0369 - mae: 0.1609\n",
      "loss=0.036875, mse=0.036875, mae=0.160922\n",
      "StartTime : 2023-03-17 07:13:45.814864\n",
      "Epoch 1/10\n",
      "1479/1530 [============================>.] - ETA: 9s - loss: 0.1131 - mse: 0.1131 - mae: 0.2102 "
     ]
    },
    {
     "name": "stderr",
     "output_type": "stream",
     "text": [
      "IOPub message rate exceeded.\n",
      "The notebook server will temporarily stop sending output\n",
      "to the client in order to avoid crashing it.\n",
      "To change this limit, set the config variable\n",
      "`--NotebookApp.iopub_msg_rate_limit`.\n",
      "\n",
      "Current values:\n",
      "NotebookApp.iopub_msg_rate_limit=1000.0 (msgs/sec)\n",
      "NotebookApp.rate_limit_window=3.0 (secs)\n",
      "\n"
     ]
    },
    {
     "name": "stdout",
     "output_type": "stream",
     "text": [
      "1530/1530 [==============================] - 318s 208ms/step - loss: 0.0151 - mse: 0.0151 - mae: 0.0847 - val_loss: 0.0127 - val_mse: 0.0127 - val_mae: 0.0735\n",
      "Epoch 5/10\n",
      "1530/1530 [==============================] - 321s 210ms/step - loss: 0.0144 - mse: 0.0144 - mae: 0.0820 - val_loss: 0.0127 - val_mse: 0.0127 - val_mae: 0.0701\n",
      "Epoch 6/10\n",
      "  83/1530 [>.............................] - ETA: 4:42 - loss: 0.0144 - mse: 0.0144 - mae: 0.0814"
     ]
    },
    {
     "name": "stderr",
     "output_type": "stream",
     "text": [
      "IOPub message rate exceeded.\n",
      "The notebook server will temporarily stop sending output\n",
      "to the client in order to avoid crashing it.\n",
      "To change this limit, set the config variable\n",
      "`--NotebookApp.iopub_msg_rate_limit`.\n",
      "\n",
      "Current values:\n",
      "NotebookApp.iopub_msg_rate_limit=1000.0 (msgs/sec)\n",
      "NotebookApp.rate_limit_window=3.0 (secs)\n",
      "\n"
     ]
    },
    {
     "name": "stdout",
     "output_type": "stream",
     "text": [
      "1530/1530 [==============================] - 322s 211ms/step - loss: 0.0134 - mse: 0.0134 - mae: 0.0766 - val_loss: 0.0129 - val_mse: 0.0129 - val_mae: 0.0709\n",
      "Epoch 9/10\n",
      "1530/1530 [==============================] - 321s 210ms/step - loss: 0.0132 - mse: 0.0132 - mae: 0.0759 - val_loss: 0.0126 - val_mse: 0.0126 - val_mae: 0.0739\n",
      "Epoch 10/10\n",
      "1282/1530 [========================>.....] - ETA: 46s - loss: 0.0127 - mse: 0.0127 - mae: 0.0741"
     ]
    },
    {
     "name": "stderr",
     "output_type": "stream",
     "text": [
      "IOPub message rate exceeded.\n",
      "The notebook server will temporarily stop sending output\n",
      "to the client in order to avoid crashing it.\n",
      "To change this limit, set the config variable\n",
      "`--NotebookApp.iopub_msg_rate_limit`.\n",
      "\n",
      "Current values:\n",
      "NotebookApp.iopub_msg_rate_limit=1000.0 (msgs/sec)\n",
      "NotebookApp.rate_limit_window=3.0 (secs)\n",
      "\n"
     ]
    },
    {
     "name": "stdout",
     "output_type": "stream",
     "text": [
      "1275/1275 [==============================] - 296s 232ms/step - loss: 0.1238 - mse: 0.1238 - mae: 0.2787 - val_loss: 0.0591 - val_mse: 0.0591 - val_mae: 0.1989\n",
      "Epoch 4/10\n",
      "1275/1275 [==============================] - 299s 234ms/step - loss: 0.0873 - mse: 0.0873 - mae: 0.2337 - val_loss: 0.0441 - val_mse: 0.0441 - val_mae: 0.1714\n",
      "Epoch 5/10\n",
      " 688/1275 [===============>..............] - ETA: 2:09 - loss: 0.0704 - mse: 0.0704 - mae: 0.2098"
     ]
    },
    {
     "name": "stderr",
     "output_type": "stream",
     "text": [
      "IOPub message rate exceeded.\n",
      "The notebook server will temporarily stop sending output\n",
      "to the client in order to avoid crashing it.\n",
      "To change this limit, set the config variable\n",
      "`--NotebookApp.iopub_msg_rate_limit`.\n",
      "\n",
      "Current values:\n",
      "NotebookApp.iopub_msg_rate_limit=1000.0 (msgs/sec)\n",
      "NotebookApp.rate_limit_window=3.0 (secs)\n",
      "\n"
     ]
    },
    {
     "name": "stdout",
     "output_type": "stream",
     "text": [
      "1275/1275 [==============================] - 304s 239ms/step - loss: 0.0354 - mse: 0.0354 - mae: 0.1455 - val_loss: 0.0269 - val_mse: 0.0269 - val_mae: 0.1329\n",
      "Epoch 10/10\n",
      "1275/1275 [==============================] - 306s 240ms/step - loss: 0.0324 - mse: 0.0324 - mae: 0.1385 - val_loss: 0.0261 - val_mse: 0.0261 - val_mae: 0.1307\n",
      "EndTime : 2023-03-17 08:58:40.396260\n",
      "Evaluating model 16...\n",
      "715/715 [==============================] - 27s 38ms/step - loss: 0.0269 - mse: 0.0269 - mae: 0.1307\n",
      "loss=0.026893, mse=0.026893, mae=0.130717\n",
      "StartTime : 2023-03-17 08:59:10.722545\n",
      "Epoch 1/10\n",
      " 661/1275 [==============>...............] - ETA: 2:09 - loss: 0.1157 - mse: 0.1157 - mae: 0.2247"
     ]
    },
    {
     "name": "stderr",
     "output_type": "stream",
     "text": [
      "IOPub message rate exceeded.\n",
      "The notebook server will temporarily stop sending output\n",
      "to the client in order to avoid crashing it.\n",
      "To change this limit, set the config variable\n",
      "`--NotebookApp.iopub_msg_rate_limit`.\n",
      "\n",
      "Current values:\n",
      "NotebookApp.iopub_msg_rate_limit=1000.0 (msgs/sec)\n",
      "NotebookApp.rate_limit_window=3.0 (secs)\n",
      "\n"
     ]
    },
    {
     "name": "stdout",
     "output_type": "stream",
     "text": [
      "1275/1275 [==============================] - 296s 232ms/step - loss: 0.0140 - mse: 0.0140 - mae: 0.0802 - val_loss: 0.0122 - val_mse: 0.0122 - val_mae: 0.0681\n",
      "Epoch 6/10\n",
      "1275/1275 [==============================] - 298s 234ms/step - loss: 0.0136 - mse: 0.0136 - mae: 0.0786 - val_loss: 0.0133 - val_mse: 0.0133 - val_mae: 0.0693\n",
      "Epoch 7/10\n",
      " 512/1275 [===========>..................] - ETA: 2:47 - loss: 0.0138 - mse: 0.0138 - mae: 0.0785"
     ]
    },
    {
     "name": "stderr",
     "output_type": "stream",
     "text": [
      "IOPub message rate exceeded.\n",
      "The notebook server will temporarily stop sending output\n",
      "to the client in order to avoid crashing it.\n",
      "To change this limit, set the config variable\n",
      "`--NotebookApp.iopub_msg_rate_limit`.\n",
      "\n",
      "Current values:\n",
      "NotebookApp.iopub_msg_rate_limit=1000.0 (msgs/sec)\n",
      "NotebookApp.rate_limit_window=3.0 (secs)\n",
      "\n"
     ]
    }
   ],
   "source": [
    "import json\n",
    "from keras.models import model_from_json, load_model\n",
    "workdir = \"resnet_ht_models/comb_model\"\n",
    "\n",
    "model_eval_dict = {}\n",
    "model_dict = {}\n",
    "training_epochs = 10\n",
    "model_ht_history = {}\n",
    "\n",
    "for i in hyper_param_dict:\n",
    "    params_dict = hyper_param_dict[i]\n",
    "    learning_rate=params_dict[\"learning_rate\"] \n",
    "    batch_size=params_dict[\"batch_size\"] \n",
    "    opt_name=params_dict[\"optimizer\"]\n",
    "    \n",
    "    # hyper parameters\n",
    "    num_classes = 1\n",
    "    if opt_name == 'adam':\n",
    "        optimizer = keras.optimizers.Adam(learning_rate)\n",
    "    else: # sgd\n",
    "        optimizer = keras.optimizers.SGD(learning_rate)\n",
    "    \n",
    "    with K.tf.device('/GPU:0'): # model compile\n",
    "        inputs = Input(shape=(train_X.shape[1],1),name='inputs')\n",
    "\n",
    "        x = Conv1D(16, kernel_size=3, strides=2, padding=\"same\")(inputs)\n",
    "        x = MaxPooling1D(pool_size=5)(x)\n",
    "        x = BatchNormalization()(x)\n",
    "    #     y = x\n",
    "        x = Activation('tanh')(x)\n",
    "\n",
    "        x = Conv1D(16, kernel_size=3, strides=1, padding=\"same\")(x)\n",
    "    #     x = MaxPooling1D(pool_size=5)(x)\n",
    "        x = BatchNormalization()(x)\n",
    "        y = x\n",
    "        x = Activation('relu')(x)\n",
    "\n",
    "        x = Conv1D(16, kernel_size=3, strides=1, padding=\"same\")(x)\n",
    "    #     x = MaxPooling1D(pool_size=5)(x)\n",
    "        x = BatchNormalization()(x)\n",
    "        x = Activation('relu')(x)\n",
    "\n",
    "        x = Conv1D(16, kernel_size=3, strides=1, padding=\"same\")(x)\n",
    "    #     x = MaxPooling1D(pool_size=5)(x)\n",
    "        x = BatchNormalization()(x)\n",
    "        x = keras.layers.add([x,y])\n",
    "        x = Activation('relu')(x)\n",
    "\n",
    "\n",
    "        x = Conv1D(16, kernel_size=3, strides=1, padding=\"same\")(x)\n",
    "    #     x = MaxPooling1D(pool_size=5)(x)\n",
    "        x = BatchNormalization()(x)\n",
    "        y = x\n",
    "        x = Activation('relu')(x)\n",
    "\n",
    "\n",
    "        x = Conv1D(16, kernel_size=3, strides=1, padding=\"same\")(x)\n",
    "    #     x = MaxPooling1D(pool_size=5)(x)\n",
    "        x = BatchNormalization()(x)\n",
    "        x = Activation('relu')(x)\n",
    "\n",
    "        x = Conv1D(16, kernel_size=3, strides=1, padding=\"same\")(x)\n",
    "    #     x = MaxPooling1D(pool_size=5)(x)\n",
    "        x = BatchNormalization()(x)\n",
    "        x = Activation('relu')(x)\n",
    "\n",
    "\n",
    "        x = Conv1D(16, kernel_size=3, strides=1, padding=\"same\")(x)\n",
    "    #     x = MaxPooling1D(pool_size=5)(x)\n",
    "        x = BatchNormalization()(x)\n",
    "        x = keras.layers.add([x,y])\n",
    "        x = Activation('relu')(x)\n",
    "\n",
    "        x = Conv1D(32, kernel_size=3, strides=2, padding=\"same\")(x)\n",
    "    #     x = MaxPooling1D(pool_size=5)(x)\n",
    "        x = BatchNormalization()(x)\n",
    "        y = x\n",
    "        x = Activation('relu')(x)\n",
    "\n",
    "        x = Conv1D(32, kernel_size=3, strides=1, padding=\"same\")(x)\n",
    "    #     x = MaxPooling1D(pool_size=5)(x)\n",
    "    #     x = BatchNormalization()(x)\n",
    "\n",
    "        x = Conv1D(32, kernel_size=3, strides=1, padding=\"same\")(x)\n",
    "    #     x = MaxPooling1D(pool_size=5)(x)\n",
    "        x = BatchNormalization()(x)\n",
    "        x = keras.layers.add([x,y])\n",
    "        x = Activation('relu')(x)\n",
    "\n",
    "\n",
    "        x = Conv1D(32, kernel_size=3, strides=1, padding=\"same\")(x)\n",
    "    #     x = MaxPooling1D(pool_size=5)(x)\n",
    "        x = BatchNormalization()(x)\n",
    "        y = x\n",
    "        x = Activation('relu')(x)\n",
    "\n",
    "        x = Conv1D(32, kernel_size=3, strides=1, padding=\"same\")(x)\n",
    "    #     x = MaxPooling1D(pool_size=5)(x)\n",
    "        x = BatchNormalization()(x)\n",
    "        x = keras.layers.add([x,y])\n",
    "        x = Activation('relu')(x)\n",
    "\n",
    "        x = Conv1D(32, kernel_size=3, strides=1, padding=\"same\")(x)\n",
    "    #     x = MaxPooling1D(pool_size=5)(x)\n",
    "        x = BatchNormalization()(x)\n",
    "        y = x\n",
    "        x = Activation('relu')(x)\n",
    "\n",
    "        x = Conv1D(32, kernel_size=3, strides=1, padding=\"same\")(x)\n",
    "    #     x = MaxPooling1D(pool_size=5)(x)\n",
    "        x = BatchNormalization()(x)\n",
    "        x = keras.layers.add([x,y])\n",
    "        x = Activation('relu')(x)\n",
    "\n",
    "        x = Conv1D(64, kernel_size=3, strides=2, padding=\"same\")(x)\n",
    "    #     x = MaxPooling1D(pool_size=5)(x)\n",
    "        x = BatchNormalization()(x)\n",
    "        y = x\n",
    "        x = Activation('relu')(x)\n",
    "\n",
    "        x = Conv1D(64, kernel_size=3, strides=1, padding=\"same\")(x)\n",
    "    #     x = MaxPooling1D(pool_size=5)(x)\n",
    "    #     x = BatchNormalization()(x)\n",
    "\n",
    "        x = Conv1D(64, kernel_size=3, strides=1, padding=\"same\")(x)\n",
    "    #     x = MaxPooling1D(pool_size=5)(x)\n",
    "        x = BatchNormalization()(x)\n",
    "        x = keras.layers.add([x,y])\n",
    "        x = Activation('relu')(x)\n",
    "\n",
    "\n",
    "        x = Conv1D(64, kernel_size=3, strides=1, padding=\"same\")(x)\n",
    "    #     x = MaxPooling1D(pool_size=5)(x)\n",
    "        x = BatchNormalization()(x)\n",
    "        y = x\n",
    "        x = Activation('relu')(x)\n",
    "\n",
    "        x = Conv1D(64, kernel_size=3, strides=1, padding=\"same\")(x)\n",
    "    #     x = MaxPooling1D(pool_size=5)(x)\n",
    "        x = BatchNormalization()(x)\n",
    "        x = keras.layers.add([x,y])\n",
    "        x = Activation('relu')(x)\n",
    "\n",
    "        x = Conv1D(64, kernel_size=3, strides=1, padding=\"same\")(x)\n",
    "    #     x = MaxPooling1D(pool_size=5)(x)\n",
    "        x = BatchNormalization()(x)\n",
    "        y = x\n",
    "        x = Activation('relu')(x)\n",
    "\n",
    "        x = Conv1D(64, kernel_size=3, strides=1, padding=\"same\")(x)\n",
    "    #     x = MaxPooling1D(pool_size=5)(x)\n",
    "        x = BatchNormalization()(x)\n",
    "        x = keras.layers.add([x,y])\n",
    "        x = Activation('relu')(x)\n",
    "\n",
    "    #     x = AveragePooling1D(pool_size=8)(x)\n",
    "        x = Flatten()(x)\n",
    "        x = Dense(units=2048, name='dense1'  ) (x)\n",
    "        x = BatchNormalization()(x)\n",
    "        x = Dropout(0.1, name='dropout1') (x)\n",
    "        x = Activation('relu')(x)\n",
    "\n",
    "    #    x = Reshape((300,1))(x)\n",
    "\n",
    "    #    x = Conv1D(30, kernel_size=150, strides=1, activation = 'relu')(x)\n",
    "    #    x = MaxPooling1D(pool_size=2)(x)\n",
    "    #    x = BatchNormalization()(x)\n",
    "\n",
    "        x = Dense(units=1024, name='dense5'  ) (x)\n",
    "        x = BatchNormalization()(x)\n",
    "        y = x\n",
    "        x = Dropout(0.1, name='dropout5') (x)\n",
    "        x = Activation('relu')(x)\n",
    "\n",
    "        x = Dense(units=512, name='dense6'  ) (x)\n",
    "        x = BatchNormalization()(x)\n",
    "        x = Dropout(0.1, name='dropout6') (x)\n",
    "        x = Activation('relu')(x)\n",
    "\n",
    "        x = Dense(units=1024, name='dense7'  ) (x)\n",
    "        x = BatchNormalization()(x)\n",
    "        x = Dropout(0.1, name='dropout7') (x)\n",
    "        x = keras.layers.add([x,y])\n",
    "        x = Activation('relu')(x)\n",
    "\n",
    "        x = Dense(units=512, name='dense8'  ) (x)\n",
    "        x = BatchNormalization()(x)\n",
    "        x = Dropout(0.1, name='dropout8') (x)\n",
    "        x = Activation('relu')(x)\n",
    "\n",
    "        x = Dense(units=256, name='dense9'  ) (x)\n",
    "        x = BatchNormalization()(x)\n",
    "        x = Dropout(0.1, name='dropout9') (x)\n",
    "        x = Activation('relu')(x)\n",
    "\n",
    "        x = Dense(units=128, name='dense10'  ) (x)\n",
    "        x = BatchNormalization()(x)\n",
    "        y = x\n",
    "        x = Dropout(0.1, name='dropout10') (x)\n",
    "        x = Activation('relu')(x)\n",
    "\n",
    "\n",
    "        predictions = Dense(1, activation='linear', name='predictions', kernel_initializer='he_normal')(x)\n",
    "\n",
    "        model = Model(inputs=inputs, outputs=predictions, name='Test_v2_DNN')\n",
    "        model.compile(loss=keras.losses.mean_squared_error,\n",
    "                      optimizer=optimizer,\n",
    "                      metrics=['mse','mae'])\n",
    "        \n",
    "        # model training\n",
    "        StartTime8 = datetime.now()\n",
    "        print(\"StartTime :\", StartTime8)\n",
    "        with K.tf.device('/GPU:0'):\n",
    "            model_train = model.fit(train_X, train_y, batch_size=batch_size,epochs=training_epochs,verbose=1,\n",
    "                                validation_data=(val_X, val_y))\n",
    "\n",
    "        EndTime8 = datetime.now()\n",
    "        print(\"EndTime :\", EndTime8)\n",
    "    model.save_weights(workdir+ f'/model_{i}_new.h5')\n",
    "    with open(workdir + f'/model_architecture_{i}_new.json', 'w') as f:\n",
    "        f.write(model.to_json())\n",
    "        \n",
    "    # evaluation\n",
    "    print(f\"Evaluating model {i}...\")\n",
    "    test_score = model.evaluate(test_X, test_y, verbose=1)\n",
    "    model_ht_history[(learning_rate, batch_size)] = model\n",
    "    loss, mse, mae = test_score\n",
    "    print(\"loss=%.6f, mse=%.6f, mae=%.6f\"%(loss, mse, mae))\n",
    "    \n",
    "    model_dict[i] = model\n",
    "    model_eval_dict[i] = {\"loss\":loss, \"mse\":mse, \"mae\":mae}"
   ]
  },
  {
   "cell_type": "code",
   "execution_count": 24,
   "metadata": {},
   "outputs": [],
   "source": [
    "min_mse = 10\n",
    "bst_model_id_lst = []\n",
    "for i in model_eval_dict:\n",
    "    if model_eval_dict[i]['mse'] < min_mse:\n",
    "        bst_model_id_lst = []\n",
    "        bst_model_id_lst.append(i)\n",
    "        min_mse = model_eval_dict[i]['mse']\n",
    "    elif model_eval_dict[i]['mse'] == min_mse:\n",
    "        bst_model_id_lst.append(i)"
   ]
  },
  {
   "cell_type": "code",
   "execution_count": 25,
   "metadata": {},
   "outputs": [
    {
     "data": {
      "text/plain": [
       "[15]"
      ]
     },
     "execution_count": 25,
     "metadata": {},
     "output_type": "execute_result"
    }
   ],
   "source": [
    "bst_model_id_lst"
   ]
  },
  {
   "cell_type": "code",
   "execution_count": null,
   "metadata": {},
   "outputs": [],
   "source": []
  },
  {
   "cell_type": "code",
   "execution_count": 26,
   "metadata": {},
   "outputs": [
    {
     "data": {
      "text/plain": [
       "{'loss': 0.015598895028233528,\n",
       " 'mse': 0.015598895028233528,\n",
       " 'mae': 0.07869283109903336}"
      ]
     },
     "execution_count": 26,
     "metadata": {},
     "output_type": "execute_result"
    }
   ],
   "source": [
    "model_eval_dict[15]"
   ]
  },
  {
   "cell_type": "code",
   "execution_count": 27,
   "metadata": {},
   "outputs": [
    {
     "data": {
      "text/plain": [
       "{'learning_rate': 0.0005, 'batch_size': 100, 'optimizer': 'adam'}"
      ]
     },
     "execution_count": 27,
     "metadata": {},
     "output_type": "execute_result"
    }
   ],
   "source": [
    "hyper_param_dict[15]"
   ]
  },
  {
   "cell_type": "code",
   "execution_count": 28,
   "metadata": {},
   "outputs": [],
   "source": [
    "best_model = model_dict[15]"
   ]
  },
  {
   "cell_type": "code",
   "execution_count": 29,
   "metadata": {},
   "outputs": [
    {
     "data": {
      "text/plain": [
       "True"
      ]
     },
     "execution_count": 29,
     "metadata": {},
     "output_type": "execute_result"
    }
   ],
   "source": [
    "model_ht_history[(0.0005, 100)] is best_model"
   ]
  },
  {
   "cell_type": "code",
   "execution_count": 30,
   "metadata": {},
   "outputs": [],
   "source": [
    "import json\n",
    "from keras.models import model_from_json, load_model\n",
    "workdir = \"resnet_ht_models/comb_model\"\n",
    "\n",
    "json_file = open(workdir +'/model_architecture_15_new.json', 'r')\n",
    "loaded_model_json = json_file.read()\n",
    "json_file.close()\n",
    "loaded_model = model_from_json(loaded_model_json)\n",
    "# load weights into new model\n",
    "loaded_model.load_weights(workdir +\"/model_15_new.h5\")"
   ]
  },
  {
   "cell_type": "code",
   "execution_count": 31,
   "metadata": {},
   "outputs": [],
   "source": [
    "best_model = loaded_model"
   ]
  },
  {
   "cell_type": "code",
   "execution_count": 32,
   "metadata": {},
   "outputs": [],
   "source": [
    "best_model.compile(loss=keras.losses.mean_squared_error,\n",
    "                  optimizer=tf.keras.optimizers.Adam(0.0005),\n",
    "                  metrics=['mse','mae'])"
   ]
  },
  {
   "cell_type": "code",
   "execution_count": 33,
   "metadata": {},
   "outputs": [
    {
     "name": "stdout",
     "output_type": "stream",
     "text": [
      "715/715 [==============================] - 27s 35ms/step - loss: 0.0156 - mse: 0.0156 - mae: 0.0787\n"
     ]
    }
   ],
   "source": [
    "test_eval = best_model.evaluate(test_X, test_y, verbose=1)"
   ]
  },
  {
   "cell_type": "code",
   "execution_count": 34,
   "metadata": {},
   "outputs": [
    {
     "data": {
      "text/plain": [
       "[0.015598895028233528, 0.015598895028233528, 0.07869283109903336]"
      ]
     },
     "execution_count": 34,
     "metadata": {},
     "output_type": "execute_result"
    }
   ],
   "source": [
    "test_eval"
   ]
  },
  {
   "cell_type": "code",
   "execution_count": 35,
   "metadata": {},
   "outputs": [
    {
     "name": "stdout",
     "output_type": "stream",
     "text": [
      "Epoch 1/10\n",
      "1275/1275 [==============================] - 299s 228ms/step - loss: 0.0123 - mse: 0.0123 - mae: 0.0724 - val_loss: 0.0123 - val_mse: 0.0123 - val_mae: 0.0682\n",
      "Epoch 2/10\n",
      "1275/1275 [==============================] - 301s 236ms/step - loss: 0.0119 - mse: 0.0119 - mae: 0.0708 - val_loss: 0.0121 - val_mse: 0.0121 - val_mae: 0.0674\n",
      "Epoch 3/10\n",
      "1275/1275 [==============================] - 292s 229ms/step - loss: 0.0114 - mse: 0.0114 - mae: 0.0690 - val_loss: 0.0111 - val_mse: 0.0111 - val_mae: 0.0677\n",
      "Epoch 4/10\n",
      "1275/1275 [==============================] - 285s 223ms/step - loss: 0.0111 - mse: 0.0111 - mae: 0.0681 - val_loss: 0.0108 - val_mse: 0.0108 - val_mae: 0.0636\n",
      "Epoch 5/10\n",
      "1275/1275 [==============================] - 289s 227ms/step - loss: 0.0106 - mse: 0.0106 - mae: 0.0666 - val_loss: 0.0108 - val_mse: 0.0108 - val_mae: 0.0650\n",
      "Epoch 6/10\n",
      "1275/1275 [==============================] - 291s 228ms/step - loss: 0.0102 - mse: 0.0102 - mae: 0.0652 - val_loss: 0.0100 - val_mse: 0.0100 - val_mae: 0.0626\n",
      "Epoch 7/10\n",
      "1275/1275 [==============================] - 304s 239ms/step - loss: 0.0098 - mse: 0.0098 - mae: 0.0638 - val_loss: 0.0101 - val_mse: 0.0101 - val_mae: 0.0637\n",
      "Epoch 8/10\n",
      "1275/1275 [==============================] - 297s 233ms/step - loss: 0.0094 - mse: 0.0094 - mae: 0.0628 - val_loss: 0.0099 - val_mse: 0.0099 - val_mae: 0.0625\n",
      "Epoch 9/10\n",
      "1275/1275 [==============================] - 305s 239ms/step - loss: 0.0090 - mse: 0.0090 - mae: 0.0613 - val_loss: 0.0094 - val_mse: 0.0094 - val_mae: 0.0599\n",
      "Epoch 10/10\n",
      "1275/1275 [==============================] - 300s 235ms/step - loss: 0.0085 - mse: 0.0085 - mae: 0.0599 - val_loss: 0.0094 - val_mse: 0.0094 - val_mae: 0.0601\n"
     ]
    }
   ],
   "source": [
    "model_train = best_model.fit(train_X, train_y, batch_size=batch_size,epochs=training_epochs,verbose=1,\n",
    "                                validation_data=(val_X, val_y))"
   ]
  },
  {
   "cell_type": "code",
   "execution_count": 36,
   "metadata": {},
   "outputs": [
    {
     "name": "stdout",
     "output_type": "stream",
     "text": [
      "Model: \"Test_v2_DNN\"\n",
      "__________________________________________________________________________________________________\n",
      " Layer (type)                   Output Shape         Param #     Connected to                     \n",
      "==================================================================================================\n",
      " inputs (InputLayer)            [(None, 2973, 1)]    0           []                               \n",
      "                                                                                                  \n",
      " conv1d_330 (Conv1D)            (None, 1487, 16)     64          ['inputs[0][0]']                 \n",
      "                                                                                                  \n",
      " max_pooling1d_15 (MaxPooling1D  (None, 297, 16)     0           ['conv1d_330[0][0]']             \n",
      " )                                                                                                \n",
      "                                                                                                  \n",
      " batch_normalization_405 (Batch  (None, 297, 16)     64          ['max_pooling1d_15[0][0]']       \n",
      " Normalization)                                                                                   \n",
      "                                                                                                  \n",
      " activation_405 (Activation)    (None, 297, 16)      0           ['batch_normalization_405[0][0]']\n",
      "                                                                                                  \n",
      " conv1d_331 (Conv1D)            (None, 297, 16)      784         ['activation_405[0][0]']         \n",
      "                                                                                                  \n",
      " batch_normalization_406 (Batch  (None, 297, 16)     64          ['conv1d_331[0][0]']             \n",
      " Normalization)                                                                                   \n",
      "                                                                                                  \n",
      " activation_406 (Activation)    (None, 297, 16)      0           ['batch_normalization_406[0][0]']\n",
      "                                                                                                  \n",
      " conv1d_332 (Conv1D)            (None, 297, 16)      784         ['activation_406[0][0]']         \n",
      "                                                                                                  \n",
      " batch_normalization_407 (Batch  (None, 297, 16)     64          ['conv1d_332[0][0]']             \n",
      " Normalization)                                                                                   \n",
      "                                                                                                  \n",
      " activation_407 (Activation)    (None, 297, 16)      0           ['batch_normalization_407[0][0]']\n",
      "                                                                                                  \n",
      " conv1d_333 (Conv1D)            (None, 297, 16)      784         ['activation_407[0][0]']         \n",
      "                                                                                                  \n",
      " batch_normalization_408 (Batch  (None, 297, 16)     64          ['conv1d_333[0][0]']             \n",
      " Normalization)                                                                                   \n",
      "                                                                                                  \n",
      " add_135 (Add)                  (None, 297, 16)      0           ['batch_normalization_408[0][0]',\n",
      "                                                                  'batch_normalization_406[0][0]']\n",
      "                                                                                                  \n",
      " activation_408 (Activation)    (None, 297, 16)      0           ['add_135[0][0]']                \n",
      "                                                                                                  \n",
      " conv1d_334 (Conv1D)            (None, 297, 16)      784         ['activation_408[0][0]']         \n",
      "                                                                                                  \n",
      " batch_normalization_409 (Batch  (None, 297, 16)     64          ['conv1d_334[0][0]']             \n",
      " Normalization)                                                                                   \n",
      "                                                                                                  \n",
      " activation_409 (Activation)    (None, 297, 16)      0           ['batch_normalization_409[0][0]']\n",
      "                                                                                                  \n",
      " conv1d_335 (Conv1D)            (None, 297, 16)      784         ['activation_409[0][0]']         \n",
      "                                                                                                  \n",
      " batch_normalization_410 (Batch  (None, 297, 16)     64          ['conv1d_335[0][0]']             \n",
      " Normalization)                                                                                   \n",
      "                                                                                                  \n",
      " activation_410 (Activation)    (None, 297, 16)      0           ['batch_normalization_410[0][0]']\n",
      "                                                                                                  \n",
      " conv1d_336 (Conv1D)            (None, 297, 16)      784         ['activation_410[0][0]']         \n",
      "                                                                                                  \n",
      " batch_normalization_411 (Batch  (None, 297, 16)     64          ['conv1d_336[0][0]']             \n",
      " Normalization)                                                                                   \n",
      "                                                                                                  \n",
      " activation_411 (Activation)    (None, 297, 16)      0           ['batch_normalization_411[0][0]']\n",
      "                                                                                                  \n",
      " conv1d_337 (Conv1D)            (None, 297, 16)      784         ['activation_411[0][0]']         \n",
      "                                                                                                  \n",
      " batch_normalization_412 (Batch  (None, 297, 16)     64          ['conv1d_337[0][0]']             \n",
      " Normalization)                                                                                   \n",
      "                                                                                                  \n",
      " add_136 (Add)                  (None, 297, 16)      0           ['batch_normalization_412[0][0]',\n",
      "                                                                  'batch_normalization_409[0][0]']\n",
      "                                                                                                  \n",
      " activation_412 (Activation)    (None, 297, 16)      0           ['add_136[0][0]']                \n",
      "                                                                                                  \n",
      " conv1d_338 (Conv1D)            (None, 149, 32)      1568        ['activation_412[0][0]']         \n",
      "                                                                                                  \n",
      " batch_normalization_413 (Batch  (None, 149, 32)     128         ['conv1d_338[0][0]']             \n",
      " Normalization)                                                                                   \n",
      "                                                                                                  \n",
      " activation_413 (Activation)    (None, 149, 32)      0           ['batch_normalization_413[0][0]']\n",
      "                                                                                                  \n",
      " conv1d_339 (Conv1D)            (None, 149, 32)      3104        ['activation_413[0][0]']         \n",
      "                                                                                                  \n",
      " conv1d_340 (Conv1D)            (None, 149, 32)      3104        ['conv1d_339[0][0]']             \n",
      "                                                                                                  \n",
      " batch_normalization_414 (Batch  (None, 149, 32)     128         ['conv1d_340[0][0]']             \n",
      " Normalization)                                                                                   \n"
     ]
    },
    {
     "name": "stdout",
     "output_type": "stream",
     "text": [
      "                                                                                                  \n",
      " add_137 (Add)                  (None, 149, 32)      0           ['batch_normalization_414[0][0]',\n",
      "                                                                  'batch_normalization_413[0][0]']\n",
      "                                                                                                  \n",
      " activation_414 (Activation)    (None, 149, 32)      0           ['add_137[0][0]']                \n",
      "                                                                                                  \n",
      " conv1d_341 (Conv1D)            (None, 149, 32)      3104        ['activation_414[0][0]']         \n",
      "                                                                                                  \n",
      " batch_normalization_415 (Batch  (None, 149, 32)     128         ['conv1d_341[0][0]']             \n",
      " Normalization)                                                                                   \n",
      "                                                                                                  \n",
      " activation_415 (Activation)    (None, 149, 32)      0           ['batch_normalization_415[0][0]']\n",
      "                                                                                                  \n",
      " conv1d_342 (Conv1D)            (None, 149, 32)      3104        ['activation_415[0][0]']         \n",
      "                                                                                                  \n",
      " batch_normalization_416 (Batch  (None, 149, 32)     128         ['conv1d_342[0][0]']             \n",
      " Normalization)                                                                                   \n",
      "                                                                                                  \n",
      " add_138 (Add)                  (None, 149, 32)      0           ['batch_normalization_416[0][0]',\n",
      "                                                                  'batch_normalization_415[0][0]']\n",
      "                                                                                                  \n",
      " activation_416 (Activation)    (None, 149, 32)      0           ['add_138[0][0]']                \n",
      "                                                                                                  \n",
      " conv1d_343 (Conv1D)            (None, 149, 32)      3104        ['activation_416[0][0]']         \n",
      "                                                                                                  \n",
      " batch_normalization_417 (Batch  (None, 149, 32)     128         ['conv1d_343[0][0]']             \n",
      " Normalization)                                                                                   \n",
      "                                                                                                  \n",
      " activation_417 (Activation)    (None, 149, 32)      0           ['batch_normalization_417[0][0]']\n",
      "                                                                                                  \n",
      " conv1d_344 (Conv1D)            (None, 149, 32)      3104        ['activation_417[0][0]']         \n",
      "                                                                                                  \n",
      " batch_normalization_418 (Batch  (None, 149, 32)     128         ['conv1d_344[0][0]']             \n",
      " Normalization)                                                                                   \n",
      "                                                                                                  \n",
      " add_139 (Add)                  (None, 149, 32)      0           ['batch_normalization_418[0][0]',\n",
      "                                                                  'batch_normalization_417[0][0]']\n",
      "                                                                                                  \n",
      " activation_418 (Activation)    (None, 149, 32)      0           ['add_139[0][0]']                \n",
      "                                                                                                  \n",
      " conv1d_345 (Conv1D)            (None, 75, 64)       6208        ['activation_418[0][0]']         \n",
      "                                                                                                  \n",
      " batch_normalization_419 (Batch  (None, 75, 64)      256         ['conv1d_345[0][0]']             \n",
      " Normalization)                                                                                   \n",
      "                                                                                                  \n",
      " activation_419 (Activation)    (None, 75, 64)       0           ['batch_normalization_419[0][0]']\n",
      "                                                                                                  \n",
      " conv1d_346 (Conv1D)            (None, 75, 64)       12352       ['activation_419[0][0]']         \n",
      "                                                                                                  \n",
      " conv1d_347 (Conv1D)            (None, 75, 64)       12352       ['conv1d_346[0][0]']             \n",
      "                                                                                                  \n",
      " batch_normalization_420 (Batch  (None, 75, 64)      256         ['conv1d_347[0][0]']             \n",
      " Normalization)                                                                                   \n",
      "                                                                                                  \n",
      " add_140 (Add)                  (None, 75, 64)       0           ['batch_normalization_420[0][0]',\n",
      "                                                                  'batch_normalization_419[0][0]']\n",
      "                                                                                                  \n",
      " activation_420 (Activation)    (None, 75, 64)       0           ['add_140[0][0]']                \n",
      "                                                                                                  \n",
      " conv1d_348 (Conv1D)            (None, 75, 64)       12352       ['activation_420[0][0]']         \n",
      "                                                                                                  \n",
      " batch_normalization_421 (Batch  (None, 75, 64)      256         ['conv1d_348[0][0]']             \n",
      " Normalization)                                                                                   \n",
      "                                                                                                  \n",
      " activation_421 (Activation)    (None, 75, 64)       0           ['batch_normalization_421[0][0]']\n",
      "                                                                                                  \n",
      " conv1d_349 (Conv1D)            (None, 75, 64)       12352       ['activation_421[0][0]']         \n",
      "                                                                                                  \n",
      " batch_normalization_422 (Batch  (None, 75, 64)      256         ['conv1d_349[0][0]']             \n",
      " Normalization)                                                                                   \n",
      "                                                                                                  \n",
      " add_141 (Add)                  (None, 75, 64)       0           ['batch_normalization_422[0][0]',\n",
      "                                                                  'batch_normalization_421[0][0]']\n",
      "                                                                                                  \n",
      " activation_422 (Activation)    (None, 75, 64)       0           ['add_141[0][0]']                \n",
      "                                                                                                  \n",
      " conv1d_350 (Conv1D)            (None, 75, 64)       12352       ['activation_422[0][0]']         \n",
      "                                                                                                  \n",
      " batch_normalization_423 (Batch  (None, 75, 64)      256         ['conv1d_350[0][0]']             \n",
      " Normalization)                                                                                   \n",
      "                                                                                                  \n",
      " activation_423 (Activation)    (None, 75, 64)       0           ['batch_normalization_423[0][0]']\n",
      "                                                                                                  \n"
     ]
    },
    {
     "name": "stdout",
     "output_type": "stream",
     "text": [
      " conv1d_351 (Conv1D)            (None, 75, 64)       12352       ['activation_423[0][0]']         \n",
      "                                                                                                  \n",
      " batch_normalization_424 (Batch  (None, 75, 64)      256         ['conv1d_351[0][0]']             \n",
      " Normalization)                                                                                   \n",
      "                                                                                                  \n",
      " add_142 (Add)                  (None, 75, 64)       0           ['batch_normalization_424[0][0]',\n",
      "                                                                  'batch_normalization_423[0][0]']\n",
      "                                                                                                  \n",
      " activation_424 (Activation)    (None, 75, 64)       0           ['add_142[0][0]']                \n",
      "                                                                                                  \n",
      " flatten_15 (Flatten)           (None, 4800)         0           ['activation_424[0][0]']         \n",
      "                                                                                                  \n",
      " dense1 (Dense)                 (None, 2048)         9832448     ['flatten_15[0][0]']             \n",
      "                                                                                                  \n",
      " batch_normalization_425 (Batch  (None, 2048)        8192        ['dense1[0][0]']                 \n",
      " Normalization)                                                                                   \n",
      "                                                                                                  \n",
      " dropout1 (Dropout)             (None, 2048)         0           ['batch_normalization_425[0][0]']\n",
      "                                                                                                  \n",
      " activation_425 (Activation)    (None, 2048)         0           ['dropout1[0][0]']               \n",
      "                                                                                                  \n",
      " dense5 (Dense)                 (None, 1024)         2098176     ['activation_425[0][0]']         \n",
      "                                                                                                  \n",
      " batch_normalization_426 (Batch  (None, 1024)        4096        ['dense5[0][0]']                 \n",
      " Normalization)                                                                                   \n",
      "                                                                                                  \n",
      " dropout5 (Dropout)             (None, 1024)         0           ['batch_normalization_426[0][0]']\n",
      "                                                                                                  \n",
      " activation_426 (Activation)    (None, 1024)         0           ['dropout5[0][0]']               \n",
      "                                                                                                  \n",
      " dense6 (Dense)                 (None, 512)          524800      ['activation_426[0][0]']         \n",
      "                                                                                                  \n",
      " batch_normalization_427 (Batch  (None, 512)         2048        ['dense6[0][0]']                 \n",
      " Normalization)                                                                                   \n",
      "                                                                                                  \n",
      " dropout6 (Dropout)             (None, 512)          0           ['batch_normalization_427[0][0]']\n",
      "                                                                                                  \n",
      " activation_427 (Activation)    (None, 512)          0           ['dropout6[0][0]']               \n",
      "                                                                                                  \n",
      " dense7 (Dense)                 (None, 1024)         525312      ['activation_427[0][0]']         \n",
      "                                                                                                  \n",
      " batch_normalization_428 (Batch  (None, 1024)        4096        ['dense7[0][0]']                 \n",
      " Normalization)                                                                                   \n",
      "                                                                                                  \n",
      " dropout7 (Dropout)             (None, 1024)         0           ['batch_normalization_428[0][0]']\n",
      "                                                                                                  \n",
      " add_143 (Add)                  (None, 1024)         0           ['dropout7[0][0]',               \n",
      "                                                                  'batch_normalization_426[0][0]']\n",
      "                                                                                                  \n",
      " activation_428 (Activation)    (None, 1024)         0           ['add_143[0][0]']                \n",
      "                                                                                                  \n",
      " dense8 (Dense)                 (None, 512)          524800      ['activation_428[0][0]']         \n",
      "                                                                                                  \n",
      " batch_normalization_429 (Batch  (None, 512)         2048        ['dense8[0][0]']                 \n",
      " Normalization)                                                                                   \n",
      "                                                                                                  \n",
      " dropout8 (Dropout)             (None, 512)          0           ['batch_normalization_429[0][0]']\n",
      "                                                                                                  \n",
      " activation_429 (Activation)    (None, 512)          0           ['dropout8[0][0]']               \n",
      "                                                                                                  \n",
      " dense9 (Dense)                 (None, 256)          131328      ['activation_429[0][0]']         \n",
      "                                                                                                  \n",
      " batch_normalization_430 (Batch  (None, 256)         1024        ['dense9[0][0]']                 \n",
      " Normalization)                                                                                   \n",
      "                                                                                                  \n",
      " dropout9 (Dropout)             (None, 256)          0           ['batch_normalization_430[0][0]']\n",
      "                                                                                                  \n",
      " activation_430 (Activation)    (None, 256)          0           ['dropout9[0][0]']               \n",
      "                                                                                                  \n",
      " dense10 (Dense)                (None, 128)          32896       ['activation_430[0][0]']         \n",
      "                                                                                                  \n",
      " batch_normalization_431 (Batch  (None, 128)         512         ['dense10[0][0]']                \n",
      " Normalization)                                                                                   \n",
      "                                                                                                  \n",
      " dropout10 (Dropout)            (None, 128)          0           ['batch_normalization_431[0][0]']\n",
      "                                                                                                  \n",
      " activation_431 (Activation)    (None, 128)          0           ['dropout10[0][0]']              \n",
      "                                                                                                  \n",
      " predictions (Dense)            (None, 1)            129         ['activation_431[0][0]']         \n",
      "                                                                                                  \n",
      "==================================================================================================\n",
      "Total params: 13,800,785\n",
      "Trainable params: 13,788,369\n",
      "Non-trainable params: 12,416\n",
      "__________________________________________________________________________________________________\n"
     ]
    }
   ],
   "source": [
    "best_model.summary()"
   ]
  },
  {
   "cell_type": "code",
   "execution_count": 37,
   "metadata": {},
   "outputs": [],
   "source": [
    "# mse and loss monitor\n",
    "\n",
    "accuracy = model_train.history['mse']\n",
    "val_accuracy = model_train.history['val_mse']\n",
    "loss = model_train.history['loss']\n",
    "val_loss = model_train.history['val_loss']\n",
    "\n",
    "np_acc = np.array(accuracy)\n",
    "np_val_acc = np.array(val_accuracy)\n",
    "np_loss = np.array(loss)\n",
    "np_val_loss = np.array(val_loss)"
   ]
  },
  {
   "cell_type": "code",
   "execution_count": 38,
   "metadata": {},
   "outputs": [],
   "source": [
    "import matplotlib\n",
    "from matplotlib import pyplot as plt"
   ]
  },
  {
   "cell_type": "code",
   "execution_count": 39,
   "metadata": {},
   "outputs": [
    {
     "data": {
      "image/png": "[encoded data removed]",
      "text/plain": [
       "<Figure size 432x288 with 1 Axes>"
      ]
     },
     "metadata": {
      "needs_background": "light"
     },
     "output_type": "display_data"
    },
    {
     "data": {
      "image/png": "[encoded data removed]",
      "text/plain": [
       "<Figure size 432x288 with 1 Axes>"
      ]
     },
     "metadata": {
      "needs_background": "light"
     },
     "output_type": "display_data"
    }
   ],
   "source": [
    "epochs = range(len(accuracy))\n",
    "plt.plot(epochs, accuracy, 'bo', label='Training mse')\n",
    "plt.plot(epochs, val_accuracy, 'b', label='Validation mse')\n",
    "plt.title('Training and validation mse')\n",
    "plt.legend()\n",
    "plt.figure()\n",
    "plt.plot(epochs, loss, 'bo', label='Training loss')\n",
    "plt.plot(epochs, val_loss, 'b', label='Validation loss')\n",
    "plt.title('Training and validation loss')\n",
    "plt.legend()\n",
    "plt.savefig(workdir + '//mse_loss_plot.png')\n",
    "plt.show()"
   ]
  },
  {
   "cell_type": "code",
   "execution_count": 40,
   "metadata": {},
   "outputs": [
    {
     "name": "stdout",
     "output_type": "stream",
     "text": [
      "715/715 [==============================] - 30s 40ms/step\n"
     ]
    }
   ],
   "source": [
    "# test validation\n",
    "predicted_classes = best_model.predict(test_X)"
   ]
  },
  {
   "cell_type": "code",
   "execution_count": 41,
   "metadata": {},
   "outputs": [],
   "source": [
    "predicted_value = predicted_classes"
   ]
  },
  {
   "cell_type": "code",
   "execution_count": 42,
   "metadata": {},
   "outputs": [],
   "source": [
    "a = pd.DataFrame(predicted_value)\n",
    "b = pd.DataFrame(test_y)\n",
    "c = pd.concat([a,b], axis=1)\n",
    "c.columns=[\"Predicted\",\"Test\"]"
   ]
  },
  {
   "cell_type": "code",
   "execution_count": 66,
   "metadata": {},
   "outputs": [],
   "source": [
    "c.to_csv(workdir + '/DeepAUCv2_epoch_10_ht_result_new.csv')"
   ]
  },
  {
   "cell_type": "code",
   "execution_count": 44,
   "metadata": {
    "scrolled": true
   },
   "outputs": [
    {
     "data": {
      "text/html": [
       "<div>\n",
       "<style scoped>\n",
       "    .dataframe tbody tr th:only-of-type {\n",
       "        vertical-align: middle;\n",
       "    }\n",
       "\n",
       "    .dataframe tbody tr th {\n",
       "        vertical-align: top;\n",
       "    }\n",
       "\n",
       "    .dataframe thead th {\n",
       "        text-align: right;\n",
       "    }\n",
       "</style>\n",
       "<table border=\"1\" class=\"dataframe\">\n",
       "  <thead>\n",
       "    <tr style=\"text-align: right;\">\n",
       "      <th></th>\n",
       "      <th>Predicted</th>\n",
       "      <th>Test</th>\n",
       "    </tr>\n",
       "  </thead>\n",
       "  <tbody>\n",
       "    <tr>\n",
       "      <th>0</th>\n",
       "      <td>0.682176</td>\n",
       "      <td>0.528562</td>\n",
       "    </tr>\n",
       "    <tr>\n",
       "      <th>1</th>\n",
       "      <td>0.917732</td>\n",
       "      <td>0.930958</td>\n",
       "    </tr>\n",
       "    <tr>\n",
       "      <th>2</th>\n",
       "      <td>0.875777</td>\n",
       "      <td>0.759249</td>\n",
       "    </tr>\n",
       "    <tr>\n",
       "      <th>3</th>\n",
       "      <td>0.945663</td>\n",
       "      <td>0.936510</td>\n",
       "    </tr>\n",
       "    <tr>\n",
       "      <th>4</th>\n",
       "      <td>0.859368</td>\n",
       "      <td>0.823453</td>\n",
       "    </tr>\n",
       "    <tr>\n",
       "      <th>...</th>\n",
       "      <td>...</td>\n",
       "      <td>...</td>\n",
       "    </tr>\n",
       "    <tr>\n",
       "      <th>22873</th>\n",
       "      <td>0.729678</td>\n",
       "      <td>0.975578</td>\n",
       "    </tr>\n",
       "    <tr>\n",
       "      <th>22874</th>\n",
       "      <td>0.976484</td>\n",
       "      <td>0.980529</td>\n",
       "    </tr>\n",
       "    <tr>\n",
       "      <th>22875</th>\n",
       "      <td>0.922746</td>\n",
       "      <td>0.960501</td>\n",
       "    </tr>\n",
       "    <tr>\n",
       "      <th>22876</th>\n",
       "      <td>0.976536</td>\n",
       "      <td>0.970524</td>\n",
       "    </tr>\n",
       "    <tr>\n",
       "      <th>22877</th>\n",
       "      <td>0.678524</td>\n",
       "      <td>0.706073</td>\n",
       "    </tr>\n",
       "  </tbody>\n",
       "</table>\n",
       "<p>22878 rows × 2 columns</p>\n",
       "</div>"
      ],
      "text/plain": [
       "       Predicted      Test\n",
       "0       0.682176  0.528562\n",
       "1       0.917732  0.930958\n",
       "2       0.875777  0.759249\n",
       "3       0.945663  0.936510\n",
       "4       0.859368  0.823453\n",
       "...          ...       ...\n",
       "22873   0.729678  0.975578\n",
       "22874   0.976484  0.980529\n",
       "22875   0.922746  0.960501\n",
       "22876   0.976536  0.970524\n",
       "22877   0.678524  0.706073\n",
       "\n",
       "[22878 rows x 2 columns]"
      ]
     },
     "execution_count": 44,
     "metadata": {},
     "output_type": "execute_result"
    }
   ],
   "source": [
    "c"
   ]
  },
  {
   "cell_type": "code",
   "execution_count": 45,
   "metadata": {},
   "outputs": [
    {
     "data": {
      "text/plain": [
       "(22878, 1)"
      ]
     },
     "execution_count": 45,
     "metadata": {},
     "output_type": "execute_result"
    }
   ],
   "source": [
    "predicted_value.shape"
   ]
  },
  {
   "cell_type": "code",
   "execution_count": 46,
   "metadata": {},
   "outputs": [
    {
     "data": {
      "text/plain": [
       "Text(0, 0.5, 'predicted_AUC_value')"
      ]
     },
     "execution_count": 46,
     "metadata": {},
     "output_type": "execute_result"
    },
    {
     "data": {
      "image/png": "[encoded data removed]",
      "text/plain": [
       "<Figure size 432x288 with 1 Axes>"
      ]
     },
     "metadata": {
      "needs_background": "light"
     },
     "output_type": "display_data"
    }
   ],
   "source": [
    "# scatter plot as test validation\n",
    "plt.scatter(test_y,predicted_value,c='blue')\n",
    "plt.xlabel('test_AUC_value')\n",
    "plt.ylabel('predicted_AUC_value')\n",
    "# plt.savefig(workdir + '/DeepAUCv2_epoch_10_ht_test_scatterplot_new.png')"
   ]
  },
  {
   "cell_type": "code",
   "execution_count": 47,
   "metadata": {},
   "outputs": [
    {
     "name": "stdout",
     "output_type": "stream",
     "text": [
      "Final rmse value is = 0.12862237734620172\n"
     ]
    }
   ],
   "source": [
    "# calculate RMSE\n",
    "\n",
    "rse = ((b[0]-a[0])**2).sum()\n",
    "mse = rse / len(b)\n",
    "print(\"Final rmse value is =\",np.sqrt(mse))"
   ]
  },
  {
   "cell_type": "code",
   "execution_count": 48,
   "metadata": {},
   "outputs": [
    {
     "data": {
      "text/plain": [
       "0.07811579817565177"
      ]
     },
     "execution_count": 48,
     "metadata": {},
     "output_type": "execute_result"
    }
   ],
   "source": [
    "mae = (np.abs(b[0]-a[0])).sum()\n",
    "mae / len(b)"
   ]
  },
  {
   "cell_type": "code",
   "execution_count": 49,
   "metadata": {},
   "outputs": [
    {
     "data": {
      "text/plain": [
       "0.016543715954188704"
      ]
     },
     "execution_count": 49,
     "metadata": {},
     "output_type": "execute_result"
    }
   ],
   "source": [
    "mse"
   ]
  },
  {
   "cell_type": "code",
   "execution_count": 50,
   "metadata": {},
   "outputs": [
    {
     "name": "stdout",
     "output_type": "stream",
     "text": [
      "0.5080917901797122\n"
     ]
    }
   ],
   "source": [
    "# R-squared value\n",
    "\n",
    "from sklearn.metrics import r2_score\n",
    "r2_value = r2_score(b, a) \n",
    "print(r2_value)"
   ]
  },
  {
   "cell_type": "code",
   "execution_count": 51,
   "metadata": {},
   "outputs": [],
   "source": [
    "full_test = pd.read_csv('/data/yingfei/cancer_data/test_data.csv')"
   ]
  },
  {
   "cell_type": "code",
   "execution_count": 52,
   "metadata": {},
   "outputs": [],
   "source": [
    "full_test = full_test[['ARXSPAN_ID', 'DRUG_NAME']]"
   ]
  },
  {
   "cell_type": "code",
   "execution_count": 53,
   "metadata": {},
   "outputs": [
    {
     "data": {
      "text/html": [
       "<div>\n",
       "<style scoped>\n",
       "    .dataframe tbody tr th:only-of-type {\n",
       "        vertical-align: middle;\n",
       "    }\n",
       "\n",
       "    .dataframe tbody tr th {\n",
       "        vertical-align: top;\n",
       "    }\n",
       "\n",
       "    .dataframe thead th {\n",
       "        text-align: right;\n",
       "    }\n",
       "</style>\n",
       "<table border=\"1\" class=\"dataframe\">\n",
       "  <thead>\n",
       "    <tr style=\"text-align: right;\">\n",
       "      <th></th>\n",
       "      <th>ARXSPAN_ID</th>\n",
       "      <th>DRUG_NAME</th>\n",
       "      <th>auc</th>\n",
       "      <th>pred_auc</th>\n",
       "    </tr>\n",
       "  </thead>\n",
       "  <tbody>\n",
       "    <tr>\n",
       "      <th>0</th>\n",
       "      <td>ACH-000802</td>\n",
       "      <td>JW-7-24-1</td>\n",
       "      <td>0.528562</td>\n",
       "      <td>0.682176</td>\n",
       "    </tr>\n",
       "    <tr>\n",
       "      <th>1</th>\n",
       "      <td>ACH-000802</td>\n",
       "      <td>KIN001-260</td>\n",
       "      <td>0.930958</td>\n",
       "      <td>0.917732</td>\n",
       "    </tr>\n",
       "    <tr>\n",
       "      <th>2</th>\n",
       "      <td>ACH-000802</td>\n",
       "      <td>NSC-87877</td>\n",
       "      <td>0.759249</td>\n",
       "      <td>0.875777</td>\n",
       "    </tr>\n",
       "    <tr>\n",
       "      <th>3</th>\n",
       "      <td>ACH-000802</td>\n",
       "      <td>PLX-4720</td>\n",
       "      <td>0.936510</td>\n",
       "      <td>0.945663</td>\n",
       "    </tr>\n",
       "    <tr>\n",
       "      <th>4</th>\n",
       "      <td>ACH-000802</td>\n",
       "      <td>ERK5-IN-1</td>\n",
       "      <td>0.823453</td>\n",
       "      <td>0.859368</td>\n",
       "    </tr>\n",
       "    <tr>\n",
       "      <th>...</th>\n",
       "      <td>...</td>\n",
       "      <td>...</td>\n",
       "      <td>...</td>\n",
       "      <td>...</td>\n",
       "    </tr>\n",
       "    <tr>\n",
       "      <th>22873</th>\n",
       "      <td>ACH-000438</td>\n",
       "      <td>KIN001-266</td>\n",
       "      <td>0.975578</td>\n",
       "      <td>0.729678</td>\n",
       "    </tr>\n",
       "    <tr>\n",
       "      <th>22874</th>\n",
       "      <td>ACH-000438</td>\n",
       "      <td>LUMINESPIB</td>\n",
       "      <td>0.980529</td>\n",
       "      <td>0.976484</td>\n",
       "    </tr>\n",
       "    <tr>\n",
       "      <th>22875</th>\n",
       "      <td>ACH-000438</td>\n",
       "      <td>NUTLIN-3A</td>\n",
       "      <td>0.960501</td>\n",
       "      <td>0.922746</td>\n",
       "    </tr>\n",
       "    <tr>\n",
       "      <th>22876</th>\n",
       "      <td>ACH-000438</td>\n",
       "      <td>SGC0946</td>\n",
       "      <td>0.970524</td>\n",
       "      <td>0.976536</td>\n",
       "    </tr>\n",
       "    <tr>\n",
       "      <th>22877</th>\n",
       "      <td>ACH-000438</td>\n",
       "      <td>SL 0101-1</td>\n",
       "      <td>0.706073</td>\n",
       "      <td>0.678524</td>\n",
       "    </tr>\n",
       "  </tbody>\n",
       "</table>\n",
       "<p>22878 rows × 4 columns</p>\n",
       "</div>"
      ],
      "text/plain": [
       "       ARXSPAN_ID   DRUG_NAME       auc  pred_auc\n",
       "0      ACH-000802   JW-7-24-1  0.528562  0.682176\n",
       "1      ACH-000802  KIN001-260  0.930958  0.917732\n",
       "2      ACH-000802   NSC-87877  0.759249  0.875777\n",
       "3      ACH-000802    PLX-4720  0.936510  0.945663\n",
       "4      ACH-000802   ERK5-IN-1  0.823453  0.859368\n",
       "...           ...         ...       ...       ...\n",
       "22873  ACH-000438  KIN001-266  0.975578  0.729678\n",
       "22874  ACH-000438  LUMINESPIB  0.980529  0.976484\n",
       "22875  ACH-000438   NUTLIN-3A  0.960501  0.922746\n",
       "22876  ACH-000438     SGC0946  0.970524  0.976536\n",
       "22877  ACH-000438   SL 0101-1  0.706073  0.678524\n",
       "\n",
       "[22878 rows x 4 columns]"
      ]
     },
     "execution_count": 53,
     "metadata": {},
     "output_type": "execute_result"
    }
   ],
   "source": [
    "eval_data = test_data[['ARXSPAN_ID', 'DRUG_NAME', 'auc']].copy()\n",
    "eval_data['pred_auc'] = predicted_value\n",
    "eval_data"
   ]
  },
  {
   "cell_type": "code",
   "execution_count": 54,
   "metadata": {},
   "outputs": [],
   "source": [
    "full_test['comb'] = full_test.ARXSPAN_ID + full_test.DRUG_NAME\n",
    "eval_data['comb'] = eval_data.ARXSPAN_ID + eval_data.DRUG_NAME\n",
    "eval_data = pd.merge(full_test, eval_data, on = ['ARXSPAN_ID', 'DRUG_NAME'], how = 'left')"
   ]
  },
  {
   "cell_type": "code",
   "execution_count": 55,
   "metadata": {},
   "outputs": [
    {
     "data": {
      "text/plain": [
       "str"
      ]
     },
     "execution_count": 55,
     "metadata": {},
     "output_type": "execute_result"
    }
   ],
   "source": [
    "type(full_test.comb[0])"
   ]
  },
  {
   "cell_type": "code",
   "execution_count": 56,
   "metadata": {},
   "outputs": [
    {
     "data": {
      "text/html": [
       "<div>\n",
       "<style scoped>\n",
       "    .dataframe tbody tr th:only-of-type {\n",
       "        vertical-align: middle;\n",
       "    }\n",
       "\n",
       "    .dataframe tbody tr th {\n",
       "        vertical-align: top;\n",
       "    }\n",
       "\n",
       "    .dataframe thead th {\n",
       "        text-align: right;\n",
       "    }\n",
       "</style>\n",
       "<table border=\"1\" class=\"dataframe\">\n",
       "  <thead>\n",
       "    <tr style=\"text-align: right;\">\n",
       "      <th></th>\n",
       "      <th>ARXSPAN_ID</th>\n",
       "      <th>true_auc_arr</th>\n",
       "      <th>pred_auc_arr</th>\n",
       "    </tr>\n",
       "  </thead>\n",
       "  <tbody>\n",
       "    <tr>\n",
       "      <th>0</th>\n",
       "      <td>ACH-000802</td>\n",
       "      <td>[]</td>\n",
       "      <td>[]</td>\n",
       "    </tr>\n",
       "    <tr>\n",
       "      <th>1</th>\n",
       "      <td>ACH-001496</td>\n",
       "      <td>[]</td>\n",
       "      <td>[]</td>\n",
       "    </tr>\n",
       "    <tr>\n",
       "      <th>2</th>\n",
       "      <td>ACH-000267</td>\n",
       "      <td>[]</td>\n",
       "      <td>[]</td>\n",
       "    </tr>\n",
       "    <tr>\n",
       "      <th>3</th>\n",
       "      <td>ACH-000508</td>\n",
       "      <td>[]</td>\n",
       "      <td>[]</td>\n",
       "    </tr>\n",
       "    <tr>\n",
       "      <th>4</th>\n",
       "      <td>ACH-001106</td>\n",
       "      <td>[]</td>\n",
       "      <td>[]</td>\n",
       "    </tr>\n",
       "    <tr>\n",
       "      <th>...</th>\n",
       "      <td>...</td>\n",
       "      <td>...</td>\n",
       "      <td>...</td>\n",
       "    </tr>\n",
       "    <tr>\n",
       "      <th>64</th>\n",
       "      <td>ACH-000953</td>\n",
       "      <td>[]</td>\n",
       "      <td>[]</td>\n",
       "    </tr>\n",
       "    <tr>\n",
       "      <th>65</th>\n",
       "      <td>ACH-000561</td>\n",
       "      <td>[]</td>\n",
       "      <td>[]</td>\n",
       "    </tr>\n",
       "    <tr>\n",
       "      <th>66</th>\n",
       "      <td>ACH-000819</td>\n",
       "      <td>[]</td>\n",
       "      <td>[]</td>\n",
       "    </tr>\n",
       "    <tr>\n",
       "      <th>67</th>\n",
       "      <td>ACH-000873</td>\n",
       "      <td>[]</td>\n",
       "      <td>[]</td>\n",
       "    </tr>\n",
       "    <tr>\n",
       "      <th>68</th>\n",
       "      <td>ACH-000438</td>\n",
       "      <td>[]</td>\n",
       "      <td>[]</td>\n",
       "    </tr>\n",
       "  </tbody>\n",
       "</table>\n",
       "<p>69 rows × 3 columns</p>\n",
       "</div>"
      ],
      "text/plain": [
       "    ARXSPAN_ID true_auc_arr pred_auc_arr\n",
       "0   ACH-000802           []           []\n",
       "1   ACH-001496           []           []\n",
       "2   ACH-000267           []           []\n",
       "3   ACH-000508           []           []\n",
       "4   ACH-001106           []           []\n",
       "..         ...          ...          ...\n",
       "64  ACH-000953           []           []\n",
       "65  ACH-000561           []           []\n",
       "66  ACH-000819           []           []\n",
       "67  ACH-000873           []           []\n",
       "68  ACH-000438           []           []\n",
       "\n",
       "[69 rows x 3 columns]"
      ]
     },
     "execution_count": 56,
     "metadata": {},
     "output_type": "execute_result"
    }
   ],
   "source": [
    "eval_data_arr = pd.DataFrame(eval_data.ARXSPAN_ID.unique(), columns = ['ARXSPAN_ID'])\n",
    "eval_data_arr['true_auc_arr'] = [[] for _ in range(len(eval_data_arr))]\n",
    "eval_data_arr['pred_auc_arr'] = [[] for _ in range(len(eval_data_arr))]\n",
    "eval_data_arr"
   ]
  },
  {
   "cell_type": "code",
   "execution_count": 57,
   "metadata": {},
   "outputs": [],
   "source": [
    "for i in range(len(eval_data)):\n",
    "    cl_id = eval_data.loc[i, 'ARXSPAN_ID']\n",
    "    auc = eval_data.loc[i, 'auc']\n",
    "    pred_auc =  eval_data.loc[i, 'pred_auc']\n",
    "    if np.isnan(auc):\n",
    "        #eval_data_arr.loc[eval_data_arr.ARXSPAN_ID == cl_id, 'true_auc_arr'].values[0].append(1)\n",
    "        #eval_data_arr.loc[eval_data_arr.ARXSPAN_ID == cl_id, 'pred_auc_arr'].values[0].append(1)\n",
    "        continue\n",
    "    eval_data_arr.loc[eval_data_arr.ARXSPAN_ID == cl_id, 'true_auc_arr'].values[0].append(auc)\n",
    "    eval_data_arr.loc[eval_data_arr.ARXSPAN_ID == cl_id, 'pred_auc_arr'].values[0].append(pred_auc)"
   ]
  },
  {
   "cell_type": "code",
   "execution_count": 58,
   "metadata": {},
   "outputs": [
    {
     "data": {
      "text/html": [
       "<div>\n",
       "<style scoped>\n",
       "    .dataframe tbody tr th:only-of-type {\n",
       "        vertical-align: middle;\n",
       "    }\n",
       "\n",
       "    .dataframe tbody tr th {\n",
       "        vertical-align: top;\n",
       "    }\n",
       "\n",
       "    .dataframe thead th {\n",
       "        text-align: right;\n",
       "    }\n",
       "</style>\n",
       "<table border=\"1\" class=\"dataframe\">\n",
       "  <thead>\n",
       "    <tr style=\"text-align: right;\">\n",
       "      <th></th>\n",
       "      <th>ARXSPAN_ID</th>\n",
       "      <th>true_auc_arr</th>\n",
       "      <th>pred_auc_arr</th>\n",
       "    </tr>\n",
       "  </thead>\n",
       "  <tbody>\n",
       "    <tr>\n",
       "      <th>0</th>\n",
       "      <td>ACH-000802</td>\n",
       "      <td>[0.528562, 0.930958, 0.759249, 0.93651, 0.8234...</td>\n",
       "      <td>[0.68217605, 0.9177323, 0.87577736, 0.9456634,...</td>\n",
       "    </tr>\n",
       "    <tr>\n",
       "      <th>1</th>\n",
       "      <td>ACH-001496</td>\n",
       "      <td>[0.8600040000000001, 0.935607, 0.919367, 0.861...</td>\n",
       "      <td>[0.5477828, 0.9244617, 0.90034974, 0.93516946,...</td>\n",
       "    </tr>\n",
       "    <tr>\n",
       "      <th>2</th>\n",
       "      <td>ACH-000267</td>\n",
       "      <td>[0.730128, 0.930868, 0.761296, 0.94428, 0.7239...</td>\n",
       "      <td>[0.59813344, 0.91872066, 0.8638028, 0.6393524,...</td>\n",
       "    </tr>\n",
       "    <tr>\n",
       "      <th>3</th>\n",
       "      <td>ACH-000508</td>\n",
       "      <td>[0.958722, 0.966097, 0.832343, 0.818851, 0.953...</td>\n",
       "      <td>[0.7384716, 0.94181216, 0.89044666, 0.8122955,...</td>\n",
       "    </tr>\n",
       "    <tr>\n",
       "      <th>4</th>\n",
       "      <td>ACH-001106</td>\n",
       "      <td>[0.670247, 0.845083, 0.720917, 0.705755, 0.865...</td>\n",
       "      <td>[0.64777327, 0.8855921, 0.88230455, 0.7109167,...</td>\n",
       "    </tr>\n",
       "    <tr>\n",
       "      <th>...</th>\n",
       "      <td>...</td>\n",
       "      <td>...</td>\n",
       "      <td>...</td>\n",
       "    </tr>\n",
       "    <tr>\n",
       "      <th>64</th>\n",
       "      <td>ACH-000953</td>\n",
       "      <td>[0.771624, 0.902238, 0.788892, 0.987629, 0.977...</td>\n",
       "      <td>[0.6940112, 0.83775795, 0.78701276, 0.69917464...</td>\n",
       "    </tr>\n",
       "    <tr>\n",
       "      <th>65</th>\n",
       "      <td>ACH-000561</td>\n",
       "      <td>[0.806557, 0.92585, 0.747498, 0.974266, 0.7882...</td>\n",
       "      <td>[0.73899513, 0.92920077, 0.87240815, 0.96024, ...</td>\n",
       "    </tr>\n",
       "    <tr>\n",
       "      <th>66</th>\n",
       "      <td>ACH-000819</td>\n",
       "      <td>[0.8246040000000001, 0.93947, 0.778985, 0.9747...</td>\n",
       "      <td>[0.6987132, 0.8984181, 0.8696494, 0.9215788, 0...</td>\n",
       "    </tr>\n",
       "    <tr>\n",
       "      <th>67</th>\n",
       "      <td>ACH-000873</td>\n",
       "      <td>[0.6613979999999999, 0.876398, 0.837356, 0.971...</td>\n",
       "      <td>[0.68555737, 0.89708185, 0.8991858, 0.92504114...</td>\n",
       "    </tr>\n",
       "    <tr>\n",
       "      <th>68</th>\n",
       "      <td>ACH-000438</td>\n",
       "      <td>[0.95799, 0.8848719999999999, 0.748696, 0.7972...</td>\n",
       "      <td>[0.6473282, 0.89335674, 0.8648896, 0.70555377,...</td>\n",
       "    </tr>\n",
       "  </tbody>\n",
       "</table>\n",
       "<p>69 rows × 3 columns</p>\n",
       "</div>"
      ],
      "text/plain": [
       "    ARXSPAN_ID                                       true_auc_arr  \\\n",
       "0   ACH-000802  [0.528562, 0.930958, 0.759249, 0.93651, 0.8234...   \n",
       "1   ACH-001496  [0.8600040000000001, 0.935607, 0.919367, 0.861...   \n",
       "2   ACH-000267  [0.730128, 0.930868, 0.761296, 0.94428, 0.7239...   \n",
       "3   ACH-000508  [0.958722, 0.966097, 0.832343, 0.818851, 0.953...   \n",
       "4   ACH-001106  [0.670247, 0.845083, 0.720917, 0.705755, 0.865...   \n",
       "..         ...                                                ...   \n",
       "64  ACH-000953  [0.771624, 0.902238, 0.788892, 0.987629, 0.977...   \n",
       "65  ACH-000561  [0.806557, 0.92585, 0.747498, 0.974266, 0.7882...   \n",
       "66  ACH-000819  [0.8246040000000001, 0.93947, 0.778985, 0.9747...   \n",
       "67  ACH-000873  [0.6613979999999999, 0.876398, 0.837356, 0.971...   \n",
       "68  ACH-000438  [0.95799, 0.8848719999999999, 0.748696, 0.7972...   \n",
       "\n",
       "                                         pred_auc_arr  \n",
       "0   [0.68217605, 0.9177323, 0.87577736, 0.9456634,...  \n",
       "1   [0.5477828, 0.9244617, 0.90034974, 0.93516946,...  \n",
       "2   [0.59813344, 0.91872066, 0.8638028, 0.6393524,...  \n",
       "3   [0.7384716, 0.94181216, 0.89044666, 0.8122955,...  \n",
       "4   [0.64777327, 0.8855921, 0.88230455, 0.7109167,...  \n",
       "..                                                ...  \n",
       "64  [0.6940112, 0.83775795, 0.78701276, 0.69917464...  \n",
       "65  [0.73899513, 0.92920077, 0.87240815, 0.96024, ...  \n",
       "66  [0.6987132, 0.8984181, 0.8696494, 0.9215788, 0...  \n",
       "67  [0.68555737, 0.89708185, 0.8991858, 0.92504114...  \n",
       "68  [0.6473282, 0.89335674, 0.8648896, 0.70555377,...  \n",
       "\n",
       "[69 rows x 3 columns]"
      ]
     },
     "execution_count": 58,
     "metadata": {},
     "output_type": "execute_result"
    }
   ],
   "source": [
    "eval_data_arr"
   ]
  },
  {
   "cell_type": "code",
   "execution_count": 59,
   "metadata": {},
   "outputs": [],
   "source": [
    "pred_values = eval_data_arr.pred_auc_arr.apply(lambda x: np.array(x)).to_numpy()\n",
    "true_values = eval_data_arr.true_auc_arr.apply(lambda x: np.array(x)).to_numpy()"
   ]
  },
  {
   "cell_type": "code",
   "execution_count": 60,
   "metadata": {},
   "outputs": [
    {
     "name": "stdout",
     "output_type": "stream",
     "text": [
      "0.9249250035022978\n",
      "0.7603030356834578\n"
     ]
    }
   ],
   "source": [
    "### NDCG\n",
    "from sklearn.metrics import ndcg_score\n",
    "#ndcg_all = ndcg_score([p for p in pred_values],[t for t in true_values])\n",
    "#ndcg_10 = ndcg_score([p for p in pred_values],[t for t in true_values], k = 10)\n",
    "ndcg_all_values = []\n",
    "ndcg_10_values = []\n",
    "for i in range(len(pred_values)):\n",
    "    pred_value = eval_data_arr['pred_auc_arr'].apply(lambda x:list(map(lambda y:1-y, x)))[i]\n",
    "    true_value = eval_data_arr['true_auc_arr'].apply(lambda x:list(map(lambda y:1-y, x)))[i]\n",
    "    ndcg_all_values.append(ndcg_score([pred_value],[true_value]))\n",
    "    ndcg_10_values.append(ndcg_score([pred_value],[true_value], k = 10))\n",
    "    \n",
    "ndcg_all = np.mean(ndcg_all_values)\n",
    "ndcg_10 = np.mean(ndcg_10_values)\n",
    "\n",
    "print(ndcg_all)\n",
    "print(ndcg_10)"
   ]
  },
  {
   "cell_type": "code",
   "execution_count": 61,
   "metadata": {},
   "outputs": [
    {
     "name": "stdout",
     "output_type": "stream",
     "text": [
      "[('Recall@1', 0.3333), ('Recall@2', 0.3913), ('Recall@5', 0.3739), ('Recall@10', 0.4406)]\n"
     ]
    }
   ],
   "source": [
    "### Recall\n",
    "results = []\n",
    "for top_k in [1, 2, 5, 10]:\n",
    "    dict_test_cell_line_idx_perf = {}\n",
    "    for cur_cell_line_idx in range(len(pred_values)):\n",
    "        # step 1\n",
    "        # per the ground truth\n",
    "        gt_aucs = true_values[cur_cell_line_idx]\n",
    "        # find the top k drugs's idx\n",
    "        topk_drug_idx_gt = np.argsort(gt_aucs)[:top_k]\n",
    "        # step 2\n",
    "        # per the predicted scores\n",
    "        pred_scores = pred_values[cur_cell_line_idx]\n",
    "        assert gt_aucs.shape == pred_scores.shape\n",
    "        # find the top k drugs'idx (note: here its by pred scores)\n",
    "        topk_drug_idx_pred = np.argsort(pred_scores)[:top_k]\n",
    "        # step 3\n",
    "        # recall@k\n",
    "        cur_recall_at_k = len(\n",
    "            set(topk_drug_idx_pred).intersection(set(topk_drug_idx_gt))\n",
    "        ) / len(set(topk_drug_idx_gt))\n",
    "        dict_test_cell_line_idx_perf[cur_cell_line_idx] = cur_recall_at_k\n",
    "\n",
    "    avg_recall_at_k = np.mean(list(dict_test_cell_line_idx_perf.values()))\n",
    "    results.append((f\"Recall@{top_k}\", round(avg_recall_at_k, 4)))\n",
    "print(results)"
   ]
  },
  {
   "cell_type": "code",
   "execution_count": 62,
   "metadata": {},
   "outputs": [
    {
     "name": "stdout",
     "output_type": "stream",
     "text": [
      "[('Auc@1', '0.2453 (GT: 0.1198)'), ('Auc@2', '0.3106 (GT: 0.157)'), ('Auc@5', '0.4152 (GT: 0.222)'), ('Auc@10', '0.4475 (GT: 0.2893)')]\n"
     ]
    }
   ],
   "source": [
    "### AUC\n",
    "results = []\n",
    "for top_k in [1, 2, 5, 10]:\n",
    "    dict_test_cell_line_topk_auc_sum_gt = {}\n",
    "    dict_test_cell_line_topk_auc_sum_pred = {}\n",
    "    for cur_cell_line_idx in range(len(pred_values)):\n",
    "        # step 1\n",
    "        # per the predicted scores\n",
    "        pred_scores = pred_values[cur_cell_line_idx]\n",
    "        # find the top k drugs'idx (note: here its by pred scores)\n",
    "        topk_drug_idx_pred = np.argsort(pred_scores)[:top_k]\n",
    "        # step 2\n",
    "        # per the ground truth\n",
    "        gt_aucs = true_values[cur_cell_line_idx]\n",
    "        # find the top k predicted drugs' (per ground truth) aucs\n",
    "        topk_drug_idx_gt = np.argsort(gt_aucs)[:top_k]\n",
    "        dict_test_cell_line_topk_auc_sum_gt[cur_cell_line_idx] = np.mean(\n",
    "            gt_aucs[topk_drug_idx_gt]\n",
    "        )\n",
    "        dict_test_cell_line_topk_auc_sum_pred[cur_cell_line_idx] = np.mean(\n",
    "            gt_aucs[topk_drug_idx_pred]\n",
    "        )\n",
    "\n",
    "    avg_auc_topk_gt = np.mean(\n",
    "        list(dict_test_cell_line_topk_auc_sum_gt.values())\n",
    "    )\n",
    "    avg_auc_topk_pred = np.mean(\n",
    "        list(dict_test_cell_line_topk_auc_sum_pred.values())\n",
    "    )\n",
    "\n",
    "    results.append(\n",
    "        (\n",
    "            f\"Auc@{top_k}\",\n",
    "            f\"{round(avg_auc_topk_pred, 4)} (GT: {round(avg_auc_topk_gt, 4)})\",\n",
    "        )\n",
    "    )\n",
    "\n",
    "print(results)"
   ]
  },
  {
   "cell_type": "code",
   "execution_count": 63,
   "metadata": {},
   "outputs": [
    {
     "name": "stdout",
     "output_type": "stream",
     "text": [
      "0.7191598193085215 0.7230984375685384\n"
     ]
    }
   ],
   "source": [
    "from scipy.stats import pearsonr, spearmanr\n",
    "print(pearsonr(c.Predicted, c.Test)[0], spearmanr(c.Predicted, c.Test)[0])"
   ]
  },
  {
   "cell_type": "code",
   "execution_count": 64,
   "metadata": {},
   "outputs": [
    {
     "data": {
      "text/html": [
       "<div>\n",
       "<style scoped>\n",
       "    .dataframe tbody tr th:only-of-type {\n",
       "        vertical-align: middle;\n",
       "    }\n",
       "\n",
       "    .dataframe tbody tr th {\n",
       "        vertical-align: top;\n",
       "    }\n",
       "\n",
       "    .dataframe thead th {\n",
       "        text-align: right;\n",
       "    }\n",
       "</style>\n",
       "<table border=\"1\" class=\"dataframe\">\n",
       "  <thead>\n",
       "    <tr style=\"text-align: right;\">\n",
       "      <th></th>\n",
       "      <th>Predicted</th>\n",
       "      <th>Test</th>\n",
       "    </tr>\n",
       "  </thead>\n",
       "  <tbody>\n",
       "    <tr>\n",
       "      <th>0</th>\n",
       "      <td>0.682176</td>\n",
       "      <td>0.528562</td>\n",
       "    </tr>\n",
       "    <tr>\n",
       "      <th>1</th>\n",
       "      <td>0.917732</td>\n",
       "      <td>0.930958</td>\n",
       "    </tr>\n",
       "    <tr>\n",
       "      <th>2</th>\n",
       "      <td>0.875777</td>\n",
       "      <td>0.759249</td>\n",
       "    </tr>\n",
       "    <tr>\n",
       "      <th>3</th>\n",
       "      <td>0.945663</td>\n",
       "      <td>0.936510</td>\n",
       "    </tr>\n",
       "    <tr>\n",
       "      <th>4</th>\n",
       "      <td>0.859368</td>\n",
       "      <td>0.823453</td>\n",
       "    </tr>\n",
       "    <tr>\n",
       "      <th>...</th>\n",
       "      <td>...</td>\n",
       "      <td>...</td>\n",
       "    </tr>\n",
       "    <tr>\n",
       "      <th>22873</th>\n",
       "      <td>0.729678</td>\n",
       "      <td>0.975578</td>\n",
       "    </tr>\n",
       "    <tr>\n",
       "      <th>22874</th>\n",
       "      <td>0.976484</td>\n",
       "      <td>0.980529</td>\n",
       "    </tr>\n",
       "    <tr>\n",
       "      <th>22875</th>\n",
       "      <td>0.922746</td>\n",
       "      <td>0.960501</td>\n",
       "    </tr>\n",
       "    <tr>\n",
       "      <th>22876</th>\n",
       "      <td>0.976536</td>\n",
       "      <td>0.970524</td>\n",
       "    </tr>\n",
       "    <tr>\n",
       "      <th>22877</th>\n",
       "      <td>0.678524</td>\n",
       "      <td>0.706073</td>\n",
       "    </tr>\n",
       "  </tbody>\n",
       "</table>\n",
       "<p>22878 rows × 2 columns</p>\n",
       "</div>"
      ],
      "text/plain": [
       "       Predicted      Test\n",
       "0       0.682176  0.528562\n",
       "1       0.917732  0.930958\n",
       "2       0.875777  0.759249\n",
       "3       0.945663  0.936510\n",
       "4       0.859368  0.823453\n",
       "...          ...       ...\n",
       "22873   0.729678  0.975578\n",
       "22874   0.976484  0.980529\n",
       "22875   0.922746  0.960501\n",
       "22876   0.976536  0.970524\n",
       "22877   0.678524  0.706073\n",
       "\n",
       "[22878 rows x 2 columns]"
      ]
     },
     "execution_count": 64,
     "metadata": {},
     "output_type": "execute_result"
    }
   ],
   "source": [
    "c"
   ]
  },
  {
   "cell_type": "code",
   "execution_count": 65,
   "metadata": {},
   "outputs": [],
   "source": [
    "c.to_csv(workdir + '/DeepAUCv2_epoch_10_ht_result_new.csv')"
   ]
  },
  {
   "cell_type": "code",
   "execution_count": null,
   "metadata": {},
   "outputs": [],
   "source": [
    "[('Auc@1', '0.36090001463890076 (GT: 0.11209999769926071)'), ('Auc@2', '0.40849998593330383 (GT: 0.24279999732971191)'), ('Auc@5', '0.4742000102996826 (GT: 0.3368000090122223)'), ('Auc@10', '0.5327000021934509 (GT: 0.3993000090122223)')]"
   ]
  },
  {
   "cell_type": "code",
   "execution_count": null,
   "metadata": {},
   "outputs": [],
   "source": [
    "import tensorflow as tf\n",
    "tf.config.list_physical_devices('GPU')"
   ]
  }
 ],
 "metadata": {
  "kernelspec": {
   "display_name": "Python 3",
   "language": "python",
   "name": "python3"
  },
  "language_info": {
   "codemirror_mode": {
    "name": "ipython",
    "version": 3
   },
   "file_extension": ".py",
   "mimetype": "text/x-python",
   "name": "python",
   "nbconvert_exporter": "python",
   "pygments_lexer": "ipython3",
   "version": "3.9.12"
  }
 },
 "nbformat": 4,
 "nbformat_minor": 4
}
